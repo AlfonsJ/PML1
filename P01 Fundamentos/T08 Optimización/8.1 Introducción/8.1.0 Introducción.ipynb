{
 "cells": [
  {
   "attachments": {},
   "cell_type": "markdown",
   "metadata": {},
   "source": [
    "# 8.1.0 Introducción"
   ]
  },
  {
   "cell_type": "markdown",
   "metadata": {},
   "source": [
    "\n",
    "La estimación de parámetros en aprendizaje automático requiere resolver un **problema de optimización** que por lo general se plantea en términos de **minimización** de una **función de pérdida (o coste)** $\\;\\mathcal{L}:\\mathbf{\\Theta}\\to\\mathbb{R}$:\n",
    "$$\\boldsymbol{\\theta}^*=\\operatorname*{argmin}\\limits_{\\boldsymbol{\\theta}\\in\\mathbf{\\Theta}}\\;%\n",
    "\\mathcal{L}(\\boldsymbol{\\theta})$$\n",
    "donde el **espacio paramétrico** es usualmente continuo, $\\mathbf{\\Theta}\\subseteq\\mathbb{R}^D$, siendo $D$ el número de parámetros.\n",
    "\n",
    "En ocasiones resulta conveniente plantear el problema de optimización como uno de **maximización** de un **función score (de puntuación)** o **función de recompensa** $R(\\boldsymbol{\\theta})$, lo que equivale a minimizar $\\mathcal{L}(\\boldsymbol{\\theta})=-R(\\boldsymbol{\\theta})$.\n",
    "\n",
    "Hablamos de optimización para referirnos de forma genérica a minimización o maximización, asumiendo que el contexto deja claro a cuál de las dos nos referimos. Asimismo, hablamos de **función objetivo** para referirnos a la función a optimizar, y de **solver** para referirnos a un algoritmo que la optimice."
   ]
  }
 ],
 "metadata": {
  "kernelspec": {
   "display_name": "Python 3",
   "language": "python",
   "name": "python3"
  },
  "language_info": {
   "codemirror_mode": {
    "name": "ipython",
    "version": 3
   },
   "file_extension": ".py",
   "mimetype": "text/x-python",
   "name": "python",
   "nbconvert_exporter": "python",
   "pygments_lexer": "ipython3",
   "version": "3.10.6"
  },
  "orig_nbformat": 4
 },
 "nbformat": 4,
 "nbformat_minor": 2
}
