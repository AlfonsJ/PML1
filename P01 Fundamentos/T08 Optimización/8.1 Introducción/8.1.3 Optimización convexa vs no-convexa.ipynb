{
 "cells": [
  {
   "attachments": {},
   "cell_type": "markdown",
   "metadata": {},
   "source": [
    "# 8.1.3 Optimización convexa vs no-convexa"
   ]
  },
  {
   "cell_type": "markdown",
   "metadata": {},
   "source": [
    "**Optimización convexa:** $\\;$ problema de conjunto de soluciones convexo y función objetivo convexa\n",
    "\n",
    "**Importancia de la caracterización de problemas convexos:** $\\;$ **porque todo mínimo local también es global**\n",
    "\n",
    "**Optimización convexa en aprendizaje automático:** $\\;$ aunque los modelos sencillos suelen conducir a problemas de optimización convexa, los modelos más competitivos actuales (profundos) conducen a problemas de optimización no-convexa"
   ]
  },
  {
   "cell_type": "markdown",
   "metadata": {},
   "source": [
    "## Conjuntos convexos\n",
    "\n",
    "**Conjunto convexo $\\mathcal{S}$:** $\\quad\\lambda\\boldsymbol{x}+(1-\\lambda)\\boldsymbol{y}\\in\\mathcal{S}%\n",
    "\\quad\\text{para todo}\\;\\boldsymbol{x}, \\boldsymbol{y}\\in\\mathcal{S},\\;\\lambda\\in[0, 1]$\n",
    "<div align=\"center\"><img src=\"Figure_8.3.png\" width=\"600\"/></div>"
   ]
  },
  {
   "cell_type": "markdown",
   "metadata": {},
   "source": [
    "## Funciones convexas\n",
    "\n",
    "**Función convexa:** $\\;f\\;$ es convexa si su epigrafo (puntos en $f$ o encima) es conjunto convexo o, equivalentemente,\n",
    "$$f(\\lambda\\boldsymbol{x}+(1-\\lambda)\\boldsymbol{y})\\leq\\lambda f(\\boldsymbol{x})+(1-\\lambda)f(\\boldsymbol{y})\\quad\\text{para todo}\\;\\boldsymbol{x}, \\boldsymbol{y}\\in\\mathcal{S},\\;\\lambda\\in[0, 1]$$\n",
    "<div align=\"center\"><img src=\"Figure_8.5_A.png\" width=\"400\"/></div>\n",
    "\n",
    "**Función estrictamente convexa:** $\\;f\\;$ convexa con desigualdad estricta\n",
    "\n",
    "**Función (estrictamente) cóncava:** $\\;-f\\;$ (estrictamente) convexa\n",
    "\n",
    "**Ejemplos de funciones convexas 1d:** $\\quad x^2\\quad e^{ax}\\quad -\\log x\\quad x^a\\; (a>1, x>0)\\quad \\lvert{x}\\rvert^a\\; (a\\geq 1)\\quad x\\log x\\; (x>0)$"
   ]
  },
  {
   "cell_type": "markdown",
   "metadata": {},
   "source": [
    "## Caracterización de funciones convexas\n",
    "\n",
    "**Convexidad:** $\\;f:\\mathbb{R}^n\\to\\mathbb{R}$ doblemente diferenciable es convexa $\\;$ sii $\\;\\mathbf{H}=\\nabla^2f(\\boldsymbol{x})$ es **semi-definida** positiva\n",
    "\n",
    "**Convexidad estricta:** $\\;f:\\mathbb{R}^n\\to\\mathbb{R}$ doblemente diferenciable es convexa $\\;$ sii $\\;\\mathbf{H}=\\nabla^2f(\\boldsymbol{x})$ es **definida** positiva\n",
    "\n",
    "**Funciones convexas típicas:** $\\quad f(\\boldsymbol{x})=\\boldsymbol{x}^t\\mathbf{A}\\boldsymbol{x}\\;$ con $\\;\\mathbf{A}\\succeq 0$"
   ]
  },
  {
   "cell_type": "markdown",
   "metadata": {},
   "source": [
    "## Funciones fuertemente convexas\n",
    "\n",
    "**$f$ fuertemente convexa con $m>0\\quad$** sii $\\quad(\\nabla f(\\boldsymbol{x})-\\nabla f(\\boldsymbol{y}))^t(\\boldsymbol{x}-\\boldsymbol{y})\\geq m\\lVert{\\boldsymbol{x}-\\boldsymbol{y}}\\rVert_2^2\\quad$ para todo $\\;\\boldsymbol{x},\\boldsymbol{y}$\n",
    "\n",
    "Si $f$ es fuertemente convexa, también es estrictamente convexa\n",
    "\n",
    "Si $f$ es dos veces continuamente diferenciable, $\\;f$ es fuertemente convexa con $m>0\\;$ sii $\\;\\nabla^2f(\\boldsymbol{x})\\succeq m\\mathbf{I}\\;$ para todo $\\boldsymbol{x}$\n",
    "\n",
    "**Caso $f:\\mathbb{R}\\to\\mathbb{R}$:** $\\;$ convexa sii $f''(x)\\geq 0\\;$ para todo $x\\quad$ estrictamente sii $f''(\\cdot)>0\\quad$ fuertemente sii $f''(\\cdot)\\geq m>0$"
   ]
  }
 ],
 "metadata": {
  "kernelspec": {
   "display_name": "Python 3",
   "language": "python",
   "name": "python3"
  },
  "language_info": {
   "codemirror_mode": {
    "name": "ipython",
    "version": 3
   },
   "file_extension": ".py",
   "mimetype": "text/x-python",
   "name": "python",
   "nbconvert_exporter": "python",
   "pygments_lexer": "ipython3",
   "version": "3.10.6"
  },
  "orig_nbformat": 4
 },
 "nbformat": 4,
 "nbformat_minor": 2
}
