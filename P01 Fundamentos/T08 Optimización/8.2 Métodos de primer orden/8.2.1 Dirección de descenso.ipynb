{
 "cells": [
  {
   "attachments": {},
   "cell_type": "markdown",
   "metadata": {},
   "source": [
    "# 8.2.1 Dirección de descenso"
   ]
  },
  {
   "cell_type": "markdown",
   "metadata": {},
   "source": [
    "## Dirección de descenso\n",
    "\n",
    "**Dirección de descenso:** $\\;\\boldsymbol{d}$ es de descenso si existe un $\\eta_{\\text{max}}>0$ tal que\n",
    "$$\\mathcal{L}(\\boldsymbol{\\theta}+\\eta\\boldsymbol{d})<\\mathcal{L}(\\boldsymbol{\\theta})%\n",
    "\\qquad\\text{para todo}\\;\\eta\\in(0, \\eta_{\\text{max}})$$\n",
    "\n",
    "**Dirección de máximo ascenso:** $\\;$ gradiente en $\\boldsymbol{\\theta}_t,\\,$ $\\boldsymbol{g}_t=\\mathbf{\\nabla}\\mathcal{L}(\\boldsymbol{\\theta})\\rvert_{\\boldsymbol{\\theta}_t}=\\mathbf{\\nabla}\\mathcal{L}(\\boldsymbol{\\theta}_t)=\\boldsymbol{g}(\\boldsymbol{\\theta}_t)$\n",
    "\n",
    "**Dirección de máximo descenso:** $\\;$ neg-gradiente\n",
    "\n",
    "**Caracterización de dirección de descenso $\\boldsymbol{d}_t$:** $\\quad\\boldsymbol{d}_t^t\\boldsymbol{g}_t<0\\quad$ ($\\boldsymbol{d}_t$ y $\\boldsymbol{g}_t$ forman un ángulo mayor de $90$ grados en el plano que los contiene)\n",
    "\n",
    "**Direcciones de descenso usuales:** $\\;\\boldsymbol{d}_t=-\\mathbf{B}_t\\boldsymbol{g}_t\\;$ con $\\;\\mathbf{B}_t\\succ 0$"
   ]
  },
  {
   "cell_type": "markdown",
   "metadata": {},
   "source": [
    "## Descenso por gradiente o más pronunciado\n",
    "\n",
    "**Gradient o steepest descent:** $\\;$ escoge el neg-gradiente como dirección de descenso, $\\,\\boldsymbol{\\theta}_{t+1}=\\boldsymbol{\\theta}_t-\\eta_t\\boldsymbol{g}_t$"
   ]
  },
  {
   "attachments": {},
   "cell_type": "markdown",
   "metadata": {},
   "source": [
    "**Ejemplo:** $\\;\\mathcal{L}(\\theta)=\\theta^2$, $\\theta_0=10$, $\\eta_t=0.2$, tolerancia $0.01$"
   ]
  },
  {
   "cell_type": "code",
   "execution_count": 1,
   "metadata": {},
   "outputs": [
    {
     "name": "stdout",
     "output_type": "stream",
     "text": [
      "-4.0 6.0\n",
      "-2.4 3.6\n",
      "-1.44 2.16\n",
      "-0.864 1.296\n",
      "-0.5184 0.7776\n",
      "-0.311 0.4666\n",
      "-0.1866 0.2799\n",
      "-0.112 0.168\n",
      "-0.0672 0.1008\n",
      "-0.0403 0.0605\n",
      "-0.0242 0.0363\n",
      "-0.0145 0.0218\n",
      "-0.0087 0.0131\n"
     ]
    }
   ],
   "source": [
    "import numpy as np\n",
    "grad, theta, eta, tol, delta = lambda t: 2*t, 10.0, 0.2, 0.01, np.inf\n",
    "while np.abs(delta) > tol:\n",
    "\tdelta = -eta * grad(theta)\n",
    "\ttheta += delta\n",
    "\tprint(np.round(delta, 4), np.round(theta, 4))"
   ]
  }
 ],
 "metadata": {
  "kernelspec": {
   "display_name": "Python 3",
   "language": "python",
   "name": "python3"
  },
  "language_info": {
   "codemirror_mode": {
    "name": "ipython",
    "version": 3
   },
   "file_extension": ".py",
   "mimetype": "text/x-python",
   "name": "python",
   "nbconvert_exporter": "python",
   "pygments_lexer": "ipython3",
   "version": "3.10.6"
  },
  "orig_nbformat": 4
 },
 "nbformat": 4,
 "nbformat_minor": 2
}
