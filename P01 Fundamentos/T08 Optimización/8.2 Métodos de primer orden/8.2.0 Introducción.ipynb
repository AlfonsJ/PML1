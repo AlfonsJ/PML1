{
 "cells": [
  {
   "attachments": {},
   "cell_type": "markdown",
   "metadata": {},
   "source": [
    "# 8.2.0 Introducción a los métodos de primer orden"
   ]
  },
  {
   "cell_type": "markdown",
   "metadata": {},
   "source": [
    "\n",
    "**Métodos de primer orden:** $\\;$ métodos iterativos basados en derivadas de primer orden del objetivo\n",
    "\n",
    "**Método básico:** $\\;$ dado un punto de inicio $\\boldsymbol{\\theta}_0,\\,$ la iteración $t$ consiste en hacer un paso de actualización (de $\\boldsymbol{\\theta}$)\n",
    "$$\\boldsymbol{\\theta}_{t+1}=\\boldsymbol{\\theta}_t+\\eta_t\\boldsymbol{d}_t$$\n",
    "\n",
    "* $\\eta_t$ es el **tamaño del paso (step size)** o **factor de aprendizaje (learning rate)**\n",
    "* $\\boldsymbol{d}_t$ es una **dirección de descenso** como el negativo del **gradiente**, dado por $\\boldsymbol{g}_t=\\mathbf{\\nabla}\\mathcal{L}(\\boldsymbol{\\theta})\\rvert_{\\boldsymbol{\\theta}_t}$\n",
    "* los pasos de actualización se suceden hasta que el método alcanza un punto estacionario, esto es, de gradiente nulo"
   ]
  }
 ],
 "metadata": {
  "kernelspec": {
   "display_name": "Python 3",
   "language": "python",
   "name": "python3"
  },
  "language_info": {
   "codemirror_mode": {
    "name": "ipython",
    "version": 3
   },
   "file_extension": ".py",
   "mimetype": "text/x-python",
   "name": "python",
   "nbconvert_exporter": "python",
   "pygments_lexer": "ipython3",
   "version": "3.10.6"
  },
  "orig_nbformat": 4
 },
 "nbformat": 4,
 "nbformat_minor": 2
}
