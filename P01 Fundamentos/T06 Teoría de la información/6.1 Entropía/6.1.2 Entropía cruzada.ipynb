{
 "cells": [
  {
   "attachments": {},
   "cell_type": "markdown",
   "metadata": {},
   "source": [
    "# 6.1.2 Entropía cruzada"
   ]
  },
  {
   "cell_type": "markdown",
   "metadata": {},
   "source": [
    "\n",
    "**Entropía cruzada:** $\\;$ entre una distribución $p$ y otra $q$ es\n",
    "$$\\mathbb{H}(p,q)=-\\sum_k\\;p_k\\log q_k$$\n",
    "\n",
    "**Interpretación:** $\\;$ número esperado de bits necesario para comprimir muestras de $p$ mediante un cuantificador basado en $q$\n",
    "\n",
    "**Mínimo:** $\\;$ con $q=p$, cumpliéndose $\\mathbb{H}(p,p)=\\mathbb{H}(p)$"
   ]
  }
 ],
 "metadata": {
  "kernelspec": {
   "display_name": "Python 3",
   "language": "python",
   "name": "python3"
  },
  "language_info": {
   "name": "python",
   "version": "3.10.6"
  },
  "orig_nbformat": 4
 },
 "nbformat": 4,
 "nbformat_minor": 2
}
