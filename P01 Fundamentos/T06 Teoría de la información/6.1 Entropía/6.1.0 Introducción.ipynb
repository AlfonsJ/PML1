{
 "cells": [
  {
   "attachments": {},
   "cell_type": "markdown",
   "metadata": {},
   "source": [
    "# 6.1.0 Introducción"
   ]
  },
  {
   "cell_type": "markdown",
   "metadata": {},
   "source": [
    "\n",
    "**Entropía de una distribución de probabilidad:** $\\;$ medida de incertidumbre, o falta de predecibilidad, asociada con una variable aleatoria extraída de dicha distribución\n",
    "\n",
    "**Uso en teoría de información:** $\\;$ definir el contenido de información de una fuente de datos\n",
    "\n",
    "**Ejemplo:** $\\;$ sea una secuencia de símbolos $X_n\\sim p$ generados por una distribución $p$\n",
    "* Si $p$ tiene alta entropía, es difícil predecir el valor de cada $X_n$ y decimos que $\\mathcal{D}=\\{X_1,\\dotsc,X_n\\}$ tiene alto contenido informativo\n",
    "* Si $p$ es una distribución degenerada con entropía mínima (nula), todos los $X_n$ son idénticos y $\\mathcal{D}$ no contiene mucha información"
   ]
  }
 ],
 "metadata": {
  "kernelspec": {
   "display_name": "Python 3",
   "language": "python",
   "name": "python3"
  },
  "language_info": {
   "name": "python",
   "version": "3.10.6"
  },
  "orig_nbformat": 4
 },
 "nbformat": 4,
 "nbformat_minor": 2
}
