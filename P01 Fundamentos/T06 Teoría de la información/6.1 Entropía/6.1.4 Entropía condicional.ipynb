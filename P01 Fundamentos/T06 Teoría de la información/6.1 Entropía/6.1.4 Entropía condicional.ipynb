{
 "cells": [
  {
   "attachments": {},
   "cell_type": "markdown",
   "metadata": {},
   "source": [
    "# 6.1.4 Entropía condicional"
   ]
  },
  {
   "cell_type": "markdown",
   "metadata": {},
   "source": [
    "\n",
    "**Entropía condicional:** $\\;$ de $Y$ dado $X$ se define como la incertidumbre esperada de $Y$ tras observar $X$\n",
    "$$\\begin{align*}\n",
    "\\mathbb{H}(Y\\mid X)%\n",
    "&=\\mathbb{E}_{p(X)}[\\mathbb{H}(p(Y\\mid X))]\\\\%\n",
    "&=\\sum_x p(x)\\mathbb{H}(p(Y\\mid X=x))\\\\%\n",
    "&=-\\sum_x p(x)\\sum_y p(y\\mid x)\\log p(y\\mid x)\\\\%\n",
    "&=-\\sum_{x,y} p(x,y)\\log p(y\\mid x)\\\\[-2mm]%\n",
    "&=-\\sum_{x,y} p(x,y)\\log \\frac{p(x,y)}{p(x)}\\\\%\n",
    "&=-\\sum_{x,y} p(x,y)\\log p(x,y)-\\sum_x p(x)\\log\\frac{1}{p(x)}\\\\%\n",
    "&=\\mathbb{H}(X,Y)-\\mathbb{H}(X)%\n",
    "\\end{align*}$$\n",
    "\n",
    "**Cota superior:** $\\;$ entropía incondicional (la igualdad se cumple si $X$ e $Y$ son independientes)\n",
    "$$\\mathbb{H}(Y\\mid X)%\n",
    "=\\mathbb{H}(X,Y)-\\mathbb{H}(X)%\n",
    "\\leq \\mathbb{H}(X)+\\mathbb{H}(Y)-\\mathbb{H}(X)%\n",
    "=\\mathbb{H}(Y)$$\n",
    "\n",
    "**Cota inferior:** $\\;$ si $X$ determina $Y$, $\\mathbb{H}(X,Y)=\\mathbb{H}(X)$, por lo que\n",
    "$$\\mathbb{H}(Y\\mid X)=\\mathbb{H}(X,Y)-\\mathbb{H}(X)=\\mathbb{H}(X)-\\mathbb{H}(X)=0$$\n",
    "\n",
    "**Regla de la cadena para dos variables:**\n",
    "$$\\mathbb{H}(X_1,X_2)=\\mathbb{H}(X_1)+\\mathbb{H}(X_2\\mid X_1)$$\n",
    "\n",
    "**Regla de la cadena para $n$ variables:**\n",
    "$$\\mathbb{H}(X_1,X_2,\\dotsc,X_n)=\\sum_{i=1}^n\\mathbb{H}(X_i\\mid X_1,\\dotsc,X_{i-1})$$"
   ]
  }
 ],
 "metadata": {
  "kernelspec": {
   "display_name": "Python 3",
   "language": "python",
   "name": "python3"
  },
  "language_info": {
   "name": "python",
   "version": "3.10.6"
  },
  "orig_nbformat": 4
 },
 "nbformat": 4,
 "nbformat_minor": 2
}
