{
 "cells": [
  {
   "cell_type": "markdown",
   "metadata": {},
   "source": [
    "# 7.4.5b Análisis de componentes principales (PCA)"
   ]
  },
  {
   "cell_type": "markdown",
   "metadata": {},
   "source": [
    "**Maldición de la dimensionalidad:** $\\;$ muchas técnicas de aprendizaje automático empeoran sensiblemente con datos de alta dimensión\n",
    "\n",
    "**Reducción de la dimensión:** $\\;$ dada una matriz de $N$ datos en un espacio de alta dimensión, $\\,\\mathbb{R}^D,\\,$ queremos aprender (no supervisadamente) una transformación de $\\,\\mathbb{R}^D\\,$ en un espacio de dimensión reducida, $\\,\\mathbb{R}^K, K\\ll D,\\,$ que produzca una \"buena aproximación\" de los datos originales\n",
    "\n",
    "**Codificación:** $\\;$ operación de reducción de la dimensión, $\\,\\operatorname{encode}(\\boldsymbol{x})=\\boldsymbol{z},\\,\\boldsymbol{x}\\in\\mathbb{R}^D\\,$ y $\\,\\boldsymbol{z}\\in\\mathbb{R}^K$\n",
    "\n",
    "**Decodificación:** $\\;$ operación de reconstrucción del dato original, $\\,\\operatorname{decode}(\\boldsymbol{z})=\\hat{\\boldsymbol{x}},\\,\\hat{\\boldsymbol{x}}\\in\\mathbb{R}^D\\,$ y $\\,\\boldsymbol{z}\\in\\mathbb{R}^K$\n",
    "\n",
    "**Análisis de componentes principales (PCA):** $\\;$ escoge una proyección lineal ortogonal $\\,\\mathbf{W}\\in\\mathbb{R}^{D\\times K}\\,$ de mínima **distorsión o error de reconstrucción**\n",
    "$$\\mathcal{L}(\\mathbf{W})=\\frac{1}{N}\\sum_n\\lVert\\boldsymbol{x}_n-\\operatorname{decode}(\\operatorname{encode}(\\boldsymbol{x}_n))\\rVert_2^2%\n",
    "\\qquad\\text{con}\\quad%\n",
    "\\operatorname{encode}(\\boldsymbol{x})=\\mathbf{W}^t\\boldsymbol{x}%\n",
    "\\quad\\text{y}\\quad%\n",
    "\\operatorname{decode}(\\boldsymbol{z})=\\mathbf{W}\\boldsymbol{z}$$\n",
    "\n",
    "**Ejemplo:** $\\;$ conjunto de $N=4$ bidimensionales que queremos reducir a unidimensionales con distorsión mínima"
   ]
  },
  {
   "cell_type": "code",
   "execution_count": 1,
   "metadata": {},
   "outputs": [
    {
     "data": {
      "image/png": "[encoded data removed]",
      "text/plain": [
       "<Figure size 400x400 with 1 Axes>"
      ]
     },
     "metadata": {},
     "output_type": "display_data"
    }
   ],
   "source": [
    "import numpy as np; import matplotlib.pyplot as plt\n",
    "X = np.array([ [-1, -1], [0, 2], [2, 0], [3, 3] ]); m = np.mean(X, axis=0)\n",
    "fig, ax = plt.subplots(figsize=(4, 4)); ax.set_aspect(\"equal\"); plt.grid(True)\n",
    "plt.axis([-2, 4, -2, 4]); plt.xticks(fontsize=16); plt.yticks(fontsize=16)\n",
    "plt.scatter(m[0], m[1], facecolor='C0', edgecolor='k', s=100, marker=\"X\")\n",
    "plt.scatter(X[:,0], X[:,1], facecolor='C0', edgecolor='k', s=100);"
   ]
  },
  {
   "cell_type": "markdown",
   "metadata": {},
   "source": [
    "**Ejercicio:** $\\;$ halla la distorsión de los datos del ejemplo con $\\mathbf{W}_1=(1, 0)^t,\\,\\mathbf{W}_2=(0, 1)^t\\,$ y $\\,\\mathbf{W}_3=(\\sqrt{2}/2,\\sqrt{2}/2)^t$\n",
    "$$\\begin{align*}\n",
    "\\mathcal{L}(\\mathbf{W}_1)%\n",
    "&=\n",
    "\\end{align*}$$"
   ]
  },
  {
   "cell_type": "markdown",
   "metadata": {},
   "source": [
    "**Descomposición propia de $\\mathbf{\\Sigma}$ ordenada ($\\lambda\\text{s}$ de mayor a menor):** $\\;\\mathbf{\\Sigma}=\\mathbf{U}\\boldsymbol{\\Lambda}\\mathbf{U}^t$, $\\mathbf{\\Lambda}=\\operatorname{diag}(\\lambda_1,\\dotsc,\\lambda_n)$, $\\lambda_1\\geq\\lambda_2\\geq\\cdots\\geq\\lambda_D$\n",
    "* $\\boldsymbol{u}_1$ es una dirección de proyección óptima para maximizar la varianza de los datos proyectados, siendo $\\lambda_1$ dicha varianza\n",
    "* Entre todas las direcciones ortonormales a $\\boldsymbol{u}_1$, $\\boldsymbol{u}_2$ y $\\lambda_2$ son dirección óptima de proyección y varianza correspondiente\n",
    "* Y así, sucesivamente, hasta $\\boldsymbol{u}_D$ y $\\lambda_D$"
   ]
  },
  {
   "cell_type": "markdown",
   "metadata": {},
   "source": [
    "\n",
    "**Principal component analysis (PCA):** $\\;$ técnica de **reducción de la dimensión** que proyecta linealmente los datos en el subespacio lineal generado por los $K$ **componentes principales,** esto es, los $K$ vectores propios asociados a los $K$ mayores valores propios de $\\mathbf{\\Sigma}$\n",
    "$$\\operatorname{PCA}(\\mathbf{X})=(\\mathbf{X}-\\mathbf{1}_N\\boldsymbol{\\mu}^t)\\mathbf{U}_K%\n",
    "\\quad\\text{con}\\quad\\mathbf{U}_K=(\\boldsymbol{u}_1, \\dotsc, \\boldsymbol{u}_K)$$\n",
    "* El centrado previo de los datos no es estrictamente necesario, aunque por lo general sí se hace\n",
    "* Los datos originales pueden \"reconstruirse\" con $\\,\\tilde{\\mathbf{X}}=\\operatorname{PCA}(\\mathbf{X})\\mathbf{U}_K^t+\\mathbf{1}_N\\boldsymbol{\\mu}^t$\n",
    "\n",
    "**Elección de $K$:** $\\;$ si se tiene $\\mathbf{\\Lambda}$, puede escogerse el menor $K$ que explique un cierto porcentaje (p.e. $90\\%$) de la varianza total al menos\n",
    "$$q_K=\\frac{1}{\\operatorname{tr}(\\mathbf{\\Sigma})}\\sum_{k=1}^K\\lambda_k%\n",
    "\\quad\\text{con}\\quad%\n",
    "\\operatorname{tr}(\\mathbf{\\Sigma})=\\sum_{d=1}^D\\lambda_d$$\n",
    "\n",
    "En aprendizaje automático es usual encontrarnos con datos de dimensión muy elevada que, afortunadamente, puede reducirse drásticamente a cambio de reducir un poco la varianza total explicada. Por ejemplo, en clasificación de imágenes, muchas variables corresponden a píxeles que varían muy poco o nada ($\\lambda$ prácticamente nulo), por lo que pueden ignorarse sin efectos negativos significativos; al contrario, la reducción de la dimensión suele facilitar el desarrollo de sistemas precisos."
   ]
  },
  {
   "cell_type": "code",
   "execution_count": 2,
   "metadata": {},
   "outputs": [
    {
     "name": "stdout",
     "output_type": "stream",
     "text": [
      "Datos centrados:\n",
      " [[-2. -2.]\n",
      " [-1.  1.]\n",
      " [ 1. -1.]\n",
      " [ 2.  2.]] \n",
      "Componente principal 1:\n",
      " [0.70710678 0.70710678] \n",
      "Datos reducidos:\n",
      " [-2.82842712  0.          0.          2.82842712]\n",
      "Varianza explicada:  4.0 \n",
      "Calidad de la proyección (%):  80.0\n"
     ]
    }
   ],
   "source": [
    "import numpy as np\n",
    "X = np.array([ [-1, -1], [0, 2], [2, 0], [3, 3] ]).astype(float)\n",
    "m = np.mean(X, axis=0)\n",
    "S = np.cov(X.T, bias=True)\n",
    "La, U = np.linalg.eigh(S)\n",
    "i = La.argsort()[::-1]; La = La[i]; U = U[:,i]\n",
    "Xr = (X - m) @ U[:,0]\n",
    "print(\"Datos centrados:\\n\", X - m, \"\\nComponente principal 1:\\n\", U[:,0], \"\\nDatos reducidos:\\n\", Xr)\n",
    "q1 = La[0]\n",
    "print(\"Varianza explicada: \", q1, \"\\nCalidad de la proyección (%): \", 100.0 * q1/np.sum(La))"
   ]
  },
  {
   "cell_type": "markdown",
   "metadata": {},
   "source": [
    "**Blanqueado PCA:** $\\;$ PCA con $K=D$ y postnormalización de varianzas con $\\mathbf{\\Lambda}^{-1/2}$\n"
   ]
  }
 ],
 "metadata": {
  "kernelspec": {
   "display_name": "Python 3",
   "language": "python",
   "name": "python3"
  },
  "language_info": {
   "codemirror_mode": {
    "name": "ipython",
    "version": 3
   },
   "file_extension": ".py",
   "mimetype": "text/x-python",
   "name": "python",
   "nbconvert_exporter": "python",
   "pygments_lexer": "ipython3",
   "version": "3.11.6"
  },
  "orig_nbformat": 4
 },
 "nbformat": 4,
 "nbformat_minor": 2
}
