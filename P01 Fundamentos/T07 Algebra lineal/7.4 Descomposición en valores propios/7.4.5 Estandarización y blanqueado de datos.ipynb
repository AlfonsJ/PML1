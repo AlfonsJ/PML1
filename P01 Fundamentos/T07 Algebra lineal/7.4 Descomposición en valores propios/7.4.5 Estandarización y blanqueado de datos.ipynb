{
 "cells": [
  {
   "cell_type": "markdown",
   "metadata": {},
   "source": [
    "# Estandarización y blanqueado de datos\n",
    "\n",
    "Sea $\\mathbf{X}\\in\\mathbb{R}^{N\\times D}$ una matriz de $N$ datos $D$-dimensionales. "
   ]
  },
  {
   "cell_type": "code",
   "execution_count": 1,
   "metadata": {},
   "outputs": [
    {
     "data": {
      "image/png": "[encoded data removed]",
      "text/plain": [
       "<Figure size 432x288 with 1 Axes>"
      ]
     },
     "metadata": {
      "needs_background": "light"
     },
     "output_type": "display_data"
    }
   ],
   "source": [
    "import numpy as np\n",
    "import matplotlib.pyplot as plt\n",
    "X = np.array([ [-1, -1], [0, 2], [2, 0], [3, 3] ]).astype(float)\n",
    "m = np.mean(X, axis=0)\n",
    "fig, ax = plt.subplots(); ax.set_aspect(\"equal\"); plt.grid(True)\n",
    "plt.axis([-2, 4, -2, 4]); plt.xticks(fontsize=16); plt.yticks(fontsize=16)\n",
    "plt.scatter(m[0], m[1], facecolor='C0', edgecolor='k', s=100, marker=\"X\")\n",
    "plt.scatter(X[:,0], X[:,1], facecolor='C0', edgecolor='k', s=100);"
   ]
  },
  {
   "attachments": {},
   "cell_type": "markdown",
   "metadata": {},
   "source": [
    "## Estandarización\n",
    "\n",
    "**Estandarización:** $\\quad\\operatorname{standardize}(\\mathbf{X})=(\\mathbf{X}-\\boldsymbol{1}_N\\boldsymbol{\\mu}^t)\\operatorname{diag}(\\boldsymbol{\\sigma})^{-1}\\qquad\\boldsymbol{\\mu}=\\bar{\\boldsymbol{x}}$ y $\\boldsymbol{\\sigma}$ son la media y desviación típica empíricas\n",
    "\n",
    "**Ventaja:** $\\;$ facilita la homogeneización de variables heterogéneas; las variables estandarizadas tienen media nula y varianza unitaria\n",
    "\n",
    "**Incoveniente:** $\\;$ no elimina correlaciones entre variables"
   ]
  },
  {
   "cell_type": "code",
   "execution_count": 2,
   "metadata": {},
   "outputs": [
    {
     "data": {
      "image/png": "[encoded data removed]",
      "text/plain": [
       "<Figure size 432x288 with 1 Axes>"
      ]
     },
     "metadata": {
      "needs_background": "light"
     },
     "output_type": "display_data"
    }
   ],
   "source": [
    "import numpy as np\n",
    "import matplotlib.pyplot as plt\n",
    "X = np.array([ [-1, -1], [0, 2], [2, 0], [3, 3] ]).astype(float)\n",
    "m = np.mean(X, axis=0); sigma = np.std(X, axis=0)\n",
    "Xstd = (X - m) / sigma\n",
    "fig, ax = plt.subplots(); ax.set_aspect(\"equal\"); plt.grid(True)\n",
    "plt.axis([-2, 4, -2, 4]); plt.xticks(fontsize=16); plt.yticks(fontsize=16)\n",
    "plt.scatter(m[0], m[1], facecolor='C0', edgecolor='k', s=100, marker=\"X\")\n",
    "plt.scatter(X[:,0], X[:,1], facecolor='C0', edgecolor='k', s=100)\n",
    "plt.scatter(0, 0, facecolor='C1', edgecolor='k', s=100, marker=\"X\")\n",
    "plt.scatter(Xstd[:,0], Xstd[:,1], facecolor='C1', edgecolor='k', s=100);"
   ]
  },
  {
   "cell_type": "markdown",
   "metadata": {},
   "source": [
    "## Blanqueado PCA\n",
    "\n",
    "**Blanqueado principal component analysis (PCA):** $\\;$ dada $\\mathbf{\\Sigma}=\\mathbf{U}\\boldsymbol{\\Lambda}\\mathbf{U}^t,\\,$ descomposición propia de la matriz de covarianzas empírica:\n",
    "$$\\quad\\operatorname{whitening}(\\mathbf{X})=(\\mathbf{X}-\\mathbf{1}_N\\boldsymbol{\\mu}^t)\\mathbf{W}_{\\text{pca}}^t%\n",
    "\\quad\\text{con}\\quad%\n",
    "\\mathbf{W}_{\\text{pca}}=\\boldsymbol{\\Lambda}^{-1/2}\\mathbf{U}^t$$\n",
    "Los datos blanqueados exhiben media nula y matriz de covarianzas blanca (identidad): $\\;\\boldsymbol{y}=\\mathbf{W}_{\\text{pca}}(\\boldsymbol{x}-\\boldsymbol{\\mu})$\n",
    "$$\\begin{align*}\n",
    "\\mathbb{E}[\\mathbf{W}_{\\text{pca}}(\\boldsymbol{x}-\\boldsymbol{\\mu})]%\n",
    "&=\\mathbf{W}_{\\text{pca}}\\mathbb{E}[\\boldsymbol{x}-\\boldsymbol{\\mu}]=\\boldsymbol{0}\\\\%\n",
    "\\operatorname{Cov}[\\mathbf{W}_{\\text{pca}}(\\boldsymbol{x}-\\boldsymbol{\\mu})]%\n",
    "&=\\mathbf{W}_{\\text{pca}}\\operatorname{Cov}[\\boldsymbol{x}]\\mathbf{W}_{\\text{pca}}^t%\n",
    "=\\boldsymbol{\\Lambda}^{-1/2}\\mathbf{U}^t\\mathbf{U}\\boldsymbol{\\Lambda}\\mathbf{U}^t\\mathbf{U}\\boldsymbol{\\Lambda}^{-1/2}%\n",
    "=\\boldsymbol{\\Lambda}^{-1/2}\\boldsymbol{\\Lambda}\\boldsymbol{\\Lambda}^{-1/2}%\n",
    "=\\boldsymbol{\\Lambda}^0=\\mathbf{I}\n",
    "\\end{align*}$$\n",
    "\n"
   ]
  },
  {
   "cell_type": "code",
   "execution_count": 3,
   "metadata": {},
   "outputs": [
    {
     "data": {
      "image/png": "[encoded data removed]",
      "text/plain": [
       "<Figure size 432x288 with 1 Axes>"
      ]
     },
     "metadata": {
      "needs_background": "light"
     },
     "output_type": "display_data"
    }
   ],
   "source": [
    "import numpy as np\n",
    "import matplotlib.pyplot as plt\n",
    "X = np.array([ [-1, -1], [0, 2], [2, 0], [3, 3] ]).astype(float)\n",
    "m = np.mean(X, axis=0)\n",
    "S = np.cov(X.T, bias=True)\n",
    "La, U = np.linalg.eigh(S)\n",
    "i = La.argsort()[::-1]; La = La[i]; U = U[:,i]\n",
    "W = np.sqrt(np.linalg.inv(np.diag(La))) @ U.T\n",
    "Xw = (X - m) @ W.T\n",
    "fig, ax = plt.subplots(); ax.set_aspect(\"equal\"); plt.grid(True)\n",
    "plt.axis([-2, 4, -2, 4]); plt.xticks(fontsize=16); plt.yticks(fontsize=16)\n",
    "plt.scatter(m[0], m[1], facecolor='C0', edgecolor='k', s=100, marker=\"X\")\n",
    "plt.scatter(X[:,0], X[:,1], facecolor='C0', edgecolor='k', s=100)\n",
    "plt.scatter(0, 0, facecolor='C1', edgecolor='k', s=100, marker=\"X\")\n",
    "plt.scatter(Xw[:,0], Xw[:,1], facecolor='C1', edgecolor='k', s=100);"
   ]
  },
  {
   "cell_type": "markdown",
   "metadata": {},
   "source": [
    "## Blanqueado ZCA\n",
    "\n",
    "**Blanqueado zero-phase component analysis (ZCA):** $\\;$ invierte la transformación ortogonal aplicada por PCA para que los datos blanqueados se hallen próximos a los originales (en mínimos cuadrados) y se \"parezcan\" (p.e. con imágenes)\n",
    "$$\\quad\\operatorname{whitening}(\\mathbf{X})=(\\mathbf{X}-\\mathbf{1}_N\\boldsymbol{\\mu}^t)\\mathbf{W}_{\\text{zca}}^t%\n",
    "\\quad\\text{con}\\quad%\n",
    "\\mathbf{W}_{\\text{zca}}=\\mathbf{U}\\mathbf{W}_{\\text{pca}}=\\mathbf{U}\\boldsymbol{\\Lambda}^{-1/2}\\mathbf{U}^t$$\n",
    "Los datos blanqueados exhiben media nula y matriz de covarianzas blanca (identidad): $\\;\\boldsymbol{y}=\\mathbf{W}_{\\text{zca}}(\\boldsymbol{x}-\\boldsymbol{\\mu})$\n",
    "$$\\begin{align*}\n",
    "\\mathbb{E}[\\mathbf{W}_{\\text{zca}}(\\boldsymbol{x}-\\boldsymbol{\\mu})]%\n",
    "&=\\mathbf{U}\\mathbb{E}[\\mathbf{W}_{\\text{pca}}(\\boldsymbol{x}-\\boldsymbol{\\mu})]=\\boldsymbol{0}\\\\%\n",
    "\\operatorname{Cov}[\\mathbf{W}_{\\text{zca}}(\\boldsymbol{x}-\\boldsymbol{\\mu})]%\n",
    "&=\\mathbf{U}\\operatorname{Cov}[\\mathbf{W}_{\\text{pca}}(\\boldsymbol{x}-\\boldsymbol{\\mu})]\\mathbf{U}^t%\n",
    "=\\mathbf{U}\\mathbf{I}\\mathbf{U}^t=\\mathbf{I}%\n",
    "\\end{align*}$$"
   ]
  },
  {
   "cell_type": "code",
   "execution_count": 4,
   "metadata": {},
   "outputs": [
    {
     "data": {
      "image/png": "[encoded data removed]",
      "text/plain": [
       "<Figure size 432x288 with 1 Axes>"
      ]
     },
     "metadata": {
      "needs_background": "light"
     },
     "output_type": "display_data"
    }
   ],
   "source": [
    "import numpy as np\n",
    "import matplotlib.pyplot as plt\n",
    "X = np.array([ [-1, -1], [0, 2], [2, 0], [3, 3] ]).astype(float)\n",
    "m = np.mean(X, axis=0)\n",
    "S = np.cov(X.T, bias=True)\n",
    "La, U = np.linalg.eigh(S)\n",
    "i = La.argsort()[::-1]; La = La[i]; U = U[:,i]\n",
    "W = U @ np.sqrt(np.linalg.inv(np.diag(La))) @ U.T\n",
    "Xw = (X - m) @ W.T\n",
    "fig, ax = plt.subplots(); ax.set_aspect(\"equal\"); plt.grid(True)\n",
    "plt.axis([-2, 4, -2, 4]); plt.xticks(fontsize=16); plt.yticks(fontsize=16)\n",
    "plt.scatter(m[0], m[1], facecolor='C0', edgecolor='k', s=100, marker=\"X\")\n",
    "plt.scatter(X[:,0], X[:,1], facecolor='C0', edgecolor='k', s=100)\n",
    "plt.scatter(0, 0, facecolor='C1', edgecolor='k', s=100, marker=\"X\")\n",
    "plt.scatter(Xw[:,0], Xw[:,1], facecolor='C1', edgecolor='k', s=100);"
   ]
  },
  {
   "cell_type": "markdown",
   "metadata": {},
   "source": [
    "# Principal component analysis (PCA)\n",
    "\n",
    "**Descomposición propia de $\\mathbf{\\Sigma}$ ordenada ($\\lambda\\text{s}$ de mayor a menor):** $\\;\\mathbf{\\Sigma}=\\mathbf{U}\\boldsymbol{\\Lambda}\\mathbf{U}^t$, $\\mathbf{\\Lambda}=\\operatorname{diag}(\\lambda_1,\\dotsc,\\lambda_n)$, $\\lambda_1\\geq\\lambda_2\\geq\\cdots\\geq\\lambda_D$\n",
    "* $\\boldsymbol{u}_1$ es una dirección de proyección óptima para maximizar la varianza de los datos proyectados, siendo $\\lambda_1$ dicha varianza\n",
    "* Entre todas las direcciones ortonormales a $\\boldsymbol{u}_1$, $\\boldsymbol{u}_2$ y $\\lambda_2$ son dirección óptima de proyección y varianza correspondiente\n",
    "* Y así, sucesivamente, hasta $\\boldsymbol{u}_D$ y $\\lambda_D$\n",
    "\n",
    "**Principal component analysis (PCA):** $\\;$ técnica de **reducción de la dimensión** que proyecta linealmente los datos en el subespacio lineal generado por los $K$ **componentes principales,** esto es, los $K$ vectores propios asociados a los $K$ mayores valores propios de $\\mathbf{\\Sigma}$:\n",
    "$$\\operatorname{PCA}(\\mathbf{X})=(\\mathbf{X}-\\mathbf{1}_N\\boldsymbol{\\mu}^t)\\mathbf{U}_K%\n",
    "\\quad\\text{con}\\quad\\mathbf{U}_K=(\\boldsymbol{u}_1, \\dotsc, \\boldsymbol{u}_K)$$\n",
    "* El centrado previo de los datos no es estrictamente necesario, aunque por lo general sí se hace\n",
    "* Blanqueado PCA coincide con PCA si $K=D$ y se postnormalizan varianzas con  $\\mathbf{\\Lambda}^{-1/2}$\n",
    "* Los datos originales pueden \"reconstruirse\" con $\\,\\tilde{\\mathbf{X}}=\\operatorname{PCA}(\\mathbf{X})\\mathbf{U}_K^t+\\mathbf{1}_N\\boldsymbol{\\mu}^t$\n",
    "\n",
    "**Elección de $K$:** $\\;$ si se tiene $\\mathbf{\\Lambda}$, puede escogerse el menor $K$ que explique un cierto porcentaje (p.e. $90\\%$) de la varianza total al menos\n",
    "$$q_K=\\frac{1}{\\operatorname{tr}(\\mathbf{\\Sigma})}\\sum_{k=1}^K\\lambda_k%\n",
    "\\quad\\text{con}\\quad%\n",
    "\\operatorname{tr}(\\mathbf{\\Sigma})=\\sum_{d=1}^D\\lambda_d$$\n",
    "\n",
    "En aprendizaje automático es usual encontrarnos con datos de dimensión muy elevada que, afortunadamente, puede reducirse drásticamente a cambio de reducir un poco la varianza total explicada. Por ejemplo, en clasificación de imágenes, muchas variables corresponden a píxeles que varían muy poco o nada ($\\lambda$ prácticamente nulo), por lo que pueden ignorarse sin efectos negativos significativos; al contrario, la reducción de la dimensión suele facilitar el desarrollo de sistemas precisos."
   ]
  },
  {
   "cell_type": "code",
   "execution_count": 5,
   "metadata": {},
   "outputs": [
    {
     "name": "stdout",
     "output_type": "stream",
     "text": [
      "Datos centrados:\n",
      " [[-2. -2.]\n",
      " [-1.  1.]\n",
      " [ 1. -1.]\n",
      " [ 2.  2.]] \n",
      "Componente principal 1:\n",
      " [0.70710678 0.70710678] \n",
      "Datos reducidos:\n",
      " [-2.82842712  0.          0.          2.82842712]\n",
      "Varianza explicada:  4.0 \n",
      "Calidad de la proyección (%):  80.0\n"
     ]
    }
   ],
   "source": [
    "import numpy as np\n",
    "X = np.array([ [-1, -1], [0, 2], [2, 0], [3, 3] ]).astype(float)\n",
    "m = np.mean(X, axis=0)\n",
    "S = np.cov(X.T, bias=True)\n",
    "La, U = np.linalg.eigh(S)\n",
    "i = La.argsort()[::-1]; La = La[i]; U = U[:,i]\n",
    "Xr = (X - m) @ U[:,0]\n",
    "print(\"Datos centrados:\\n\", X - m, \"\\nComponente principal 1:\\n\", U[:,0], \"\\nDatos reducidos:\\n\", Xr)\n",
    "q1 = La[0]\n",
    "print(\"Varianza explicada: \", q1, \"\\nCalidad de la proyección (%): \", 100.0 * q1/np.sum(La))"
   ]
  }
 ],
 "metadata": {
  "kernelspec": {
   "display_name": "Python 3",
   "language": "python",
   "name": "python3"
  },
  "language_info": {
   "codemirror_mode": {
    "name": "ipython",
    "version": 3
   },
   "file_extension": ".py",
   "mimetype": "text/x-python",
   "name": "python",
   "nbconvert_exporter": "python",
   "pygments_lexer": "ipython3",
   "version": "3.10.6"
  },
  "orig_nbformat": 4
 },
 "nbformat": 4,
 "nbformat_minor": 2
}
