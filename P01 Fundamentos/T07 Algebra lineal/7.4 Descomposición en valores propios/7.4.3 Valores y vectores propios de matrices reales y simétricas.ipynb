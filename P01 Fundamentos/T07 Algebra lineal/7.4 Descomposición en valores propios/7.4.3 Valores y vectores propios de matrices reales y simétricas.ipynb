{
 "cells": [
  {
   "attachments": {},
   "cell_type": "markdown",
   "metadata": {},
   "source": [
    "# Valores y vectores propios de matrices reales y simétricas\n",
    "\n",
    "Sea $\\mathbf{A}\\in\\mathbb{R}^{n\\times n}$ una matriz **real y simétrica.**"
   ]
  },
  {
   "attachments": {},
   "cell_type": "markdown",
   "metadata": {},
   "source": [
    "## Descomposición propia de una matriz real y simétrica\n",
    "\n",
    "**Valores propios de $\\mathbf{A}$:** $\\;$ reales, $\\mathbf{\\Lambda}=\\operatorname{diag}(\\lambda_1,\\dotsc,\\lambda_n)$, $\\lambda_i\\in\\mathbb{R}$\n",
    "\n",
    "**Vectores propios de $\\mathbf{A}$:** $\\;$ ortogonales dos a dos y normalizados, $\\boldsymbol{u}_i^t\\boldsymbol{u}_j=\\mathbb{I}(i=j)$, por lo que $\\mathbf{U}$ es ortogonal, $\\mathbf{U}^t\\mathbf{U}=\\mathbf{U}\\mathbf{U}^t=\\mathbf{I}$\n",
    "\n",
    "**Descomposición propia de $\\mathbf{A}$:** $\\;\\mathbf{A}=\\mathbf{U}\\mathbf{\\Lambda}\\mathbf{U}^t%\n",
    "=(\\boldsymbol{u}_1,\\dotsc,\\boldsymbol{u}_n)\\operatorname{diag}(\\lambda_1,\\dotsc,\\lambda_n)(\\boldsymbol{u}_1^t;\\dotsc;\\boldsymbol{u}_n^t)=\\sum_{i=1}^n\\lambda_i\\boldsymbol{u}_i\\boldsymbol{u}_i^t$\n",
    "\n",
    "**Inversa (si existe):** $\\;\\mathbf{A}^{-1}=\\mathbf{U}\\mathbf{\\Lambda}^{-1}\\mathbf{U}^t%\n",
    "=\\sum_{i=1}^n\\frac{1}{\\lambda_i}\\boldsymbol{u}_i\\boldsymbol{u}_i^t$"
   ]
  },
  {
   "attachments": {},
   "cell_type": "markdown",
   "metadata": {},
   "source": [
    "**Ejercicio:** $\\;$ Halla la descomposición propia de $\\mathbf{\\Sigma}=\\begin{bmatrix}\\frac{5}{2} & \\frac{3}{2}\\\\[1mm]\\frac{3}{2} & \\frac{5}{2}\\end{bmatrix}$\n",
    "$$\\lvert{\\lambda\\mathbf{I}-\\mathbf{\\Sigma}}\\rvert=0%\n",
    "\\to\\left\\lvert\\lambda\\begin{bmatrix}1&0\\\\[1mm]0&1\\end{bmatrix}-\\begin{bmatrix}\\frac{5}{2} & \\frac{3}{2}\\\\[1mm]\\frac{3}{2} & \\frac{5}{2}\\end{bmatrix}\\right\\rvert%\n",
    "=\\left\\lvert\\begin{matrix}\\lambda-\\frac{5}{2} & -\\frac{3}{2}\\\\[1mm]-\\frac{3}{2} & \\lambda-\\frac{5}{2}\\end{matrix}\\right\\rvert=0$$\n",
    "$$\\to\\left(\\lambda-\\frac{5}{2}\\right)^2-\\frac{9}{4}=0\\to\\lambda^2-5\\lambda+4=0\\to\\left\\{\\begin{matrix}\\lambda_1=4\\\\[1mm]\\lambda_2=1\\end{matrix}\\right.$$\n",
    "$$\\mathbf{\\Sigma}\\boldsymbol{e}_1=\\lambda_1\\boldsymbol{e}_1\\to%\n",
    "\\boldsymbol{e}_1=\\begin{pmatrix}\\alpha\\\\[1mm]\\alpha\\end{pmatrix}\\xrightarrow{\\lVert{\\boldsymbol{e}_1}\\rVert=1}\\boldsymbol{e}_1=\\begin{bmatrix}\\frac{\\sqrt{2}}{2}\\\\[1mm]\\frac{\\sqrt{2}}{2}\\end{bmatrix}=\\begin{bmatrix}0.7071\\\\[1mm]0.7071\\end{bmatrix}$$\n",
    "$$\\mathbf{\\Sigma}\\boldsymbol{e}_2=\\lambda_2\\boldsymbol{e}_2\\to%\n",
    "\\boldsymbol{e}_2=\\begin{pmatrix}-\\alpha\\\\[1mm]\\alpha\\end{pmatrix}\\xrightarrow{\\lVert{\\boldsymbol{e}_1}\\rVert=1}\\boldsymbol{e}_2=\\begin{bmatrix}-\\frac{\\sqrt{2}}{2}\\\\[1mm]\\frac{\\sqrt{2}}{2}\\end{bmatrix}=\\begin{bmatrix}-0.7071\\\\[1mm]0.7071\\end{bmatrix}$$\n",
    "$$\\mathbf{\\Sigma}=\\mathbf{U}\\mathbf{\\Lambda}\\mathbf{U}^t%\n",
    "\\qquad \\mathbf{U}=[\\boldsymbol{e}_1,\\boldsymbol{e}_2] \\qquad \\mathbf{\\Lambda}=\\operatorname{diag}(\\lambda_1,\\lambda_2)$$"
   ]
  },
  {
   "attachments": {},
   "cell_type": "markdown",
   "metadata": {},
   "source": [
    "**Ejercicio (cont.):** $\\;$ invierte $\\mathbf{\\Sigma}$\n",
    "$$\\begin{align*}\n",
    "\\mathbf{\\Sigma}^{-1}%\n",
    "&=[\\boldsymbol{u}_1,\\boldsymbol{u}_2]\\operatorname{diag}(1/\\lambda_1,1/\\lambda_2)%\n",
    "  \\begin{bmatrix}\\boldsymbol{u}_1^t\\\\[1mm]\\boldsymbol{u}_2^t\\end{bmatrix}\\\\%\n",
    "&=\\begin{bmatrix}\n",
    "\\frac{\\sqrt{2}}{2}&-\\frac{\\sqrt{2}}{2}\\\\[1mm]%\n",
    "\\frac{\\sqrt{2}}{2}& \\frac{\\sqrt{2}}{2}%\n",
    "\\end{bmatrix}%\n",
    "\\begin{bmatrix}1/4&0\\\\[1mm]0&1\\end{bmatrix}\n",
    "\\begin{bmatrix}\n",
    " \\frac{\\sqrt{2}}{2}&\\frac{\\sqrt{2}}{2}\\\\[1mm]%\n",
    "-\\frac{\\sqrt{2}}{2}&\\frac{\\sqrt{2}}{2}%\n",
    "\\end{bmatrix}%\\\\[1mm]%\n",
    "=\\begin{bmatrix}\n",
    "\\frac{\\sqrt{2}}{8}&-\\frac{\\sqrt{2}}{2}\\\\[1mm]%\n",
    "\\frac{\\sqrt{2}}{8}& \\frac{\\sqrt{2}}{2}%\n",
    "\\end{bmatrix}%\n",
    "\\begin{bmatrix}\n",
    " \\frac{\\sqrt{2}}{2}&\\frac{\\sqrt{2}}{2}\\\\[1mm]%\n",
    "-\\frac{\\sqrt{2}}{2}&\\frac{\\sqrt{2}}{2}%\n",
    "\\end{bmatrix}\\\\[5mm]%\n",
    "&=\\begin{bmatrix}\n",
    "\\frac{2}{16}+\\frac{2}{4}%\n",
    "&\\frac{2}{16}-\\frac{2}{4}\\\\[1mm]%\n",
    "\\frac{2}{16}-\\frac{2}{4}%\n",
    "&\\frac{2}{16}+\\frac{2}{4}%\n",
    "\\end{bmatrix}%\n",
    "=\\begin{bmatrix}\n",
    "\\frac{5}{8}&-\\frac{3}{8}\\\\%\n",
    "-\\frac{3}{8}&\\frac{5}{8}%\n",
    "\\end{bmatrix}%\n",
    "=\\begin{bmatrix}\n",
    "0.625&-0.375\\\\%\n",
    "-0.375&0.625%\n",
    "\\end{bmatrix}\n",
    "\\end{align*}$$"
   ]
  },
  {
   "cell_type": "code",
   "execution_count": 1,
   "metadata": {},
   "outputs": [
    {
     "name": "stdout",
     "output_type": "stream",
     "text": [
      "[4. 1.] \n",
      " [[ 0.70710678 -0.70710678]\n",
      " [ 0.70710678  0.70710678]] \n",
      " [[ 0.625 -0.375]\n",
      " [-0.375  0.625]]\n"
     ]
    }
   ],
   "source": [
    "import numpy as np\n",
    "S = np.array([[5/2, 3/2], [3/2, 5/2]])\n",
    "La, U = np.linalg.eigh(S)\n",
    "i = La.argsort()[::-1]; La = La[i]; U = U[:,i]\n",
    "I = U @ np.diag(1/La) @ U.T\n",
    "print(La, \"\\n\", U, \"\\n\", I)"
   ]
  },
  {
   "attachments": {},
   "cell_type": "markdown",
   "metadata": {},
   "source": [
    "## Comprobación de definición positiva\n",
    "\n",
    "Consideremos la forma cuadrática asociada a $\\mathbf{A}$:\n",
    "$$f(\\boldsymbol{x})=\\boldsymbol{x}^t\\mathbf{A}\\boldsymbol{x}%\n",
    "=\\boldsymbol{x}^t\\mathbf{U}\\mathbf{\\Lambda}\\mathbf{U}^t\\boldsymbol{x}%\n",
    "\\overset{\\boldsymbol{y}=\\mathbf{U}^t\\boldsymbol{x}}{=}\\boldsymbol{y}^t\\mathbf{\\Lambda}\\boldsymbol{y}%\n",
    "=\\sum_{i=1}^n\\lambda_i y_i^2$$\n",
    "Como $y_i^2\\geq 0$, el signo solo depende de los $\\lambda_i$:\n",
    "\n",
    "* $\\mathbf{A}$ es **definida positiva** sii $\\lambda_i>0$ para todo $i$\n",
    "* $\\mathbf{A}$ es **semidefinida positiva** sii $\\lambda_i\\geq 0$ para todo $i$\n",
    "* $\\mathbf{A}$ es **definida negativa** sii $\\lambda_i<0$ para todo $i$\n",
    "* $\\mathbf{A}$ es **semidefinida negativa** sii $\\lambda_i\\leq 0$ para todo $i$\n",
    "* $\\mathbf{A}$ es **indefinida** sii tiene $\\lambda_i$ positivos y negativos\n",
    "\n",
    "\n"
   ]
  }
 ],
 "metadata": {
  "kernelspec": {
   "display_name": "Python 3",
   "language": "python",
   "name": "python3"
  },
  "language_info": {
   "codemirror_mode": {
    "name": "ipython",
    "version": 3
   },
   "file_extension": ".py",
   "mimetype": "text/x-python",
   "name": "python",
   "nbconvert_exporter": "python",
   "pygments_lexer": "ipython3",
   "version": "3.10.6"
  },
  "orig_nbformat": 4
 },
 "nbformat": 4,
 "nbformat_minor": 2
}
