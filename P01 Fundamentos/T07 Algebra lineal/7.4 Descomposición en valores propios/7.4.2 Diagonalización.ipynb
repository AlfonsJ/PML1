{
 "cells": [
  {
   "attachments": {},
   "cell_type": "markdown",
   "metadata": {},
   "source": [
    "# Diagonalización\n",
    "\n",
    "Sea $\\mathbf{A}\\in\\mathbb{R}^{n\\times n}$ una matriz cuadrada."
   ]
  },
  {
   "attachments": {},
   "cell_type": "markdown",
   "metadata": {},
   "source": [
    "## Ecuación global\n",
    "\n",
    "**Ecuación global:** $\\;\\mathbf{\\Lambda}=\\operatorname{diag}(\\lambda_1,\\dotsc,\\lambda_n)$ y $\\mathbf{U}=(\\boldsymbol{u}_1,\\dotsc,\\boldsymbol{u}_n)$ son matrices de valores y vectores propios de $\\mathbf{A}$ si:\n",
    "$$\\mathbf{A}\\mathbf{U}%\n",
    "=[\\mathbf{A}\\boldsymbol{u}_1,\\mathbf{A}\\boldsymbol{u}_2,\\dotsc,\\mathbf{A}\\boldsymbol{u}_n]%\n",
    "=[\\lambda_1\\boldsymbol{u}_1,\\lambda_2\\boldsymbol{u}_2,\\dotsc,\\lambda_n\\boldsymbol{u}_n]%\n",
    "=\\mathbf{U}\\mathbf{\\Lambda}$$"
   ]
  },
  {
   "attachments": {},
   "cell_type": "markdown",
   "metadata": {},
   "source": [
    "## Descomposición propia\n",
    "\n",
    "Si los vectores propios son linealmente independientes, $\\mathbf{U}$ es invertible y $\\mathbf{A}$ **diagonalizable**, con **descomposición propia:**\n",
    "$$\\mathbf{A}=\\mathbf{U}\\mathbf{\\Lambda}\\mathbf{U}^{-1}$$"
   ]
  }
 ],
 "metadata": {
  "kernelspec": {
   "display_name": "Python 3",
   "language": "python",
   "name": "python3"
  },
  "language_info": {
   "codemirror_mode": {
    "name": "ipython",
    "version": 3
   },
   "file_extension": ".py",
   "mimetype": "text/x-python",
   "name": "python",
   "nbconvert_exporter": "python",
   "pygments_lexer": "ipython3",
   "version": "3.10.6"
  },
  "orig_nbformat": 4
 },
 "nbformat": 4,
 "nbformat_minor": 2
}
