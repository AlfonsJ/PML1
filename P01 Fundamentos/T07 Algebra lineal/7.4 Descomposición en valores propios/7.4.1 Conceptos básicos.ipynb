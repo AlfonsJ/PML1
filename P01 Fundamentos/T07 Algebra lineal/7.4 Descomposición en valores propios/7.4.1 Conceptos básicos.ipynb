{
 "cells": [
  {
   "attachments": {},
   "cell_type": "markdown",
   "metadata": {},
   "source": [
    "# Conceptos básicos\n",
    "\n",
    "Sea $\\mathbf{A}\\in\\mathbb{R}^{n\\times n}$ una matriz cuadrada."
   ]
  },
  {
   "attachments": {},
   "cell_type": "markdown",
   "metadata": {},
   "source": [
    "## Valor y vector propio\n",
    "\n",
    "**Valor y vector propio:** $\\;\\lambda\\in\\mathbb{R}$ es un **valor propio** de $\\mathbf{A}$ y $\\boldsymbol{u}\\in\\mathbf{R}^n$ \"el\" correspondiente **vector propio** asociado si:\n",
    "$$\\mathbf{A}\\boldsymbol{u}=\\lambda\\boldsymbol{u},\\qquad\\boldsymbol{u}\\neq\\boldsymbol{0}$$\n",
    "\n",
    "**No unicidad del vector propio:** $\\;$ si $\\boldsymbol{u}$ es vector propio asociado a $\\lambda$, todo $c\\boldsymbol{u}$ con $c\\in\\mathbf{R}$ no nulo tamién lo es\n",
    "$$\\mathbf{A}(c\\boldsymbol{u})=c\\mathbf{A}\\boldsymbol{u}=c\\lambda\\boldsymbol{u}=\\lambda(c\\boldsymbol{u})$$\n",
    "\n",
    "**Asunción de normalidad:** $\\;$ por simplicidad, se asume que \"el\" vector propio asociado a $\\lambda$ está normalizado, $\\lVert\\boldsymbol{u}\\rVert_2=1$; el entrecomillado \"el\" se debe a que $-\\boldsymbol{u}$ también está normalizado, por lo que tenemos dos opciones"
   ]
  },
  {
   "attachments": {},
   "cell_type": "markdown",
   "metadata": {},
   "source": [
    "## Ecuación característica\n",
    "\n",
    "**Ecuación característica:** $\\;$ permite hallar los $n$ valores propios de $\\mathbf{A}$ y sus vectores propios asociados\n",
    "$$\\lvert\\lambda\\mathbf{I}_n-\\mathbf{A}\\rvert=0$$"
   ]
  },
  {
   "attachments": {},
   "cell_type": "markdown",
   "metadata": {},
   "source": [
    "## Propiedades\n",
    "\n",
    "**Traza de $\\mathbf{A}$:** $\\;\\operatorname{tr}(\\mathbf{A})=\\sum_{i=1}^n\\lambda_i$\n",
    "\n",
    "**Determinante de $\\mathbf{A}$:** $\\;\\lvert{\\mathbf{A}}\\rvert=\\prod_{i=1}^n\\lambda_i$\n",
    "\n",
    "**Rango de $\\mathbf{A}$:** $\\;\\operatorname{range}(\\mathbf{A})=\\sum_{i=1}^n\\mathbb{I}(\\lambda_i>0)$\n",
    "\n",
    "**Valor y vector propio de $\\mathbf{A}^{-1}$:** $\\;$ si $\\mathbf{A}$ es no singular y $(\\lambda_i, \\boldsymbol{u}_i)$ es un par valor-vector propio de $\\mathbf{A}$, entonces $\\mathbf{A}^{-1}$ existe y $(1/\\lambda_i, \\boldsymbol{u}_i)$ es un par valor-vector propio de $\\mathbf{A}^{-1}$"
   ]
  }
 ],
 "metadata": {
  "kernelspec": {
   "display_name": "Python 3",
   "language": "python",
   "name": "python3"
  },
  "language_info": {
   "codemirror_mode": {
    "name": "ipython",
    "version": 3
   },
   "file_extension": ".py",
   "mimetype": "text/x-python",
   "name": "python",
   "nbconvert_exporter": "python",
   "pygments_lexer": "ipython3",
   "version": "3.10.6"
  },
  "orig_nbformat": 4
 },
 "nbformat": 4,
 "nbformat_minor": 2
}
