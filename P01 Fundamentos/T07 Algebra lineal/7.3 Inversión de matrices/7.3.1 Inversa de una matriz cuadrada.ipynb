{
 "cells": [
  {
   "attachments": {},
   "cell_type": "markdown",
   "metadata": {},
   "source": [
    "# 7.3.1 Inversa de una matriz cuadrada"
   ]
  },
  {
   "cell_type": "markdown",
   "metadata": {},
   "source": [
    "\n",
    "**Inversa de $\\mathbf{A}\\in\\mathbb{R}^{n\\times n}$:** $\\quad$ matriz $\\mathbf{A}^{-1}$ tal que $\\;\\mathbf{A}^{-1}\\mathbf{A}=\\mathbf{I}=\\mathbf{A}\\mathbf{A}^{-1}$\n",
    "\n",
    "**Existencia:** $\\;\\mathbf{A}^{-1}$ existe sii $\\det{\\mathbf{A}}\\neq 0$; esto es, si $\\mathbf{A}$ es no singular\n",
    "\n",
    "**Propiedades:** $\\quad (\\mathbf{A}^{-1})^{-1}=\\mathbf{A} \\qquad (\\mathbf{A}\\mathbf{B})^{-1}=\\mathbf{B}^{-1}\\mathbf{A}^{-1} \\qquad (\\mathbf{A}^{-1})^t=(\\mathbf{A}^t)^{-1}=\\mathbf{A}^{-t}$\n",
    "\n",
    "**Inversa de $\\mathbf{A}=\\begin{pmatrix}a&b\\\\c&d\\end{pmatrix}:$** $\\quad \\mathbf{A}^{-1}=\\dfrac{1}{\\lvert{\\mathbf{A}}\\rvert}\\begin{pmatrix}d&-b\\\\-c&a\\end{pmatrix}$\n",
    "\n",
    "**Inversa de una diagonal por bloques:** $\\quad\\begin{pmatrix}\\mathbf{A}&\\boldsymbol{0}\\\\\\boldsymbol{0}&\\mathbf{B}\\end{pmatrix}^{-1}=\\begin{pmatrix}\\mathbf{A}^{-1}&\\boldsymbol{0}\\\\\\boldsymbol{0}&\\mathbf{B}^{-1}\\end{pmatrix}$"
   ]
  }
 ],
 "metadata": {
  "language_info": {
   "name": "python"
  },
  "orig_nbformat": 4
 },
 "nbformat": 4,
 "nbformat_minor": 2
}
