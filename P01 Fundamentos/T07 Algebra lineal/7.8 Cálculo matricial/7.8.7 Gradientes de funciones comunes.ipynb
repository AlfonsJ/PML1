{
 "cells": [
  {
   "cell_type": "markdown",
   "metadata": {},
   "source": [
    "# 7.8.7 Gradientes de funciones comunes"
   ]
  },
  {
   "cell_type": "markdown",
   "metadata": {},
   "source": [
    "## 7.8.7.1 Funciones de escalar a escalar\n",
    "**Función diferenciable:** $\\;f:\\mathbb{R}\\to\\mathbb{R}$\n",
    "$$\\begin{align*}\n",
    "\\frac{d}{dx}cx^n&=cnx^{n-1}\\\\%\n",
    "\\frac{d}{dx}\\log(x)&=1/x\\\\%\n",
    "\\frac{d}{dx}\\exp(x)&=\\exp(x)\\\\%\n",
    "\\frac{d}{dx}[f(x)+g(x)]&=\\frac{df(x)}{dx}+\\frac{dg(x)}{dx}\\\\%\n",
    "\\frac{d}{dx}[f(x)g(x)]&=f(x)\\frac{dg(x)}{dx}+g(x)\\frac{df(x)}{dx}\\\\%\n",
    "\\frac{d}{dx}f(u(x))&=\\frac{du}{dx}\\,\\frac{df(u)}{du}\\end{align*}$$\n",
    "\n",
    "**Ejercicio:** $\\;$ halla la derivada de la sigmoide, $\\displaystyle\\,\\sigma(x)=\\frac{1}{1+e^{-x}}=\\frac{e^x}{1+e^x}$\n",
    "$$\\frac{d}{dx}\\sigma(x)=-\\frac{1}{(1+e^{-x})^2}e^{-x}(-1)=\\frac{e^{-x}}{(1+e^{-x})^2}%\n",
    "=\\frac{1+e^{-x}-1}{(1+e^{-x})^2}=\\frac{1}{1+e^{-x}}-\\frac{1}{(1+e^{-x})^2}%\n",
    "=\\frac{1}{1+e^{-x}}\\left(1-\\frac{1}{1+e^{-x}}\\right)%\n",
    "=\\sigma(x)(1-\\sigma(x))$$"
   ]
  },
  {
   "cell_type": "markdown",
   "metadata": {},
   "source": [
    "## 7.8.7.2 Funciones de vector a escalar\n",
    "**Función diferenciable:** $\\;f:\\mathbb{R}^n\\to\\mathbb{R}$\n",
    "$$\\begin{align*}\n",
    "\\frac{\\partial(\\boldsymbol{a}^t\\boldsymbol{x})}{\\partial\\boldsymbol{x}}&=\\boldsymbol{a}\\\\%\n",
    "\\frac{\\partial(\\boldsymbol{b}^t\\mathbf{A}\\boldsymbol{x})}{\\partial\\boldsymbol{x}}&=\\mathbf{A}^t\\boldsymbol{b}\\\\%\n",
    "\\frac{\\partial(\\boldsymbol{x}^t\\mathbf{A}\\boldsymbol{x})}{\\partial\\boldsymbol{x}}%\n",
    "&=(\\mathbf{A}+\\mathbf{A}^t)\\boldsymbol{x}\n",
    "\\end{align*}$$"
   ]
  },
  {
   "cell_type": "markdown",
   "metadata": {},
   "source": [
    "## 7.8.7.3 Funciones de matriz a escalar\n",
    "**Función diferenciable:** $\\;f:\\mathbb{R}^{m\\times n}\\to\\mathbb{R}$\n",
    "$$\\frac{\\partial f}{\\partial\\mathbf{X}}=%\n",
    "\\begin{pmatrix}\n",
    "\\frac{\\partial f}{\\partial x_{11}}&\\cdots&%\n",
    "\\frac{\\partial f}{\\partial x_{1n}}\\\\%\n",
    "\\vdots&\\ddots&\\vdots\\\\%\n",
    "\\frac{\\partial f}{\\partial x_{m1}}&\\cdots&%\n",
    "\\frac{\\partial f}{\\partial x_{mn}}%\n",
    "\\end{pmatrix}$$\n",
    "\n",
    "**Identidades para formas cuadráticas:**\n",
    "$$\\begin{align*}\n",
    "\\frac{\\partial}{\\partial\\mathbf{X}}(\\boldsymbol{a}^t\\mathbf{X}\\boldsymbol{b})&=\\boldsymbol{a}\\boldsymbol{b}^t\\\\%\n",
    "\\frac{\\partial}{\\partial\\mathbf{X}}(\\boldsymbol{a}^t\\mathbf{X}^t\\boldsymbol{b})&=\\boldsymbol{b}\\boldsymbol{a}^t%\n",
    "\\end{align*}$$\n",
    "\n",
    "**Identidades con la traza:**\n",
    "$$\\begin{align*}\n",
    "\\frac{\\partial}{\\partial\\mathbf{X}}\\operatorname{tr}(\\mathbf{A}\\mathbf{X}\\mathbf{B})&=\\mathbf{A}^t\\mathbf{B}^t\\\\%\n",
    "\\frac{\\partial}{\\partial\\mathbf{X}}\\operatorname{tr}(\\mathbf{X}^t\\mathbf{A})&=\\mathbf{A}\\\\%\n",
    "\\frac{\\partial}{\\partial\\mathbf{X}}\\operatorname{tr}(\\mathbf{X}^{-1}\\mathbf{A})&=-\\mathbf{X}^{-t}\\mathbf{A}^t\\mathbf{X}^{-t}\\\\%\n",
    "\\frac{\\partial}{\\partial\\mathbf{X}}\\operatorname{tr}(\\mathbf{X}^t\\mathbf{A}\\mathbf{X})&=(\\mathbf{A}+\\mathbf{A}^t)\\mathbf{X}%\n",
    "\\end{align*}$$\n",
    "\n",
    "**Identidades con el determinante:**\n",
    "$$\\begin{align*}\n",
    "\\frac{\\partial}{\\partial\\mathbf{X}}\\lvert{\\mathbf{A}\\mathbf{X}\\mathbf{B}}\\rvert&=\\lvert{\\mathbf{A}\\mathbf{X}\\mathbf{B}}\\rvert\\mathbf{X}^{-t}\\\\%\n",
    "\\frac{\\partial}{\\partial\\mathbf{X}}\\ln(\\lvert{\\mathbf{X}}\\rvert)&=\\mathbf{X}^{-t}%\n",
    "\\end{align*}$$\n"
   ]
  }
 ],
 "metadata": {
  "language_info": {
   "name": "python"
  },
  "orig_nbformat": 4
 },
 "nbformat": 4,
 "nbformat_minor": 2
}
