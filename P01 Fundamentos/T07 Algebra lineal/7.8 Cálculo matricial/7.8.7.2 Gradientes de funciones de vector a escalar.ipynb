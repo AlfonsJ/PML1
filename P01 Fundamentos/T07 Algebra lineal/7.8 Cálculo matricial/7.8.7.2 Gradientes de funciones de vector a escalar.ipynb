{
 "cells": [
  {
   "cell_type": "markdown",
   "metadata": {},
   "source": [
    "# 7.8.7.2 Gradientes de funciones de vector a escalar\n",
    "\n",
    "**Función diferenciable:** $\\;f:\\mathbb{R}^n\\to\\mathbb{R}$\n",
    "$$\\frac{\\partial(\\boldsymbol{a}^t\\boldsymbol{x})}{\\partial\\boldsymbol{x}}=\\boldsymbol{a}\\qquad%\n",
    "\\frac{\\partial(\\boldsymbol{b}^t\\mathbf{A}\\boldsymbol{x})}{\\partial\\boldsymbol{x}}=\\mathbf{A}^t\\boldsymbol{b}\\qquad%\n",
    "\\frac{\\partial(\\boldsymbol{x}^t\\mathbf{A}\\boldsymbol{x})}{\\partial\\boldsymbol{x}}=(\\mathbf{A}+\\mathbf{A}^t)\\boldsymbol{x}$$"
   ]
  }
 ],
 "metadata": {
  "language_info": {
   "name": "python"
  },
  "orig_nbformat": 4
 },
 "nbformat": 4,
 "nbformat_minor": 2
}
