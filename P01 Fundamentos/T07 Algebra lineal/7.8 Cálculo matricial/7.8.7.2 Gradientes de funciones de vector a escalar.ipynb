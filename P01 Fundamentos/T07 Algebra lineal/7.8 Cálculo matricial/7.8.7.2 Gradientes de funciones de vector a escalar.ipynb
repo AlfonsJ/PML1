{
 "cells": [
  {
   "cell_type": "markdown",
   "metadata": {},
   "source": [
    "# 7.8.7.2 Gradientes de funciones de vector a escalar\n",
    "\n",
    "**Función diferenciable:** $\\;f:\\mathbb{R}^n\\to\\mathbb{R}$\n",
    "$$\\begin{align*}\n",
    "\\frac{\\partial(\\boldsymbol{a}^t\\boldsymbol{x})}{\\partial\\boldsymbol{x}}&=\\boldsymbol{a}\\\\%\n",
    "\\frac{\\partial(\\boldsymbol{b}^t\\mathbf{A}\\boldsymbol{x})}{\\partial\\boldsymbol{x}}&=\\mathbf{A}^t\\boldsymbol{b}\\\\%\n",
    "\\frac{\\partial(\\boldsymbol{x}^t\\mathbf{A}\\boldsymbol{x})}{\\partial\\boldsymbol{x}}%\n",
    "&=(\\mathbf{A}+\\mathbf{A}^t)\\boldsymbol{x}\n",
    "\\end{align*}$$"
   ]
  }
 ],
 "metadata": {
  "language_info": {
   "name": "python"
  },
  "orig_nbformat": 4
 },
 "nbformat": 4,
 "nbformat_minor": 2
}
