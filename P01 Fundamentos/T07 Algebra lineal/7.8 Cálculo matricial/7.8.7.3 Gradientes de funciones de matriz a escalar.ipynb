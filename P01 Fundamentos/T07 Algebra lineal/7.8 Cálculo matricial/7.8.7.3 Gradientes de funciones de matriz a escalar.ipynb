{
 "cells": [
  {
   "cell_type": "markdown",
   "metadata": {},
   "source": [
    "# 7.8.7.3 Gradientes de funciones de matriz a escalar\n",
    "\n",
    "**Función diferenciable:** $\\;f:\\mathbb{R}^{m\\times n}\\to\\mathbb{R}$\n",
    "$$\\frac{\\partial f}{\\partial\\mathbf{X}}=%\n",
    "\\begin{pmatrix}\n",
    "\\frac{\\partial f}{\\partial x_{11}}&\\cdots&%\n",
    "\\frac{\\partial f}{\\partial x_{1n}}\\\\%\n",
    "\\vdots&\\ddots&\\vdots\\\\%\n",
    "\\frac{\\partial f}{\\partial x_{m1}}&\\cdots&%\n",
    "\\frac{\\partial f}{\\partial x_{mn}}%\n",
    "\\end{pmatrix}$$\n",
    "\n",
    "**Identidades para formas cuadráticas:**\n",
    "$$\\begin{align*}\n",
    "\\frac{\\partial}{\\partial\\mathbf{X}}(\\boldsymbol{a}^t\\mathbf{X}\\boldsymbol{b})&=\\boldsymbol{a}\\boldsymbol{b}^t\\\\%\n",
    "\\frac{\\partial}{\\partial\\mathbf{X}}(\\boldsymbol{a}^t\\mathbf{X}^t\\boldsymbol{b})&=\\boldsymbol{b}\\boldsymbol{a}^t%\n",
    "\\end{align*}$$\n",
    "\n",
    "**Identidades con la traza:**\n",
    "$$\\begin{align*}\n",
    "\\frac{\\partial}{\\partial\\mathbf{X}}\\operatorname{tr}(\\mathbf{A}\\mathbf{X}\\mathbf{B})&=\\mathbf{A}^t\\mathbf{B}^t\\\\%\n",
    "\\frac{\\partial}{\\partial\\mathbf{X}}\\operatorname{tr}(\\mathbf{X}^t\\mathbf{A})&=\\mathbf{A}\\\\%\n",
    "\\frac{\\partial}{\\partial\\mathbf{X}}\\operatorname{tr}(\\mathbf{X}^{-1}\\mathbf{A})&=-\\mathbf{X}^{-t}\\mathbf{A}^t\\mathbf{X}^{-t}\\\\%\n",
    "\\frac{\\partial}{\\partial\\mathbf{X}}\\operatorname{tr}(\\mathbf{X}^t\\mathbf{A}\\mathbf{X})&=(\\mathbf{A}+\\mathbf{A}^t)\\mathbf{X}%\n",
    "\\end{align*}$$\n",
    "\n",
    "**Identidades con el determinante:**\n",
    "$$\\begin{align*}\n",
    "\\frac{\\partial}{\\partial\\mathbf{X}}\\lvert{\\mathbf{A}\\mathbf{X}\\mathbf{B}}\\rvert&=\\lvert{\\mathbf{A}\\mathbf{X}\\mathbf{B}}\\rvert\\mathbf{X}^{-t}\\\\%\n",
    "\\frac{\\partial}{\\partial\\mathbf{X}}\\ln(\\lvert{\\mathbf{X}}\\rvert)&=\\mathbf{X}^{-t}%\n",
    "\\end{align*}$$\n"
   ]
  }
 ],
 "metadata": {
  "language_info": {
   "name": "python"
  },
  "orig_nbformat": 4
 },
 "nbformat": 4,
 "nbformat_minor": 2
}
