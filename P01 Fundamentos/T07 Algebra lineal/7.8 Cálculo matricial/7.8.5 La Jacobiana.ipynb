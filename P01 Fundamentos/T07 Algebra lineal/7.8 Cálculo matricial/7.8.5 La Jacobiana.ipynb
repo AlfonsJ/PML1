{
 "cells": [
  {
   "cell_type": "markdown",
   "metadata": {},
   "source": [
    "# 7.8.5 La Jacobiana"
   ]
  },
  {
   "cell_type": "markdown",
   "metadata": {},
   "source": [
    "**Matriz Jacobiana:** $\\;$ de $\\boldsymbol{f}:\\mathbb{R}^n\\to\\mathbb{R}^m$\n",
    "$$\\mathbf{J}_{\\boldsymbol{f}}(\\boldsymbol{x})=\\frac{\\partial\\boldsymbol{f}}{\\partial\\boldsymbol{x}^t}%\n",
    "= \\begin{pmatrix}\\frac{\\partial f_1}{\\partial x_1} & \\cdots & \\frac{\\partial f_1}{\\partial x_n}\\\\%\n",
    "\\vdots & \\ddots & \\vdots\\\\%\n",
    "\\frac{\\partial f_m}{\\partial x_1} & \\cdots & \\frac{\\partial f_m}{\\partial x_n}%\n",
    "\\end{pmatrix}%\n",
    "=\\begin{pmatrix}\\nabla f_1(\\boldsymbol{x})^t\\\\\\vdots\\\\\\nabla f_m(\\boldsymbol{x})^t\\end{pmatrix}$$"
   ]
  },
  {
   "cell_type": "markdown",
   "metadata": {},
   "source": [
    "## 7.8.5.1 Multiplicación de Jacobianas y vectores\n",
    "\n",
    "**Producto Jacobiana-vector:** $\\;\\mathbf{J}\\in\\mathbb{R}^{m\\times n},\\;\\boldsymbol{v}\\in\\mathbb{R}^n$\n",
    "$$\\mathbf{J}_{\\boldsymbol{f}}(\\boldsymbol{x})\\boldsymbol{v}%\n",
    "=\\begin{pmatrix}\\nabla f_1(\\boldsymbol{x})^t\\\\\\vdots\\\\\\nabla f_m(\\boldsymbol{x})^t\\end{pmatrix}\\boldsymbol{v}%\n",
    "=\\begin{pmatrix}\\nabla f_1(\\boldsymbol{x})^t\\boldsymbol{v}\\\\\\vdots\\\\\\nabla f_m(\\boldsymbol{x})^t\\boldsymbol{v}\\end{pmatrix}$$\n",
    "\n",
    "\n",
    "**Producto vector-Jacobiana:** $\\;\\mathbf{J}\\in\\mathbb{R}^{m\\times n},\\;\\boldsymbol{u}\\in\\mathbb{R}^m$\n",
    "$$\\boldsymbol{u}^t\\mathbf{J}_{\\boldsymbol{f}}(\\boldsymbol{x})%\n",
    "=\\boldsymbol{u}^t\\left(\\frac{\\partial\\boldsymbol{f}}{\\partial x_1},\\dotsc,\\frac{\\partial\\boldsymbol{f}}{\\partial x_n}\\right)%\n",
    "=\\left(\\boldsymbol{u}\\frac{\\partial\\boldsymbol{f}}{\\partial x_1},\\dotsc,\\boldsymbol{u}\\frac{\\partial\\boldsymbol{f}}{\\partial x_n}\\right)$$\n"
   ]
  },
  {
   "cell_type": "markdown",
   "metadata": {},
   "source": [
    "## 7.8.5.2 Jacobiana de una composición\n",
    "\n",
    "**Jacobiana de una composición:** $\\;h(\\boldsymbol{x})=g(f(\\boldsymbol{x}))$\n",
    "$$\\mathbf{J}_h(\\boldsymbol{x})=\\mathbf{J}_g(f(\\boldsymbol{x}))\\mathbf{J}_f(\\boldsymbol{x})$$\n",
    "\n",
    "**Ejemplo:** $\\;f:\\mathbb{R}\\to\\mathbb{R}^2,\\;g:\\mathbb{R}^2\\to\\mathbb{R}^2$\n",
    "$$\\frac{\\partial\\boldsymbol{g}}{\\partial x}%\n",
    "=\\begin{pmatrix}%\n",
    "\\frac{\\partial}{\\partial x}g_1(f_1(x),f_2(x))\\\\[1mm]%\n",
    "\\frac{\\partial}{\\partial x}g_2(f_1(x),f_2(x))%\n",
    "\\end{pmatrix}%\n",
    "=\\begin{pmatrix}%\n",
    "\\frac{\\partial g_1}{\\partial f_1}\\frac{\\partial f_1}{\\partial x}+%\n",
    "\\frac{\\partial g_1}{\\partial f_2}\\frac{\\partial f_2}{\\partial x}\\\\[1mm]%\n",
    "\\frac{\\partial g_2}{\\partial f_1}\\frac{\\partial f_1}{\\partial x}+%\n",
    "\\frac{\\partial g_2}{\\partial f_2}\\frac{\\partial f_2}{\\partial x}%\n",
    "\\end{pmatrix}%\n",
    "=\\begin{pmatrix}%\n",
    "\\frac{\\partial g_1}{\\partial f_1}&\\frac{\\partial g_1}{\\partial f_2}\\\\[1mm]%\n",
    "\\frac{\\partial g_2}{\\partial f_1}&\\frac{\\partial g_2}{\\partial f_2}%\n",
    "\\end{pmatrix}%\n",
    "\\begin{pmatrix}%\n",
    "\\frac{\\partial f_1}{\\partial x}\\\\[1mm]%\n",
    "\\frac{\\partial f_2}{\\partial x}%\n",
    "\\end{pmatrix}%\n",
    "=\\frac{\\partial\\boldsymbol{g}}{\\partial\\boldsymbol{f}}\\frac{\\partial\\boldsymbol{f}}{\\partial x}$$"
   ]
  }
 ],
 "metadata": {
  "language_info": {
   "name": "python"
  },
  "orig_nbformat": 4
 },
 "nbformat": 4,
 "nbformat_minor": 2
}
