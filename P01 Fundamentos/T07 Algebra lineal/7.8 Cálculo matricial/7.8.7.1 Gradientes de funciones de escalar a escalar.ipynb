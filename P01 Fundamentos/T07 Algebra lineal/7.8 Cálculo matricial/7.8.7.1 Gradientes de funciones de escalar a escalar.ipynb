{
 "cells": [
  {
   "cell_type": "markdown",
   "metadata": {},
   "source": [
    "# 7.8.7.1 Gradientes de funciones de escalar a escalar"
   ]
  },
  {
   "cell_type": "markdown",
   "metadata": {},
   "source": [
    "**Función diferenciable:** $\\;f:\\mathbb{R}\\to\\mathbb{R}$\n",
    "$$\\begin{align*}\n",
    "\\frac{d}{dx}cx^n&=cnx^{n-1}\\\\%\n",
    "\\frac{d}{dx}\\log(x)&=1/x\\\\%\n",
    "\\frac{d}{dx}\\exp(x)&=\\exp(x)\\\\%\n",
    "\\frac{d}{dx}[f(x)+g(x)]&=\\frac{df(x)}{dx}+\\frac{dg(x)}{dx}\\\\%\n",
    "\\frac{d}{dx}[f(x)g(x)]&=f(x)\\frac{dg(x)}{dx}+g(x)\\frac{df(x)}{dx}\\\\%\n",
    "\\frac{d}{dx}f(u(x))&=\\frac{du}{dx}\\,\\frac{df(u)}{du}\\end{align*}$$"
   ]
  },
  {
   "cell_type": "markdown",
   "metadata": {},
   "source": [
    "\n",
    "**Ejercicio:** $\\;$ halla la derivada de la sigmoide, $\\displaystyle\\,\\sigma(x)=\\frac{1}{1+e^{-x}}=\\frac{e^x}{1+e^x}$\n",
    "$$\\begin{align*}\n",
    "\\frac{d}{dx}\\sigma(x)&=-\\frac{1}{(1+e^{-x})^2}e^{-x}(-1)=\\frac{e^{-x}}{(1+e^{-x})^2}\\\\\n",
    "&=\\frac{1+e^{-x}-1}{(1+e^{-x})^2}=\\frac{1}{1+e^{-x}}-\\frac{1}{(1+e^{-x})^2}\\\\\n",
    "&=\\frac{1}{1+e^{-x}}\\left(1-\\frac{1}{1+e^{-x}}\\right)\\\\\n",
    "&=\\sigma(x)(1-\\sigma(x))=\\sigma(x)\\sigma(-x)\\end{align*}$$"
   ]
  }
 ],
 "metadata": {
  "language_info": {
   "name": "python"
  },
  "orig_nbformat": 4
 },
 "nbformat": 4,
 "nbformat_minor": 2
}
