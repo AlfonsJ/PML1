{
 "cells": [
  {
   "cell_type": "markdown",
   "metadata": {},
   "source": [
    "# 7.8.7.1 Gradientes de funciones de escalar a escalar"
   ]
  },
  {
   "cell_type": "markdown",
   "metadata": {},
   "source": [
    "**Función diferenciable:** $\\;f:\\mathbb{R}\\to\\mathbb{R}$\n",
    "$$\\begin{align*}\n",
    "\\frac{d}{dx}cx^n&=cnx^{n-1}\\\\%\n",
    "\\frac{d}{dx}\\log(x)&=1/x\\\\%\n",
    "\\frac{d}{dx}e^x&=e^x\\\\%\n",
    "\\frac{d}{dx}[f(x)+g(x)]&=\\frac{df(x)}{dx}+\\frac{dg(x)}{dx}\\\\%\n",
    "\\frac{d}{dx}[f(x)g(x)]&=f(x)\\frac{dg(x)}{dx}+g(x)\\frac{df(x)}{dx}\\\\%\n",
    "\\frac{d}{dx}f(u(x))&=\\frac{df(u)}{du}\\,\\frac{du}{dx}\\end{align*}$$"
   ]
  },
  {
   "cell_type": "markdown",
   "metadata": {},
   "source": [
    "**Ejercicio:** $\\;$ halla la derivada de la sigmoide, $\\displaystyle\\,\\sigma(x)=\\frac{1}{1+e^{-x}}=\\frac{e^x}{1+e^x}$\n",
    "$$\\begin{align*}\n",
    "\\frac{d}{dx}\\sigma(x)&=-\\frac{1}{(1+e^{-x})^2}e^{-x}(-1)=\\frac{e^{-x}}{(1+e^{-x})^2}\\\\\n",
    "&=\\frac{1+e^{-x}-1}{(1+e^{-x})^2}=\\frac{1}{1+e^{-x}}-\\frac{1}{(1+e^{-x})^2}\\\\\n",
    "&=\\frac{1}{1+e^{-x}}\\left(1-\\frac{1}{1+e^{-x}}\\right)\\\\\n",
    "&=\\sigma(x)(1-\\sigma(x))=\\sigma(x)\\sigma(-x)\\end{align*}$$"
   ]
  },
  {
   "cell_type": "markdown",
   "metadata": {},
   "source": [
    "**Ejercicio:** $\\;$ halla la derivada de $\\,\\mathcal{L}(z)=\\frac{1}{2}(y-\\hat{y})^2\\,$ donde $y$ es un dato y $\\,\\hat{y}=\\sigma(z)$\n",
    "$$\\frac{d}{dz}\\mathcal{L}(z)=\\frac{d\\mathcal{L}}{d\\hat{y}}\\frac{d\\hat{y}}{dz}=(\\hat{y}-y)\\sigma(z)\\sigma(-z)$$"
   ]
  },
  {
   "cell_type": "markdown",
   "metadata": {},
   "source": [
    "**Ejercicio:** $\\;$ halla la derivada de $\\,\\mathcal{L}(x)=\\frac{1}{2}(y-\\hat{y})^2\\,$ donde $y$ es un dato, $\\,\\hat{y}=\\sigma(z)\\,$ y $\\,z=wx+b\\,$ con parámetros $w$ y $b$ dados\n",
    "$$\\frac{d}{dx}\\mathcal{L}(x)=\\frac{d\\mathcal{L}}{d\\hat{y}}\\frac{d\\hat{y}}{dz}\\frac{dz}{dx}=(\\hat{y}-y)\\sigma(z)\\sigma(-z)w$$"
   ]
  },
  {
   "cell_type": "markdown",
   "metadata": {},
   "source": [
    "**Ejercicio:** $\\;$ halla la derivada de $\\,\\mathcal{L}(w)=\\frac{1}{2}(y-\\hat{y})^2\\,$ donde $y$ es un dato, $\\,\\hat{y}=\\sigma(z)\\,$ y $\\,z=wx+b\\,$ con dato $x$ y parámetro $b$ dados\n",
    "$$\\frac{d}{dx}\\mathcal{L}(w)=\\frac{d\\mathcal{L}}{d\\hat{y}}\\frac{d\\hat{y}}{dz}\\frac{dz}{dw}=(\\hat{y}-y)\\sigma(z)\\sigma(-z)x$$"
   ]
  }
 ],
 "metadata": {
  "language_info": {
   "name": "python"
  },
  "orig_nbformat": 4
 },
 "nbformat": 4,
 "nbformat_minor": 2
}
