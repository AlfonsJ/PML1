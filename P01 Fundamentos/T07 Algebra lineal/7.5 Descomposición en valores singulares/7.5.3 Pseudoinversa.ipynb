{
 "cells": [
  {
   "attachments": {},
   "cell_type": "markdown",
   "metadata": {},
   "source": [
    "# Pseudoinversa"
   ]
  },
  {
   "cell_type": "markdown",
   "metadata": {},
   "source": [
    "## Definición\n",
    "\n",
    "**Pseudoinversa de $\\,\\mathbf{A}\\in\\mathbb{R}^{m\\times n}$:** $\\;$ generaliza la inversa a matrices rectangulares con una matriz (única) $\\;\\mathbf{A}^{\\dagger}\\in\\mathbb{R}^{n\\times m}\\;$ tal que\n",
    "$$\\begin{align*}\n",
    "&\\mathbf{A}\\mathbf{A}^{\\dagger}\\;\\text{preserva las columnas de}\\;\\mathbf{A}:\n",
    "&&\\mathbf{A}\\mathbf{A}^{\\dagger}\\mathbf{A}=\\mathbf{A}\\\\\n",
    "&\\mathbf{A}^{\\dagger}\\;\\text{actúa como una inversa débil}: \n",
    "&&\\mathbf{A}^{\\dagger}\\mathbf{A}\\mathbf{A}^{\\dagger}=\\mathbf{A}^{\\dagger}\\\\\n",
    "&\\mathbf{A}\\mathbf{A}^{\\dagger}\\;\\text{es simétrica}:\n",
    "&&(\\mathbf{A}\\mathbf{A}^{\\dagger})^t=\\mathbf{A}\\mathbf{A}^{\\dagger}\\\\\n",
    "&\\mathbf{A}^{\\dagger}\\mathbf{A}\\;\\text{también es simétrica}: \n",
    "&&(\\mathbf{A}^{\\dagger}\\mathbf{A})^t=\\mathbf{A}^{\\dagger}\\mathbf{A}\n",
    "\\end{align*}$$\n",
    "\n",
    "**Caso $m=n$ y $\\mathbf{A}$ no singular:** $\\;\\mathbf{A}^{\\dagger}=\\mathbf{A}^{-1}$\n",
    "\n",
    "**Caso $m>n$ y columnas de $\\mathbf{A}$ linealmente independientes:** $\\;\\mathbf{A}^{\\dagger}=(\\mathbf{A}^t\\mathbf{A})^{-1}\\mathbf{A}^t$\n",
    "$$\\begin{align*}\n",
    "&\\mathbf{A}^{\\dagger}\\;\\text{es inversa izquierda de}\\;\\mathbf{A}:\n",
    "&&\\mathbf{A}^{\\dagger}\\mathbf{A}=(\\mathbf{A}^t\\mathbf{A})^{-1}\\mathbf{A}^t\\mathbf{A}=\\mathbf{I}_n\\\\\n",
    "&\\mathbf{A}^{\\dagger}\\;\\text{no es inversa derecha de}\\;\\mathbf{A}:\n",
    "&&\\operatorname{range}(\\mathbf{A}\\mathbf{A}^{\\dagger})=n\\to\\mathbf{A}\\mathbf{A}^{\\dagger}\\neq\\mathbf{I}_m\n",
    "\\end{align*}$$\n",
    "\n",
    "**Caso $m<n$ y filas de $\\mathbf{A}$ linealmente independientes:** $\\;\\mathbf{A}^{\\dagger}=\\mathbf{A}^t(\\mathbf{A}\\mathbf{A}^t)^{-1}$\n",
    "$$\\begin{align*}\n",
    "&\\mathbf{A}^{\\dagger}\\;\\text{es inversa derecha de}\\;\\mathbf{A}:\n",
    "&&\\mathbf{A}\\mathbf{A}^{\\dagger}=\\mathbf{A}\\mathbf{A}^t(\\mathbf{A}\\mathbf{A}^t)^{-1}=\\mathbf{I}_m\\\\\n",
    "&\\mathbf{A}^{\\dagger}\\;\\text{no es inversa izquierda de}\\;\\mathbf{A}:\n",
    "&&\\operatorname{range}(\\mathbf{A}^{\\dagger}\\mathbf{A})=m\\to\\mathbf{A}^{\\dagger}\\mathbf{A}\\neq\\mathbf{I}_n\n",
    "\\end{align*}$$\n"
   ]
  },
  {
   "cell_type": "markdown",
   "metadata": {},
   "source": [
    "## Cálculo mediante la SVD\n",
    "\n",
    "Sea $\\,\\mathbf{A}\\in\\mathbb{R}^{m\\times n}\\,$ de rango $r=\\min(m, n)\\,$ y $\\,$ SVD $\\,\\mathbf{A}=\\mathbf{U}\\mathbf{S}\\mathbf{V}^t\\,$ con $\\,\\mathbf{S}=\\operatorname{diag}(\\sigma_1,\\dotsc,\\sigma_r,0,\\dotsc,0)$.\n",
    "\n",
    "**Cálculo de la pseudoinversa:** $\\;$ como inversa para matrices rectangulares\n",
    "$$\\mathbf{A}^{\\dagger}=\\mathbf{A}^{-1}=(\\mathbf{U}\\mathbf{S}\\mathbf{V}^t)^{-1}=\\mathbf{V}\\mathbf{S}^{-1}\\mathbf{U}^t\\quad\\text{con}\\quad\\mathbf{S}^{-1}=\\operatorname{diag}(1/\\sigma_1,\\dotsc,1/\\sigma_r,0,\\dotsc,0)$$"
   ]
  }
 ],
 "metadata": {
  "kernelspec": {
   "display_name": "Python 3",
   "language": "python",
   "name": "python3"
  },
  "language_info": {
   "codemirror_mode": {
    "name": "ipython",
    "version": 3
   },
   "file_extension": ".py",
   "mimetype": "text/x-python",
   "name": "python",
   "nbconvert_exporter": "python",
   "pygments_lexer": "ipython3",
   "version": "3.10.6"
  },
  "orig_nbformat": 4
 },
 "nbformat": 4,
 "nbformat_minor": 2
}
