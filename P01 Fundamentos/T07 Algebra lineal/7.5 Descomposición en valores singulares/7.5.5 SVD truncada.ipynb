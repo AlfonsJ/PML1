{
 "cells": [
  {
   "attachments": {},
   "cell_type": "markdown",
   "metadata": {},
   "source": [
    "# SVD truncada"
   ]
  },
  {
   "cell_type": "markdown",
   "metadata": {},
   "source": [
    "## SVD truncada\n",
    "\n",
    "**SVD $K$-truncada:** $\\;\\mathbf{\\hat{A}}_K=\\mathbf{U}_K\\mathbf{S}_K\\mathbf{V}_K^t,\\,$ aproximación de rango $K$ de $\\mathbf{A}\\in\\mathbb{R}^{m\\times n}$ construida a partir de sus $K$ mayores valores singulares, junto con sus $K$ vectores singulares asociados, izquierdos y derechos\n",
    "\n",
    "**Optimalidad de la SVD $K$-truncada:** $\\;\\mathbf{\\hat{A}}_K\\,$ es la mejor aproximación de $\\mathbf{A}$ en norma Frobenius (al cuadrado), $\\,\\lVert\\mathbf{A}-\\mathbf{\\hat{A}}_K\\rVert_F^2$"
   ]
  },
  {
   "attachments": {},
   "cell_type": "markdown",
   "metadata": {},
   "source": [
    "## PCA con la SVD\n",
    "\n",
    "Sea $\\mathbf{X}\\in\\mathbb{R}^{N\\times D}$ una matriz de datos **centrada** de matriz de covarianzas empírica $\\mathbf{\\Sigma}=\\frac{1}{N}\\mathbf{X}^t\\mathbf{X}\\,$ (simétrica y semi-definida positiva) \n",
    "\n",
    "**SVD $K$-truncada de $\\mathbf{X}$:** $\\quad\\mathbf{\\hat{X}}_K=\\mathbf{U}_K\\mathbf{S}_K\\mathbf{V}_K^t$\n",
    "\n",
    "**SVD $K$-truncada de $\\mathbf{\\Sigma}$:** $\\quad\\mathbf{\\hat{\\Sigma}}_K=\\mathbf{E}_K\\boldsymbol{\\Lambda}_K\\mathbf{E}_K^t\\;$ con $\\;\\mathbf{E}_K=\\mathbf{V}_K\\;$ y $\\;\\boldsymbol{\\Lambda}_K=\\frac{1}{N}\\mathbf{S}_K^2$\n",
    "\n",
    "**PCA de $\\mathbf{X}$ con la SVD:** $\\quad\\operatorname{PCA}(\\mathbf{X})=\\mathbf{X}\\mathbf{E}_K\\approx\\mathbf{U}_K\\mathbf{S}_K\\mathbf{V}_K^t\\mathbf{V}_K=\\mathbf{U}_K\\mathbf{S}_K\\quad$ no requiere $\\mathbf{\\Sigma}$\n",
    "\n",
    "**Reconstrucción de $\\mathbf{X}$ tras PCA:**  $\\quad\\mathbf{\\hat{X}}_K=\\operatorname{PCA}(\\mathbf{X})\\mathbf{V}_K^t$\n"
   ]
  },
  {
   "cell_type": "code",
   "execution_count": 1,
   "metadata": {},
   "outputs": [
    {
     "name": "stdout",
     "output_type": "stream",
     "text": [
      "Datos centrados:\n",
      " [[-2. -2.]\n",
      " [-1.  1.]\n",
      " [ 1. -1.]\n",
      " [ 2.  2.]] \n",
      "Componente principal 1:\n",
      " [0.70710678 0.70710678] \n",
      "Datos reducidos:\n",
      " [-2.82842712e+00  4.31373875e-16 -3.41684101e-17  2.82842712e+00]\n",
      "Datos reconstruidos:\n",
      " [[-2.00000000e+00 -2.00000000e+00]\n",
      " [ 3.05027392e-16  3.05027392e-16]\n",
      " [-2.41607145e-17 -2.41607145e-17]\n",
      " [ 2.00000000e+00  2.00000000e+00]]\n"
     ]
    }
   ],
   "source": [
    "import numpy as np\n",
    "X = np.array([ [-1, -1], [0, 2], [2, 0], [3, 3] ]).astype(float)\n",
    "X = X - np.mean(X, axis=0)\n",
    "U, S, Vt = np.linalg.svd(X)\n",
    "Xr = U[:, 0] * S[0]\n",
    "print(\"Datos centrados:\\n\", X, \"\\nComponente principal 1:\\n\", Vt[:, 0], \"\\nDatos reducidos:\\n\", Xr)\n",
    "print(\"Datos reconstruidos:\\n\", Xr.reshape(-1, 1) @ Vt[0, :].reshape(1, -1))"
   ]
  }
 ],
 "metadata": {
  "kernelspec": {
   "display_name": "Python 3",
   "language": "python",
   "name": "python3"
  },
  "language_info": {
   "codemirror_mode": {
    "name": "ipython",
    "version": 3
   },
   "file_extension": ".py",
   "mimetype": "text/x-python",
   "name": "python",
   "nbconvert_exporter": "python",
   "pygments_lexer": "ipython3",
   "version": "3.10.6"
  },
  "orig_nbformat": 4
 },
 "nbformat": 4,
 "nbformat_minor": 2
}
