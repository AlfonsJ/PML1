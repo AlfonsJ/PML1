{
 "cells": [
  {
   "attachments": {},
   "cell_type": "markdown",
   "metadata": {},
   "source": [
    "# Conceptos básicos"
   ]
  },
  {
   "attachments": {},
   "cell_type": "markdown",
   "metadata": {},
   "source": [
    "**Singular value decomposition:** $\\;$ generaliza la EVD a matrices rectangulares, del tipo $\\mathbf{A}\\in\\mathbf{R}^{m\\times n}$\n",
    "$$\\mathbf{A}=\\mathbf{U}\\mathbf{S}\\mathbf{V}^t%\n",
    "=\\sigma_1\\boldsymbol{u}_1\\boldsymbol{v}_1^t+\\cdots+\\sigma_r\\boldsymbol{u}_r\\boldsymbol{v}_r^t$$\n",
    "\n",
    "**Vectores singulares izquierdos:** $\\;\\mathbf{U}\\in\\mathbf{R}^{m\\times m}$, de columnas ortonormales, $\\mathbf{U}^t\\mathbf{U}=\\mathbf{I}$\n",
    "\n",
    "**Valores singulares:** $\\;\\mathbf{S}\\in\\mathbf{R}^{m\\times n}$ con $r=\\min(m, n)$ valores $\\sigma_i\\geq 0$ en su diagonal; ceros fuera\n",
    "\n",
    "**Vectores singulares derechos:** $\\;\\mathbf{V}\\in\\mathbf{R}^{n\\times n}$, de filas y columnas ortonormales, $\\mathbf{V}^t\\mathbf{V}=\\mathbf{V}\\mathbf{V}^t=\\mathbf{I}$\n",
    "\n",
    "**Economy sized o thin SVD:** $\\;$ ignora partes sombreadas\n",
    "\n",
    "|  $m>n $                     |  $m<n$                          |\n",
    "| --------------------------- | ------------------------------- |\n",
    "| <img src=\"Figure_7.8_A.png\" width=\"450\"/> | <img src=\"Figure_7.8_B.png\" width=\"450\"/> |"
   ]
  }
 ],
 "metadata": {
  "kernelspec": {
   "display_name": "Python 3",
   "language": "python",
   "name": "python3"
  },
  "language_info": {
   "codemirror_mode": {
    "name": "ipython",
    "version": 3
   },
   "file_extension": ".py",
   "mimetype": "text/x-python",
   "name": "python",
   "nbconvert_exporter": "python",
   "pygments_lexer": "ipython3",
   "version": "3.10.6"
  },
  "orig_nbformat": 4
 },
 "nbformat": 4,
 "nbformat_minor": 2
}
