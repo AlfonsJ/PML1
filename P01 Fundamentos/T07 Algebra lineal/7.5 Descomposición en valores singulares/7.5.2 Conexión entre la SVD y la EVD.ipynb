{
 "cells": [
  {
   "attachments": {},
   "cell_type": "markdown",
   "metadata": {},
   "source": [
    "# Conexión entre la SVD y la EVD"
   ]
  },
  {
   "cell_type": "markdown",
   "metadata": {},
   "source": [
    "## Matriz cuadrada real, simétrica y definida positiva\n",
    "\n",
    "Sea $\\mathbf{A}\\in\\mathbb{R}^{n\\times n}$ real, simétrica y definida positiva, con EVD $\\,\\mathbf{A}=\\mathbf{E}\\mathbf{\\Lambda}\\mathbf{E}^t\\,$ y $\\,$ SVD $\\,\\mathbf{A}=\\mathbf{U}\\mathbf{S}\\mathbf{V}^t$.\n",
    "\n",
    "**Valores singulares igual a propios:** $\\;\\mathbf{S}=\\mathbf{\\Lambda}$\n",
    "\n",
    "**Vectores singulares izquierdos y derechos igual a propios (salvo cambios de signo):** $\\;\\mathbf{U}=\\mathbf{V}=\\mathbf{E}$"
   ]
  },
  {
   "cell_type": "code",
   "execution_count": 1,
   "metadata": {},
   "outputs": [
    {
     "name": "stdout",
     "output_type": "stream",
     "text": [
      "EVD:\n",
      " [4. 1.] \n",
      " [[ 0.70710678 -0.70710678]\n",
      " [ 0.70710678  0.70710678]] \n",
      "\n",
      "SVD:\n",
      " [[-0.70710678 -0.70710678]\n",
      " [-0.70710678  0.70710678]] \n",
      " [4. 1.] \n",
      " [[-0.70710678 -0.70710678]\n",
      " [-0.70710678  0.70710678]]\n"
     ]
    }
   ],
   "source": [
    "import numpy as np\n",
    "X = np.array([ [-1, -1], [0, 2], [2, 0], [3, 3] ]).astype(float)\n",
    "A = np.cov(X.T, bias=True)\n",
    "L, E = np.linalg.eigh(A)\n",
    "i = L.argsort()[::-1]; L = L[i]; E = E[:,i]\n",
    "print(\"EVD:\\n\", L, \"\\n\", E, \"\\n\")\n",
    "U, S, Vt = np.linalg.svd(A) # np devuelve valores singulares en orden no creciente\n",
    "print(\"SVD:\\n\", U, \"\\n\", S, \"\\n\", Vt)"
   ]
  },
  {
   "cell_type": "markdown",
   "metadata": {},
   "source": [
    "## Matriz real arbitraria\n",
    "\n",
    "Sea $\\mathbf{A}\\in\\mathbb{R}^{m\\times n}$ real con SVD $\\;\\mathbf{A}=\\mathbf{U}\\mathbf{S}\\mathbf{V}^t$.\n",
    "\n",
    "**Vectores y valores propios de $\\mathbf{A}^t\\mathbf{A}$:** $\\;\\mathbf{V}\\;$ y $\\;\\mathbf{D}_n=\\mathbf{S}^t\\mathbf{S}$\n",
    "$$\\mathbf{A}^t\\mathbf{A}=\\mathbf{V}\\mathbf{S}^t\\mathbf{U}^t\\mathbf{U}\\mathbf{S}\\mathbf{V}^t=\\mathbf{V}(\\mathbf{S}^t\\mathbf{S})\\mathbf{V}^t\\;\\Rightarrow\\;(\\mathbf{A}^t\\mathbf{A})\\mathbf{V}=\\mathbf{V}\\mathbf{D}_n$$\n",
    "\n",
    "**Vectores y valores propios de $\\mathbf{A}\\mathbf{A}^t$:** $\\;\\mathbf{U}\\;$ y $\\;\\mathbf{D}_m=\\mathbf{S}\\mathbf{S}^t$\n",
    "$$\\mathbf{A}\\mathbf{A}^t=\\mathbf{U}\\mathbf{S}\\mathbf{V}^t\\mathbf{V}\\mathbf{S}^t\\mathbf{U}^t=\\mathbf{U}(\\mathbf{S}\\mathbf{S}^t)\\mathbf{U}^t\\;\\Rightarrow\\;(\\mathbf{A}\\mathbf{A}^t)\\mathbf{U}=\\mathbf{U}\\mathbf{D}_m$$\n",
    "\n",
    "**Thin SVD:** $\\;\\mathbf{S}\\in\\mathbb{R}^{r\\times r}\\;$ con $r=\\min(m, n),\\;$ por lo que $\\;\\mathbf{D}=\\mathbf{S}^2=\\mathbf{S}^t\\mathbf{S}=\\mathbf{S}\\mathbf{S}^t$\n",
    "\n",
    "**Existencia de la SVD:** $\\;$ la EVD no siempre existe (incluso con $\\mathbf{A}$ cuadrada); $\\;$ la SVD sí"
   ]
  }
 ],
 "metadata": {
  "kernelspec": {
   "display_name": "Python 3",
   "language": "python",
   "name": "python3"
  },
  "language_info": {
   "codemirror_mode": {
    "name": "ipython",
    "version": 3
   },
   "file_extension": ".py",
   "mimetype": "text/x-python",
   "name": "python",
   "nbconvert_exporter": "python",
   "pygments_lexer": "ipython3",
   "version": "3.10.6"
  },
  "orig_nbformat": 4
 },
 "nbformat": 4,
 "nbformat_minor": 2
}
