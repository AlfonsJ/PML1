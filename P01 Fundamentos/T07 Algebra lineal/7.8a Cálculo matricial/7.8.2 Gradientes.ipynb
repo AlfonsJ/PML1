{
 "cells": [
  {
   "cell_type": "markdown",
   "metadata": {},
   "source": [
    "# 7.8.2 Gradientes\n",
    "\n",
    "**Derivada parcial:** $\\;$ de $\\,f:\\mathbb{R}^n\\to\\mathbb{R}\\,$ respecto a $\\,x_i$\n",
    "$$\\frac{\\partial f}{\\partial x_i}=\\lim_{h\\to 0}\\frac{f(\\boldsymbol{x}+h\\boldsymbol{e}_i)-f(\\boldsymbol{x})}{h}%\n",
    "  \\qquad(\\boldsymbol{e}_i\\;\\text{es el i-ésimo vector unitario})$$\n",
    "\n",
    "**Gradiente:** $\\;$ de $f$ en un punto $\\boldsymbol{x}$\n",
    "$$\\boldsymbol{g}=\\frac{\\partial f}{\\partial\\boldsymbol{x}}=\\nabla f%\n",
    "=\\begin{pmatrix}\\frac{\\partial f}{\\partial x_1}\\\\\\vdots\\\\\\frac{\\partial f}{\\partial x_n}\\end{pmatrix}\n",
    "\\qquad\\text{o}\\qquad%\n",
    "\\boldsymbol{g}(\\boldsymbol{x}^*)=\\frac{\\partial f}{\\partial\\boldsymbol{x}}\\Biggr\\vert_{\\boldsymbol{x}^*}%\n",
    "\\quad\\text{(enfatiza que se evalúa en $\\boldsymbol{x}^*$)}$$"
   ]
  }
 ],
 "metadata": {
  "language_info": {
   "name": "python"
  },
  "orig_nbformat": 4
 },
 "nbformat": 4,
 "nbformat_minor": 2
}
