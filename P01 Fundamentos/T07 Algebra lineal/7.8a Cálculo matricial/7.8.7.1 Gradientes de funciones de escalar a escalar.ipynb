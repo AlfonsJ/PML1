{
 "cells": [
  {
   "cell_type": "markdown",
   "metadata": {},
   "source": [
    "# 7.8.7.1 Gradientes de funciones de escalar a escalar"
   ]
  },
  {
   "cell_type": "markdown",
   "metadata": {},
   "source": [
    "**Función diferenciable:** $\\;f:\\mathbb{R}\\to\\mathbb{R}$\n",
    "$$\\begin{align*}\n",
    "\\frac{d}{dx}cx^n&=cnx^{n-1}\\\\%\n",
    "\\frac{d}{dx}\\log(x)&=1/x\\\\%\n",
    "\\frac{d}{dx}e^x&=e^x\\\\%\n",
    "\\frac{d}{dx}[f(x)+g(x)]&=\\frac{df(x)}{dx}+\\frac{dg(x)}{dx}\\\\%\n",
    "\\frac{d}{dx}[f(x)g(x)]&=f(x)\\frac{dg(x)}{dx}+g(x)\\frac{df(x)}{dx}\\\\%\n",
    "\\frac{d}{dx}f(u(x))&=\\frac{df(u)}{du}\\,\\frac{du}{dx}\\end{align*}$$"
   ]
  }
 ],
 "metadata": {
  "language_info": {
   "name": "python"
  },
  "orig_nbformat": 4
 },
 "nbformat": 4,
 "nbformat_minor": 2
}
