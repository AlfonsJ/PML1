{
 "cells": [
  {
   "cell_type": "markdown",
   "metadata": {},
   "source": [
    "# 7.8.6 La Hessiana"
   ]
  },
  {
   "cell_type": "markdown",
   "metadata": {},
   "source": [
    "**Matriz Hessiana:** $\\;$ de $f:\\mathbb{R}^n\\to\\mathbb{R}\\;$ es la Jacobiana del gradiente\n",
    "$$\\mathbf{H}_f=\\frac{\\partial^2f}{\\partial\\boldsymbol{x}^2}=\\nabla^2f%\n",
    "=\\begin{pmatrix}\n",
    "\\frac{\\partial^2f}{\\partial x_1^2}&\\cdots%\n",
    "&\\frac{\\partial^2f}{\\partial x_1\\partial x_n}\\\\%\n",
    "\\vdots&\\ddots&\\vdots\\\\%\n",
    "\\frac{\\partial^2f}{\\partial x_n\\partial x_1}&\\cdots%\n",
    "&\\frac{\\partial^2f}{\\partial x_n^2}%\n",
    "\\end{pmatrix}$$"
   ]
  }
 ],
 "metadata": {
  "language_info": {
   "name": "python"
  },
  "orig_nbformat": 4
 },
 "nbformat": 4,
 "nbformat_minor": 2
}
