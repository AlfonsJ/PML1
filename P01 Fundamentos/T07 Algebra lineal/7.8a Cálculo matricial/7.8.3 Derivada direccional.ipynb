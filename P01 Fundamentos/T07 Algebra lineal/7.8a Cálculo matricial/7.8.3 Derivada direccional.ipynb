{
 "cells": [
  {
   "cell_type": "markdown",
   "metadata": {},
   "source": [
    "# 7.8.3 Derivada direccional\n",
    "\n",
    "**Derivada direccional** de $f:\\mathbb{R}^n\\to\\mathbb{R}$ en la dirección $\\boldsymbol{v}$:\n",
    "$$D_{\\boldsymbol{v}}f(\\boldsymbol{x})=\\lim_{h\\to 0}\\frac{f(\\boldsymbol{x}+h\\boldsymbol{v})-f(\\boldsymbol{x})}{h}$$\n",
    "\n",
    "**Aproximación numérica con dos llamadas a $f$:** $\\;$ frente a las  $n+1$ llamadas para aproximar el gradiente\n",
    "\n",
    "**Cálculo a partir del gradiente:**\n",
    "$$D_{\\boldsymbol{v}}f(\\boldsymbol{x})=\\boldsymbol{\\nabla} f(\\boldsymbol{x})\\,\\boldsymbol{v}$$"
   ]
  }
 ],
 "metadata": {
  "language_info": {
   "name": "python"
  },
  "orig_nbformat": 4
 },
 "nbformat": 4,
 "nbformat_minor": 2
}
