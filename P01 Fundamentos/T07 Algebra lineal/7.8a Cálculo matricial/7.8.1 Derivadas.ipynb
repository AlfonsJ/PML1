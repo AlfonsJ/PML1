{
 "cells": [
  {
   "cell_type": "markdown",
   "metadata": {},
   "source": [
    "# 7.8.1 Derivadas\n",
    "\n",
    "**Derivada:** $\\;$ de una función $f:\\mathbb{R}\\to\\mathbb{R}$ en un punto\n",
    "$$f'(x)=\\lim_{h\\to 0}\\frac{f(x+h)-f(x)}{h}$$\n",
    "\n",
    "**Interpretación geométrica:** $\\;f'(x)$ puede verse como la pendiente de la línea tangente en $f(x)$\n",
    "$$f(x+h)\\approx f(x)+f'(x)\\,h$$\n",
    "\n",
    "**Aproximaciones a la derivada de diferencia finita:** $\\;$ dado un $h>0$ pequeño\n",
    "$$\\begin{align*}\n",
    "f'(x)&\\approx\\frac{f(x+h)-f(x)}{h}&&(\\text{diferencia forward})\\\\%\n",
    "f'(x)&\\approx\\frac{f(x+h/2)-f(x-h/2)}{h}&&(\\text{diferencia central})\\\\%\n",
    "f'(x)&\\approx\\frac{f(x)-f(x-h)}{h}&&(\\text{diferencia backward})%\n",
    "\\end{align*}$$\n",
    "\n",
    "**La diferenciación es un operador funcional:** $\\;D(f)=f'$\n",
    "\n",
    "**Notación de Lagrange:** $\\;f'$ denota la derivada; $\\;f''$ la segunda; $\\;f^{(n)}$ la $n$-ésima\n",
    "\n",
    "**Notación de Leibinz:** $\\;$ si $\\;y=f(x)\\,$ es una función, $\\;\\displaystyle\\frac{dy}{dx}\\;$ o $\\;\\displaystyle\\frac{d}{dx}f(x)\\,$ es su derivada y $\\;\\displaystyle\\frac{df}{dx}\\Bigr\\vert_{x=a}\\,$ su derivada en un punto $a$"
   ]
  }
 ],
 "metadata": {
  "language_info": {
   "name": "python"
  },
  "orig_nbformat": 4
 },
 "nbformat": 4,
 "nbformat_minor": 2
}
