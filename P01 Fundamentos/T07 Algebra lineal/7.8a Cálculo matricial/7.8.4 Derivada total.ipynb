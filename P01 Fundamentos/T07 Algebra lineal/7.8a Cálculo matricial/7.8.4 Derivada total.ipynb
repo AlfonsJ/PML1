{
 "cells": [
  {
   "cell_type": "markdown",
   "metadata": {},
   "source": [
    "# 7.8.4 Derivada total\n",
    "\n",
    "**Derivada total:** $\\;$ de una función $f(t, x(t), y(t))$ con respecto a $t$\n",
    "$$\\frac{df}{dt}=\\frac{\\partial f}{\\partial t}%\n",
    "+\\frac{\\partial f}{\\partial x}\\frac{dx}{dt}%\n",
    "+\\frac{\\partial f}{\\partial y}\\frac{dy}{dt}$$\n",
    "\n",
    "**Diferencial total:** $\\;$ multiplicando a ambos por el diferencial $dt$\n",
    "$$df=\\frac{\\partial f}{\\partial t}dt+\\frac{\\partial f}{\\partial x}dx+\\frac{\\partial f}{\\partial y}dy$$"
   ]
  }
 ],
 "metadata": {
  "language_info": {
   "name": "python"
  },
  "orig_nbformat": 4
 },
 "nbformat": 4,
 "nbformat_minor": 2
}
