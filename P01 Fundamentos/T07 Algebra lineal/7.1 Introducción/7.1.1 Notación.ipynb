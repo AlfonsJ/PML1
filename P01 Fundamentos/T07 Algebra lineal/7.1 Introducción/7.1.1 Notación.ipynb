{
 "cells": [
  {
   "attachments": {},
   "cell_type": "markdown",
   "metadata": {},
   "source": [
    "# 7.1.1 Notación"
   ]
  },
  {
   "attachments": {},
   "cell_type": "markdown",
   "metadata": {},
   "source": [
    "## Vectores\n",
    "\n",
    "**Vector $\\boldsymbol{x}\\in\\mathbb{R}^n$:** $\\;$ suponemos que es vector columna\n",
    "$$\\boldsymbol{x}=(x_1, x_2, \\dotsc, x_n)^t$$\n",
    "\n",
    "**Vector de todo unos y todo ceros:** $\\quad\\boldsymbol{1}\\quad\\boldsymbol{0}$\n",
    "\n",
    "**Vector unitario $\\boldsymbol{e}_i$** o **one-hot:** $\\;$ todo ceros salvo un uno en la posición $i$\n",
    "$$\\boldsymbol{e}_i=(0,\\dotsc,0,1,0,\\dotsc,0)^t$$"
   ]
  },
  {
   "attachments": {},
   "cell_type": "markdown",
   "metadata": {},
   "source": [
    "## Matrices\n",
    "\n",
    "**Matriz $\\mathbf{A}\\in\\mathbb{R}^{m\\times n}$:** $\\;$ **cuadrada** si $m=n$\n",
    "$$\\mathbf{A}=\\begin{bmatrix}\n",
    "a_{11} & a_{12} & \\cdots & a_{1n}\\\\%\n",
    "a_{21} & a_{22} & \\cdots & a_{2n}\\\\%\n",
    "\\vdots & \\vdots & \\ddots & \\vdots\\\\%\n",
    "a_{m1} & a_{m2} & \\cdots & a_{mn}%\n",
    "\\end{bmatrix}$$\n",
    "\n",
    "**Entrada de la $i$-ésima fila y $j$-ésima columna:** $\\;A_{ij}$ o $A_{i,j}$\n",
    "\n",
    "**Fila $i$-ésima y columna $j$-ésima:** $\\;\\mathbf{A}_{i,:}$ y $\\mathbf{A}_{:,j}$: \n",
    "\n",
    "\n",
    "**Matriz vista por filas:** $\\;\\mathbf{A}=[\\mathbf{A}_{1,:};\\;\\mathbf{A}_{2,:};\\;\\dotsc;\\;\\mathbf{A}_{n,:}]$\n",
    "\n",
    "**Matriz vista por columnas:** $\\;\\mathbf{A}=[\\mathbf{A}_{:,1},\\;\\mathbf{A}_{:,2},\\;\\dotsc,\\;\\mathbf{A}_{:,n}]$\n",
    "\n",
    "**Transpuesta de $\\mathbf{A}\\in\\mathbb{R}^{m\\times n}$:** $\\;\\mathbf{A}^t\\in\\mathbb{R}^{n\\times m}$ tal que $(\\mathbf{A}^t)_{ij}=A_{ji}$, cumple\n",
    "$$\\begin{align*}\n",
    "(\\mathbf{A}^t)^t&=\\mathbf{A}\\\\%\n",
    "(\\mathbf{A}\\mathbf{B})^t&=\\mathbf{B}^t\\mathbf{A}^t\\\\%\n",
    "(\\mathbf{A}+\\mathbf{B})^t&=\\mathbf{A}^t+\\mathbf{B}^t%\n",
    "\\end{align*}$$\n",
    "\n",
    "**Matriz simétrica:** $\\;$ matriz cuadrada $\\mathbf{A}$ tal que $\\mathbf{A}=\\mathbf{A}^t$; $\\;\\mathbb{S}^n$ denota todas las matrices simétricas de talla $n$\n",
    "\n",
    "**Reformato de matriz a vector:** $\\;\\operatorname{vec}(\\mathbf{A})=[\\mathbf{A}_{:,1};\\;\\mathbf{A}_{:,2};\\;\\cdots;\\;\\mathbf{A}_{:,n}]\\in\\mathbf{R}^{mn\\times 1}$\n",
    "\n",
    "**Reformato de vector a matriz:** puede ser por filas (python, C++) o por columnas (julia, octave, R, fortran)"
   ]
  },
  {
   "attachments": {},
   "cell_type": "markdown",
   "metadata": {},
   "source": [
    "## Tensores\n",
    "\n",
    "**Tensor:** generalización de matriz a tres o más dimensiones\n",
    "\n",
    "**Orden** o **rango:** dimensiones (concepto distinto en matrices)"
   ]
  },
  {
   "attachments": {},
   "cell_type": "markdown",
   "metadata": {},
   "source": [
    "**Ejemplo:** vector 8-dimensional reformatado como matriz y tensor"
   ]
  },
  {
   "cell_type": "code",
   "execution_count": 1,
   "metadata": {},
   "outputs": [
    {
     "name": "stdout",
     "output_type": "stream",
     "text": [
      "[0 1 2 3 4 5 6 7] (8,)\n",
      "[[0 1 2 3]\n",
      " [4 5 6 7]] (2, 4)\n",
      "[[[0 1]\n",
      "  [2 3]]\n",
      "\n",
      " [[4 5]\n",
      "  [6 7]]] (2, 2, 2)\n"
     ]
    }
   ],
   "source": [
    "import numpy as np\n",
    "a = np.arange(8)\n",
    "print(a, a.shape)\n",
    "a2d = a.reshape([2, -1])\n",
    "print(a2d, a2d.shape)\n",
    "a3d = a.reshape([2, 2, -1])\n",
    "print(a3d, a3d.shape)\n"
   ]
  }
 ],
 "metadata": {
  "kernelspec": {
   "display_name": "Python 3",
   "language": "python",
   "name": "python3"
  },
  "language_info": {
   "codemirror_mode": {
    "name": "ipython",
    "version": 3
   },
   "file_extension": ".py",
   "mimetype": "text/x-python",
   "name": "python",
   "nbconvert_exporter": "python",
   "pygments_lexer": "ipython3",
   "version": "3.10.6"
  },
  "orig_nbformat": 4
 },
 "nbformat": 4,
 "nbformat_minor": 2
}
