{
 "cells": [
  {
   "attachments": {},
   "cell_type": "markdown",
   "metadata": {},
   "source": [
    "# 7.1.2 Espacios vectoriales"
   ]
  },
  {
   "attachments": {},
   "cell_type": "markdown",
   "metadata": {},
   "source": [
    "## Suma y escalado de vectores\n",
    "\n",
    "**Espacio vectorial:** $\\;$ conjunto de **vectores** que pueden sumarse entre ellos y escalarse (multiplicarse) por **escalares**"
   ]
  },
  {
   "attachments": {},
   "cell_type": "markdown",
   "metadata": {},
   "source": [
    "## Independencia lineal, span y base\n",
    "\n",
    "**Independencia lineal:** $\\;$ $\\{\\boldsymbol{x}_1,\\dotsc,\\boldsymbol{x}_n\\}$ es **linealmente independiente** si ninguno puede representarse como combinación lineal del resto\n",
    "\n",
    "**Span** de $\\{\\boldsymbol{x}_1,\\dotsc,\\boldsymbol{x}_n\\}$: $\\;$ $\\;\\operatorname{span}(\\{\\boldsymbol{x}_1,\\dotsc,\\boldsymbol{x}_n\\})=\\left\\{\\boldsymbol{v}:\\boldsymbol{v}=\\sum_{i=1}^n\\alpha_i\\boldsymbol{x}_i,\\;\\alpha_i\\in\\mathbb{R}\\right\\}$\n",
    "\n",
    "**Base $\\mathcal{B}$:** $\\;$ $\\;\\operatorname{span}(\\mathcal{B})=\\mathbb{R}^n$\n",
    "\n",
    "**Base estándar o canónica:** $\\;$ $\\;\\mathcal{B}=\\{\\boldsymbol{e}_1=(1,0,\\dotsc,0)^t,\\dotsc,\\boldsymbol{e}_n=(0,0,\\dotsc,1)^t\\}$"
   ]
  },
  {
   "attachments": {},
   "cell_type": "markdown",
   "metadata": {},
   "source": [
    "## Transformaciones lineales y matrices\n",
    "\n",
    "**Transformación lineal:** $\\;f:\\mathcal{V}\\to\\mathcal{W}\\;$ tal que $\\;f(\\boldsymbol{v}+\\boldsymbol{w})=f(\\boldsymbol{v})+f(\\boldsymbol{w})\\;$ y $\\;f(a\\boldsymbol{v})=af(\\boldsymbol{v})\\;$ para todo $\\;\\boldsymbol{v},\\boldsymbol{w}\\in\\mathcal{V}$\n",
    "\n",
    "**Representación matricial:** $\\;f:\\mathbb{R}^n\\to\\mathbb{R}^m\\;$ con $\\;\\mathbf{A}\\in\\mathbb{R}^{m\\times n}\\;$ tal que $\\;\\boldsymbol{y}=\\mathbf{A}\\boldsymbol{x}$"
   ]
  },
  {
   "attachments": {},
   "cell_type": "markdown",
   "metadata": {},
   "source": [
    "## Rango y espacio nulo de una matriz\n",
    "\n",
    "**Rango, espacio columna o imagen de $\\mathbf{A}^{m\\times n}$:** $\\;$ $\\;\\operatorname{range}(\\mathbf{A})=\\{\\boldsymbol{v}\\in\\mathbb{R}^m:\\boldsymbol{v}=\\mathbf{A}\\boldsymbol{x},\\;\\boldsymbol{x}\\in\\mathbb{R}^n\\}$\n",
    "\n",
    "**Espacio nulo o núcleo de $\\mathbf{A}^{m\\times n}$:** $\\;$ $\\operatorname{nullspace}(\\mathbf{A})=\\{\\boldsymbol{x}\\in\\mathbb{R}^n:\\mathbf{A}\\boldsymbol{x}=\\boldsymbol{0}\\}$"
   ]
  },
  {
   "attachments": {},
   "cell_type": "markdown",
   "metadata": {},
   "source": [
    "## Proyección lineal\n",
    "\n",
    "**Proyección de $\\boldsymbol{y}\\in\\mathbb{R}^m$ en el span de $\\{\\boldsymbol{x}_1,\\dotsc,\\boldsymbol{x}_n\\in\\mathbb{R}^m\\}:$** $$\\operatorname{Proj}(\\boldsymbol{y};\\{\\boldsymbol{x}_1,\\dotsc,\\boldsymbol{x}_n\\})=\\operatorname*{argmin}_{\\boldsymbol{v}\\in\\operatorname{span}(\\{\\boldsymbol{x}_1,\\dotsc,\\boldsymbol{x}_n\\})}\\lVert{\\boldsymbol{y}-\\boldsymbol{v}}\\rVert_2$$\n",
    "\n",
    "**Proyección de $\\boldsymbol{y}\\in\\mathbb{R}^m$ en el span de $\\mathbf{A}\\in\\mathbb{R}^{m\\times n}$:** $$\\operatorname{Proj}(\\boldsymbol{y};\\mathbf{A})=\\operatorname*{argmin}_{\\boldsymbol{v}\\in\\operatorname{range}(\\mathbf{A})}\\lVert{\\boldsymbol{y}-\\boldsymbol{v}}\\rVert_2=\\operatorname{Proj}(\\mathbf{A})\\,\\boldsymbol{y}\\quad\\text{con}\\quad\\operatorname{Proj}(\\mathbf{A})=\\mathbf{A}(\\mathbf{A}^t\\mathbf{A})^{-1}\\mathbf{A}^t$$"
   ]
  }
 ],
 "metadata": {
  "kernelspec": {
   "display_name": "Python 3",
   "language": "python",
   "name": "python3"
  },
  "language_info": {
   "codemirror_mode": {
    "name": "ipython",
    "version": 3
   },
   "file_extension": ".py",
   "mimetype": "text/x-python",
   "name": "python",
   "nbconvert_exporter": "python",
   "pygments_lexer": "ipython3",
   "version": "3.10.6"
  },
  "orig_nbformat": 4
 },
 "nbformat": 4,
 "nbformat_minor": 2
}
