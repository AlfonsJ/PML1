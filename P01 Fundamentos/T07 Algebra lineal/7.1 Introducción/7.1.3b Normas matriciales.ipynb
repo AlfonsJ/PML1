{
 "cells": [
  {
   "attachments": {},
   "cell_type": "markdown",
   "metadata": {},
   "source": [
    "# 7.1.3b Normas matriciales"
   ]
  },
  {
   "attachments": {},
   "cell_type": "markdown",
   "metadata": {},
   "source": [
    "Suponemos $\\mathbf{A}\\in\\mathbb{R}^{m\\times n}$ y la interpretamos como función lineal $f(\\boldsymbol{x})=\\mathbf{A}\\boldsymbol{x}$  \n",
    "\n",
    "**Norma inducida por Lp:** $\\quad\\lVert{\\mathbf{A}}\\rVert_p=\\max\\limits_{\\boldsymbol{x}\\neq\\boldsymbol{0}}\\;\\frac{\\lVert{\\mathbf{A}\\boldsymbol{x}}\\rVert_p}{\\lVert{\\boldsymbol{x}}\\rVert_p}=\\max\\limits_{\\lVert{x}\\rVert_p=1}\\;\\lVert{\\mathbf{A}\\boldsymbol{x}}\\rVert_p$\n",
    "$\\quad$ (máxima ganancia en la dirección de $\\boldsymbol{x}$)\n",
    "\n",
    "**Norma inducida por L2:** $\\quad\\lVert{\\mathbf{A}}\\rVert_2=\\sqrt{\\lambda_{\\text{max}}(\\mathbf{A}^t\\mathbf{A})}=\\sigma_{\\text{max}}(\\mathbf{A})\\quad$ (máximo valor singular de $\\mathbf{A}$)\n",
    "\n",
    "**Norma nuclear o traza:** $\\quad\\lVert{\\mathbf{A}}\\rVert_*=\\operatorname{tr}(\\sqrt{\\mathbf{A}^t\\mathbf{A}})=\\sum_i\\sigma_i=\\sum_i\\lvert{\\sigma_i}\\rvert=\\lVert{\\boldsymbol{\\sigma}}\\rVert_1$\n",
    "\n",
    "**p-norma de Schatten:** $\\quad\\lVert{\\mathbf{A}}\\rVert_p=\\left(\\sum_i\\sigma_i^p(\\mathbf{A})\\right)^{1/p}\\quad p\\in\\mathbb{R}^{\\geq 1}$\n",
    "\n",
    "**Norma vectorial:** $\\quad\\lVert{\\mathbf{A}}\\rVert=\\lVert{\\operatorname{vec}(\\mathbf{A})}\\rVert$\n",
    "\n",
    "**Norma de Frobenius:** $\\quad\\lVert{\\mathbf{A}}\\rVert_F=\\lVert{\\operatorname{vec}(\\mathbf{A})}\\rVert_2=\\sqrt{\\sum_{i=1}^m\\sum_{j=1}^na_{ij}^2}=\\sqrt{\\operatorname{tr}(\\mathbf{A}^t\\mathbf{A})}$\n",
    "\n"
   ]
  },
  {
   "cell_type": "code",
   "execution_count": 1,
   "metadata": {},
   "outputs": [
    {
     "name": "stdout",
     "output_type": "stream",
     "text": [
      "p = 2: 1.0\n",
      "p = 1: 1.0\n",
      "p = inf: 1.0\n",
      "p = fro: 1.4142135623730951\n"
     ]
    }
   ],
   "source": [
    "import numpy as np\n",
    "A = np.array([[1, 0], [0, 1]])\n",
    "for p in (2, 1, np.inf, 'fro'):\n",
    "    print(f'p = {p}: {np.linalg.norm(A, p)}')"
   ]
  }
 ],
 "metadata": {
  "kernelspec": {
   "display_name": "Python 3",
   "language": "python",
   "name": "python3"
  },
  "language_info": {
   "codemirror_mode": {
    "name": "ipython",
    "version": 3
   },
   "file_extension": ".py",
   "mimetype": "text/x-python",
   "name": "python",
   "nbconvert_exporter": "python",
   "pygments_lexer": "ipython3",
   "version": "3.11.6"
  },
  "orig_nbformat": 4
 },
 "nbformat": 4,
 "nbformat_minor": 2
}
