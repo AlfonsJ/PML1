{
 "cells": [
  {
   "cell_type": "markdown",
   "metadata": {},
   "source": [
    "# 7.8b.7 Transformaciones elementales"
   ]
  },
  {
   "cell_type": "markdown",
   "metadata": {},
   "source": [
    "**Transformación elemental genérica:** $\\quad\\boldsymbol{x}\\in\\mathbb{R}^{n},\\;\\boldsymbol{y}=\\boldsymbol{\\varphi}(\\boldsymbol{x}),\\;\\boldsymbol{\\varphi}(\\boldsymbol{x})=(\\varphi(x_1),\\dotsc,\\varphi(x_n))^t,\\;\\varphi:\\mathbb{R}\\to\\mathbb{R}\\;$ derivable\n",
    "\n",
    "$$\\frac{\\partial\\boldsymbol{y}}{\\partial\\boldsymbol{x}}=\\begin{pmatrix}\\dfrac{\\partial y_1}{\\partial\\boldsymbol{x}}\\\\[1mm]\\vdots\\\\\\dfrac{\\partial y_n}{\\partial\\boldsymbol{x}}\\end{pmatrix}=\\begin{pmatrix}\\dfrac{\\partial y_1}{\\partial x_1}&\\cdots&\\dfrac{\\partial y_1}{\\partial x_n}\\\\[1mm]\\vdots&\\ddots&\\vdots\\\\\\dfrac{\\partial y_n}{\\partial x_1}&\\cdots&\\dfrac{\\partial y_n}{\\partial x_n}\\end{pmatrix}=\\begin{pmatrix}\\dfrac{\\partial\\varphi(x_1)}{\\partial x_1}&\\cdots&\\dfrac{\\partial\\varphi(x_1)}{\\partial x_n}\\\\[1mm]\\vdots&\\ddots&\\vdots\\\\\\dfrac{\\partial\\varphi(x_n)}{\\partial x_1}&\\cdots&\\dfrac{\\partial\\varphi(x_n)}{\\partial x_n}\\end{pmatrix}=\\operatorname{diag}(\\boldsymbol{\\varphi}'(\\boldsymbol{x}))\\in\\mathbb{R}^{n\\times n}$$\n",
    "\n",
    "**Transformación identidad:** $\\displaystyle\\quad\\varphi(x)=x\\quad\\to\\quad\\frac{\\partial\\boldsymbol{y}}{\\partial\\boldsymbol{x}}=\\mathbf{I}_{n}$\n",
    "\n",
    "**Sigmoide:** $\\displaystyle\\quad\\sigma(x)=\\frac{1}{1+e^{-x}}\\quad\\to\\quad\\frac{\\partial\\boldsymbol{y}}{\\partial\\boldsymbol{x}}=\\operatorname{diag}(\\sigma(x_1)\\sigma(-x_1),\\dotsc,\\sigma(x_n)\\sigma(-x_n))$\n",
    "\n",
    "**ReLU:** $\\displaystyle\\quad\\varphi(x)=\\operatorname{ReLU}(x)=\\max(x,0)\\quad\\to\\quad\\frac{\\partial\\boldsymbol{y}}{\\partial\\boldsymbol{x}}=\\operatorname{diag}(\\mathbb{I}(x_1>0),\\dotsc,\\mathbb{I}(x_n>0))$"
   ]
  }
 ],
 "metadata": {
  "language_info": {
   "name": "python"
  },
  "orig_nbformat": 4
 },
 "nbformat": 4,
 "nbformat_minor": 2
}
