{
 "cells": [
  {
   "cell_type": "markdown",
   "metadata": {},
   "source": [
    "# 7.8b.2 Identidades para escalares"
   ]
  },
  {
   "cell_type": "markdown",
   "metadata": {},
   "source": [
    "**Identidades:** $\\;a\\,$ constante; $\\;u\\,$ y $\\,v\\,$ funciones reales de $\\,x\\in\\mathbb{R}^{1\\times 1},\\,$ $\\boldsymbol{x}\\in\\mathbb{R}^{n\\times 1}\\,$ o $\\,\\mathbf{X}\\in\\mathbb{R}^{p\\times q}$\n",
    "\n",
    "|$y\\in\\mathbb{R}^{1\\times 1}$|$\\dfrac{\\partial y}{\\partial x}\\in\\mathbb{R}^{1\\times 1}$|$\\dfrac{\\partial y}{\\partial\\boldsymbol{x}}\\in\\mathbb{R}^{1\\times n}$|$\\dfrac{\\partial y}{\\partial\\mathbf{X}}\\in\\mathbb{R}^{q\\times p}$|\n",
    "|:-:|:-:|:-:|:-:|\n",
    "|$a$|$0$|$\\boldsymbol{0}$|$\\mathbf{0}$|\n",
    "|$au$|$a\\dfrac{\\partial u}{\\partial x}$|$a\\dfrac{\\partial u}{\\partial\\boldsymbol{x}}$|$a\\dfrac{\\partial u}{\\partial\\mathbf{X}}$|\n",
    "|$u+v$|$\\dfrac{\\partial u}{\\partial x}+\\dfrac{\\partial v}{\\partial x}$|$\\dfrac{\\partial u}{\\partial\\boldsymbol{x}}+\\dfrac{\\partial v}{\\partial\\boldsymbol{x}}$|$\\dfrac{\\partial u}{\\partial\\mathbf{X}}+\\dfrac{\\partial v}{\\partial\\mathbf{X}}$|\n",
    "|$uv$|$u\\dfrac{\\partial v}{\\partial x}+v\\dfrac{\\partial u}{\\partial x}$|$u\\dfrac{\\partial v}{\\partial\\boldsymbol{x}}+v\\dfrac{\\partial u}{\\partial\\boldsymbol{x}}$|$u\\dfrac{\\partial v}{\\partial\\mathbf{X}}+v\\dfrac{\\partial u}{\\partial\\mathbf{X}}$|\n",
    "|$g(u)$|$\\dfrac{\\partial g(u)}{\\partial u}\\dfrac{\\partial u}{\\partial x}$|$\\dfrac{\\partial g(u)}{\\partial u}\\dfrac{\\partial u}{\\partial\\boldsymbol{x}}$|$\\dfrac{\\partial g(u)}{\\partial u}\\dfrac{\\partial u}{\\partial\\mathbf{X}}$|\n",
    "|$f(g(u))$|$\\dfrac{\\partial f(g)}{\\partial g}\\dfrac{\\partial g(u)}{\\partial u}\\dfrac{\\partial u}{\\partial x}$|$\\dfrac{\\partial f(g)}{\\partial g}\\dfrac{\\partial g(u)}{\\partial u}\\dfrac{\\partial u}{\\partial\\boldsymbol{x}}$|$\\dfrac{\\partial f(g)}{\\partial g}\\dfrac{\\partial g(u)}{\\partial u}\\dfrac{\\partial u}{\\partial\\mathbf{X}}$|"
   ]
  }
 ],
 "metadata": {
  "language_info": {
   "name": "python"
  },
  "orig_nbformat": 4
 },
 "nbformat": 4,
 "nbformat_minor": 2
}
