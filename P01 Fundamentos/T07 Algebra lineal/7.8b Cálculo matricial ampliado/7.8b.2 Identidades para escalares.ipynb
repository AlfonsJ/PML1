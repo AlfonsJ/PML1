{
 "cells": [
  {
   "cell_type": "markdown",
   "metadata": {},
   "source": [
    "# 7.8b.2 Identidades para escalares"
   ]
  },
  {
   "cell_type": "markdown",
   "metadata": {},
   "source": [
    "**Identidades:** $\\;a\\,$ constante; $\\;u\\,$ y $\\,v\\,$ funciones reales de $\\,x\\in\\mathbb{R}^{1\\times 1},\\,$ $\\boldsymbol{x}\\in\\mathbb{R}^{n\\times 1}\\,$ o $\\,\\mathbf{X}\\in\\mathbb{R}^{p\\times q}$\n",
    "\n",
    "|$y\\in\\mathbb{R}^{1\\times 1}$|$\\dfrac{\\partial y}{\\partial x}\\in\\mathbb{R}^{1\\times 1}$|$\\dfrac{\\partial y}{\\partial\\boldsymbol{x}}\\in\\mathbb{R}^{1\\times n}$|$\\dfrac{\\partial y}{\\partial\\mathbf{X}}\\in\\mathbb{R}^{q\\times p}$|\n",
    "|:-:|:-:|:-:|:-:|\n",
    "|$a$|$0$|$\\boldsymbol{0}$|$\\mathbf{0}$|\n",
    "|$au$|$a\\dfrac{\\partial u}{\\partial x}$|$a\\dfrac{\\partial u}{\\partial\\boldsymbol{x}}$|$a\\dfrac{\\partial u}{\\partial\\mathbf{X}}$|\n",
    "|$u+v$|$\\dfrac{\\partial u}{\\partial x}+\\dfrac{\\partial v}{\\partial x}$|$\\dfrac{\\partial u}{\\partial\\boldsymbol{x}}+\\dfrac{\\partial v}{\\partial\\boldsymbol{x}}$|$\\dfrac{\\partial u}{\\partial\\mathbf{X}}+\\dfrac{\\partial v}{\\partial\\mathbf{X}}$|\n",
    "|$uv$|$u\\dfrac{\\partial v}{\\partial x}+v\\dfrac{\\partial u}{\\partial x}$|$u\\dfrac{\\partial v}{\\partial\\boldsymbol{x}}+v\\dfrac{\\partial u}{\\partial\\boldsymbol{x}}$|$u\\dfrac{\\partial v}{\\partial\\mathbf{X}}+v\\dfrac{\\partial u}{\\partial\\mathbf{X}}$|\n",
    "|$g(u)$|$\\dfrac{\\partial g(u)}{\\partial u}\\dfrac{\\partial u}{\\partial x}$|$\\dfrac{\\partial g(u)}{\\partial u}\\dfrac{\\partial u}{\\partial\\boldsymbol{x}}$|$\\dfrac{\\partial g(u)}{\\partial u}\\dfrac{\\partial u}{\\partial\\mathbf{X}}$|\n",
    "|$f(g(u))$|$\\dfrac{\\partial f(g)}{\\partial g}\\dfrac{\\partial g(u)}{\\partial u}\\dfrac{\\partial u}{\\partial x}$|$\\dfrac{\\partial f(g)}{\\partial g}\\dfrac{\\partial g(u)}{\\partial u}\\dfrac{\\partial u}{\\partial\\boldsymbol{x}}$|$\\dfrac{\\partial f(g)}{\\partial g}\\dfrac{\\partial g(u)}{\\partial u}\\dfrac{\\partial u}{\\partial\\mathbf{X}}$|"
   ]
  },
  {
   "cell_type": "markdown",
   "metadata": {},
   "source": [
    "## Sigmoide\n",
    "\n",
    "**Sigmoide:** $\\displaystyle\\quad\\sigma(x)=\\frac{1}{1+e^{-x}}$\n",
    "$$\\frac{\\partial\\sigma(x)}{\\partial x}%\n",
    "%=-\\frac{1}{(1+e^{-x})^2}e^{-x}(-1)%\n",
    "=\\frac{e^{-x}}{(1+e^{-x})^2}%\n",
    "=\\frac{1+e^{-x}-1}{(1+e^{-x})^2}%\n",
    "=\\frac{1}{1+e^{-x}}-\\frac{1}{(1+e^{-x})^2}%\n",
    "=\\frac{1}{1+e^{-x}}\\left(1-\\frac{1}{1+e^{-x}}\\right)%\n",
    "=\\sigma(x)(1-\\sigma(x))%\n",
    "=\\sigma(x)\\sigma(-x)$$"
   ]
  },
  {
   "cell_type": "markdown",
   "metadata": {},
   "source": [
    "## Softmax\n",
    "\n",
    "**Softmax:** $\\displaystyle\\quad\\boldsymbol{\\mu}=\\mathcal{S}(\\boldsymbol{a})=\\left(\\frac{e^{a_1}}{\\sum_{\\tilde{c}}e^{a_{\\tilde{c}}}},\\dotsc,\\frac{e^{a_C}}{\\sum_{\\tilde{c}}e^{a_{\\tilde{c}}}}\\right)^t$\n",
    "\n",
    "$$\\begin{align*}\n",
    "\\frac{\\partial\\mu_i}{\\partial a_j}%\n",
    "&=e^{a_i}\\frac{\\partial\\left(\\sum_{\\tilde{c}}e^{a_{\\tilde{c}}}\\right)^{-1}}{\\partial a_j}\n",
    "+\\frac{1}{\\sum_{\\tilde{c}}e^{a_{\\tilde{c}}}}\\frac{\\partial e^{a_i}}{\\partial a_j}\n",
    "=-\\frac{e^{a_i}e^{a_j}}{\\left(\\sum_{\\tilde{c}}e^{a_{\\tilde{c}}}\\right)^2}\n",
    "+\\frac{e^{a_i}\\mathbb{I}(i=j)}{\\sum_{\\tilde{c}}e^{a_{\\tilde{c}}}}\n",
    "=\\mu_i(\\mathbb{I}(i=j)-\\mu_j)\\\\\n",
    "\\frac{\\partial\\log\\mu_i}{\\partial a_j}%\n",
    "&=\\frac{\\partial\\log\\mu_i}{\\partial\\mu_i}%\n",
    "\\frac{\\partial\\mu_i}{\\partial a_j}\n",
    "=\\frac{1}{\\mu_i}\\mu_i(\\mathbb{I}(i=j)-\\mu_j)\n",
    "=\\mathbb{I}(i=j)-\\mu_j\\end{align*}$$"
   ]
  },
  {
   "cell_type": "markdown",
   "metadata": {},
   "source": [
    "## Pérdidas\n",
    "\n",
    "**Pérdida cuadrática:** $\\quad\\ell_2(y,\\hat{y})=\\frac{1}{2}(y-\\hat{y})^2\\quad\\to\\quad\\dfrac{\\partial\\ell_2(y,\\hat{y})}{\\partial\\hat{y}}=\\hat{y}-y$"
   ]
  },
  {
   "cell_type": "markdown",
   "metadata": {},
   "source": [
    "**Log-pérdida:** $\\quad\\ell(\\boldsymbol{y},\\hat{\\boldsymbol{y}})=-\\sum_cy_c\\log\\hat{y}_c\\quad\\to\\quad\\dfrac{\\partial\\ell(\\boldsymbol{y},\\hat{\\boldsymbol{y}})}{\\partial\\hat{\\boldsymbol{y}}}=\\left(\\dfrac{\\partial\\ell(\\boldsymbol{y},\\hat{\\boldsymbol{y}})}{\\partial\\hat{y}_1},\\cdots,\\dfrac{\\partial\\ell(\\boldsymbol{y},\\hat{\\boldsymbol{y}})}{\\partial\\hat{y}_C}\\right)=\\left(-\\dfrac{y_1}{\\hat{y}_1},\\dotsc,-\\dfrac{y_C}{\\hat{y}_C}\\right)$"
   ]
  }
 ],
 "metadata": {
  "language_info": {
   "name": "python"
  },
  "orig_nbformat": 4
 },
 "nbformat": 4,
 "nbformat_minor": 2
}
