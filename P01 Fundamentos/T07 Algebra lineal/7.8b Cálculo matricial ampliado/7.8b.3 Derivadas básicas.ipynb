{
 "cells": [
  {
   "cell_type": "markdown",
   "metadata": {},
   "source": [
    "# 7.8b.3 Derivadas básicas"
   ]
  },
  {
   "cell_type": "markdown",
   "metadata": {},
   "source": [
    "**Sigmoide:** $\\displaystyle\\quad\\sigma(x)=\\frac{1}{1+e^{-x}}$\n",
    "$$\\frac{\\partial\\sigma(x)}{\\partial x}%\n",
    "%=-\\frac{1}{(1+e^{-x})^2}e^{-x}(-1)%\n",
    "=\\frac{e^{-x}}{(1+e^{-x})^2}%\n",
    "=\\frac{1+e^{-x}-1}{(1+e^{-x})^2}%\n",
    "=\\frac{1}{1+e^{-x}}-\\frac{1}{(1+e^{-x})^2}%\n",
    "=\\frac{1}{1+e^{-x}}\\left(1-\\frac{1}{1+e^{-x}}\\right)%\n",
    "=\\sigma(x)(1-\\sigma(x))%\n",
    "=\\sigma(x)\\sigma(-x)$$"
   ]
  },
  {
   "cell_type": "markdown",
   "metadata": {},
   "source": [
    "**Pérdida cuadrática:** $\\quad\\ell_2(y,\\hat{y})=\\frac{1}{2}(y-\\hat{y})^2\\quad\\to\\quad\\dfrac{\\partial\\ell_2(y,\\hat{y})}{\\partial\\hat{y}}=\\hat{y}-y$"
   ]
  },
  {
   "cell_type": "markdown",
   "metadata": {},
   "source": [
    "**Log-pérdida:** $\\quad\\ell(\\boldsymbol{y},\\hat{\\boldsymbol{y}})=-\\sum_cy_c\\log\\hat{y}_c\\quad\\to\\quad\\dfrac{\\partial\\ell(\\boldsymbol{y},\\hat{\\boldsymbol{y}})}{\\partial\\hat{\\boldsymbol{y}}}=\\left(\\dfrac{\\partial\\ell(\\boldsymbol{y},\\hat{\\boldsymbol{y}})}{\\partial\\hat{y}_1},\\cdots,\\dfrac{\\partial\\ell(\\boldsymbol{y},\\hat{\\boldsymbol{y}})}{\\partial\\hat{y}_C}\\right)=\\left(-\\dfrac{y_1}{\\hat{y}_1},\\dotsc,-\\dfrac{y_C}{\\hat{y}_C}\\right)$"
   ]
  }
 ],
 "metadata": {
  "language_info": {
   "name": "python"
  },
  "orig_nbformat": 4
 },
 "nbformat": 4,
 "nbformat_minor": 2
}
