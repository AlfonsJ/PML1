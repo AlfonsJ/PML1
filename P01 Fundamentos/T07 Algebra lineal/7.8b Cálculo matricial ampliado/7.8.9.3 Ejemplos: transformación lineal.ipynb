{
 "cells": [
  {
   "cell_type": "markdown",
   "metadata": {},
   "source": [
    "# 7.8.9.3 Ejemplos: transformación lineal"
   ]
  },
  {
   "cell_type": "markdown",
   "metadata": {},
   "source": [
    "## Transformación lineal\n",
    "\n",
    "Dado $\\,\\boldsymbol{x}\\in\\mathbb{R}^{n},\\,$ obtiene $\\,\\boldsymbol{y}=\\mathbf{W}\\boldsymbol{x}\\in\\mathbb{R}^m\\,$ con $\\,\\mathbf{W}\\in\\mathbb{R}^{m\\times n}$"
   ]
  },
  {
   "cell_type": "markdown",
   "metadata": {},
   "source": [
    "## Jacobiana de $\\boldsymbol{y}$ con respecto a $\\boldsymbol{x}$\n",
    "\n",
    "$$\\frac{\\partial\\boldsymbol{y}}{\\partial\\boldsymbol{x}}=\\begin{bmatrix}\\dfrac{\\partial y_1}{\\partial\\boldsymbol{x}}\\\\[1mm]\\vdots\\\\\\dfrac{\\partial y_m}{\\partial\\boldsymbol{x}}\\end{bmatrix}=\\begin{bmatrix}\\dfrac{\\partial y_1}{\\partial x_1}&\\cdots&\\dfrac{\\partial y_1}{\\partial x_n}\\\\[1mm]\\vdots&\\ddots&\\vdots\\\\\\dfrac{\\partial y_m}{\\partial x_1}&\\cdots&\\dfrac{\\partial y_m}{\\partial x_n}\\end{bmatrix}=\\mathbf{W}\\quad\\text{pues}\\;\\dfrac{\\partial y_i}{\\partial x_j}=\\dfrac{\\partial}{\\partial x_j}\\sum_l W_{il}x_l=\\sum_l W_{il}\\dfrac{\\partial x_l}{\\partial x_j}=W_{ij}$$"
   ]
  },
  {
   "cell_type": "markdown",
   "metadata": {},
   "source": [
    "## Jacobiana de $\\boldsymbol{y}$ con respecto a $\\mathbf{W}$\n",
    "\n",
    "$$\\frac{\\partial\\boldsymbol{y}}{\\partial W_{ij}}=\\begin{bmatrix}\\dfrac{\\partial y_1}{\\partial W_{ij}}\\\\[1mm]\\vdots\\\\\\dfrac{\\partial y_m}{\\partial W_{ij}}\\end{bmatrix}=\\operatorname{one-hot}(i)\\,x_j\\quad\\text{pues}\\;\\displaystyle\\dfrac{\\partial y_k}{\\partial W_{ij}}=\\dfrac{\\partial}{\\partial W_{ij}}\\sum_l W_{kl}x_l=\\sum_l x_l\\dfrac{\\partial W_{kl}}{\\partial W_{ij}}=x_j\\mathbb{I}(i=k)$$\n",
    "\n",
    "$$\\frac{\\partial\\boldsymbol{y}}{\\partial\\mathbf{W}}=\\begin{bmatrix}\\dfrac{\\partial y_1}{\\partial\\mathbf{W}}\\\\[1mm]\\vdots\\\\\\dfrac{\\partial y_m}{\\partial\\mathbf{W}}\\end{bmatrix}\\in\\mathbb{R}^{m\\times (n\\times m)}\\quad\\text{tensor con}\\;\\displaystyle\\dfrac{\\partial y_k}{\\partial\\mathbf{W}}=\\begin{bmatrix}\\dfrac{\\partial y_k}{\\partial W_{11}}&\\cdots&\\dfrac{\\partial y_k}{\\partial W_{m1}}\\\\[1mm]\\vdots&\\ddots&\\vdots\\\\\\dfrac{\\partial y_k}{\\partial W_{1n}}&\\cdots&\\dfrac{\\partial y_k}{\\partial W_{mn}}\\end{bmatrix}\\in\\mathbb{R}^{n\\times m}$$"
   ]
  },
  {
   "cell_type": "markdown",
   "metadata": {},
   "source": [
    "## Productor vector-Jacobiana (VJP)\n",
    "\n",
    "En general no necesitamos hallar $\\,\\dfrac{\\partial\\boldsymbol{y}}{\\partial\\mathbf{W}},\\,$ sino $\\,\\boldsymbol{u}^t\\dfrac{\\partial\\boldsymbol{y}}{\\partial\\mathbf{W}}\\in\\mathbb{R}^{n\\times m}\\,$ con $\\,\\boldsymbol{u}\\in\\mathbb{R}^m$\n",
    "\n",
    "$$\\boldsymbol{u}^t\\frac{\\partial\\boldsymbol{y}}{\\partial\\mathbf{W}}=\\sum_{k=1}^m u_k\\dfrac{\\partial y_k}{\\partial\\mathbf{W}}=\\begin{bmatrix}\\sum_ku_k\\dfrac{\\partial y_k}{\\partial W_{11}}&\\cdots&\\sum_ku_k\\dfrac{\\partial y_k}{\\partial W_{m1}}\\\\[1mm]\\vdots&\\ddots&\\vdots\\\\\\sum_ku_k\\dfrac{\\partial y_k}{\\partial W_{1n}}&\\cdots&\\sum_ku_k\\dfrac{\\partial y_k}{\\partial W_{mn}}\\end{bmatrix}=\\begin{bmatrix}u_1x_1&\\cdots&u_mx_1\\\\[1mm]\\vdots&\\ddots&\\vdots\\\\u_1x_n&\\cdots&u_mx_n\\end{bmatrix}=\\boldsymbol{x}\\boldsymbol{u}^t$$"
   ]
  }
 ],
 "metadata": {
  "language_info": {
   "name": "python"
  },
  "orig_nbformat": 4
 },
 "nbformat": 4,
 "nbformat_minor": 2
}
