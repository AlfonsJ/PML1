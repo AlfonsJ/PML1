{
 "cells": [
  {
   "cell_type": "markdown",
   "metadata": {},
   "source": [
    "# 7.8b.6 Regresión logística"
   ]
  },
  {
   "cell_type": "markdown",
   "metadata": {},
   "source": [
    "**Datos:** $\\quad\\mathcal{D}=\\{(\\boldsymbol{x}_n,\\boldsymbol{y}_n)\\},\\quad\\boldsymbol{x}_n\\in\\mathbb{R}^D,\\quad\\boldsymbol{y}_n\\in\\{0,1\\}^C\\;$ one-hot"
   ]
  },
  {
   "cell_type": "markdown",
   "metadata": {},
   "source": [
    "\n",
    "**Objetivo a derivar:** $\\displaystyle\\quad\\mathcal{L}(\\mathbf{W})=\\frac{1}{N}\\sum_{n=1}^N\\ell(\\boldsymbol{y}_n,\\boldsymbol{\\mu}_n),\\quad\\ell(\\boldsymbol{y}_n,\\boldsymbol{\\mu}_n)=-\\sum_cy_{nc}\\log\\mu_{nc},\\quad\\boldsymbol{\\mu}_n=\\mathcal{S}(\\boldsymbol{a}_n),\\quad\\boldsymbol{a}_n=\\mathbf{W}^t\\boldsymbol{x}_n,\\quad\\mathbf{W}\\in\\mathbb{R}^{D\\times C}$"
   ]
  },
  {
   "cell_type": "markdown",
   "metadata": {},
   "source": [
    "\n",
    "**Derivada del objetivo respecto a $\\mathbf{W}$:**\n",
    "$$\\begin{align*}\n",
    "\\frac{\\partial\\mathcal{L}}{\\partial\\mathbf{W}}\n",
    "&=\\frac{1}{N}\\sum_{n=1}^N\\frac{\\partial\\ell(\\boldsymbol{y}_n,\\boldsymbol{\\mu}_n)}{\\partial\\mathbf{W}}%\n",
    "=\\frac{1}{N}\\sum_{n=1}^N\\frac{\\partial\\ell(\\boldsymbol{y}_n,\\boldsymbol{\\mu}_n)}{\\partial\\log\\boldsymbol{\\mu}_n}\\frac{\\partial\\log\\boldsymbol{\\mu}_n}{\\partial\\boldsymbol{a}_n}\\frac{\\partial\\boldsymbol{a}_n}{\\partial\\mathbf{W}}\\\\\n",
    "\\frac{\\partial\\ell(\\boldsymbol{y}_n,\\boldsymbol{\\mu}_n)}{\\partial\\log\\boldsymbol{\\mu}_n}\n",
    "&=\\left(\\frac{\\partial\\ell(\\boldsymbol{y}_n,\\boldsymbol{\\mu}_n)}{\\partial\\log\\mu_{n1}},\\cdots,\\frac{\\partial\\ell(\\boldsymbol{y}_n,\\boldsymbol{\\mu}_n)}{\\partial\\log\\mu_{nC}}\\right)=-\\boldsymbol{y}_n^t\\\\\n",
    "\\frac{\\partial\\log\\boldsymbol{\\mu}_n}{\\partial\\boldsymbol{a}_n}%\n",
    "&=\\operatorname{diag}(\\boldsymbol{1}_C)-\\boldsymbol{1}_C\\boldsymbol{\\mu}_n^t\\\\\n",
    "\\frac{\\partial\\ell(\\boldsymbol{y}_n,\\boldsymbol{\\mu}_n)}{\\partial\\log\\boldsymbol{\\mu}_n}\\frac{\\partial\\log\\boldsymbol{\\mu}_n}{\\partial\\boldsymbol{a}_n}\n",
    "&=\\boldsymbol{y}_n^t(\\boldsymbol{1}_C\\boldsymbol{\\mu}_n^t-\\operatorname{diag}(\\boldsymbol{1}_C))\n",
    "\\overset{\\boldsymbol{y}_n\\,\\operatorname{one-hot}}=(\\boldsymbol{\\mu}_n-\\boldsymbol{y}_n)^t\\overset{\\text{def}}{=}\\boldsymbol{u}_n^t\\\\\n",
    "\\frac{\\partial\\mathcal{L}}{\\partial\\mathbf{W}}\n",
    "&=\\frac{1}{N}\\sum_{n=1}^N\\boldsymbol{u}_n^t\\frac{\\partial\\boldsymbol{a}_n}{\\partial\\mathbf{W}}%\n",
    "=\\frac{1}{N}\\sum_{n=1}^N\\boldsymbol{x}_n\\boldsymbol{u}_n^t%\n",
    "=\\frac{1}{N}\\sum_{n=1}^N\\boldsymbol{x}_n(\\boldsymbol{\\mu}_n-\\boldsymbol{y}_n)^t\n",
    "\\end{align*}$$"
   ]
  }
 ],
 "metadata": {
  "language_info": {
   "name": "python"
  },
  "orig_nbformat": 4
 },
 "nbformat": 4,
 "nbformat_minor": 2
}
