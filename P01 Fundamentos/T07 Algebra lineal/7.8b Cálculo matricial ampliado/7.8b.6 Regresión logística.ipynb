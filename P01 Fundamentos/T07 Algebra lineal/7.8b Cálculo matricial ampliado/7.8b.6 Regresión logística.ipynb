{
 "cells": [
  {
   "cell_type": "markdown",
   "metadata": {},
   "source": [
    "# 7.8b.6 Regresión logística"
   ]
  },
  {
   "cell_type": "markdown",
   "metadata": {},
   "source": [
    "**Derivada de la log-pérdida por los logits:** $\\quad\\ell(\\boldsymbol{y},\\boldsymbol{\\mu})=-\\sum_cy_c\\log\\mu_c\\;$ con $\\,\\boldsymbol{y}\\,$ verdad (one-hot) y $\\,\\boldsymbol{\\mu}=\\mathcal{S}(\\boldsymbol{a})\\,$ predicción probabilística\n",
    "$$\\frac{\\partial\\ell(\\boldsymbol{y},\\boldsymbol{\\mu})}{\\partial\\log\\boldsymbol{\\mu}}\n",
    "=\\left(\\frac{\\partial\\ell(\\boldsymbol{y},\\boldsymbol{\\mu})}{\\partial\\log\\mu_1},\\cdots,\\frac{\\partial\\ell(\\boldsymbol{y},\\boldsymbol{\\mu})}{\\partial\\log\\mu_C}\\right)=-\\boldsymbol{y}^t$$\n",
    "\n",
    "$$\\frac{\\partial\\ell(\\boldsymbol{y},\\boldsymbol{\\mu})}{\\partial\\boldsymbol{a}}\n",
    "=\\frac{\\partial\\ell(\\boldsymbol{y},\\boldsymbol{\\mu})}{\\partial\\log\\boldsymbol{\\mu}}\\frac{\\partial\\log\\boldsymbol{\\mu}}{\\partial\\boldsymbol{a}}\n",
    "=-\\boldsymbol{y}^t(\\operatorname{diag}(\\boldsymbol{1}_C)-\\boldsymbol{1}_C\\boldsymbol{\\mu}^t)\n",
    "=\\boldsymbol{y}^t(\\boldsymbol{1}_C\\boldsymbol{\\mu}^t-\\operatorname{diag}(\\boldsymbol{1}_C))\n",
    "\\overset{\\boldsymbol{y}\\;\\operatorname{one-hot}}=(\\boldsymbol{\\mu}-\\boldsymbol{y})^t$$"
   ]
  }
 ],
 "metadata": {
  "language_info": {
   "name": "python"
  },
  "orig_nbformat": 4
 },
 "nbformat": 4,
 "nbformat_minor": 2
}
