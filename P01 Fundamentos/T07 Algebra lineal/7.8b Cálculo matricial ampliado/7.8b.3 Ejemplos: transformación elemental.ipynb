{
 "cells": [
  {
   "cell_type": "markdown",
   "metadata": {},
   "source": [
    "# 7.8.9.3 Ejemplos: transformación elemental"
   ]
  },
  {
   "cell_type": "markdown",
   "metadata": {},
   "source": [
    "## Transformación elemental\n",
    "\n",
    "Dado $\\,\\boldsymbol{x}\\in\\mathbb{R}^{n},\\,$ obtiene $\\,\\boldsymbol{y}=(\\varphi(x_1),\\dotsc,\\varphi(x_n))\\in\\mathbb{R}^{n}\\,$ con $\\,\\varphi:\\mathbb{R}\\to\\mathbb{R}\\,$ derivable"
   ]
  },
  {
   "cell_type": "markdown",
   "metadata": {},
   "source": [
    "## Jacobiana de $\\boldsymbol{y}$ con respecto a $\\boldsymbol{x}$\n",
    "\n",
    "$$\\frac{\\partial\\boldsymbol{y}}{\\partial\\boldsymbol{x}}=\\begin{bmatrix}\\dfrac{\\partial y_1}{\\partial\\boldsymbol{x}}\\\\[1mm]\\vdots\\\\\\dfrac{\\partial y_n}{\\partial\\boldsymbol{x}}\\end{bmatrix}=\\begin{bmatrix}\\dfrac{\\partial y_1}{\\partial x_1}&\\cdots&\\dfrac{\\partial y_1}{\\partial x_n}\\\\[1mm]\\vdots&\\ddots&\\vdots\\\\\\dfrac{\\partial y_n}{\\partial x_1}&\\cdots&\\dfrac{\\partial y_n}{\\partial x_n}\\end{bmatrix}=\\begin{bmatrix}\\dfrac{\\partial\\varphi(x_1)}{\\partial x_1}&\\cdots&\\dfrac{\\partial\\varphi(x_1)}{\\partial x_n}\\\\[1mm]\\vdots&\\ddots&\\vdots\\\\\\dfrac{\\partial\\varphi(x_n)}{\\partial x_1}&\\cdots&\\dfrac{\\partial\\varphi(x_n)}{\\partial x_n}\\end{bmatrix}=\\operatorname{diag}(\\varphi'(x_1),\\dotsc,\\varphi'(x_n))\\in\\mathbb{R}^{n\\times n}$$"
   ]
  },
  {
   "cell_type": "markdown",
   "metadata": {},
   "source": [
    "## Ejemplos\n",
    "\n",
    "**Transformación identidad:** $\\;\\displaystyle\\varphi(x)=x\\;\\Rightarrow\\;\\frac{\\partial\\boldsymbol{y}}{\\partial\\boldsymbol{x}}=\\mathbf{I}_{n}$\n",
    "\n",
    "**No-linealidad elemental muy popular:** $\\;\\displaystyle\\varphi(x)=\\operatorname{ReLU}(x)=\\max(x,0)\\;\\Rightarrow\\;\\frac{\\partial\\boldsymbol{y}}{\\partial\\boldsymbol{x}}=\\operatorname{diag}(\\mathbb{I}(x_1>0),\\dotsc,\\mathbb{I}(x_n>0))$"
   ]
  }
 ],
 "metadata": {
  "language_info": {
   "name": "python"
  },
  "orig_nbformat": 4
 },
 "nbformat": 4,
 "nbformat_minor": 2
}
