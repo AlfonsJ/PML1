{
 "cells": [
  {
   "cell_type": "markdown",
   "metadata": {},
   "source": [
    "# 7.8b.4 Softmax"
   ]
  },
  {
   "cell_type": "markdown",
   "metadata": {},
   "source": [
    "**Softmax:** $\\displaystyle\\quad\\boldsymbol{\\mu}=\\mathcal{S}(\\boldsymbol{a})=\\left(\\frac{e^{a_1}}{\\sum_{\\tilde{c}}e^{a_{\\tilde{c}}}},\\dotsc,\\frac{e^{a_C}}{\\sum_{\\tilde{c}}e^{a_{\\tilde{c}}}}\\right)^t$\n",
    "\n",
    "$$\\begin{align*}\n",
    "\\frac{\\partial\\mu_i}{\\partial a_j}%\n",
    "&=e^{a_i}\\frac{\\partial\\left(\\sum_{\\tilde{c}}e^{a_{\\tilde{c}}}\\right)^{-1}}{\\partial a_j}\n",
    "+\\frac{1}{\\sum_{\\tilde{c}}e^{a_{\\tilde{c}}}}\\frac{\\partial e^{a_i}}{\\partial a_j}\n",
    "=-\\frac{e^{a_i}e^{a_j}}{\\left(\\sum_{\\tilde{c}}e^{a_{\\tilde{c}}}\\right)^2}\n",
    "+\\frac{e^{a_i}\\mathbb{I}(i=j)}{\\sum_{\\tilde{c}}e^{a_{\\tilde{c}}}}\n",
    "=\\mu_i(\\mathbb{I}(i=j)-\\mu_j)\\\\\n",
    "\\frac{\\partial\\log\\mu_i}{\\partial a_j}%\n",
    "&=\\frac{\\partial\\log\\mu_i}{\\partial\\mu_i}%\n",
    "\\frac{\\partial\\mu_i}{\\partial a_j}\n",
    "=\\frac{1}{\\mu_i}\\mu_i(\\mathbb{I}(i=j)-\\mu_j)\n",
    "=\\mathbb{I}(i=j)-\\mu_j\\end{align*}$$"
   ]
  },
  {
   "cell_type": "markdown",
   "metadata": {},
   "source": [
    "**Softmax:** $\\displaystyle\\quad\\boldsymbol{\\mu}=\\mathcal{S}(\\boldsymbol{a})=\\left(\\frac{e^{a_1}}{\\sum_{\\tilde{c}}e^{a_{\\tilde{c}}}},\\dotsc,\\frac{e^{a_C}}{\\sum_{\\tilde{c}}e^{a_{\\tilde{c}}}}\\right)^t$\n",
    "\n",
    "$$\\begin{align*}\n",
    "\\frac{\\partial\\boldsymbol{\\mu}}{\\partial\\boldsymbol{a}}%\n",
    "&=\\begin{pmatrix}\\frac{\\partial\\mu_1}{\\partial\\boldsymbol{a}}\\\\\\frac{\\partial\\mu_2}{\\partial\\boldsymbol{a}}\\\\\\vdots\\\\\\frac{\\partial\\mu_C}{\\partial\\boldsymbol{a}}\\end{pmatrix}%\n",
    "=\\begin{pmatrix}\\frac{\\partial\\mu_1}{\\partial a_1}&\\frac{\\partial\\mu_1}{\\partial a_2}&\\cdots&\\frac{\\partial\\mu_1}{\\partial a_C}\\\\\n",
    "\\frac{\\partial\\mu_2}{\\partial a_1}&\\frac{\\partial\\mu_2}{\\partial a_2}&\\cdots&\\frac{\\partial\\mu_2}{\\partial a_C}\\\\\n",
    "\\vdots&\\vdots&\\ddots&\\vdots\\\\%\n",
    "\\frac{\\partial\\mu_C}{\\partial a_1}&\\frac{\\partial\\mu_C}{\\partial a_2}&\\cdots&\\frac{\\partial\\mu_C}{\\partial a_C}\\end{pmatrix}\n",
    "=\\begin{pmatrix}\n",
    "\\mu_1(1-\\mu_1)&-\\mu_1\\mu_2&\\cdots&-\\mu_1\\mu_C\\\\\n",
    "-\\mu_2\\mu_1&\\mu_2(1-\\mu_2)&\\cdots&-\\mu_2\\mu_C\\\\\n",
    "\\vdots&\\vdots&\\ddots&\\vdots\\\\%\n",
    "-\\mu_C\\mu_1&-\\mu_C\\mu_2&\\cdots&\\mu_C(1-\\mu_C)\n",
    "\\end{pmatrix}\n",
    "=\\operatorname{diag}(\\boldsymbol{\\mu})-\\boldsymbol{\\mu}^t\\boldsymbol{\\mu}\\\\\n",
    "\\frac{\\partial\\log\\boldsymbol{\\mu}}{\\partial\\boldsymbol{a}}%\n",
    "&=\\begin{pmatrix}\n",
    "\\frac{\\partial\\log\\mu_1}{\\partial\\boldsymbol{a}}\\\\\n",
    "\\frac{\\partial\\log\\mu_2}{\\partial\\boldsymbol{a}}\\\\\n",
    "\\vdots\\\\\n",
    "\\frac{\\partial\\log\\mu_C}{\\partial\\boldsymbol{a}}\\end{pmatrix}%\n",
    "=\\begin{pmatrix}\n",
    "\\frac{\\partial\\log\\mu_1}{\\partial a_1}%\n",
    "&\\frac{\\partial\\log\\mu_1}{\\partial a_2}\n",
    "&\\cdots\n",
    "&\\frac{\\partial\\log\\mu_1}{\\partial a_C}\\\\\n",
    "\\frac{\\partial\\log\\mu_2}{\\partial a_1}%\n",
    "&\\frac{\\partial\\log\\mu_2}{\\partial a_2}\n",
    "&\\cdots\n",
    "&\\frac{\\partial\\log\\mu_2}{\\partial a_C}\\\\\n",
    "\\vdots&\\vdots&\\ddots&\\vdots\\\\%\n",
    "\\frac{\\partial\\log\\mu_C}{\\partial a_1}%\n",
    "&\\frac{\\partial\\log\\mu_C}{\\partial a_2}\n",
    "&\\cdots\n",
    "&\\frac{\\partial\\log\\mu_C}{\\partial a_C}\n",
    "\\end{pmatrix}\n",
    "=\\begin{pmatrix}\n",
    "1-\\mu_1&-\\mu_2&\\cdots&-\\mu_C\\\\\n",
    "-\\mu_1&1-\\mu_2&\\cdots&-\\mu_C\\\\\n",
    "\\vdots&\\vdots&\\ddots&\\vdots\\\\%\n",
    "-\\mu_1&-\\mu_2&\\cdots&1-\\mu_C\n",
    "\\end{pmatrix}\n",
    "=\\operatorname{diag}(\\boldsymbol{1}_C)-\\boldsymbol{1}_C\\boldsymbol{\\mu}^t\\end{align*}$$"
   ]
  },
  {
   "cell_type": "markdown",
   "metadata": {},
   "source": [
    "**Transformaciones lineales:** $\\quad\\boldsymbol{x}\\in\\mathbb{R}^{n},\\;\\boldsymbol{y}=\\mathbf{W}\\boldsymbol{x},\\;\\mathbf{W}\\in\\mathbb{R}^{m\\times n}$\n",
    "\n",
    "$$\\begin{align*}\n",
    "\\frac{\\partial\\boldsymbol{y}}{\\partial\\boldsymbol{x}}\n",
    "&=\\begin{pmatrix}\\dfrac{\\partial y_1}{\\partial\\boldsymbol{x}}\\\\[1mm]\\vdots\\\\\\dfrac{\\partial y_m}{\\partial\\boldsymbol{x}}\\end{pmatrix}=\\begin{pmatrix}\\dfrac{\\partial y_1}{\\partial x_1}&\\cdots&\\dfrac{\\partial y_1}{\\partial x_n}\\\\[1mm]\\vdots&\\ddots&\\vdots\\\\\\dfrac{\\partial y_m}{\\partial x_1}&\\cdots&\\dfrac{\\partial y_m}{\\partial x_n}\\end{pmatrix}=\\mathbf{W}\\\\\n",
    "\\frac{\\partial\\boldsymbol{y}}{\\partial W_{ij}}\n",
    "&=\\begin{pmatrix}\\dfrac{\\partial y_1}{\\partial W_{ij}}\\\\[1mm]\\vdots\\\\\\dfrac{\\partial y_m}{\\partial W_{ij}}\\end{pmatrix}=\\operatorname{one-hot}(i)\\,x_j\\\\\n",
    "\\boldsymbol{u}^t\\frac{\\partial\\boldsymbol{y}}{\\partial\\mathbf{W}}\n",
    "&=\\frac{\\partial\\boldsymbol{u}^t\\boldsymbol{y}}{\\partial\\mathbf{W}}\n",
    "=\\frac{\\partial}{\\partial\\mathbf{W}}\\sum_{k=1}^m u_ky_k\n",
    "=\\sum_{k=1}^m u_k\\frac{\\partial y_k}{\\partial\\mathbf{W}}\n",
    "=\\sum_{k=1}^m u_k\\boldsymbol{x}\\operatorname{one-hot}(k)^t\n",
    "=\\boldsymbol{x}\\sum_{k=1}^m u_k\\operatorname{one-hot}(k)^t\n",
    "=\\boldsymbol{x}\\boldsymbol{u}^t\n",
    "\\end{align*}$$"
   ]
  },
  {
   "cell_type": "markdown",
   "metadata": {},
   "source": [
    "**Transformación elemental genérica:** $\\quad\\boldsymbol{x}\\in\\mathbb{R}^{n},\\;\\boldsymbol{y}=\\boldsymbol{\\varphi}(\\boldsymbol{x}),\\;\\boldsymbol{\\varphi}(\\boldsymbol{x})=(\\varphi(x_1),\\dotsc,\\varphi(x_n))^t,\\;\\varphi:\\mathbb{R}\\to\\mathbb{R}\\;$ derivable\n",
    "\n",
    "$$\\frac{\\partial\\boldsymbol{y}}{\\partial\\boldsymbol{x}}=\\begin{pmatrix}\\dfrac{\\partial y_1}{\\partial\\boldsymbol{x}}\\\\[1mm]\\vdots\\\\\\dfrac{\\partial y_n}{\\partial\\boldsymbol{x}}\\end{pmatrix}=\\begin{pmatrix}\\dfrac{\\partial y_1}{\\partial x_1}&\\cdots&\\dfrac{\\partial y_1}{\\partial x_n}\\\\[1mm]\\vdots&\\ddots&\\vdots\\\\\\dfrac{\\partial y_n}{\\partial x_1}&\\cdots&\\dfrac{\\partial y_n}{\\partial x_n}\\end{pmatrix}=\\begin{pmatrix}\\dfrac{\\partial\\varphi(x_1)}{\\partial x_1}&\\cdots&\\dfrac{\\partial\\varphi(x_1)}{\\partial x_n}\\\\[1mm]\\vdots&\\ddots&\\vdots\\\\\\dfrac{\\partial\\varphi(x_n)}{\\partial x_1}&\\cdots&\\dfrac{\\partial\\varphi(x_n)}{\\partial x_n}\\end{pmatrix}=\\operatorname{diag}(\\boldsymbol{\\varphi}'(\\boldsymbol{x}))\\in\\mathbb{R}^{n\\times n}$$\n",
    "\n",
    "**Transformación identidad:** $\\displaystyle\\quad\\varphi(x)=x\\quad\\to\\quad\\frac{\\partial\\boldsymbol{y}}{\\partial\\boldsymbol{x}}=\\mathbf{I}_{n}$\n",
    "\n",
    "**Sigmoide:** $\\displaystyle\\quad\\sigma(x)=\\frac{1}{1+e^{-x}}\\quad\\to\\quad\\frac{\\partial\\boldsymbol{y}}{\\partial\\boldsymbol{x}}=\\operatorname{diag}(\\sigma(x_1)\\sigma(-x_1),\\dotsc,\\sigma(x_n)\\sigma(-x_n))$\n",
    "\n",
    "**ReLU:** $\\displaystyle\\quad\\varphi(x)=\\operatorname{ReLU}(x)=\\max(x,0)\\quad\\to\\quad\\frac{\\partial\\boldsymbol{y}}{\\partial\\boldsymbol{x}}=\\operatorname{diag}(\\mathbb{I}(x_1>0),\\dotsc,\\mathbb{I}(x_n>0))$"
   ]
  }
 ],
 "metadata": {
  "language_info": {
   "name": "python"
  },
  "orig_nbformat": 4
 },
 "nbformat": 4,
 "nbformat_minor": 2
}
