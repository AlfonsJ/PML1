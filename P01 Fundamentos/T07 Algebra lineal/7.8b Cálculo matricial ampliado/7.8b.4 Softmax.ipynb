{
 "cells": [
  {
   "cell_type": "markdown",
   "metadata": {},
   "source": [
    "# 7.8b.4 Softmax"
   ]
  },
  {
   "cell_type": "markdown",
   "metadata": {},
   "source": [
    "**Softmax:** $\\displaystyle\\quad\\boldsymbol{\\mu}=\\mathcal{S}(\\boldsymbol{a})=\\left(\\frac{e^{a_1}}{\\sum_{\\tilde{c}}e^{a_{\\tilde{c}}}},\\dotsc,\\frac{e^{a_C}}{\\sum_{\\tilde{c}}e^{a_{\\tilde{c}}}}\\right)^t$\n",
    "\n",
    "$$\\begin{align*}\n",
    "\\frac{\\partial\\mu_i}{\\partial a_j}%\n",
    "&=e^{a_i}\\frac{\\partial\\left(\\sum_{\\tilde{c}}e^{a_{\\tilde{c}}}\\right)^{-1}}{\\partial a_j}\n",
    "+\\frac{1}{\\sum_{\\tilde{c}}e^{a_{\\tilde{c}}}}\\frac{\\partial e^{a_i}}{\\partial a_j}\n",
    "=-\\frac{e^{a_i}e^{a_j}}{\\left(\\sum_{\\tilde{c}}e^{a_{\\tilde{c}}}\\right)^2}\n",
    "+\\frac{e^{a_i}\\mathbb{I}(i=j)}{\\sum_{\\tilde{c}}e^{a_{\\tilde{c}}}}\n",
    "=\\mu_i(\\mathbb{I}(i=j)-\\mu_j)\\\\\n",
    "\\frac{\\partial\\boldsymbol{\\mu}}{\\partial\\boldsymbol{a}}%\n",
    "&=\\begin{pmatrix}\\frac{\\partial\\mu_1}{\\partial\\boldsymbol{a}}\\\\\\frac{\\partial\\mu_2}{\\partial\\boldsymbol{a}}\\\\\\vdots\\\\\\frac{\\partial\\mu_C}{\\partial\\boldsymbol{a}}\\end{pmatrix}%\n",
    "=\\begin{pmatrix}\\frac{\\partial\\mu_1}{\\partial a_1}&\\frac{\\partial\\mu_1}{\\partial a_2}&\\cdots&\\frac{\\partial\\mu_1}{\\partial a_C}\\\\\n",
    "\\frac{\\partial\\mu_2}{\\partial a_1}&\\frac{\\partial\\mu_2}{\\partial a_2}&\\cdots&\\frac{\\partial\\mu_2}{\\partial a_C}\\\\\n",
    "\\vdots&\\vdots&\\ddots&\\vdots\\\\%\n",
    "\\frac{\\partial\\mu_C}{\\partial a_1}&\\frac{\\partial\\mu_C}{\\partial a_2}&\\cdots&\\frac{\\partial\\mu_C}{\\partial a_C}\\end{pmatrix}\n",
    "=\\begin{pmatrix}\n",
    "\\mu_1(1-\\mu_1)&-\\mu_1\\mu_2&\\cdots&-\\mu_1\\mu_C\\\\\n",
    "-\\mu_2\\mu_1&\\mu_2(1-\\mu_2)&\\cdots&-\\mu_2\\mu_C\\\\\n",
    "\\vdots&\\vdots&\\ddots&\\vdots\\\\%\n",
    "-\\mu_C\\mu_1&-\\mu_C\\mu_2&\\cdots&\\mu_C(1-\\mu_C)\n",
    "\\end{pmatrix}\n",
    "=\\operatorname{diag}(\\boldsymbol{\\mu})-\\boldsymbol{\\mu}^t\\boldsymbol{\\mu}\\\\\\\\\n",
    "\\frac{\\partial\\log\\mu_i}{\\partial a_j}%\n",
    "&=\\frac{\\partial\\log\\mu_i}{\\partial\\mu_i}%\n",
    "\\frac{\\partial\\mu_i}{\\partial a_j}\n",
    "=\\frac{1}{\\mu_i}\\mu_i(\\mathbb{I}(i=j)-\\mu_j)\n",
    "=\\mathbb{I}(i=j)-\\mu_j\\\\\n",
    "\\frac{\\partial\\log\\boldsymbol{\\mu}}{\\partial\\boldsymbol{a}}%\n",
    "&=\\begin{pmatrix}\n",
    "\\frac{\\partial\\log\\mu_1}{\\partial\\boldsymbol{a}}\\\\\n",
    "\\frac{\\partial\\log\\mu_2}{\\partial\\boldsymbol{a}}\\\\\n",
    "\\vdots\\\\\n",
    "\\frac{\\partial\\log\\mu_C}{\\partial\\boldsymbol{a}}\\end{pmatrix}%\n",
    "=\\begin{pmatrix}\n",
    "\\frac{\\partial\\log\\mu_1}{\\partial a_1}%\n",
    "&\\frac{\\partial\\log\\mu_1}{\\partial a_2}\n",
    "&\\cdots\n",
    "&\\frac{\\partial\\log\\mu_1}{\\partial a_C}\\\\\n",
    "\\frac{\\partial\\log\\mu_2}{\\partial a_1}%\n",
    "&\\frac{\\partial\\log\\mu_2}{\\partial a_2}\n",
    "&\\cdots\n",
    "&\\frac{\\partial\\log\\mu_2}{\\partial a_C}\\\\\n",
    "\\vdots&\\vdots&\\ddots&\\vdots\\\\%\n",
    "\\frac{\\partial\\log\\mu_C}{\\partial a_1}%\n",
    "&\\frac{\\partial\\log\\mu_C}{\\partial a_2}\n",
    "&\\cdots\n",
    "&\\frac{\\partial\\log\\mu_C}{\\partial a_C}\n",
    "\\end{pmatrix}\n",
    "=\\begin{pmatrix}\n",
    "1-\\mu_1&-\\mu_2&\\cdots&-\\mu_C\\\\\n",
    "-\\mu_1&1-\\mu_2&\\cdots&-\\mu_C\\\\\n",
    "\\vdots&\\vdots&\\ddots&\\vdots\\\\%\n",
    "-\\mu_1&-\\mu_2&\\cdots&1-\\mu_C\n",
    "\\end{pmatrix}\n",
    "=\\operatorname{diag}(\\boldsymbol{1}_C)-\\boldsymbol{1}_C\\boldsymbol{\\mu}^t\\end{align*}$$"
   ]
  }
 ],
 "metadata": {
  "language_info": {
   "name": "python"
  },
  "orig_nbformat": 4
 },
 "nbformat": 4,
 "nbformat_minor": 2
}
