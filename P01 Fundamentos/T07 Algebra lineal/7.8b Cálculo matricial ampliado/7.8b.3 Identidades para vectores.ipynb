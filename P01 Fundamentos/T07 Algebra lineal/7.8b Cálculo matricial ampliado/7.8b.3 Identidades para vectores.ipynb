{
 "cells": [
  {
   "cell_type": "markdown",
   "metadata": {},
   "source": [
    "# 7.8b.3 Identidades para vectores"
   ]
  },
  {
   "cell_type": "markdown",
   "metadata": {},
   "source": [
    "**Identidades para vectores:** $\\;\\boldsymbol{a}\\,$ constante; $\\;\\boldsymbol{u}\\,$ y $\\,\\boldsymbol{v}\\,$ funciones vectoriales de $\\,x\\in\\mathbb{R}^{1\\times 1}\\,$ o $\\,\\boldsymbol{x}\\in\\mathbb{R}^{n\\times 1}$\n",
    "\n",
    "|$\\boldsymbol{y}\\in\\mathbb{R}^{m\\times 1}$|$\\dfrac{\\partial\\boldsymbol{y}}{\\partial x}\\in\\mathbb{R}^{m\\times 1}$|$\\dfrac{\\partial\\boldsymbol{y}}{\\partial\\boldsymbol{x}}\\in\\mathbb{R}^{m\\times n}$|\n",
    "|:-:|:-:|:-:|\n",
    "|$\\boldsymbol{a}$|$\\boldsymbol{0}$|$\\mathbf{0}$|\n",
    "|$a\\boldsymbol{u}$|$a\\dfrac{\\partial\\boldsymbol{u}}{\\partial x}$|$a\\dfrac{\\partial\\boldsymbol{u}}{\\partial\\boldsymbol{x}}$|\n",
    "|$\\boldsymbol{u}+\\boldsymbol{v}$|$\\dfrac{\\partial\\boldsymbol{u}}{\\partial x}+\\dfrac{\\partial\\boldsymbol{v}}{\\partial x}$|$\\dfrac{\\partial\\boldsymbol{u}}{\\partial\\boldsymbol{x}}+\\dfrac{\\partial\\boldsymbol{v}}{\\partial\\boldsymbol{x}}$|\n",
    "|$\\boldsymbol{g}(\\boldsymbol{u})$|$\\dfrac{\\partial\\boldsymbol{g}(\\boldsymbol{u})}{\\partial\\boldsymbol{u}}\\dfrac{\\partial \\boldsymbol{u}}{\\partial x}$|$\\dfrac{\\partial\\boldsymbol{g}(\\boldsymbol{u})}{\\partial \\boldsymbol{u}}\\dfrac{\\partial\\boldsymbol{u}}{\\partial\\boldsymbol{x}}$|\n",
    "|$\\boldsymbol{f}(\\boldsymbol{g}(\\boldsymbol{u}))$|$\\dfrac{\\partial\\boldsymbol{f}(\\boldsymbol{g})}{\\partial\\boldsymbol{g}}\\dfrac{\\partial\\boldsymbol{g}(\\boldsymbol{u})}{\\partial\\boldsymbol{u}}\\dfrac{\\partial\\boldsymbol{u}}{\\partial x}$|$\\dfrac{\\partial\\boldsymbol{f}(\\boldsymbol{g})}{\\partial\\boldsymbol{g}}\\dfrac{\\partial\\boldsymbol{g}(\\boldsymbol{u})}{\\partial\\boldsymbol{u}}\\dfrac{\\partial\\boldsymbol{u}}{\\partial\\boldsymbol{x}}$|"
   ]
  }
 ],
 "metadata": {
  "language_info": {
   "name": "python"
  },
  "orig_nbformat": 4
 },
 "nbformat": 4,
 "nbformat_minor": 2
}
