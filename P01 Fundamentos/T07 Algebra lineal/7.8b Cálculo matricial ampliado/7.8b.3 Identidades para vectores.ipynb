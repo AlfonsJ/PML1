{
 "cells": [
  {
   "cell_type": "markdown",
   "metadata": {},
   "source": [
    "# 7.8b.3 Identidades para vectores"
   ]
  },
  {
   "cell_type": "markdown",
   "metadata": {},
   "source": [
    "**Identidades para vectores:** $\\;\\boldsymbol{a}\\,$ constante; $\\;\\boldsymbol{u}\\,$ y $\\,\\boldsymbol{v}\\,$ funciones vectoriales de $\\,x\\in\\mathbb{R}^{1\\times 1}\\,$ o $\\,\\boldsymbol{x}\\in\\mathbb{R}^{n\\times 1}$\n",
    "\n",
    "|$\\boldsymbol{y}\\in\\mathbb{R}^{m\\times 1}$|$\\dfrac{\\partial\\boldsymbol{y}}{\\partial x}\\in\\mathbb{R}^{m\\times 1}$|$\\dfrac{\\partial\\boldsymbol{y}}{\\partial\\boldsymbol{x}}\\in\\mathbb{R}^{m\\times n}$|\n",
    "|:-:|:-:|:-:|\n",
    "|$\\boldsymbol{a}$|$\\boldsymbol{0}$|$\\mathbf{0}$|\n",
    "|$a\\boldsymbol{u}$|$a\\dfrac{\\partial\\boldsymbol{u}}{\\partial x}$|$a\\dfrac{\\partial\\boldsymbol{u}}{\\partial\\boldsymbol{x}}$|\n",
    "|$\\boldsymbol{u}+\\boldsymbol{v}$|$\\dfrac{\\partial\\boldsymbol{u}}{\\partial x}+\\dfrac{\\partial\\boldsymbol{v}}{\\partial x}$|$\\dfrac{\\partial\\boldsymbol{u}}{\\partial\\boldsymbol{x}}+\\dfrac{\\partial\\boldsymbol{v}}{\\partial\\boldsymbol{x}}$|\n",
    "|$\\boldsymbol{g}(\\boldsymbol{u})$|$\\dfrac{\\partial\\boldsymbol{g}(\\boldsymbol{u})}{\\partial\\boldsymbol{u}}\\dfrac{\\partial \\boldsymbol{u}}{\\partial x}$|$\\dfrac{\\partial\\boldsymbol{g}(\\boldsymbol{u})}{\\partial \\boldsymbol{u}}\\dfrac{\\partial\\boldsymbol{u}}{\\partial\\boldsymbol{x}}$|\n",
    "|$\\boldsymbol{f}(\\boldsymbol{g}(\\boldsymbol{u}))$|$\\dfrac{\\partial\\boldsymbol{f}(\\boldsymbol{g})}{\\partial\\boldsymbol{g}}\\dfrac{\\partial\\boldsymbol{g}(\\boldsymbol{u})}{\\partial\\boldsymbol{u}}\\dfrac{\\partial\\boldsymbol{u}}{\\partial x}$|$\\dfrac{\\partial\\boldsymbol{f}(\\boldsymbol{g})}{\\partial\\boldsymbol{g}}\\dfrac{\\partial\\boldsymbol{g}(\\boldsymbol{u})}{\\partial\\boldsymbol{u}}\\dfrac{\\partial\\boldsymbol{u}}{\\partial\\boldsymbol{x}}$|"
   ]
  },
  {
   "cell_type": "markdown",
   "metadata": {},
   "source": [
    "**Derivada de la log-softmax:** $\\displaystyle\\quad\\log\\mathcal{S}(\\boldsymbol{a})\\;$ con $\\displaystyle\\;\\mathcal{S}(\\boldsymbol{a})=\\left(\\frac{e^{a_1}}{\\sum_{\\tilde{c}}e^{a_{\\tilde{c}}}},\\dotsc,\\frac{e^{a_C}}{\\sum_{\\tilde{c}}e^{a_{\\tilde{c}}}}\\right)^t\\;$ para un vector de logits $\\;\\boldsymbol{a}\\in\\mathbb{R}^C$\n",
    "$$\\frac{\\partial\\log\\mathcal{S}(\\boldsymbol{a})_i}{\\partial a_j}%\n",
    "=\\frac{\\partial a_i}{\\partial a_j}-\\frac{\\partial}{\\partial a_j}\\log\\sum_{\\tilde{c}}e^{a_{\\tilde{c}}}%\n",
    "=\\mathbb{I}(i=j)-\\frac{e^{a_j}}{\\sum_{\\tilde{c}}e^{a_{\\tilde{c}}}}%\n",
    "=\\mathbb{I}(i=j)-\\mathcal{S}(\\boldsymbol{a})_j$$\n",
    "\n",
    "$$\\frac{\\partial\\log\\mathcal{S}(\\boldsymbol{a})}{\\partial\\boldsymbol{a}}%\n",
    "=\\begin{pmatrix}\n",
    "\\frac{\\partial\\log\\mathcal{S}(\\boldsymbol{a})_1}{\\partial\\boldsymbol{a}}\\\\\n",
    "\\frac{\\partial\\log\\mathcal{S}(\\boldsymbol{a})_2}{\\partial\\boldsymbol{a}}\\\\\n",
    "\\vdots\\\\\n",
    "\\frac{\\partial\\log\\mathcal{S}(\\boldsymbol{a})_C}{\\partial\\boldsymbol{a}}\\end{pmatrix}%\n",
    "=\\begin{pmatrix}\n",
    "\\frac{\\partial\\log\\mathcal{S}(\\boldsymbol{a})_1}{\\partial a_1}%\n",
    "&\\frac{\\partial\\log\\mathcal{S}(\\boldsymbol{a})_1}{\\partial a_2}\n",
    "&\\cdots\n",
    "&\\frac{\\partial\\log\\mathcal{S}(\\boldsymbol{a})_1}{\\partial a_C}\\\\\n",
    "\\frac{\\partial\\log\\mathcal{S}(\\boldsymbol{a})_2}{\\partial a_1}%\n",
    "&\\frac{\\partial\\log\\mathcal{S}(\\boldsymbol{a})_2}{\\partial a_2}\n",
    "&\\cdots\n",
    "&\\frac{\\partial\\log\\mathcal{S}(\\boldsymbol{a})_2}{\\partial a_C}\\\\\n",
    "\\vdots&\\vdots&\\ddots&\\vdots\\\\%\n",
    "\\frac{\\partial\\log\\mathcal{S}(\\boldsymbol{a})_C}{\\partial a_1}%\n",
    "&\\frac{\\partial\\log\\mathcal{S}(\\boldsymbol{a})_C}{\\partial a_2}\n",
    "&\\cdots\n",
    "&\\frac{\\partial\\log\\mathcal{S}(\\boldsymbol{a})_C}{\\partial a_C}\n",
    "\\end{pmatrix}\n",
    "=\\begin{pmatrix}\n",
    "1-\\mathcal{S}(\\boldsymbol{a})_1&-\\mathcal{S}(\\boldsymbol{a})_2&\\cdots&-\\mathcal{S}(\\boldsymbol{a})_C\\\\\n",
    "-\\mathcal{S}(\\boldsymbol{a})_1&1-\\mathcal{S}(\\boldsymbol{a})_2&\\cdots&-\\mathcal{S}(\\boldsymbol{a})_C\\\\\n",
    "\\vdots&\\vdots&\\ddots&\\vdots\\\\%\n",
    "-\\mathcal{S}(\\boldsymbol{a})_1&-\\mathcal{S}(\\boldsymbol{a})_2&\\cdots&1-\\mathcal{S}(\\boldsymbol{a})_C\n",
    "\\end{pmatrix}$$"
   ]
  }
 ],
 "metadata": {
  "language_info": {
   "name": "python"
  },
  "orig_nbformat": 4
 },
 "nbformat": 4,
 "nbformat_minor": 2
}
