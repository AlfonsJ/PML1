{
 "cells": [
  {
   "cell_type": "markdown",
   "metadata": {},
   "source": [
    "# 7.8b.3 Identidades para vectores"
   ]
  },
  {
   "cell_type": "markdown",
   "metadata": {},
   "source": [
    "**Identidades para vectores:** $\\;\\boldsymbol{a}\\,$ constante; $\\;\\boldsymbol{u}\\,$ y $\\,\\boldsymbol{v}\\,$ funciones vectoriales de $\\,x\\in\\mathbb{R}^{1\\times 1}\\,$ o $\\,\\boldsymbol{x}\\in\\mathbb{R}^{n\\times 1}$\n",
    "\n",
    "|$\\boldsymbol{y}\\in\\mathbb{R}^{m\\times 1}$|$\\dfrac{\\partial\\boldsymbol{y}}{\\partial x}\\in\\mathbb{R}^{m\\times 1}$|$\\dfrac{\\partial\\boldsymbol{y}}{\\partial\\boldsymbol{x}}\\in\\mathbb{R}^{m\\times n}$|\n",
    "|:-:|:-:|:-:|\n",
    "|$\\boldsymbol{a}$|$\\boldsymbol{0}$|$\\mathbf{0}$|\n",
    "|$a\\boldsymbol{u}$|$a\\dfrac{\\partial\\boldsymbol{u}}{\\partial x}$|$a\\dfrac{\\partial\\boldsymbol{u}}{\\partial\\boldsymbol{x}}$|\n",
    "|$\\boldsymbol{u}+\\boldsymbol{v}$|$\\dfrac{\\partial\\boldsymbol{u}}{\\partial x}+\\dfrac{\\partial\\boldsymbol{v}}{\\partial x}$|$\\dfrac{\\partial\\boldsymbol{u}}{\\partial\\boldsymbol{x}}+\\dfrac{\\partial\\boldsymbol{v}}{\\partial\\boldsymbol{x}}$|\n",
    "|$\\boldsymbol{g}(\\boldsymbol{u})$|$\\dfrac{\\partial\\boldsymbol{g}(\\boldsymbol{u})}{\\partial\\boldsymbol{u}}\\dfrac{\\partial \\boldsymbol{u}}{\\partial x}$|$\\dfrac{\\partial\\boldsymbol{g}(\\boldsymbol{u})}{\\partial \\boldsymbol{u}}\\dfrac{\\partial\\boldsymbol{u}}{\\partial\\boldsymbol{x}}$|\n",
    "|$\\boldsymbol{f}(\\boldsymbol{g}(\\boldsymbol{u}))$|$\\dfrac{\\partial\\boldsymbol{f}(\\boldsymbol{g})}{\\partial\\boldsymbol{g}}\\dfrac{\\partial\\boldsymbol{g}(\\boldsymbol{u})}{\\partial\\boldsymbol{u}}\\dfrac{\\partial\\boldsymbol{u}}{\\partial x}$|$\\dfrac{\\partial\\boldsymbol{f}(\\boldsymbol{g})}{\\partial\\boldsymbol{g}}\\dfrac{\\partial\\boldsymbol{g}(\\boldsymbol{u})}{\\partial\\boldsymbol{u}}\\dfrac{\\partial\\boldsymbol{u}}{\\partial\\boldsymbol{x}}$|"
   ]
  },
  {
   "cell_type": "markdown",
   "metadata": {},
   "source": [
    "**Derivada de la softmax por los logits:** $\\displaystyle\\quad\\boldsymbol{\\mu}=\\mathcal{S}(\\boldsymbol{a})=\\left(\\frac{e^{a_1}}{\\sum_{\\tilde{c}}e^{a_{\\tilde{c}}}},\\dotsc,\\frac{e^{a_C}}{\\sum_{\\tilde{c}}e^{a_{\\tilde{c}}}}\\right)^t$\n",
    "$$\\frac{\\partial\\mu_i}{\\partial a_j}%\n",
    "=e^{a_i}\\frac{\\partial\\left(\\sum_{\\tilde{c}}e^{a_{\\tilde{c}}}\\right)^{-1}}{\\partial a_j}\n",
    "+\\frac{1}{\\sum_{\\tilde{c}}e^{a_{\\tilde{c}}}}\\frac{\\partial e^{a_i}}{\\partial a_j}\n",
    "=-\\frac{e^{a_i}e^{a_j}}{\\left(\\sum_{\\tilde{c}}e^{a_{\\tilde{c}}}\\right)^2}\n",
    "+\\frac{e^{a_i}\\mathbb{I}(i=j)}{\\sum_{\\tilde{c}}e^{a_{\\tilde{c}}}}\n",
    "=\\mu_i(\\mathbb{I}(i=j)-\\mu_j)$$\n",
    "\n",
    "$$\\frac{\\partial\\boldsymbol{\\mu}}{\\partial\\boldsymbol{a}}%\n",
    "=\\begin{pmatrix}\\frac{\\partial\\mu_1}{\\partial\\boldsymbol{a}}\\\\\\frac{\\partial\\mu_2}{\\partial\\boldsymbol{a}}\\\\\\vdots\\\\\\frac{\\partial\\mu_C}{\\partial\\boldsymbol{a}}\\end{pmatrix}%\n",
    "=\\begin{pmatrix}\\frac{\\partial\\mu_1}{\\partial a_1}&\\frac{\\partial\\mu_1}{\\partial a_2}&\\cdots&\\frac{\\partial\\mu_1}{\\partial a_C}\\\\\n",
    "\\frac{\\partial\\mu_2}{\\partial a_1}&\\frac{\\partial\\mu_2}{\\partial a_2}&\\cdots&\\frac{\\partial\\mu_2}{\\partial a_C}\\\\\n",
    "\\vdots&\\vdots&\\ddots&\\vdots\\\\%\n",
    "\\frac{\\partial\\mu_C}{\\partial a_1}&\\frac{\\partial\\mu_C}{\\partial a_2}&\\cdots&\\frac{\\partial\\mu_C}{\\partial a_C}\\end{pmatrix}\n",
    "=\\begin{pmatrix}\n",
    "\\mu_1(1-\\mu_1)&-\\mu_1\\mu_2&\\cdots&-\\mu_1\\mu_C\\\\\n",
    "-\\mu_2\\mu_1&\\mu_2(1-\\mu_2)&\\cdots&-\\mu_2\\mu_C\\\\\n",
    "\\vdots&\\vdots&\\ddots&\\vdots\\\\%\n",
    "-\\mu_C\\mu_1&-\\mu_C\\mu_2&\\cdots&\\mu_C(1-\\mu_C)\n",
    "\\end{pmatrix}\n",
    "=\\operatorname{diag}(\\boldsymbol{\\mu})-\\boldsymbol{\\mu}^t\\boldsymbol{\\mu}$$"
   ]
  },
  {
   "cell_type": "markdown",
   "metadata": {},
   "source": [
    "**Derivada de la log-softmax por los logits:** $\\displaystyle\\quad\\log\\boldsymbol{\\mu}\\;$ con $\\displaystyle\\;\\boldsymbol{\\mu}=\\mathcal{S}(\\boldsymbol{a})=\\left(\\frac{e^{a_1}}{\\sum_{\\tilde{c}}e^{a_{\\tilde{c}}}},\\dotsc,\\frac{e^{a_C}}{\\sum_{\\tilde{c}}e^{a_{\\tilde{c}}}}\\right)^t$\n",
    "$$\\frac{\\partial\\log\\mu_i}{\\partial a_j}%\n",
    "=\\frac{\\partial\\log\\mu_i}{\\partial\\mu_i}%\n",
    "\\frac{\\partial\\mu_i}{\\partial a_j}\n",
    "=\\frac{1}{\\mu_i}\\mu_i(\\mathbb{I}(i=j)-\\mu_j)\n",
    "=\\mathbb{I}(i=j)-\\mu_j$$\n",
    "\n",
    "$$\\frac{\\partial\\log\\boldsymbol{\\mu}}{\\partial\\boldsymbol{a}}%\n",
    "=\\begin{pmatrix}\n",
    "\\frac{\\partial\\log\\mu_1}{\\partial\\boldsymbol{a}}\\\\\n",
    "\\frac{\\partial\\log\\mu_2}{\\partial\\boldsymbol{a}}\\\\\n",
    "\\vdots\\\\\n",
    "\\frac{\\partial\\log\\mu_C}{\\partial\\boldsymbol{a}}\\end{pmatrix}%\n",
    "=\\begin{pmatrix}\n",
    "\\frac{\\partial\\log\\mu_1}{\\partial a_1}%\n",
    "&\\frac{\\partial\\log\\mu_1}{\\partial a_2}\n",
    "&\\cdots\n",
    "&\\frac{\\partial\\log\\mu_1}{\\partial a_C}\\\\\n",
    "\\frac{\\partial\\log\\mu_2}{\\partial a_1}%\n",
    "&\\frac{\\partial\\log\\mu_2}{\\partial a_2}\n",
    "&\\cdots\n",
    "&\\frac{\\partial\\log\\mu_2}{\\partial a_C}\\\\\n",
    "\\vdots&\\vdots&\\ddots&\\vdots\\\\%\n",
    "\\frac{\\partial\\log\\mu_C}{\\partial a_1}%\n",
    "&\\frac{\\partial\\log\\mu_C}{\\partial a_2}\n",
    "&\\cdots\n",
    "&\\frac{\\partial\\log\\mu_C}{\\partial a_C}\n",
    "\\end{pmatrix}\n",
    "=\\begin{pmatrix}\n",
    "1-\\mu_1&-\\mu_2&\\cdots&-\\mu_C\\\\\n",
    "-\\mu_1&1-\\mu_2&\\cdots&-\\mu_C\\\\\n",
    "\\vdots&\\vdots&\\ddots&\\vdots\\\\%\n",
    "-\\mu_1&-\\mu_2&\\cdots&1-\\mu_C\n",
    "\\end{pmatrix}\n",
    "=\\operatorname{diag}(\\boldsymbol{1}_C)-\\boldsymbol{1}_C\\boldsymbol{\\mu}^t$$"
   ]
  },
  {
   "cell_type": "markdown",
   "metadata": {},
   "source": [
    "**Derivada de la log-pérdida por la predicción:** $\\quad\\ell(\\boldsymbol{y},\\hat{\\boldsymbol{y}})=-\\sum_cy_c\\log\\hat{y}_c\\;$ con $\\,\\boldsymbol{y}\\,$ verdad (one-hot) y $\\,\\hat{\\boldsymbol{y}}=\\boldsymbol{\\mu}=\\mathcal{S}(\\boldsymbol{a})\\,$ predicción probabilística\n",
    "$$\\frac{\\partial\\ell(\\boldsymbol{y},\\hat{\\boldsymbol{y}})}{\\partial\\log\\hat{\\boldsymbol{y}}}\n",
    "=\\left(\\frac{\\partial\\ell(\\boldsymbol{y},\\hat{\\boldsymbol{y}})}{\\partial\\log\\hat{y}_1},\\cdots,\\frac{\\partial\\ell(\\boldsymbol{y},\\hat{\\boldsymbol{y}})}{\\partial\\log\\hat{y}_C}\\right)=-\\boldsymbol{y}^t$$\n",
    "\n",
    "$$\\frac{\\partial\\ell(\\boldsymbol{y},\\hat{\\boldsymbol{y}})}{\\partial\\boldsymbol{a}}\n",
    "=\\frac{\\partial\\ell(\\boldsymbol{y},\\hat{\\boldsymbol{y}})}{\\partial\\log\\hat{\\boldsymbol{y}}}\\frac{\\partial\\log\\hat{\\boldsymbol{y}}}{\\partial\\boldsymbol{a}}\n",
    "=-\\boldsymbol{y}^t(\\operatorname{diag}(\\boldsymbol{1}_C)-\\boldsymbol{1}_C\\boldsymbol{\\mu}^t)\n",
    "=\\boldsymbol{y}^t(\\boldsymbol{1}_C\\boldsymbol{\\mu}^t-\\operatorname{diag}(\\boldsymbol{1}_C))\n",
    "\\overset{\\boldsymbol{y}\\;\\operatorname{one-hot}}=(\\boldsymbol{\\mu}-\\boldsymbol{y})^t$$"
   ]
  }
 ],
 "metadata": {
  "language_info": {
   "name": "python"
  },
  "orig_nbformat": 4
 },
 "nbformat": 4,
 "nbformat_minor": 2
}
