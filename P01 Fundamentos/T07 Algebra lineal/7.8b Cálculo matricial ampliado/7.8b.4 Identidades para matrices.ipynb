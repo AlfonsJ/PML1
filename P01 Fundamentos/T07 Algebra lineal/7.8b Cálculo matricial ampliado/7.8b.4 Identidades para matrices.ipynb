{
 "cells": [
  {
   "cell_type": "markdown",
   "metadata": {},
   "source": [
    "# 7.8b.4 Identidades para matrices"
   ]
  },
  {
   "cell_type": "markdown",
   "metadata": {},
   "source": [
    "**Notación:** $\\;a\\,$ y $\\,\\mathbf{A}\\,$ constantes; $\\;\\mathbf{U}\\,$ y $\\,\\mathbf{V}\\,$ funciones matriciales de $x$\n",
    "\n",
    "|$\\mathbf{Y}\\in\\mathbb{R}^{m\\times n}$|$\\dfrac{\\partial\\mathbf{Y}}{\\partial x}\\in\\mathbb{R}^{m\\times n}$|\n",
    "|:-:|:-:|\n",
    "|$\\mathbf{A}$|$\\mathbf{0}$|\n",
    "|$a\\mathbf{U}$|$a\\dfrac{\\partial\\mathbf{U}}{\\partial x}$|\n",
    "|$\\mathbf{U}+\\mathbf{V}$|$\\dfrac{\\partial\\mathbf{U}}{\\partial x}+\\dfrac{\\partial\\mathbf{V}}{\\partial x}$|\n",
    "|$\\mathbf{U}\\mathbf{V}$|$\\mathbf{U}\\dfrac{\\partial\\mathbf{V}}{\\partial x}+\\dfrac{\\partial\\mathbf{U}}{\\partial x}\\mathbf{V}$|"
   ]
  },
  {
   "cell_type": "markdown",
   "metadata": {},
   "source": [
    "**Transformaciones lineales:** $\\quad\\boldsymbol{x}\\in\\mathbb{R}^{n},\\;\\boldsymbol{y}=\\mathbf{W}\\boldsymbol{x},\\;\\mathbf{W}\\in\\mathbb{R}^{m\\times n}$\n",
    "\n",
    "$$\\begin{align*}\n",
    "\\frac{\\partial y_k}{\\partial\\mathbf{W}}%\n",
    "&=\\begin{pmatrix}\n",
    "\\dfrac{\\partial y_k}{\\partial W_{11}}&\\dfrac{\\partial y_k}{\\partial W_{21}}&\\cdots&\\dfrac{\\partial y_k}{\\partial W_{m1}}\\\\\n",
    "\\dfrac{\\partial y_k}{\\partial W_{12}}&\\dfrac{\\partial y_k}{\\partial W_{22}}&\\cdots&\\dfrac{\\partial y_k}{\\partial W_{m2}}\\\\\n",
    "\\vdots&\\vdots&\\ddots&\\vdots\\\\\n",
    "\\dfrac{\\partial y_k}{\\partial W_{1n}}&\\dfrac{\\partial y_k}{\\partial W_{2n}}&\\cdots&\\dfrac{\\partial y_k}{\\partial W_{mn}}\n",
    "\\end{pmatrix}\n",
    "=\\begin{pmatrix}\n",
    "x_1\\mathbb{I}(k=1)&x_1\\mathbb{I}(k=2)&\\cdots&x_1\\mathbb{I}(k=m)\\\\\n",
    "x_2\\mathbb{I}(k=1)&x_2\\mathbb{I}(k=2)&\\cdots&x_2\\mathbb{I}(k=m)\\\\\n",
    "\\vdots&\\vdots&\\ddots&\\vdots\\\\\n",
    "x_n\\mathbb{I}(k=1)&x_n\\mathbb{I}(k=2)&\\cdots&x_n\\mathbb{I}(k=m)\n",
    "\\end{pmatrix}\n",
    "=\\boldsymbol{x}\\operatorname{one-hot}(k)^t\\in\\mathbb{R}^{n\\times m}\\\\\\\\\n",
    "\\boldsymbol{u}^t\\frac{\\partial\\boldsymbol{y}}{\\partial\\mathbf{W}}\n",
    "&=\\frac{\\partial\\boldsymbol{u}^t\\boldsymbol{y}}{\\partial\\mathbf{W}}\n",
    "=\\frac{\\partial}{\\partial\\mathbf{W}}\\sum_{k=1}^m u_ky_k\n",
    "=\\sum_{k=1}^m u_k\\frac{\\partial y_k}{\\partial\\mathbf{W}}\n",
    "=\\sum_{k=1}^m u_k\\boldsymbol{x}\\operatorname{one-hot}(k)^t\n",
    "=\\boldsymbol{x}\\sum_{k=1}^m u_k\\operatorname{one-hot}(k)^t\n",
    "=\\boldsymbol{x}\\boldsymbol{u}^t\n",
    "\\end{align*}$$"
   ]
  }
 ],
 "metadata": {
  "language_info": {
   "name": "python"
  },
  "orig_nbformat": 4
 },
 "nbformat": 4,
 "nbformat_minor": 2
}
