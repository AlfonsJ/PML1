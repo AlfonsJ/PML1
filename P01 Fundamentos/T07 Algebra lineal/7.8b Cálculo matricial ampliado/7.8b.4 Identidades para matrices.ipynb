{
 "cells": [
  {
   "cell_type": "markdown",
   "metadata": {},
   "source": [
    "# 7.8b.4 Identidades para matrices"
   ]
  },
  {
   "cell_type": "markdown",
   "metadata": {},
   "source": [
    "**Notación:** $\\;a\\,$ y $\\,\\mathbf{A}\\,$ constantes; $\\;\\mathbf{U}\\,$ y $\\,\\mathbf{V}\\,$ funciones matriciales de $x$\n",
    "\n",
    "|$\\mathbf{Y}\\in\\mathbb{R}^{m\\times n}$|$\\dfrac{\\partial\\mathbf{Y}}{\\partial x}\\in\\mathbb{R}^{m\\times n}$|\n",
    "|:-:|:-:|\n",
    "|$\\mathbf{A}$|$\\mathbf{0}$|\n",
    "|$a\\mathbf{U}$|$a\\dfrac{\\partial\\mathbf{U}}{\\partial x}$|\n",
    "|$\\mathbf{U}+\\mathbf{V}$|$\\dfrac{\\partial\\mathbf{U}}{\\partial x}+\\dfrac{\\partial\\mathbf{V}}{\\partial x}$|\n",
    "|$\\mathbf{U}\\mathbf{V}$|$\\mathbf{U}\\dfrac{\\partial\\mathbf{V}}{\\partial x}+\\dfrac{\\partial\\mathbf{U}}{\\partial x}\\mathbf{V}$|"
   ]
  },
  {
   "cell_type": "markdown",
   "metadata": {},
   "source": [
    "**Producto vector-Jacobiana (VJP):** \n",
    "\n",
    "En general no necesitamos hallar $\\,\\dfrac{\\partial\\boldsymbol{y}}{\\partial\\mathbf{W}},\\,$ sino $\\,\\boldsymbol{u}^t\\dfrac{\\partial\\boldsymbol{y}}{\\partial\\mathbf{W}}\\in\\mathbb{R}^{n\\times m}\\,$ con $\\,\\boldsymbol{u}\\in\\mathbb{R}^m$\n",
    "\n",
    "$$\\boldsymbol{u}^t\\frac{\\partial\\boldsymbol{y}}{\\partial\\mathbf{W}}=\\sum_{k=1}^m u_k\\dfrac{\\partial y_k}{\\partial\\mathbf{W}}=\\begin{bmatrix}\\sum_ku_k\\dfrac{\\partial y_k}{\\partial W_{11}}&\\cdots&\\sum_ku_k\\dfrac{\\partial y_k}{\\partial W_{m1}}\\\\[1mm]\\vdots&\\ddots&\\vdots\\\\\\sum_ku_k\\dfrac{\\partial y_k}{\\partial W_{1n}}&\\cdots&\\sum_ku_k\\dfrac{\\partial y_k}{\\partial W_{mn}}\\end{bmatrix}=\\begin{bmatrix}u_1x_1&\\cdots&u_mx_1\\\\[1mm]\\vdots&\\ddots&\\vdots\\\\u_1x_n&\\cdots&u_mx_n\\end{bmatrix}=\\boldsymbol{x}\\boldsymbol{u}^t$$"
   ]
  }
 ],
 "metadata": {
  "language_info": {
   "name": "python"
  },
  "orig_nbformat": 4
 },
 "nbformat": 4,
 "nbformat_minor": 2
}
