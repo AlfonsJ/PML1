{
 "cells": [
  {
   "cell_type": "markdown",
   "metadata": {},
   "source": [
    "# 7.8.9.2 Identidades básicas\n",
    "\n",
    "**Notación:** $\\;x\\in\\mathbb{R}^{1\\times 1},\\,$ $\\boldsymbol{x}\\in\\mathbb{R}^{n\\times 1}\\,$ y $\\,\\mathbf{X}\\in\\mathbb{R}^{p\\times q}$"
   ]
  },
  {
   "cell_type": "markdown",
   "metadata": {},
   "source": [
    "**Identidades para escalares:** $\\;a\\,$ constante; $\\;u\\,$ y $\\,v\\,$ funciones reales de $\\,x,\\,$ $\\boldsymbol{x}\\,$ o $\\,\\mathbf{X}$\n",
    "\n",
    "<center>\n",
    "\n",
    "|$y\\in\\mathbb{R}^{1\\times 1}$|$\\dfrac{\\partial y}{\\partial x}\\in\\mathbb{R}^{1\\times 1}$|$\\dfrac{\\partial y}{\\partial\\boldsymbol{x}}\\in\\mathbb{R}^{1\\times n}$|$\\dfrac{\\partial y}{\\partial\\mathbf{X}}\\in\\mathbb{R}^{q\\times p}$|\n",
    "|:-:|:-:|:-:|:-:|\n",
    "|$a$|$0$|$\\boldsymbol{0}$|$\\mathbf{0}$|\n",
    "|$au$|$a\\dfrac{\\partial u}{\\partial x}$|$a\\dfrac{\\partial u}{\\partial\\boldsymbol{x}}$|$a\\dfrac{\\partial u}{\\partial\\mathbf{X}}$|\n",
    "|$u+v$|$\\dfrac{\\partial u}{\\partial x}+\\dfrac{\\partial v}{\\partial x}$|$\\dfrac{\\partial u}{\\partial\\boldsymbol{x}}+\\dfrac{\\partial v}{\\partial\\boldsymbol{x}}$|$\\dfrac{\\partial u}{\\partial\\mathbf{X}}+\\dfrac{\\partial v}{\\partial\\mathbf{X}}$|\n",
    "|$uv$|$u\\dfrac{\\partial v}{\\partial x}+v\\dfrac{\\partial u}{\\partial x}$|$u\\dfrac{\\partial v}{\\partial\\boldsymbol{x}}+v\\dfrac{\\partial u}{\\partial\\boldsymbol{x}}$|$u\\dfrac{\\partial v}{\\partial\\mathbf{X}}+v\\dfrac{\\partial u}{\\partial\\mathbf{X}}$|\n",
    "|$g(u)$|$\\dfrac{\\partial g(u)}{\\partial u}\\dfrac{\\partial u}{\\partial x}$|$\\dfrac{\\partial g(u)}{\\partial u}\\dfrac{\\partial u}{\\partial\\boldsymbol{x}}$|$\\dfrac{\\partial g(u)}{\\partial u}\\dfrac{\\partial u}{\\partial\\mathbf{X}}$|\n",
    "|$f(g(u))$|$\\dfrac{\\partial f(g)}{\\partial g}\\dfrac{\\partial g(u)}{\\partial u}\\dfrac{\\partial u}{\\partial x}$|$\\dfrac{\\partial f(g)}{\\partial g}\\dfrac{\\partial g(u)}{\\partial u}\\dfrac{\\partial u}{\\partial\\boldsymbol{x}}$|$\\dfrac{\\partial f(g)}{\\partial g}\\dfrac{\\partial g(u)}{\\partial u}\\dfrac{\\partial u}{\\partial\\mathbf{X}}$|\n",
    "\n",
    "</center>"
   ]
  },
  {
   "cell_type": "markdown",
   "metadata": {},
   "source": [
    "**Identidades para vectores:** $\\;\\boldsymbol{a}\\,$ constante; $\\;\\boldsymbol{u}\\,$ y $\\,\\boldsymbol{v}\\,$ funciones vectoriales de $\\,x\\,$ o $\\,\\boldsymbol{x}$\n",
    "\n",
    "<center>\n",
    "\n",
    "|$\\boldsymbol{y}\\in\\mathbb{R}^{m\\times 1}$|$\\dfrac{\\partial\\boldsymbol{y}}{\\partial x}\\in\\mathbb{R}^{m\\times 1}$|$\\dfrac{\\partial\\boldsymbol{y}}{\\partial\\boldsymbol{x}}\\in\\mathbb{R}^{m\\times n}$|\n",
    "|:-:|:-:|:-:|\n",
    "|$\\boldsymbol{a}$|$\\boldsymbol{0}$|$\\mathbf{0}$|\n",
    "|$a\\boldsymbol{u}$|$a\\dfrac{\\partial\\boldsymbol{u}}{\\partial x}$|$a\\dfrac{\\partial\\boldsymbol{u}}{\\partial\\boldsymbol{x}}$|\n",
    "|$\\boldsymbol{u}+\\boldsymbol{v}$|$\\dfrac{\\partial\\boldsymbol{u}}{\\partial x}+\\dfrac{\\partial\\boldsymbol{v}}{\\partial x}$|$\\dfrac{\\partial\\boldsymbol{u}}{\\partial\\boldsymbol{x}}+\\dfrac{\\partial\\boldsymbol{v}}{\\partial\\boldsymbol{x}}$|\n",
    "|$\\boldsymbol{g}(\\boldsymbol{u})$|$\\dfrac{\\partial\\boldsymbol{g}(\\boldsymbol{u})}{\\partial\\boldsymbol{u}}\\dfrac{\\partial \\boldsymbol{u}}{\\partial x}$|$\\dfrac{\\partial\\boldsymbol{g}(\\boldsymbol{u})}{\\partial \\boldsymbol{u}}\\dfrac{\\partial\\boldsymbol{u}}{\\partial\\boldsymbol{x}}$|\n",
    "|$\\boldsymbol{f}(\\boldsymbol{g}(\\boldsymbol{u}))$|$\\dfrac{\\partial\\boldsymbol{f}(\\boldsymbol{g})}{\\partial\\boldsymbol{g}}\\dfrac{\\partial\\boldsymbol{g}(\\boldsymbol{u})}{\\partial\\boldsymbol{u}}\\dfrac{\\partial\\boldsymbol{u}}{\\partial x}$|$\\dfrac{\\partial\\boldsymbol{f}(\\boldsymbol{g})}{\\partial\\boldsymbol{g}}\\dfrac{\\partial\\boldsymbol{g}(\\boldsymbol{u})}{\\partial\\boldsymbol{u}}\\dfrac{\\partial\\boldsymbol{u}}{\\partial\\boldsymbol{x}}$|\n",
    "\n",
    "</center>"
   ]
  },
  {
   "cell_type": "markdown",
   "metadata": {},
   "source": [
    "**Identidades para matrices:** $\\;a\\,$ y $\\,\\mathbf{A}\\,$ constantes; $\\;\\mathbf{U}\\,$ y $\\,\\mathbf{V}\\,$ funciones matriciales de $x$\n",
    "\n",
    "<center>\n",
    "\n",
    "|$\\mathbf{Y}\\in\\mathbb{R}^{m\\times n}$|$\\dfrac{\\partial\\mathbf{Y}}{\\partial x}\\in\\mathbb{R}^{m\\times n}$|\n",
    "|:-:|:-:|\n",
    "|$\\mathbf{A}$|$\\mathbf{0}$|\n",
    "|$a\\mathbf{U}$|$a\\dfrac{\\partial\\mathbf{U}}{\\partial x}$|\n",
    "|$\\mathbf{U}+\\mathbf{V}$|$\\dfrac{\\partial\\mathbf{U}}{\\partial x}+\\dfrac{\\partial\\mathbf{V}}{\\partial x}$|\n",
    "|$\\mathbf{U}\\mathbf{V}$|$\\mathbf{U}\\dfrac{\\partial\\mathbf{V}}{\\partial x}+\\dfrac{\\partial\\mathbf{U}}{\\partial x}\\mathbf{V}$|\n",
    "\n",
    "</center>"
   ]
  }
 ],
 "metadata": {
  "language_info": {
   "name": "python"
  },
  "orig_nbformat": 4
 },
 "nbformat": 4,
 "nbformat_minor": 2
}
