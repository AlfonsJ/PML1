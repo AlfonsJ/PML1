{
 "cells": [
  {
   "cell_type": "markdown",
   "metadata": {},
   "source": [
    "# 7.8b.5 Transformaciones lineales"
   ]
  },
  {
   "cell_type": "markdown",
   "metadata": {},
   "source": [
    "**Transformaciones lineales:** $\\quad\\boldsymbol{x}\\in\\mathbb{R}^{n},\\;\\boldsymbol{y}=\\mathbf{W}\\boldsymbol{x},\\;\\mathbf{W}\\in\\mathbb{R}^{m\\times n},\\,\\boldsymbol{u}\\in\\mathbb{R}^m\\,$ constante"
   ]
  },
  {
   "cell_type": "markdown",
   "metadata": {},
   "source": [
    "**Derivada de $\\boldsymbol{y}$ con respecto a $\\boldsymbol{x}$:**\n",
    "\n",
    "$$\\begin{align*}\n",
    "\\dfrac{\\partial y_i}{\\partial x_j}\n",
    "&=\\dfrac{\\partial}{\\partial x_j}\\sum_k W_{ik}x_k=\\sum_k W_{ik}\\dfrac{\\partial x_k}{\\partial x_j}=W_{ij}\\\\\n",
    "\\frac{\\partial\\boldsymbol{y}}{\\partial\\boldsymbol{x}}\n",
    "&=\\begin{pmatrix}\\dfrac{\\partial y_1}{\\partial\\boldsymbol{x}}\\\\[1mm]\\vdots\\\\\\dfrac{\\partial y_m}{\\partial\\boldsymbol{x}}\\end{pmatrix}=\\begin{pmatrix}\\dfrac{\\partial y_1}{\\partial x_1}&\\cdots&\\dfrac{\\partial y_1}{\\partial x_n}\\\\[1mm]\\vdots&\\ddots&\\vdots\\\\\\dfrac{\\partial y_m}{\\partial x_1}&\\cdots&\\dfrac{\\partial y_m}{\\partial x_n}\\end{pmatrix}=\\mathbf{W}\\\\\n",
    "\\end{align*}$$"
   ]
  },
  {
   "cell_type": "markdown",
   "metadata": {},
   "source": [
    "**Derivadas de $\\boldsymbol{y}$ con respecto a $\\mathbf{W}$:**\n",
    "\n",
    "$$\\begin{align*}\n",
    "\\dfrac{\\partial y_k}{\\partial W_{ij}}\n",
    "&=\\dfrac{\\partial}{\\partial W_{ij}}\\sum_l W_{kl}x_l=\\sum_l x_l\\dfrac{\\partial W_{kl}}{\\partial W_{ij}}=x_j\\mathbb{I}(k=i)\\\\\n",
    "\\frac{\\partial\\boldsymbol{y}}{\\partial W_{ij}}\n",
    "&=\\begin{pmatrix}\\dfrac{\\partial y_1}{\\partial W_{ij}}\\\\[1mm]\\vdots\\\\\\dfrac{\\partial y_m}{\\partial W_{ij}}\\end{pmatrix}=x_j\\operatorname{one-hot}(i)\\\\\n",
    "\\frac{\\partial y_k}{\\partial\\mathbf{W}}%\n",
    "&=\\begin{pmatrix}\n",
    "\\dfrac{\\partial y_k}{\\partial W_{11}}&\\dfrac{\\partial y_k}{\\partial W_{21}}&\\cdots&\\dfrac{\\partial y_k}{\\partial W_{m1}}\\\\\n",
    "\\dfrac{\\partial y_k}{\\partial W_{12}}&\\dfrac{\\partial y_k}{\\partial W_{22}}&\\cdots&\\dfrac{\\partial y_k}{\\partial W_{m2}}\\\\\n",
    "\\vdots&\\vdots&\\ddots&\\vdots\\\\\n",
    "\\dfrac{\\partial y_k}{\\partial W_{1n}}&\\dfrac{\\partial y_k}{\\partial W_{2n}}&\\cdots&\\dfrac{\\partial y_k}{\\partial W_{mn}}\n",
    "\\end{pmatrix}\n",
    "=\\begin{pmatrix}\n",
    "x_1\\mathbb{I}(k=1)&x_1\\mathbb{I}(k=2)&\\cdots&x_1\\mathbb{I}(k=m)\\\\\n",
    "x_2\\mathbb{I}(k=1)&x_2\\mathbb{I}(k=2)&\\cdots&x_2\\mathbb{I}(k=m)\\\\\n",
    "\\vdots&\\vdots&\\ddots&\\vdots\\\\\n",
    "x_n\\mathbb{I}(k=1)&x_n\\mathbb{I}(k=2)&\\cdots&x_n\\mathbb{I}(k=m)\n",
    "\\end{pmatrix}\n",
    "=\\boldsymbol{x}\\operatorname{one-hot}(k)^t\\in\\mathbb{R}^{n\\times m}\\\\\n",
    "\\boldsymbol{u}^t\\frac{\\partial\\boldsymbol{y}}{\\partial\\mathbf{W}}\n",
    "&=\\frac{\\partial\\boldsymbol{u}^t\\boldsymbol{y}}{\\partial\\mathbf{W}}\n",
    "=\\frac{\\partial}{\\partial\\mathbf{W}}\\sum_{k=1}^m u_ky_k\n",
    "=\\sum_{k=1}^m u_k\\frac{\\partial y_k}{\\partial\\mathbf{W}}\n",
    "=\\sum_{k=1}^m u_k\\boldsymbol{x}\\operatorname{one-hot}(k)^t\n",
    "=\\boldsymbol{x}\\sum_{k=1}^m u_k\\operatorname{one-hot}(k)^t\n",
    "=\\boldsymbol{x}\\boldsymbol{u}^t\n",
    "\\end{align*}$$"
   ]
  }
 ],
 "metadata": {
  "language_info": {
   "name": "python"
  },
  "orig_nbformat": 4
 },
 "nbformat": 4,
 "nbformat_minor": 2
}
