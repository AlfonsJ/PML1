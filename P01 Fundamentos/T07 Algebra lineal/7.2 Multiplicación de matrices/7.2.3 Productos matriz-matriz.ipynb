{
 "cells": [
  {
   "attachments": {},
   "cell_type": "markdown",
   "metadata": {},
   "source": [
    "# 7.2.3 Productos matriz-matriz"
   ]
  },
  {
   "attachments": {},
   "cell_type": "markdown",
   "metadata": {},
   "source": [
    "## Interpretaciones\n",
    "\n",
    "Dadas $\\,\\mathbf{A}\\in\\mathbb{R}^{m\\times n}\\,$ y $\\,\\mathbf{B}\\in\\mathbb{R}^{n\\times p},\\,$ existen cuatro maneras diferentes de interpretar $\\;\\mathbf{C}=\\mathbf{A}\\mathbf{B}\\in\\mathbb{R}^{m\\times p}$:\n",
    "\n",
    "$$\\begin{align*}\n",
    "\\mathbf{C}&=\\begin{bmatrix}\\boldsymbol{a}_1^t\\\\\\boldsymbol{a}_2^t\\\\\\vdots\\\\\\boldsymbol{a}_m^t\\end{bmatrix}[\\boldsymbol{b}_1,\\boldsymbol{b}_2,\\dotsc,\\boldsymbol{b}_p]%\n",
    "=\\begin{bmatrix}\n",
    "\\boldsymbol{a}_1^t\\boldsymbol{b}_1&\\boldsymbol{a}_1^t\\boldsymbol{b}_2&\\cdots&\\boldsymbol{a}_1^t\\boldsymbol{b}_p\\\\%\n",
    "\\boldsymbol{a}_2^t\\boldsymbol{b}_1&\\boldsymbol{a}_2^t\\boldsymbol{b}_2&\\cdots&\\boldsymbol{a}_2^t\\boldsymbol{b}_p\\\\%\n",
    "\\vdots & \\vdots& \\ddots & \\vdots\\\\%\n",
    "\\boldsymbol{a}_m^t\\boldsymbol{b}_1&\\boldsymbol{a}_m^t\\boldsymbol{b}_2&\\cdots&\\boldsymbol{a}_m^t\\boldsymbol{b}_p\\\\%\n",
    "\\end{bmatrix}\\\\%\n",
    "\\mathbf{C}&=[\\boldsymbol{a}_1,\\boldsymbol{a}_2,\\dotsc,\\boldsymbol{a}_n]%\n",
    "\\begin{bmatrix}\\boldsymbol{b}_1^t\\\\\\boldsymbol{b}_2^t\\\\\\vdots\\\\\\boldsymbol{b}_n^t\\end{bmatrix}%\n",
    "=\\sum_{i=1}^n\\boldsymbol{a}_i\\boldsymbol{b}_i^t\\\\[3mm]%\n",
    "\\mathbf{C}&=\\mathbf{A}[\\boldsymbol{b}_1,\\boldsymbol{b}_2,\\dotsc,\\boldsymbol{b}_p]=[\\mathbf{A}\\boldsymbol{b}_1,\\mathbf{A}\\boldsymbol{b}_2,\\dotsc,\\mathbf{A}\\boldsymbol{b}_p]\\\\[3mm]%\n",
    "\\mathbf{C}&=\\begin{bmatrix}\\boldsymbol{a}_1^t\\\\\\boldsymbol{a}_2^t\\\\\\vdots\\\\\\boldsymbol{a}_m^t\\end{bmatrix}\\mathbf{B}%\n",
    "=\\begin{bmatrix}\\boldsymbol{a}_1^t\\mathbf{B}\\\\\\boldsymbol{a}_2^t\\mathbf{B}\\\\\\vdots\\\\\\boldsymbol{a}_m^t\\mathbf{B}\\end{bmatrix}%\n",
    "\\end{align*}$$"
   ]
  },
  {
   "attachments": {},
   "cell_type": "markdown",
   "metadata": {},
   "source": [
    "## Notación\n",
    "\n",
    "**Cuadrado matricial:** $\\;\\mathbf{A}^2=\\mathbf{A}\\mathbf{A}$\n",
    "\n",
    "**Cuadrado elemental:** $\\;\\mathbf{A}^{\\odot\\,2}=[A_{ij}^2]$\n",
    "\n",
    "**Raíz cuadrada matricial:** $\\;\\mathbf{A}=\\sqrt{\\mathbf{M}}\\quad\\text{si}\\quad \\mathbf{A}^2=\\mathbf{M}$\n",
    "\n",
    "**Raíz cuadrada elemental:** $\\;[\\sqrt{M_{ij}}]$"
   ]
  }
 ],
 "metadata": {
  "kernelspec": {
   "display_name": "Python 3",
   "language": "python",
   "name": "python3"
  },
  "language_info": {
   "codemirror_mode": {
    "name": "ipython",
    "version": 3
   },
   "file_extension": ".py",
   "mimetype": "text/x-python",
   "name": "python",
   "nbconvert_exporter": "python",
   "pygments_lexer": "ipython3",
   "version": "3.10.6"
  },
  "orig_nbformat": 4
 },
 "nbformat": 4,
 "nbformat_minor": 2
}
