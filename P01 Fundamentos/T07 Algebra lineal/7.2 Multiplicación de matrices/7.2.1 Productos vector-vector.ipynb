{
 "cells": [
  {
   "attachments": {},
   "cell_type": "markdown",
   "metadata": {},
   "source": [
    "# 7.2.1 Productos vector-vector"
   ]
  },
  {
   "attachments": {},
   "cell_type": "markdown",
   "metadata": {},
   "source": [
    "## Producto escalar, interno o punto\n",
    "\n",
    "$$\\;\\boldsymbol{x},\\boldsymbol{y}\\in\\mathbb{R}^n:\\quad \\langle\\boldsymbol{x},\\boldsymbol{y}\\rangle=\\boldsymbol{x}^t\\boldsymbol{y}=\\sum_{i=1}^nx_iy_i=\\boldsymbol{y}^t\\boldsymbol{x}$$"
   ]
  },
  {
   "cell_type": "code",
   "execution_count": 1,
   "metadata": {},
   "outputs": [
    {
     "name": "stdout",
     "output_type": "stream",
     "text": [
      "4\n"
     ]
    }
   ],
   "source": [
    "import numpy as np\n",
    "x = np.array([1, 2]); y = np.array([2, 1])\n",
    "print(np.dot(x, y))"
   ]
  },
  {
   "attachments": {},
   "cell_type": "markdown",
   "metadata": {},
   "source": [
    "## Producto vectorial, externo o cruz\n",
    "\n",
    "$$\\;\\boldsymbol{x}\\in\\mathbb{R}^m,\\;\\boldsymbol{y}\\in\\mathbb{R}^n:\\quad\\boldsymbol{x}\\boldsymbol{y}^t=\\begin{bmatrix}\n",
    "x_1y_1 & x_1y_2 & \\cdots & x_1y_n\\\\%\n",
    "x_2y_1 & x_2y_2 & \\cdots & x_2y_n\\\\%\n",
    "\\vdots & \\vdots& \\ddots & \\vdots\\\\%\n",
    "x_my_1 & x_my_2 & \\cdots & x_my_n%\n",
    "\\end{bmatrix}\\in\\mathbb{R}^{m\\times n}$$"
   ]
  },
  {
   "cell_type": "code",
   "execution_count": 2,
   "metadata": {},
   "outputs": [
    {
     "name": "stdout",
     "output_type": "stream",
     "text": [
      "[[2 1]\n",
      " [4 2]]\n"
     ]
    }
   ],
   "source": [
    "import numpy as np\n",
    "x = np.array([1, 2]); y = np.array([2, 1])\n",
    "print(np.outer(x, y));"
   ]
  }
 ],
 "metadata": {
  "kernelspec": {
   "display_name": "Python 3",
   "language": "python",
   "name": "python3"
  },
  "language_info": {
   "codemirror_mode": {
    "name": "ipython",
    "version": 3
   },
   "file_extension": ".py",
   "mimetype": "text/x-python",
   "name": "python",
   "nbconvert_exporter": "python",
   "pygments_lexer": "ipython3",
   "version": "3.10.6"
  },
  "orig_nbformat": 4
 },
 "nbformat": 4,
 "nbformat_minor": 2
}
