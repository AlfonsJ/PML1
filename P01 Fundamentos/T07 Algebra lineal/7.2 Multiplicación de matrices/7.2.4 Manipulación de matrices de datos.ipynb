{
 "cells": [
  {
   "attachments": {},
   "cell_type": "markdown",
   "metadata": {},
   "source": [
    "# 7.2.4 Manipulación de matrices de datos"
   ]
  },
  {
   "cell_type": "markdown",
   "metadata": {},
   "source": [
    "\n",
    "Sea $\\mathbf{X}\\in\\mathbb{R}^{N\\times D}$ una matriz de $N$ datos $D$-dimensionales. "
   ]
  },
  {
   "cell_type": "code",
   "execution_count": 1,
   "metadata": {},
   "outputs": [
    {
     "data": {
      "image/png": "[encoded data removed]",
      "text/plain": [
       "<Figure size 432x288 with 1 Axes>"
      ]
     },
     "metadata": {
      "needs_background": "light"
     },
     "output_type": "display_data"
    }
   ],
   "source": [
    "import numpy as np\n",
    "import matplotlib.pyplot as plt\n",
    "X = np.array([ [-1, -1], [0, 2], [2, 0], [3, 3] ]).astype(float)\n",
    "m = np.mean(X, axis=0)\n",
    "fig, ax = plt.subplots(); ax.set_aspect(\"equal\"); plt.grid(True)\n",
    "plt.axis([-2, 4, -2, 4]); plt.xticks(fontsize=16); plt.yticks(fontsize=16)\n",
    "plt.scatter(m[0], m[1], facecolor='C0', edgecolor='k', s=100, marker=\"X\")\n",
    "plt.scatter(X[:,0], X[:,1], facecolor='C0', edgecolor='k', s=100);"
   ]
  },
  {
   "attachments": {},
   "cell_type": "markdown",
   "metadata": {},
   "source": [
    "## Suma de trozos de la matriz\n",
    "\n",
    "**Suma de filas:** $\\;\\boldsymbol{1}_N^t\\mathbf{X}=(\\sum\\nolimits_n x_{n1},\\;\\cdots\\;,\\sum\\nolimits_nx_{nD})$\n",
    "\n",
    "**Media de los datos:** $\\;\\bar{\\boldsymbol{x}}^t=\\frac{1}{N}\\boldsymbol{1}_N^t\\mathbf{X}$\n",
    "\n",
    "**Suma de columnas:** $\\;\\mathbf{X}\\boldsymbol{1}_D=\\begin{pmatrix}\\sum_dx_{1d}\\\\\\vdots\\\\\\sum_dx_{Nd}\\end{pmatrix}$\n",
    "\n",
    "**Suma de todas las entradas:** $\\;\\boldsymbol{1}_N^t\\mathbf{X}\\boldsymbol{1}_D=\\sum\\nolimits_{ij}x_{ij}$\n",
    "\n",
    "**Media global de los datos:** $\\;\\bar{x}=\\frac{1}{ND}\\boldsymbol{1}_N^t\\mathbf{X}\\boldsymbol{1}_D$"
   ]
  },
  {
   "cell_type": "code",
   "execution_count": 2,
   "metadata": {},
   "outputs": [
    {
     "name": "stdout",
     "output_type": "stream",
     "text": [
      "Suma de filas:  [4. 4.] [4. 4.]\n",
      "Media de los datos:  [1. 1.] [1. 1.]\n",
      "Suma de columnas:  [-2.  2.  2.  6.] [-2.  2.  2.  6.]\n",
      "Suma de todas las entradas:  8.0 8.0\n",
      "Media global de los datos:  1.0 1.0\n"
     ]
    }
   ],
   "source": [
    "import numpy as np\n",
    "X = np.array([ [-1, -1], [0, 2], [2, 0], [3, 3] ]).astype(float); N, D = X.shape\n",
    "print(\"Suma de filas: \", np.ones(N) @ X, np.sum(X, axis=0))\n",
    "print(\"Media de los datos: \", 1/N * np.ones(N) @ X, np.mean(X, axis=0))\n",
    "print(\"Suma de columnas: \", X @ np.ones(D), np.sum(X, axis=1))\n",
    "print(\"Suma de todas las entradas: \", np.ones(N) @ X @ np.ones(D), np.sum(X))\n",
    "print(\"Media global de los datos: \", 1/(N*D) * np.ones(N) @ X @ np.ones(D), np.mean(X))"
   ]
  },
  {
   "attachments": {},
   "cell_type": "markdown",
   "metadata": {},
   "source": [
    "## Escalado de filas y columnas de una matriz\n",
    "\n",
    "**Escalado de filas con $\\mathbf{S}=\\operatorname{diag}(\\boldsymbol{s})$:** $\\quad\\mathbf{S}\\mathbf{X}=\\begin{bmatrix}s_1&\\cdots&0\\\\&\\ddots&\\\\0&\\cdots&s_N\\end{bmatrix}\\begin{bmatrix}x_{11}&\\cdots&x_{1D}\\\\&\\ddots&\\\\x_{N1}&\\cdots&x_{ND}\\end{bmatrix}=\\begin{bmatrix}s_1x_{11}&\\cdots&s_1x_{1D}\\\\&\\ddots&\\\\s_Nx_{N1}&\\cdots&s_Nx_{ND}\\end{bmatrix}$\n",
    "\n",
    "**Escalado de columnas con $\\mathbf{S}=\\operatorname{diag}(\\boldsymbol{s})$:** $\\quad\\mathbf{X}\\mathbf{S}=\\begin{bmatrix}x_{11}&\\cdots&x_{1D}\\\\&\\ddots&\\\\x_{N1}&\\cdots&x_{ND}\\end{bmatrix}\\begin{bmatrix}s_1&\\cdots&0\\\\&\\ddots&\\\\0&\\cdots&s_D\\end{bmatrix}=\\begin{bmatrix}s_1x_{11}&\\cdots&s_Dx_{1D}\\\\&\\ddots&\\\\s_1x_{N1}&\\cdots&s_Dx_{ND}\\end{bmatrix}$\n",
    "\n",
    "**Estandarización:** $\\quad\\operatorname{standardize}(\\mathbf{X})=(\\mathbf{X}-\\boldsymbol{1}_N\\boldsymbol{\\mu}^t)\\operatorname{diag}(\\boldsymbol{\\sigma})^{-1}$\n"
   ]
  },
  {
   "cell_type": "code",
   "execution_count": 3,
   "metadata": {},
   "outputs": [
    {
     "data": {
      "image/png": "[encoded data removed]",
      "text/plain": [
       "<Figure size 432x288 with 1 Axes>"
      ]
     },
     "metadata": {
      "needs_background": "light"
     },
     "output_type": "display_data"
    }
   ],
   "source": [
    "import numpy as np\n",
    "import matplotlib.pyplot as plt\n",
    "X = np.array([ [-1, -1], [0, 2], [2, 0], [3, 3] ]).astype(float)\n",
    "m = np.mean(X, axis=0); sigma = np.std(X, axis=0)\n",
    "Xstd = (X - m) / sigma\n",
    "fig, ax = plt.subplots(); ax.set_aspect(\"equal\"); plt.grid(True)\n",
    "plt.axis([-2, 4, -2, 4]); plt.xticks(fontsize=16); plt.yticks(fontsize=16)\n",
    "plt.scatter(m[0], m[1], facecolor='C0', edgecolor='k', s=100, marker=\"X\")\n",
    "plt.scatter(X[:,0], X[:,1], facecolor='C0', edgecolor='k', s=100);\n",
    "plt.scatter(0, 0, facecolor='C1', edgecolor='k', s=100, marker=\"X\")\n",
    "plt.scatter(Xstd[:,0], Xstd[:,1], facecolor='C1', edgecolor='k', s=100);"
   ]
  },
  {
   "attachments": {},
   "cell_type": "markdown",
   "metadata": {},
   "source": [
    "## Suma de cuadrados y matriz de dispersión\n",
    "\n",
    "**Suma de cuadrados:** $\\;\\displaystyle\\mathbf{S}_0=\\mathbf{X}^t\\mathbf{X}=[\\boldsymbol{x}_1,\\boldsymbol{x}_2,\\dotsc,\\boldsymbol{x}_N]\\begin{bmatrix}\\boldsymbol{x}_1^t\\\\\\boldsymbol{x}_2^t\\\\\\vdots\\\\\\boldsymbol{x}_N^t\\end{bmatrix}=\\sum_{n=1}^N\\boldsymbol{x}_n\\boldsymbol{x}_n^t=\\sum_{n=1}^N\\begin{pmatrix}x_{n1}^2&\\cdots&x_{n1}x_{nD}\\\\&\\ddots\\\\x_{nD}x_{n1}&\\cdots&x_{nD}^2\\end{pmatrix}$\n",
    "\n",
    "**Matriz de centrado:** $\\;\\mathbf{C}_N=\\mathbf{I}_N-\\frac{1}{N}\\boldsymbol{1}_N\\boldsymbol{1}_N^t,\\,$ simétrica e idempotente ($\\mathbf{C}_N^k=\\mathbf{C}_N$, $k\\geq 1$), centra los datos\n",
    "$$\\tilde{\\mathbf{X}}=\\mathbf{X}-\\boldsymbol{1}_N\\bar{\\boldsymbol{x}}^t=\\mathbf{X}-\\frac{1}{N}\\boldsymbol{1}_N\\boldsymbol{1}_N^t\\mathbf{X}=\\mathbf{C}_N\\mathbf{X}$$\n",
    "\n",
    "**Matriz de dispersión:** $\\;\\displaystyle\\mathbf{S}_{\\bar{\\boldsymbol{x}}}=\\sum_{n=1}^N(\\boldsymbol{x}_n-\\bar{\\boldsymbol{x}})(\\boldsymbol{x}_n-\\bar{\\boldsymbol{x}})^t=\\tilde{\\mathbf{X}}^t\\tilde{\\mathbf{X}}=\\mathbf{X}^t\\mathbf{C}_N^t\\mathbf{C}_N\\mathbf{X}=\\mathbf{X}^t\\mathbf{C}_N\\mathbf{X}$"
   ]
  },
  {
   "cell_type": "code",
   "execution_count": 4,
   "metadata": {},
   "outputs": [
    {
     "name": "stdout",
     "output_type": "stream",
     "text": [
      "Suma de cuadrados:\n",
      " [[14. 10.]\n",
      " [10. 14.]]\n",
      "Matriz de centrado:\n",
      " [[ 0.75 -0.25 -0.25 -0.25]\n",
      " [-0.25  0.75 -0.25 -0.25]\n",
      " [-0.25 -0.25  0.75 -0.25]\n",
      " [-0.25 -0.25 -0.25  0.75]]\n",
      "Matriz de dispersión:\n",
      " [[10.  6.]\n",
      " [ 6. 10.]] \n",
      " [[10.  6.]\n",
      " [ 6. 10.]]\n"
     ]
    }
   ],
   "source": [
    "import numpy as np\n",
    "X = np.array([ [-1, -1], [0, 2], [2, 0], [3, 3] ]).astype(float); N, D = X.shape\n",
    "print(\"Suma de cuadrados:\\n\", X.T @ X)\n",
    "C = np.eye(N) - np.ones((N, N))/N; print(\"Matriz de centrado:\\n\", C)\n",
    "print(\"Matriz de dispersión:\\n\", X.T @ C @ X, \"\\n\", N * np.cov(X, rowvar=False, bias=True))"
   ]
  },
  {
   "attachments": {},
   "cell_type": "markdown",
   "metadata": {},
   "source": [
    "## Matriz de Gram\n",
    "\n",
    "**Matriz de Gram:** $\\;\\mathbf{K}=\\mathbf{X}\\mathbf{X}^t=\\begin{bmatrix}\\boldsymbol{x}_1^t\\boldsymbol{x}_1&\\cdots&\\boldsymbol{x}_1^t\\boldsymbol{x}_N\\\\&\\vdots\\\\\\boldsymbol{x}_N^t\\boldsymbol{x}_1 &\\cdots&\\boldsymbol{x}_N^t\\boldsymbol{x}_N\\end{bmatrix}\\quad$ (matriz de productos escalares)\n",
    "\n",
    "**Gram para datos centrados a partir de Gram:** $\\quad$ **truco del doble centrado**\n",
    "$$\\tilde{\\mathbf{K}}=\\tilde{\\mathbf{X}}\\tilde{\\mathbf{X}}^t=\\mathbf{C}_N\\mathbf{X}(\\mathbf{C}_N\\mathbf{X})^t=\\mathbf{C}_N\\mathbf{K}\\mathbf{C}_N$$ "
   ]
  },
  {
   "cell_type": "code",
   "execution_count": 5,
   "metadata": {},
   "outputs": [
    {
     "name": "stdout",
     "output_type": "stream",
     "text": [
      "Gram:\n",
      " [[ 2. -2. -2. -6.]\n",
      " [-2.  4.  0.  6.]\n",
      " [-2.  0.  4.  6.]\n",
      " [-6.  6.  6. 18.]]\n",
      "Gram centrados:\n",
      " [[ 8.  0.  0. -8.]\n",
      " [ 0.  2. -2.  0.]\n",
      " [ 0. -2.  2.  0.]\n",
      " [-8.  0.  0.  8.]]\n",
      "Gram centrados con truco:\n",
      " [[ 8.  0.  0. -8.]\n",
      " [ 0.  2. -2.  0.]\n",
      " [ 0. -2.  2.  0.]\n",
      " [-8.  0.  0.  8.]]\n"
     ]
    }
   ],
   "source": [
    "import numpy as np\n",
    "X = np.array([ [-1, -1], [0, 2], [2, 0], [3, 3] ]).astype(float); N, D = X.shape\n",
    "K = X @ X.T; print(\"Gram:\\n\", K)\n",
    "Xc = X - np.mean(X, axis=0)\n",
    "Kc = Xc @ Xc.T; print(\"Gram centrados:\\n\", Kc)\n",
    "C = np.eye(N) - np.ones((N, N))/N\n",
    "Kc_K = C @ K @ C; print(\"Gram centrados con truco:\\n\", Kc_K)"
   ]
  },
  {
   "attachments": {},
   "cell_type": "markdown",
   "metadata": {},
   "source": [
    "## Matriz de distancias\n",
    "\n",
    "**Distancia (Euclídea) al cuadrado entre $\\,\\boldsymbol{x}, \\boldsymbol{y}\\in\\mathbb{R}^D$:** $\\quad \\lVert\\boldsymbol{x}-\\boldsymbol{y}\\rVert_2^2=(\\boldsymbol{x}-\\boldsymbol{y})^t(\\boldsymbol{x}-\\boldsymbol{y})=\\lVert\\boldsymbol{x}\\rVert_2^2-2\\boldsymbol{x}^t\\boldsymbol{y}+\\lVert\\boldsymbol{y}\\rVert_2^2$\n",
    "\n",
    "**Extensión a matrices de datos, $\\mathbf{X}\\in\\mathbb{R}^{N\\times D},\\,\\mathbf{Y}\\in\\mathbb{R}^{M\\times D}$:** $\\quad\\mathbf{D}\\in\\mathbb{R}^{N\\times M}$\n",
    "$$\\mathbf{D}=\\operatorname{diag}(\\mathbf{X}\\mathbf{X}^t)\\boldsymbol{1}_M^t-2\\mathbf{X}\\mathbf{Y}^t+\\boldsymbol{1}_N\\operatorname{diag}(\\mathbf{Y}\\mathbf{Y}^t)^t$$\n",
    "\n",
    "**Caso $\\mathbf{Y}=\\mathbf{X}$:**$\\qquad\\mathbf{D}=\\mathbf{H}-2\\mathbf{K}+\\mathbf{H}^t\\quad$ con $\\quad\\mathbf{H}=\\operatorname{diag}(\\mathbf{K})\\boldsymbol{1}_N^t\\;$ y $\\;\\mathbf{K}=\\mathbf{X}\\mathbf{X}^t\\;$ (Gram)"
   ]
  },
  {
   "cell_type": "code",
   "execution_count": 6,
   "metadata": {},
   "outputs": [
    {
     "name": "stdout",
     "output_type": "stream",
     "text": [
      "[[ 0. 10. 10. 32.]\n",
      " [10.  0.  8. 10.]\n",
      " [10.  8.  0. 10.]\n",
      " [32. 10. 10.  0.]]\n"
     ]
    }
   ],
   "source": [
    "import numpy as np\n",
    "X = np.array([ [-1, -1], [0, 2], [2, 0], [3, 3] ]).astype(float)\n",
    "K = X @ X.T; H = np.diag(K).reshape(-1, 1); print(H - 2*K + H.T)"
   ]
  },
  {
   "cell_type": "code",
   "execution_count": 7,
   "metadata": {},
   "outputs": [
    {
     "name": "stdout",
     "output_type": "stream",
     "text": [
      "[10. 10. 32.  8. 10. 10.] \n",
      " [[ 0. 10. 10. 32.]\n",
      " [10.  0.  8. 10.]\n",
      " [10.  8.  0. 10.]\n",
      " [32. 10. 10.  0.]]\n"
     ]
    }
   ],
   "source": [
    "import numpy as np\n",
    "import scipy.spatial.distance as dist\n",
    "X = np.array([ [-1, -1], [0, 2], [2, 0], [3, 3] ]).astype(float)\n",
    "V = dist.pdist(X, 'sqeuclidean')\n",
    "print(V, \"\\n\", dist.squareform(V))"
   ]
  }
 ],
 "metadata": {
  "kernelspec": {
   "display_name": "Python 3",
   "language": "python",
   "name": "python3"
  },
  "language_info": {
   "codemirror_mode": {
    "name": "ipython",
    "version": 3
   },
   "file_extension": ".py",
   "mimetype": "text/x-python",
   "name": "python",
   "nbconvert_exporter": "python",
   "pygments_lexer": "ipython3",
   "version": "3.10.6"
  },
  "orig_nbformat": 4
 },
 "nbformat": 4,
 "nbformat_minor": 2
}
