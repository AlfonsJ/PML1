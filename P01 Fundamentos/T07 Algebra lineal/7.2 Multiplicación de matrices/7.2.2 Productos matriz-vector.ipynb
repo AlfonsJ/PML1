{
 "cells": [
  {
   "attachments": {},
   "cell_type": "markdown",
   "metadata": {},
   "source": [
    "# 7.2.2 Productos matriz-vector"
   ]
  },
  {
   "cell_type": "markdown",
   "metadata": {},
   "source": [
    "\n",
    "**Producto matriz-vector:**\n",
    "\n",
    "$$\\;\\mathbf{A}\\in\\mathbb{R}^{m\\times n},\\boldsymbol{x}\\in\\mathbb{R}^n:\\quad\\boldsymbol{y}=\\mathbf{A}\\boldsymbol{x}\\in\\mathbb{R}^m$$"
   ]
  },
  {
   "attachments": {},
   "cell_type": "markdown",
   "metadata": {},
   "source": [
    "## Interpretación por filas\n",
    "\n",
    "La $i$-ésima entrada de $\\boldsymbol{y}$ es el producto escalar de la $i$-ésima fila de $\\mathbf{A}$ y $\\boldsymbol{x}$:\n",
    "$$\\boldsymbol{y}=\\mathbf{A}\\boldsymbol{x}=\\begin{bmatrix}\n",
    "\\boldsymbol{a}_1^t\\\\\\boldsymbol{a}_2^t\\\\\\vdots\\\\\\boldsymbol{a}_m^t%\n",
    "\\end{bmatrix}\\boldsymbol{x}%\n",
    "=\\begin{bmatrix}\n",
    "\\boldsymbol{a}_1^t\\boldsymbol{x}\\\\\\boldsymbol{a}_2^t\\boldsymbol{x}\\\\\\vdots\\\\\\boldsymbol{a}_m^t\\boldsymbol{x}%\n",
    "\\end{bmatrix}$$"
   ]
  },
  {
   "attachments": {},
   "cell_type": "markdown",
   "metadata": {},
   "source": [
    "## Interpretación por columnas\n",
    "\n",
    "$\\boldsymbol{y}$ es una combinación lineal de las columnas de $\\mathbf{A}$, las cuales pueden verse como una **base** de un **subespacio lineal:**\n",
    "$$\\boldsymbol{y}=\\mathbf{A}\\boldsymbol{x}=[\\boldsymbol{a}_1,\\boldsymbol{a}_2,\\dotsc,\\boldsymbol{a}_n]\\begin{bmatrix}x_1\\\\x_2\\\\\\vdots\\\\x_n\\end{bmatrix}=\\boldsymbol{a}_1x_1+\\boldsymbol{a}_2x_2+\\cdots+\\boldsymbol{a}_nx_n$$"
   ]
  }
 ],
 "metadata": {
  "kernelspec": {
   "display_name": "Python 3",
   "language": "python",
   "name": "python3"
  },
  "language_info": {
   "codemirror_mode": {
    "name": "ipython",
    "version": 3
   },
   "file_extension": ".py",
   "mimetype": "text/x-python",
   "name": "python",
   "nbconvert_exporter": "python",
   "pygments_lexer": "ipython3",
   "version": "3.10.6"
  },
  "orig_nbformat": 4
 },
 "nbformat": 4,
 "nbformat_minor": 2
}
