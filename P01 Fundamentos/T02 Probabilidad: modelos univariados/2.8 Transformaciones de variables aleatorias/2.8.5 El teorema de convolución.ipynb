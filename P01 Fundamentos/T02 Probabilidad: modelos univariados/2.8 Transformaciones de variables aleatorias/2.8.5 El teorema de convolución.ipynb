{
 "cells": [
  {
   "cell_type": "markdown",
   "metadata": {},
   "source": [
    "# 2.8.5 El teorema de convolución"
   ]
  },
  {
   "cell_type": "markdown",
   "metadata": {},
   "source": [
    "**Propósito:** $\\;$ dadas dos variables aleatorias independientes, $\\,x_1$ y $x_2,\\,$ hallar la pmf/pdf de su suma, $\\,y=x_1+x_2$"
   ]
  },
  {
   "cell_type": "markdown",
   "metadata": {},
   "source": [
    "**Convolución discreta:** $\\;$ para $\\,j=\\ldots,-2,-1,0,1,2,\\ldots$\n",
    "$$p(y=j)=\\sum_kp(x_1=k)p(x_2=j-k)$$\n",
    "\n",
    "\n",
    "**Ejemplo:** $\\;$ convolución discreta de $\\,\\boldsymbol{x}=[1,2,3,4]\\,$ con $\\,\\boldsymbol{y}=[5,6,7],\\,$ para dar lugar a $\\,\\boldsymbol{z}=[5,16,34,52,45,28]$\n",
    "$$\\begin{array}{cccccccc|l}\n",
    "    - & - & 1 & 2 & 3 & 4 & - & - &\\\\\\hline\n",
    "    7 & 6 & 5 & - & - & - & - & - & z_0=x_0y_0=5\\\\%\n",
    "    - & 7 & 6 & 5 & - & - & - & - & z_1=x_0y_1+x_1y_0=16\\\\%\n",
    "    - & - & 7 & 6 & 5 & - & - & - & z_2=x_0y_2+x_1y_1+x_2y_0=34\\\\%\n",
    "    - & - & - & 7 & 6 & 5 & - & - & z_3=x_1y_2+x_2y_1+x_3y_0=52\\\\%\n",
    "    - & - & - & - & 7 & 6 & 5 & - & z_4=x_2y_2+x_3y_1=45\\\\%\n",
    "    - & - & - & - & - & 7 & 6 & 5 & z_5=x_3y_2=28%\n",
    "\\end{array}$$\n",
    "\n",
    "<div><table border-collapse: collapse><tr>\n",
    "<td style=\"border: none; text-align:left; vertical-align:top; padding:0; margin:0;\" width=400>\n",
    "\n",
    "**Ejemplo:** $\\,x_1,x_2\\sim\\operatorname{Unif}(\\{1,2,\\dotsc,6\\}),\\,S=x_1+x_2$\n",
    "$$\\begin{align*}\n",
    "p(y=2)&=p(x_1=1)p(x_2=1)=\\frac{1}{6}\\frac{1}{6}=1/36\\\\%\n",
    "p(y=3)&=p(x_1=1)p(x_2=2)+p(x_1=2)p(x_2=1)=2/36\\\\%\n",
    "p(y=4)&=\\ldots=3/36\\\\%\n",
    "p(y=5)&=\\ldots=4/36\\\\%\n",
    "p(y=6)&=\\ldots=5/36\\\\%\n",
    "p(y=7)&=\\ldots=6/36\\\\%\n",
    "p(y=8)&=\\ldots=5/36\\\\%\n",
    "p(y=9)&=\\ldots=4/36\\\\%\n",
    "p(y=10)&=\\ldots=3/36\\\\%\n",
    "p(y=11)&=\\ldots=2/36\\\\%\n",
    "p(y=12)&=\\ldots=1/36%\n",
    "\\end{align*}$$\n",
    "\n",
    "</td><td style=\"border: none; padding:0; margin:0;\" width=50><br></td>\n",
    "<td style=\"border: none; text-align:right; vertical-align:top; padding:0; margin:0;\" width=600>\n",
    "\n",
    "<img src='Dice_Distribution_(bar).svg' width=600>\n",
    "\n",
    "</td></tr></table></div>"
   ]
  }
 ],
 "metadata": {
  "language_info": {
   "name": "python"
  }
 },
 "nbformat": 4,
 "nbformat_minor": 2
}
