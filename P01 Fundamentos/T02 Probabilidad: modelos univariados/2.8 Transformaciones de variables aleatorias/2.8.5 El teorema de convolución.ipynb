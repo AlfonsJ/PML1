{
 "cells": [
  {
   "cell_type": "markdown",
   "metadata": {},
   "source": [
    "# 2.8.5 El teorema de convolución"
   ]
  },
  {
   "cell_type": "markdown",
   "metadata": {},
   "source": [
    "**Propósito:** $\\;$ dadas dos variables aleatorias independientes, $\\,x_1\\,$ y $\\,x_2,\\,$ hallar la pmf/pdf de su suma, $\\,y=x_1+x_2$\n",
    "\n",
    "**Convolución de variables discretas:** $\\;$ para $\\,y=\\ldots,-2,-1,0,1,2,\\ldots$\n",
    "$$p(y)=\\sum_{x_1}p_1(x_1)\\,p_2(y-x_1)$$\n",
    "\n",
    "**Convolución de variables continuas:** $\\;$ **teorema de convolución**\n",
    "$$p(y)=\\int p_1(x_1)\\,p_2(y-x_1)\\,dx_1$$\n",
    "\n",
    "**Operador convolución:** $\\quad p=p_1\\circledast p_2$\n",
    "\n",
    "<div><br><table border-collapse: collapse><tr>\n",
    "<td style=\"border: none; text-align:left; vertical-align:top; padding:0; margin:0;\" width=400>\n",
    "\n",
    "**Ejemplo:** $\\,x_1,x_2\\sim\\operatorname{Unif}(\\{1,2,\\dotsc,6\\}),\\,S=x_1+x_2$\n",
    "$$\\begin{align*}\n",
    "p(y=2)&=p(x_1=1)p(x_2=1)=\\frac{1}{6}\\frac{1}{6}=1/36\\\\%\n",
    "p(y=3)&=p(x_1=1)p(x_2=2)+p(x_1=2)p(x_2=1)=2/36\\\\%\n",
    "p(y=4)&=\\ldots=3/36\\\\%\n",
    "p(y=5)&=\\ldots=4/36\\\\%\n",
    "p(y=6)&=\\ldots=5/36\\\\%\n",
    "p(y=7)&=\\ldots=6/36\\\\%\n",
    "p(y=8)&=\\ldots=5/36\\\\%\n",
    "p(y=9)&=\\ldots=4/36\\\\%\n",
    "p(y=10)&=\\ldots=3/36\\\\%\n",
    "p(y=11)&=\\ldots=2/36\\\\%\n",
    "p(y=12)&=\\ldots=1/36%\n",
    "\\end{align*}$$\n",
    "\n",
    "</td><td style=\"border: none; padding:0; margin:0;\" width=50><br></td>\n",
    "<td style=\"border: none; text-align:right; vertical-align:top; padding:0; margin:0;\" width=600>\n",
    "\n",
    "<img src='Dice_Distribution_(bar).svg' width=600>\n",
    "\n",
    "</td></tr></table></div>\n",
    "\n",
    "**Convolución de dos Gaussianas:**\n",
    "$$p(y)=\\mathcal{N}(x_1\\mid\\boldsymbol{\\mu}_1,\\sigma_1^2)\\circledast\\mathcal{N}(x_2\\mid\\boldsymbol{\\mu}_2,\\sigma_2^2)=\\mathcal{N}(y\\mid\\boldsymbol{\\mu}_1+\\boldsymbol{\\mu}_2,\\sigma_1^2+\\sigma_2^2)$$"
   ]
  }
 ],
 "metadata": {
  "language_info": {
   "name": "python"
  }
 },
 "nbformat": 4,
 "nbformat_minor": 2
}
