{
 "cells": [
  {
   "cell_type": "markdown",
   "metadata": {},
   "source": [
    "# 2.8.1 Caso discreto"
   ]
  },
  {
   "cell_type": "markdown",
   "metadata": {},
   "source": [
    "**Objetivo:** $\\;$ hallar $\\,p(Y)\\,$ siendo $\\,Y=f(X)\\,$ una transformación determinista de una variable aleatoria $\\,X\\sim p(\\cdot)$\n",
    "\n",
    "**Caso discreto:** $\\;$ si $X$ es discreta, la pmf de $Y$ se deriva sumando la masa de probabilidad para todos los $x$ tales que $\\,f(x)=y$\n",
    "$$p_y(y)=\\sum_{x:f(x)=y}p_x(x)$$\n",
    "\n",
    "**Ejemplo:** $\\quad\\mathcal{X}=\\{1,\\dotsc,10\\}\\qquad p(x)=1/10\\quad$ y $\\quad f(x)=\\begin{cases}1&x\\;\\text{par}\\\\0&x\\;\\text{impar}\\end{cases}$\n",
    "$$p_y(1)=\\sum_{x\\in\\{2,4,6,8,10\\}}p_x(x)=0.5%\n",
    "\\qquad\\text{y}\\qquad p_y(0)=\\sum_{x\\in\\{1,3,5,7,9\\}}p_x(x)=0.5$$"
   ]
  }
 ],
 "metadata": {
  "language_info": {
   "name": "python"
  }
 },
 "nbformat": 4,
 "nbformat_minor": 2
}
