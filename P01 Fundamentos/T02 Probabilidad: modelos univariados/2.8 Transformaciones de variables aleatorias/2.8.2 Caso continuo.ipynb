{
 "cells": [
  {
   "cell_type": "markdown",
   "metadata": {},
   "source": [
    "# 2.8.2 Caso continuo"
   ]
  },
  {
   "cell_type": "markdown",
   "metadata": {},
   "source": [
    "**Objetivo:** $\\;$ hallar $\\,p(Y)\\,$ siendo $\\,Y=f(X)\\,$ una transformación determinista de una variable aleatoria $\\,X\\sim p(\\cdot)$\n",
    "\n",
    "**Caso continuo:** $\\;$ si $X$ es continua, $p_x(x)$ es una densidad y no podemos sumar; en lugar de ello, operamos con cdfs\n",
    "$$P_y(y)=\\Pr(Y\\leq y)=\\Pr(f(X)\\leq y)=\\Pr(X\\in\\{x\\mid f(x)\\leq y\\})$$\n",
    "\n",
    "**Caso $f$ invertible:** $\\;$ derivamos la pdf de $y$ diferenciando la cdf\n",
    "\n",
    "**Caso $f$ no invertible:** $\\;$ usamos integración numérica o una aproximación Monte Carlo"
   ]
  }
 ],
 "metadata": {
  "language_info": {
   "name": "python"
  }
 },
 "nbformat": 4,
 "nbformat_minor": 2
}
