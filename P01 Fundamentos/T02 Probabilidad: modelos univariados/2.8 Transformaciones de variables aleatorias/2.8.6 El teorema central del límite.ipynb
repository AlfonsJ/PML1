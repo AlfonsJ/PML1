{
 "cells": [
  {
   "cell_type": "markdown",
   "metadata": {},
   "source": [
    "# 2.8.6 El teorema central del límite"
   ]
  },
  {
   "cell_type": "markdown",
   "metadata": {},
   "source": [
    "**Normalidad de la suma de $N$ variables aleatorias iid:** $\\quad X_n\\sim p(X)\\,$ con media $\\mu$ y varianza $\\sigma^2,\\,S_N=\\sum_n X_n$\n",
    "$$p(S_N=u)=\\frac{1}{\\sqrt{2\\pi N\\sigma^2}}\\exp\\left(-\\frac{(u-N\\mu)^2}{2N\\sigma^2}\\right)$$\n",
    "\n",
    "**Teorema central del límite:** $\\;$ la media muestral, $\\,\\bar{X}=S_N/N,\\,$ converge a una Gaussiana cuando $\\,N\\to\\infty$\n",
    "$$Z_N=\\frac{S_N-N\\mu}{\\sigma\\sqrt{N}}=\\frac{\\bar{X}-\\mu}{\\sigma/\\sqrt{N}}\\sim\\mathcal{N}(0,1)$$\n",
    "\n",
    "**Ejemplo:** $\\;$ histograma de la media empírica de $\\,N=10\\,$ muestras de una $\\,\\operatorname{Beta}(a=1,b=5)$ "
   ]
  },
  {
   "cell_type": "code",
   "execution_count": 1,
   "metadata": {},
   "outputs": [
    {
     "data": {
      "image/png": "[encoded data removed]",
      "text/plain": [
       "<Figure size 600x300 with 1 Axes>"
      ]
     },
     "metadata": {},
     "output_type": "display_data"
    }
   ],
   "source": [
    "import numpy as np; import matplotlib.pyplot as plt; from scipy.stats import beta\n",
    "X = beta(1, 5); N = 10; R = 10000; M = X.rvs(R * N).reshape(R, N).sum(axis=1) / N\n",
    "_, ax = plt.subplots(1, 1, figsize=(6, 3)); ax.hist(M, bins=30, density=True, histtype='stepfilled');"
   ]
  }
 ],
 "metadata": {
  "kernelspec": {
   "display_name": "Python 3",
   "language": "python",
   "name": "python3"
  },
  "language_info": {
   "codemirror_mode": {
    "name": "ipython",
    "version": 3
   },
   "file_extension": ".py",
   "mimetype": "text/x-python",
   "name": "python",
   "nbconvert_exporter": "python",
   "pygments_lexer": "ipython3",
   "version": "3.11.4"
  }
 },
 "nbformat": 4,
 "nbformat_minor": 2
}
