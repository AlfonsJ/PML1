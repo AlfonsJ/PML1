{
 "cells": [
  {
   "cell_type": "markdown",
   "metadata": {},
   "source": [
    "# 2.8.4 Momentos de una transformación lineal"
   ]
  },
  {
   "cell_type": "markdown",
   "metadata": {},
   "source": [
    "**Transformación afín:** $\\qquad\\boldsymbol{y}=\\mathbf{A}\\boldsymbol{x}+\\boldsymbol{b}\\quad$ con $\\quad\\boldsymbol{\\mu}=\\mathbb{E}[\\boldsymbol{x}]\\quad$ y $\\quad\\mathbf{\\Sigma}=\\operatorname{Cov}[\\boldsymbol{x}]$\n",
    "\n",
    "**Media:** $\\qquad\\mathbb{E}[\\boldsymbol{y}]=\\mathbb{E}[\\mathbf{A}\\boldsymbol{x}+\\boldsymbol{b}]=\\mathbf{A}\\boldsymbol{\\mu}+\\boldsymbol{b}$\n",
    "\n",
    "**Covarianza:** $\\qquad\\operatorname{Cov}[\\boldsymbol{y}]=\\operatorname{Cov}[\\mathbf{A}\\boldsymbol{x}+\\boldsymbol{b}]=\\mathbf{A}\\mathbf{\\Sigma}\\mathbf{A}^t$\n",
    "\n",
    "**Caso particular:** $\\qquad y=\\boldsymbol{a}^t\\boldsymbol{x}+b\\quad\\to\\quad\\mathbb{E}[y]=\\boldsymbol{a}^t\\boldsymbol{\\mu}+b\\quad$ y $\\quad\\mathbb{V}[y]=\\boldsymbol{a}^t\\mathbf{\\Sigma}\\boldsymbol{a}$\n",
    "\n",
    "**Ejemplo:** $\\quad\\boldsymbol{a}=[1,1]\\;$ para sumar dos variables aleatorias escalares\n",
    "$$\\mathbb{V}[x_1+x_2]=(1\\;1)\\begin{pmatrix}\\Sigma_{11}&\\Sigma_{12}\\\\\\Sigma_{21}&\\Sigma_{22}\\end{pmatrix}\\begin{pmatrix}1\\\\1\\end{pmatrix}%\n",
    "=\\Sigma_{11}+\\Sigma_{22}+2\\Sigma_{12}=\\mathbb{V}[x_1]+\\mathbb{V}[x_2]+2\\operatorname{Cov}[x_1,x_2]$$"
   ]
  }
 ],
 "metadata": {
  "language_info": {
   "name": "python"
  }
 },
 "nbformat": 4,
 "nbformat_minor": 2
}
