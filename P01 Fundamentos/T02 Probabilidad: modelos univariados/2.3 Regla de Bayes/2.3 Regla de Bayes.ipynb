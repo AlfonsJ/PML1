{
 "cells": [
  {
   "cell_type": "markdown",
   "metadata": {},
   "source": [
    "# 2.3 Regla de Bayes\n",
    "\n",
    "**Variables:** $\\;$ información desconocida u oculta (hidden) $H$ y datos observados $Y$\n",
    "\n",
    "**Distribución a priori:** $\\;p(H)$ es nuestra creencia sobre $H$ antes de observar datos\n",
    "\n",
    "**Distribución de observaciones:** $\\;p(Y\\mid H=h)$ es la distribución sobre los posibles valores de $Y$ que esperamos ver si $H=h$\n",
    "\n",
    "**Verosimilitud:** $\\;p(Y=y\\mid H=h)$ es la evaluación de $p(Y\\mid H=h)$ con las observaciones reales $y$\n",
    "\n",
    "**Distribución conjunta:** $\\;p(H=h,Y=y)=p(H=h)\\,p(Y=y\\mid H=h)$\n",
    "\n",
    "**Verosimilitud marginal:** $\\;p(Y=y)\\,$ se obtiene marginalizando la conjunta\n",
    "\n",
    "**Distribución a posteriori o regla de Bayes:** $\\;$ actualiza nuestra creencia sobre $H$ tras observar datos\n",
    "$$p(H=h|Y=y)=\\frac{p(H=h,Y=y)}{p(Y=y)}=p(H=h)\\,\\frac{p(Y=y\\mid H=h)}{p(Y=y)}$$"
   ]
  },
  {
   "cell_type": "markdown",
   "metadata": {},
   "source": [
    "## 2.3.1 Ejemplo: Test de COVID-19\n",
    "\n",
    "**Variable oculta:** $\\quad H=1\\,$ infección positiva; $\\;H=0\\,$ infección negativa\n",
    "\n",
    "**Datos observados:** $\\quad Y=1\\,$ test positivo; $\\;Y=0\\,$ test negativo\n",
    "\n",
    "**Distribución a priori:** $\\quad p(H=1)=1\\%\\;$ prevalencia de la infección\n",
    "\n",
    "**Verosimilitud:**\n",
    "$$\\begin{array}{ccc}\n",
    "p(Y\\mid H)&Y=0&Y=1\\\\\\hline\n",
    "H=0&0.975&0.025\\\\\n",
    "H=1&0.125&0.875\\\\\\hline\n",
    "\\end{array}\\qquad%\n",
    "\\begin{array}{ccc}\n",
    "p(Y\\mid H)&Y=0&Y=1\\\\\\hline\n",
    "H=0&\\text{True negative rate (TNR)}&\\text{False positive rate (FPR)}\\\\\n",
    "H=1&\\text{False negative rate (FNR)}&\\text{True positive rate (TPR)}\\\\\\hline\n",
    "\\end{array}$$\n",
    "\n",
    "**Probabilidad de estar infectado si el test es positivo:**\n",
    "$$p(H=1\\mid Y=1)=p(H=1)\\,\\frac{p(Y=1\\mid H=1)}{p(Y=1)}=0.01\\,\\frac{0.875}{0.0335}=26\\%$$"
   ]
  },
  {
   "cell_type": "markdown",
   "metadata": {},
   "source": [
    "## 2.3.2 Ejemplo: El problema de Monty Hall\n",
    "\n",
    "**Problema de Monty Hall:** $\\;$ se basa en el concurso televisivo *Let's Make a Deal* (1963--) presentado por Monty Hall durante 30 años\n",
    "1. El concursante elige una puerta de tres\n",
    "2. El presentador abre otra y aparece una cabra; en las dos que siguen cerradas hay un coche y otra cabra\n",
    "3. El concursante puede cambiar de puerta: **¿cambia de puerta?**\n",
    "\n",
    "**Variable oculta:** $\\;H=i\\,$ indica que el coche está en la puerta $i$\n",
    "\n",
    "**Distribución a priori:** $\\;P(H=1)=P(H=2)=P(H=3)=\\dfrac{1}{3}$\n",
    "\n",
    "**Datos observados:** $\\;Y=j,j\\in\\{2,3\\}$ es la puerta que escoge el presentador tras escoger la 1 el concursante\n",
    "\n",
    "**Distribución de observaciones:**\n",
    "$$\\begin{array}{cccc}\n",
    "H&P(Y=2\\mid H)&P(Y=3\\mid H)\\\\\\hline\n",
    "1&1/2&1/2\\\\2&0&1\\\\3&1&0\\end{array}$$\n",
    "\n",
    "**Distribución conjunta y verosimilitud marginal:**\n",
    "$$\\begin{array}{cccc}\n",
    "H&P(H, Y=2)&P(H, Y=3)\\\\\\hline\n",
    "1&1/6&1/6\\\\2&0&1/3\\\\3&1/3&0\\\\\\hline P(Y)&1/2&1/2\\end{array}$$\n",
    "\n",
    "**Distribución a posteriori o regla de Bayes:**\n",
    "$$\\begin{array}{cccc}\n",
    "H&P(H\\mid Y=2)&P(H\\mid Y=3)\\\\\\hline\n",
    "1&1/3&1/3\\\\2&0&2/3\\\\3&2/3&0\\end{array}$$\n",
    "\n",
    "**Conclusión:** $\\;$ conviene cambiar ya que encontraremos el coche con probabilidad $2/3$\n"
   ]
  },
  {
   "cell_type": "markdown",
   "metadata": {},
   "source": [
    "## 2.3.3 Problemas inversos\n",
    "\n",
    "**Teoría de la probabilidad:** $\\;$ predicción de salidas $y$ a partir de conocimiento o asunciones sobre el estado de la naturaleza, $h$\n",
    "\n",
    "**Teoría de la probabilidad inversa:** $\\;$ predicción de estados de la naturaleza $h$ a partir de observaciones sobre la salida, $y$\n",
    "\n",
    "**Ejemplos:** $\\;$ inferir una forma 3d a partir de una imagen 2d en **comprensión de escenas visuales,** o la intención $h$ de un locutor a partir de lo que dice en **comprensión del lenguaje natural**\n",
    "\n",
    "**Problemas inversos:** $\\;$ usamos la regla de Bayes para calcular la posterior, $\\,p(h|y),\\,$ mediante un **modelo hacia adelante** $\\,p(y|h)\\,$ y un prior $\\,p(h)\\,$ que descarte estados de la naturaleza no plausibles"
   ]
  }
 ],
 "metadata": {
  "language_info": {
   "name": "python"
  }
 },
 "nbformat": 4,
 "nbformat_minor": 2
}
