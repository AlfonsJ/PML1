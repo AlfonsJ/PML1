{
 "cells": [
  {
   "cell_type": "markdown",
   "metadata": {},
   "source": [
    "# 2.3 Regla de Bayes\n",
    "\n",
    "**Inferencia Bayesiana:**\n",
    "* **Inferencia:** $\\;$ \"acto de pasar del muestreo de datos a generalizaciones, usualmente con grados de certidumbre calculados\"\n",
    "* **Bayesiana:** $\\;$ métodos que representan los grados de certidumbre con teoría de la probabilidad y que aprovechan la **regla de Bayes** para actualizarlos con datos\n",
    "\n",
    "**Regla de Bayes:** $\\;$ fórmula para calcular la distribución de probabilidad sobre los posibles valores de una cantidad oculta (hidden) o desconocida, $H$, a partir de datos observados $Y=y$\n",
    "$$p(H=h\\mid Y=y)=p(H=h)\\,\\frac{p(Y=y\\mid H=h)}{p(Y=y)}$$\n",
    "\n",
    "**Distribución a priori:** $\\;p(H)$ es lo que sabemos sobre los posibles valores de $H$ antes de observar datos\n",
    "\n",
    "**Ejemplo:** $\\;$ si $H$ tiene $K$ valores posibles, entonces $p(H)$ es un vector de $K$ probabilidades que suman $1$\n",
    "\n",
    "**Distribución de observaciones:** $\\;p(Y\\mid H=h)$ es la distribución sobre los posibles valores de $Y$ que esperamos ver si $H=h$\n",
    "\n",
    "**Verosimilitud:** $\\;p(Y=y\\mid H=h)$ es la evaluación de $p(Y\\mid H=h)$ con las observaciones reales $y;\\;$ se interpreta como función de $h$ ya que $y$ es fija, por lo que no es una distribución de probabilidad\n",
    "\n",
    "**Distribución conjunta no normalizada:** $\\;p(H=h,Y=y)=p(H=h)\\,p(Y=y\\mid H=h)$\n",
    "\n",
    "**Verosimilitud marginal:** $\\;p(Y=y)$, distribución normalizada obtenida mediante marginalización sobre la $H$ desconocida\n",
    "$$p(Y=y)=\\sum_{h'\\in\\mathcal{H}}p(H=h')p(Y=y\\mid H=h')=\\sum_{h'\\in\\mathcal{H}}p(H=h',Y=y)$$\n",
    "\n",
    "**Distribución a posteriori:** $\\;p(H=h\\mid Y=y)$, se obtiene normalizando la distribución conjunta por la verosimilitud marginal y representa nuestro (nuevo) **estado de creencia** sobre los posibles valores de $H$ tras observar $y$\n",
    "$$p(H=h|Y=y)=\\frac{p(H=h,Y=y)}{p(Y=y)}=p(H=h)\\,\\frac{p(Y=y\\mid H=h)}{p(Y=y)}$$\n",
    "\n",
    "**Resumen:** $\\;$ dado que $p(Y=y)$ no depende de $H$, puede tratarse como una constante de proporcionalidad que podemos ignorar\n",
    "<div align=center>\n",
    "\n",
    "**posterior $\\propto$ prior $\\times$ likelihood**\n",
    "\n",
    "</div>"
   ]
  },
  {
   "cell_type": "markdown",
   "metadata": {},
   "source": [
    "## 2.3.1 Ejemplo: Test de COVID-19\n",
    "\n",
    "**Variable oculta:** $\\quad H=1\\,$ infección positiva; $\\;H=0\\,$ infección negativa\n",
    "\n",
    "**Datos observados:** $\\quad Y=1\\,$ test positivo; $\\;Y=0\\,$ test negativo\n",
    "\n",
    "**Distribución a priori:** $\\quad p(H=1)=1\\%\\;$ prevalencia de la infección\n",
    "\n",
    "**Verosimilitud:**\n",
    "$$\\begin{array}{ccc}\n",
    "p(Y\\mid H)&Y=0&Y=1\\\\\\hline\n",
    "H=0&0.975&0.025\\\\\n",
    "H=1&0.125&0.875\\\\\\hline\n",
    "\\end{array}\\qquad%\n",
    "\\begin{array}{ccc}\n",
    "p(Y\\mid H)&Y=0&Y=1\\\\\\hline\n",
    "H=0&\\text{True negative rate (TNR)}&\\text{False positive rate (FPR)}\\\\\n",
    "H=1&\\text{False negative rate (FNR)}&\\text{True positive rate (TPR)}\\\\\\hline\n",
    "\\end{array}$$\n",
    "\n",
    "**Probabilidad de estar infectado si el test es positivo:**\n",
    "$$p(H=1\\mid Y=1)=p(H=1)\\,\\frac{p(Y=1\\mid H=1)}{p(Y=1)}=0.01\\,\\frac{0.875}{0.0335}=26\\%$$"
   ]
  }
 ],
 "metadata": {
  "language_info": {
   "name": "python"
  }
 },
 "nbformat": 4,
 "nbformat_minor": 2
}
