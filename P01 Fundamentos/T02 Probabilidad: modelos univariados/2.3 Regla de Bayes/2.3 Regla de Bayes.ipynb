{
 "cells": [
  {
   "cell_type": "markdown",
   "metadata": {},
   "source": [
    "# 2.3 Regla de Bayes\n",
    "\n",
    "**Variables:** $\\;$ información desconocida u oculta (hidden) $H$ y datos observados $Y$\n",
    "\n",
    "**Distribución a priori:** $\\;p(H)$ es nuestra creencia sobre $H$ antes de observar datos\n",
    "\n",
    "**Distribución de observaciones:** $\\;p(Y\\mid H=h)$ es la distribución sobre los posibles valores de $Y$ que esperamos ver si $H=h$\n",
    "\n",
    "**Verosimilitud:** $\\;p(Y=y\\mid H=h)$ es la evaluación de $p(Y\\mid H=h)$ con las observaciones reales $y$\n",
    "\n",
    "**Distribución conjunta:** $\\;p(H=h,Y=y)=p(H=h)\\,p(Y=y\\mid H=h)$\n",
    "\n",
    "**Verosimilitud marginal:** $\\;p(Y=y)\\,$ se obtiene marginalizando la conjunta\n",
    "\n",
    "**Distribución a posteriori o regla de Bayes:** $\\;$ actualiza nuestra creencia sobre $H$ tras observar datos\n",
    "$$p(H=h|Y=y)=\\frac{p(H=h,Y=y)}{p(Y=y)}=p(H=h)\\,\\frac{p(Y=y\\mid H=h)}{p(Y=y)}$$"
   ]
  },
  {
   "cell_type": "markdown",
   "metadata": {},
   "source": [
    "## 2.3.1 Ejemplo: Test de COVID-19\n",
    "\n",
    "**Variable oculta:** $\\quad H=1\\,$ infección positiva; $\\;H=0\\,$ infección negativa\n",
    "\n",
    "**Datos observados:** $\\quad Y=1\\,$ test positivo; $\\;Y=0\\,$ test negativo\n",
    "\n",
    "**Distribución a priori:** $\\quad p(H=1)=1\\%\\;$ prevalencia de la infección\n",
    "\n",
    "**Verosimilitud:**\n",
    "$$\\begin{array}{ccc}\n",
    "p(Y\\mid H)&Y=0&Y=1\\\\\\hline\n",
    "H=0&0.975&0.025\\\\\n",
    "H=1&0.125&0.875\\\\\\hline\n",
    "\\end{array}\\qquad%\n",
    "\\begin{array}{ccc}\n",
    "p(Y\\mid H)&Y=0&Y=1\\\\\\hline\n",
    "H=0&\\text{True negative rate (TNR)}&\\text{False positive rate (FPR)}\\\\\n",
    "H=1&\\text{False negative rate (FNR)}&\\text{True positive rate (TPR)}\\\\\\hline\n",
    "\\end{array}$$\n",
    "\n",
    "**Probabilidad de estar infectado si el test es positivo:**\n",
    "$$p(H=1\\mid Y=1)=p(H=1)\\,\\frac{p(Y=1\\mid H=1)}{p(Y=1)}=0.01\\,\\frac{0.875}{0.0335}=26\\%$$"
   ]
  }
 ],
 "metadata": {
  "language_info": {
   "name": "python"
  }
 },
 "nbformat": 4,
 "nbformat_minor": 2
}
