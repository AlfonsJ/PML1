{
 "cells": [
  {
   "cell_type": "markdown",
   "metadata": {},
   "source": [
    "# 2.1 Introducción"
   ]
  },
  {
   "cell_type": "markdown",
   "metadata": {},
   "source": [
    "## 2.1.1 ¿Qué es probabilidad?\n",
    "\n",
    "**Frecuentista:** $\\;$ frecuencia (asintótica) de eventos repetitivos\n",
    "\n",
    "**Bayesiana:** $\\;$ modelo de **incertidumbre** sobre eventos"
   ]
  },
  {
   "cell_type": "markdown",
   "metadata": {},
   "source": [
    "## 2.1.2 Tipos de incertidumbre\n",
    "\n",
    "**Epistémica:** $\\;$ incertidumbre sobre el modelo\n",
    "\n",
    "**Aleatórica:** $\\;$ incertidumbre de los datos"
   ]
  },
  {
   "cell_type": "markdown",
   "metadata": {},
   "source": [
    "## 2.1.3 Probabilidad como extensión de la lógica\n",
    "\n",
    "### 2.1.3.1 Probabilidad de un evento\n",
    "\n",
    "**Evento:** $\\;$ variable binaria $A$\n",
    "\n",
    "**Probabilidad de que el evento $A$ sea cierto:** $\\;\\Pr(A)$\n",
    "\n",
    "**Restricción de probabilidad:** $\\;0\\leq\\Pr(A)\\leq 1$\n",
    "\n",
    "**Evento imposible:** $\\;\\Pr(A)=0\\,$ significa que es **imposible** que $A$ ocurra (falso)\n",
    "\n",
    "**Evento seguro:** $\\;\\Pr(A)=1\\,$ significa que es **seguro** que $A$ ocurra (cierto)\n",
    "\n",
    "**Probabilidad de que el evento $A$ no ocurra:** $\\;\\Pr(\\bar{A})=1-\\Pr(A)$\n",
    "\n",
    "### 2.1.3.2 Probabilidad de una conjunción de dos eventos\n",
    "\n",
    "**Probabilidad conjunta de que $A$ y $B$ ocurran:** $\\;\\Pr(A\\wedge B)=\\Pr(A,B)$\n",
    "\n",
    "**Probabilidad conjunta de eventos independientes:** $\\;$ si $\\,A$ y $B$ son independientes, entonces $\\,\\Pr(A,B)=\\Pr(A)\\Pr(B)$\n",
    "\n",
    "**Ejemplo:** $\\;$ si $X$ e $Y$ se escogen uniformente al azar de $\\,\\mathcal{X}=\\{1,2,3,4\\},\\,A\\,$ es el evento $\\,X\\in\\{1,2\\}\\,$ y $\\,B\\,$ el evento $\\,Y\\in\\{3\\};\\;$ entonces $A$ y $B$ son independientes (pues $X$ e $Y$ se escogen independientemente) y $\\,\\Pr(A,B)=\\Pr(A)\\Pr(B)=\\frac{1}{2}\\cdot\\frac{1}{4}=\\frac{1}{8}$\n",
    "\n",
    "### 2.1.3.3 Probabilidad de una unión de dos eventos\n",
    "\n",
    "**Probabilidad de que el evento $A$ o $B$ ocurran (uno solo o los dos):** $\\;\\Pr(A\\vee B)=\\Pr(A)+\\Pr(B)-\\Pr(A\\wedge B)$\n",
    "\n",
    "**Caso $A$ y $B$ mútuamente excluyentes (no pueden darse a la vez):** $\\;\\Pr(A\\vee B)=\\Pr(A)+\\Pr(B)$\n",
    "\n",
    "**Ejemplo:** $\\;$ Si $X$ se escoge uniformente al azar de $\\mathcal{X}=\\{1,2,3,4\\},\\,A$ es el evento $X\\in\\{1,2\\}\\,$ y $\\,B\\,$ el evento $X\\in\\{3\\};\\;$ entonces $\\,\\Pr(A\\vee B)=\\frac{2}{4}+\\frac{1}{4}$\n",
    "\n",
    "### 2.1.3.4 Probabilidad condicional de un evento dado otro\n",
    "\n",
    "**Probabilidad condicional de que un evento $B$ ocurra sabiendo que otro evento dado, $A$, ha ocurrido:** $\\;\\displaystyle\\Pr(B\\mid A)=\\frac{\\Pr(A,B)}{\\Pr(A)}$\n",
    "\n",
    "**Nota:** $\\;$ no está definida si $\\Pr(A)=0$ pues no tiene sentido condicionar sobre la base de un evento imposible\n",
    "\n",
    "### 2.1.3.5 Independencia de eventos\n",
    "\n",
    "**Eventos independientes:** $\\;A\\,$ y $\\,B\\,$ son **independientes** sii $\\;\\Pr(A,B)=\\Pr(A)\\Pr(B)$\n",
    "\n",
    "**Notación:** $\\;A\\perp B\\;$ o $\\;A\\perp\\mkern-10mu\\perp B$\n",
    "\n",
    "### 2.1.3.6 Independencia condicional de eventos\n",
    "\n",
    "**Eventos condicionalmente independientes:** $\\;A\\,$ y $\\,B\\,$ son **condicionalmente independientes** dado $\\,C\\,$ sii $\\Pr(A,B\\mid C)=\\Pr(A\\mid C)\\Pr(B\\mid C)$\n",
    "\n",
    "**Notación:** $\\;A\\perp B\\mid C\\;$ o $\\;A\\perp\\mkern-10mu\\perp B\\mid C$"
   ]
  }
 ],
 "metadata": {
  "language_info": {
   "name": "python"
  }
 },
 "nbformat": 4,
 "nbformat_minor": 2
}
