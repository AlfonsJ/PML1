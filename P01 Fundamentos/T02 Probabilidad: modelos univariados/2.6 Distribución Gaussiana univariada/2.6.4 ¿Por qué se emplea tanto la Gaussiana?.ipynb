{
 "cells": [
  {
   "cell_type": "markdown",
   "metadata": {},
   "source": [
    "# 2.6.4 ¿Por qué se emplea tanto la Gaussiana?\n",
    "\n",
    "**Interpretabilidad:** $\\;$ por la facilidad interpretativa de sus parámetros\n",
    "\n",
    "**Teorema central del límite:** $\\;$ la suma de variables aleatorias independientes sigue una distribución aproximadamente Gaussiana, por lo que resulta una buena elección para modelizar errores residuales o \"ruido\"\n",
    "\n",
    "**Objetividad:** $\\;$ porque es la distribución que menos asunciones hace, sujeto a la restricción de tener una media y varianza especificadas\n",
    "\n",
    "**Simplicidad matemática:** $\\;$ lo que resulta en métodos fáciles de implementar y, a la vez, frecuentemente muy efectivos"
   ]
  }
 ],
 "metadata": {
  "language_info": {
   "name": "python"
  }
 },
 "nbformat": 4,
 "nbformat_minor": 2
}
