{
 "cells": [
  {
   "cell_type": "markdown",
   "metadata": {},
   "source": [
    "# 2.6.5 La función delta de Dirac como caso límite\n",
    "\n",
    "**Función (generalizada) delta de Dirac:**\n",
    "$$\\delta(\\theta)\\approxeq\\begin{cases} +\\infty & \\text{si}\\;\\theta=0\\\\ 0 & \\text{si}\\;\\theta\\neq 0\\end{cases}\\quad\\text{tal que}\\quad\\int_{-\\infty}^{\\infty} \\delta(\\theta)\\,d\\theta = 1$$\n",
    "\n",
    "**La delta de Dirac como límite de la Gaussiana:** $\\;$ cuando la varianza se acerca a cero, la Gaussiana se aproxima a una Dirac en la media\n",
    "$$\\lim_{\\sigma\\to 0}\\,\\mathcal{N}(y\\mid\\mu,\\sigma^2)\\to\\delta(y-\\mu)$$\n",
    "\n",
    "**Propiedad del cribado (sifting):**\n",
    "$$\\int_{-\\infty}^{\\infty} f(y)\\delta(x-y)\\,dy=f(x)$$"
   ]
  }
 ],
 "metadata": {
  "language_info": {
   "name": "python"
  }
 },
 "nbformat": 4,
 "nbformat_minor": 2
}
