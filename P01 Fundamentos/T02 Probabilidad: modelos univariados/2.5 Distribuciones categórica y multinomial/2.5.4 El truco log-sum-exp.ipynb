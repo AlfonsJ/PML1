{
 "cells": [
  {
   "attachments": {},
   "cell_type": "markdown",
   "metadata": {},
   "source": [
    "# 2.5.4 El truco log-sum-exp\n",
    "\n",
    "**Función log-sum-exp (lse):** $\\;$ cálculo robusto del logaritmo de la suma de logits $\\boldsymbol{a}\\in\\mathbb{R}^C$\n",
    "$$\\operatorname{lse}(\\boldsymbol{a})%\n",
    "=\\log\\sum_{c=1}^C \\exp(a_c)%\n",
    "=\\max_{c'} a_{c'}+\\log\\sum_{c=1}^C \\exp(a_c-\\max_{c'} a_{c'})$$"
   ]
  },
  {
   "cell_type": "code",
   "execution_count": 1,
   "metadata": {},
   "outputs": [
    {
     "name": "stdout",
     "output_type": "stream",
     "text": [
      "1.5514447139320509 1.551444713932051\n",
      "inf 1001.551444713932\n",
      "-inf -998.448555286068\n"
     ]
    }
   ],
   "source": [
    "import warnings; warnings.filterwarnings(\"ignore\"); import numpy as np; from scipy.special import logsumexp\n",
    "a1 = np.array([0, 1, 0]);            print(np.log(np.sum(np.exp(a1))), logsumexp(a1))\n",
    "a2 = np.array([1000, 1001, 1000]);   print(np.log(np.sum(np.exp(a2))), logsumexp(a2))\n",
    "a3 = np.array([-1000, -999, -1000]); print(np.log(np.sum(np.exp(a3))), logsumexp(a3))"
   ]
  },
  {
   "attachments": {},
   "cell_type": "markdown",
   "metadata": {},
   "source": [
    "**Cáculo robusto de posteriors categóricos:**\n",
    "$$p(y=c\\mid\\boldsymbol{x})%\n",
    "=\\frac{\\exp(a_c)}{\\sum_{c'=1}^C \\exp(a_{c'})}%\n",
    "=\\exp\\left(\\log(\\exp(a_c))-\\log\\sum_{c'=1}^C \\exp(a_{c'})\\right)%\n",
    "=\\exp(a_c-\\operatorname{lse}(\\boldsymbol{a}))$$"
   ]
  },
  {
   "cell_type": "code",
   "execution_count": 2,
   "metadata": {},
   "outputs": [
    {
     "name": "stdout",
     "output_type": "stream",
     "text": [
      "[0.21194156 0.57611688 0.21194156]\n",
      "[0.21194156 0.57611688 0.21194156]\n",
      "[0.21194156 0.57611688 0.21194156]\n"
     ]
    }
   ],
   "source": [
    "print(np.exp(a1-logsumexp(a1))); print(np.exp(a2-logsumexp(a2))); print(np.exp(a3-logsumexp(a3)))"
   ]
  }
 ],
 "metadata": {
  "kernelspec": {
   "display_name": "Python 3",
   "language": "python",
   "name": "python3"
  },
  "language_info": {
   "codemirror_mode": {
    "name": "ipython",
    "version": 3
   },
   "file_extension": ".py",
   "mimetype": "text/x-python",
   "name": "python",
   "nbconvert_exporter": "python",
   "pygments_lexer": "ipython3",
   "version": "3.11.4"
  },
  "orig_nbformat": 4,
  "vscode": {
   "interpreter": {
    "hash": "e7370f93d1d0cde622a1f8e1c04877d8463912d04d973331ad4851f04de6915a"
   }
  }
 },
 "nbformat": 4,
 "nbformat_minor": 2
}
