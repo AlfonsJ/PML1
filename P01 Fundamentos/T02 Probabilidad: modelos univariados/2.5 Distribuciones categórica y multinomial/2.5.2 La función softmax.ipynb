{
 "cells": [
  {
   "attachments": {},
   "cell_type": "markdown",
   "metadata": {},
   "source": [
    "# 2.5.2 La función softmax\n",
    "\n",
    "**Función softmax:** $\\;$ transforma logits $\\boldsymbol{a}\\in\\mathbb{R}^C$ en un vector de probabilidades $[0,1]^C$\n",
    "$$\\mathcal{S}(\\boldsymbol{a})=\\left(%\n",
    "\\frac{e^{a_1}}{\\sum_{\\tilde{c}}e^{a_{\\tilde{c}}}},\\dotsc,%\n",
    "\\frac{e^{a_C}}{\\sum_{\\tilde{c}}e^{a_{\\tilde{c}}}}\\right)^t%\n",
    "\\qquad\\text{cumpliéndose}\\qquad%\n",
    "0\\leq\\mathcal{S}(\\boldsymbol{a})_c\\leq 1%\n",
    "\\quad\\text{y}\\quad%\n",
    "\\sum_{c=1}^C \\mathcal{S}(\\boldsymbol{a})_c=1$$\n",
    "\n",
    "**Ejemplo:** $\\;\\boldsymbol{a}=(3, 0, 1)^t,\\,\\mathcal{S}(\\boldsymbol{a})=\\left(\\dfrac{e^3}{e^3+1+e},\\dfrac{1}{e^3+1+e},\\dfrac{e}{e^3+1+e}\\right)^t=(0.8438,0.0420,0.1142)^t$"
   ]
  },
  {
   "cell_type": "code",
   "execution_count": 1,
   "metadata": {},
   "outputs": [
    {
     "data": {
      "image/png": "[encoded data removed]",
      "text/plain": [
       "<Figure size 500x300 with 1 Axes>"
      ]
     },
     "metadata": {},
     "output_type": "display_data"
    }
   ],
   "source": [
    "import numpy as np; import matplotlib.pyplot as plt\n",
    "def softmax(a):\n",
    "\te = np.exp((1.0 * np.array(a))); return e / np.sum(e)\n",
    "a = np.array([3, 0, 1]); fig = plt.subplots(figsize=(5,3)); \n",
    "plt.bar(np.arange(1, a.size+1), softmax(a));"
   ]
  },
  {
   "attachments": {},
   "cell_type": "markdown",
   "metadata": {},
   "source": [
    "**Softmax atemperada:** $\\;$ normaliza logits mediante división por una constante de **temperatura** $\\,T>0$\n",
    "* **Bajas temperaturas:** $\\;$ tiende a la argmax, $\\;\\lim_{T\\to 0^+}\\;\\mathcal{S}(\\boldsymbol{a}/T)_c=\\mathbb{I}(c=\\operatorname{argmax}_{c'}a_{c'})$\n",
    "* **Altas temperaturas:** $\\;$ tiende a la uniforme, $\\;\\lim_{T\\to\\infty}\\;\\mathcal{S}(\\boldsymbol{a}/T)_c=1/C$\n",
    "\n",
    "**Ejemplo:** $\\;\\boldsymbol{a}=(3, 0, 1)^t,\\,T\\in\\{0.5,1,10\\}$"
   ]
  },
  {
   "cell_type": "code",
   "execution_count": 2,
   "metadata": {},
   "outputs": [
    {
     "data": {
      "image/png": "[encoded data removed]",
      "text/plain": [
       "<Figure size 1000x300 with 3 Axes>"
      ]
     },
     "metadata": {},
     "output_type": "display_data"
    }
   ],
   "source": [
    "import numpy as np; import matplotlib.pyplot as plt\n",
    "def softmax(a):\n",
    "\te = np.exp((1.0 * np.array(a))); return e / np.sum(e)\n",
    "a = np.array([3, 0, 1]); fig, axs = plt.subplots(1, 3, figsize=(10,3)); \n",
    "for i, T in enumerate((0.5, 1, 10)):\n",
    "\taxs[i].set_ylim((0, 1)); axs[i].bar(np.arange(1, a.size+1), softmax(a/T));"
   ]
  }
 ],
 "metadata": {
  "kernelspec": {
   "display_name": "Python 3",
   "language": "python",
   "name": "python3"
  },
  "language_info": {
   "codemirror_mode": {
    "name": "ipython",
    "version": 3
   },
   "file_extension": ".py",
   "mimetype": "text/x-python",
   "name": "python",
   "nbconvert_exporter": "python",
   "pygments_lexer": "ipython3",
   "version": "3.11.4"
  },
  "orig_nbformat": 4,
  "vscode": {
   "interpreter": {
    "hash": "e7370f93d1d0cde622a1f8e1c04877d8463912d04d973331ad4851f04de6915a"
   }
  }
 },
 "nbformat": 4,
 "nbformat_minor": 2
}
