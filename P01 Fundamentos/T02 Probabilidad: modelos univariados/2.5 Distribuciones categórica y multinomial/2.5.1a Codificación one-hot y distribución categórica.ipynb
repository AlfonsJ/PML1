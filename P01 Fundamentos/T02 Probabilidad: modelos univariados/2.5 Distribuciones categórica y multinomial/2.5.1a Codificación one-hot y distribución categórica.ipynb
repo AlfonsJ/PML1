{
 "cells": [
  {
   "attachments": {},
   "cell_type": "markdown",
   "metadata": {},
   "source": [
    "# 2.5.1a Codificación one-hot y distribución categórica"
   ]
  },
  {
   "cell_type": "markdown",
   "metadata": {},
   "source": [
    "**Propósito:** $\\;$ generalizar la Bernoulli a $C>2$ clases, esto es, una distribución sobre un conjunto finito de etiquetas $\\,\\mathcal{C}=\\{1,\\dotsc,C\\}$\n",
    "\n",
    "**Codificación one-hot:** $\\;$ de una variable categórica $\\,y\\in\\{1,\\dotsc,C\\}$\n",
    "$$\\operatorname{one-hot}(y)%\n",
    "=\\boldsymbol{y}%\n",
    "=\\begin{pmatrix}y_1\\\\\\vdots\\\\y_C\\end{pmatrix}%\n",
    "=\\begin{pmatrix}\\mathbb{I}(y=1)\\\\\\vdots\\\\\\mathbb{I}(y=C)\\end{pmatrix}\\in\\{0,1\\}^C%\n",
    "\\quad\\text{con}\\quad%\n",
    "\\sum_c y_c=1$$\n",
    "\n",
    "**Distribución categórica:** $\\;Y\\sim\\operatorname{Cat}(\\boldsymbol{\\theta}),\\,\\boldsymbol{\\theta}\\in[0,1]^C,\\,\\sum_c\\theta_c=1,\\,$ si su pmf $\\,p:\\mathcal{C}\\to[0,1]\\,$ es\n",
    "$$p(y\\mid\\theta)=\\prod_{c=1}^C\\theta_c^{\\mathbb{I}(y=c)}%\n",
    "\\qquad\\text{o, en notación one-hot,}\\qquad%\n",
    "p(\\boldsymbol{y}\\mid\\theta)=\\prod_{c=1}^C\\theta_c^{y_c}$$\n",
    "\n",
    "**Interpretación:** $\\;\\theta_c\\,$ es la probabilidad de que $\\,y\\,$ valga $c,\\,p(y=c\\mid\\boldsymbol{\\theta})=\\theta_c$\n",
    "\n",
    "**Sobre-parametrización:** $\\;$ solo tenemos $C-1$ parámetros libres por las restricciones sobre $\\,\\boldsymbol{\\theta}$\n",
    "\n",
    "**Ejemplo:** $\\;C=3, \\boldsymbol{\\theta}^t=(0.3, 0.2, 0.5)$"
   ]
  },
  {
   "cell_type": "code",
   "execution_count": 1,
   "metadata": {},
   "outputs": [
    {
     "name": "stdout",
     "output_type": "stream",
     "text": [
      "[0.3 0.2 0.5] [[0 0 1]\n",
      " [1 0 0]\n",
      " [1 0 0]]\n"
     ]
    },
    {
     "data": {
      "image/png": "[encoded data removed]",
      "text/plain": [
       "<Figure size 500x300 with 1 Axes>"
      ]
     },
     "metadata": {},
     "output_type": "display_data"
    }
   ],
   "source": [
    "import matplotlib.pyplot as plt; from scipy.stats import multinomial\n",
    "t = [0.3, 0.2, 0.5]; Y = multinomial(1, t); print(Y.p, Y.rvs(3))\n",
    "fig = plt.subplots(figsize=(5,3)); plt.xticks(range(1, 4)); plt.bar(range(1, 4), Y.p);"
   ]
  },
  {
   "cell_type": "markdown",
   "metadata": {},
   "source": [
    "**Convención:** $\\;0^0=1\\;$ i $\\;0\\log 0=0;\\;$ por ejemplo, con $\\,\\boldsymbol{\\theta}=(0.5, 0.5, 0)^t,\\,\\operatorname{Cat}(\\boldsymbol{y}=(1,0,0)^t\\mid\\boldsymbol{\\theta})=0.5^10.5^00^0=0.5$"
   ]
  }
 ],
 "metadata": {
  "kernelspec": {
   "display_name": "Python 3",
   "language": "python",
   "name": "python3"
  },
  "language_info": {
   "codemirror_mode": {
    "name": "ipython",
    "version": 3
   },
   "file_extension": ".py",
   "mimetype": "text/x-python",
   "name": "python",
   "nbconvert_exporter": "python",
   "pygments_lexer": "ipython3",
   "version": "3.11.4"
  },
  "orig_nbformat": 4,
  "vscode": {
   "interpreter": {
    "hash": "e7370f93d1d0cde622a1f8e1c04877d8463912d04d973331ad4851f04de6915a"
   }
  }
 },
 "nbformat": 4,
 "nbformat_minor": 2
}
