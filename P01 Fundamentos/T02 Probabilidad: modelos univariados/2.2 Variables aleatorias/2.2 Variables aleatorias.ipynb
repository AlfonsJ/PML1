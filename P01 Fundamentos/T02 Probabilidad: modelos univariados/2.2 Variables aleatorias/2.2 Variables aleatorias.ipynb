{
 "cells": [
  {
   "cell_type": "markdown",
   "metadata": {},
   "source": [
    "# 2.2 Variables aleatorias"
   ]
  },
  {
   "cell_type": "markdown",
   "metadata": {},
   "source": [
    "**Variable aleatoria:** $\\;$ valor desconocido de interés $X$\n",
    "\n",
    "**Espacio muestral:** $\\;$ conjunto de valores posibles $\\mathcal{X}$\n",
    "\n",
    "**Evento:** $\\;$ subconjunto de valores en $\\mathcal{X}$\n",
    "\n",
    "**Ejemplo:** $\\;$ variable aleatoria $X=$\"valor obtenido al lanzar un dado\" definida sobre el espacio muestral $\\,\\mathcal{X}=\\{1,\\dotsc,6\\}$\n",
    "* Evento $\\,X=1\\rightarrow\\,$ \"sale 1\"\n",
    "* Evento $\\,X\\in\\{1,3,5\\}\\rightarrow\\,$ \"sale valor impar\"\n",
    "* Evento $\\,1\\leq X\\leq 3\\rightarrow\\,$ \"sale entre 1 y 3\"\n"
   ]
  },
  {
   "cell_type": "markdown",
   "metadata": {},
   "source": [
    "## 2.2.1 Variables aleatorias discretas\n",
    "\n",
    "**Variable aleatoria discreta:** $\\;\\mathcal{X}$ discreto, finito o infinito contable\n",
    "\n",
    "**Probabilidad del evento \"$X$ toma el valor $x$\":** $\\;\\Pr(X=x)$\n",
    "\n",
    "**Función de masa de probabilidad (pmf):** $\\;p(x)=\\Pr(X=x)$\n",
    "\n",
    "**Condiciones de una pmf:** $\\;0\\leq p(x)\\leq 1\\;$ y $\\;\\displaystyle\\sum_{x\\in\\mathcal{X}} p(x)=1$\n",
    "\n",
    "**Ejemplo:** $\\;$ distribución uniforme en $\\,\\mathcal{X}=\\{1,2,3,4\\},\\;p(x)=1/4$ "
   ]
  },
  {
   "cell_type": "code",
   "execution_count": 1,
   "metadata": {},
   "outputs": [
    {
     "data": {
      "image/png": "[encoded data removed]",
      "text/plain": [
       "<Figure size 500x300 with 1 Axes>"
      ]
     },
     "metadata": {},
     "output_type": "display_data"
    }
   ],
   "source": [
    "import numpy as np; import matplotlib.pyplot as plt\n",
    "X = np.arange(1, 5); pmf = np.repeat(1.0/len(X), len(X))\n",
    "fig = plt.subplots(figsize=(5,3)); plt.xticks(X);\n",
    "plt.yticks(np.linspace(0, 1, 5)); plt.ylim((0, 1)); plt.bar(X, pmf, align='center');"
   ]
  }
 ],
 "metadata": {
  "kernelspec": {
   "display_name": "Python 3",
   "language": "python",
   "name": "python3"
  },
  "language_info": {
   "codemirror_mode": {
    "name": "ipython",
    "version": 3
   },
   "file_extension": ".py",
   "mimetype": "text/x-python",
   "name": "python",
   "nbconvert_exporter": "python",
   "pygments_lexer": "ipython3",
   "version": "3.11.4"
  }
 },
 "nbformat": 4,
 "nbformat_minor": 2
}
