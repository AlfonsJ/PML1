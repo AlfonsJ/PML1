{
 "cells": [
  {
   "attachments": {},
   "cell_type": "markdown",
   "metadata": {},
   "source": [
    "# 2.4.1 Definición\n",
    "\n",
    "**Distribución de Bernoulli:** $\\;Y\\sim\\operatorname{Ber}(\\theta),\\,\\theta\\in[0,1],\\,$ si su pmf $\\,p:\\{0,1\\}\\to[0,1]\\,$ es\n",
    "$$p(y\\mid\\theta)=\\begin{cases}\n",
    "1-\\theta & \\text{si $y=0$}\\\\%\n",
    "\\theta   & \\text{si $y=1$}\n",
    "\\end{cases}%\n",
    "=\\theta\\,y+(1-\\theta)(1-y)%\n",
    "=\\theta^y(1-\\theta)^{1-y}\\qquad(0^0=1,\\,0\\log 0=0)$$\n",
    "\n",
    "**Interpretación:** $\\;Y$ es el resultado de un **experimento** con probabilidad de **éxito** ($Y=1$) $\\theta$ y probabilidad de **fracaso** ($Y=0$) $1-\\theta$"
   ]
  },
  {
   "cell_type": "code",
   "execution_count": 3,
   "metadata": {},
   "outputs": [
    {
     "name": "stdout",
     "output_type": "stream",
     "text": [
      "[0, 1] [0.8 0.2] [0 0 1 0 0 1 0 0 0 0]\n"
     ]
    },
    {
     "data": {
      "image/png": "[encoded data removed]",
      "text/plain": [
       "<Figure size 500x300 with 1 Axes>"
      ]
     },
     "metadata": {},
     "output_type": "display_data"
    }
   ],
   "source": [
    "import matplotlib.pyplot as plt; from scipy.stats import bernoulli\n",
    "t = 0.2; Y = bernoulli(t); y = [0, 1]; print(y, Y.pmf(y), Y.rvs(10))\n",
    "fig = plt.subplots(figsize=(5,3)); plt.bar(y, Y.pmf(y), width=0.1);"
   ]
  },
  {
   "attachments": {},
   "cell_type": "markdown",
   "metadata": {},
   "source": [
    "# Distribución binomial"
   ]
  },
  {
   "cell_type": "code",
   "execution_count": 2,
   "metadata": {},
   "outputs": [
    {
     "name": "stdout",
     "output_type": "stream",
     "text": [
      "[ 0  1  2  3  4  5  6  7  8  9 10] [1.07374182e-01 2.68435456e-01 3.01989888e-01 2.01326592e-01\n",
      " 8.80803840e-02 2.64241152e-02 5.50502400e-03 7.86432000e-04\n",
      " 7.37280000e-05 4.09600000e-06 1.02400000e-07] [3 3 1 4 2 1 2 0 0 2]\n"
     ]
    },
    {
     "data": {
      "image/png": "[encoded data removed]",
      "text/plain": [
       "<Figure size 432x288 with 1 Axes>"
      ]
     },
     "metadata": {
      "needs_background": "light"
     },
     "output_type": "display_data"
    }
   ],
   "source": [
    "import numpy as np\n",
    "from scipy.stats import binom\n",
    "import matplotlib.pyplot as plt\n",
    "N, t = 10, 0.2\n",
    "S = binom(N, t)\n",
    "s = np.arange(N+1)\n",
    "print(s, S.pmf(s), S.rvs(10))\n",
    "plt.bar(s, S.pmf(s))\n",
    "plt.show()"
   ]
  }
 ],
 "metadata": {
  "kernelspec": {
   "display_name": "Python 3",
   "language": "python",
   "name": "python3"
  },
  "language_info": {
   "codemirror_mode": {
    "name": "ipython",
    "version": 3
   },
   "file_extension": ".py",
   "mimetype": "text/x-python",
   "name": "python",
   "nbconvert_exporter": "python",
   "pygments_lexer": "ipython3",
   "version": "3.11.4"
  },
  "orig_nbformat": 4,
  "vscode": {
   "interpreter": {
    "hash": "e7370f93d1d0cde622a1f8e1c04877d8463912d04d973331ad4851f04de6915a"
   }
  }
 },
 "nbformat": 4,
 "nbformat_minor": 2
}
