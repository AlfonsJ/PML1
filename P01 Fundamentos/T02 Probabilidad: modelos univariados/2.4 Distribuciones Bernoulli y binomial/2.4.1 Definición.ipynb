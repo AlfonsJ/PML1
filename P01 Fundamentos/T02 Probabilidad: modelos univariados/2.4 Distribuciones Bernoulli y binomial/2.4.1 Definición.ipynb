{
 "cells": [
  {
   "attachments": {},
   "cell_type": "markdown",
   "metadata": {},
   "source": [
    "# 2.4.1 Definición"
   ]
  },
  {
   "cell_type": "markdown",
   "metadata": {},
   "source": [
    "\n",
    "## Distribución de Bernoulli\n",
    "\n",
    "**Distribución de Bernoulli:** $\\;Y\\sim\\operatorname{Ber}(\\theta),\\,\\theta\\in[0,1],\\,$ si su pmf $\\,p:\\{0,1\\}\\to[0,1]\\,$ es\n",
    "$$p(y\\mid\\theta)=\\begin{cases}\n",
    "1-\\theta & \\text{si $y=0$}\\\\%\n",
    "\\theta   & \\text{si $y=1$}\n",
    "\\end{cases}%\n",
    "=\\theta\\,y+(1-\\theta)(1-y)%\n",
    "=\\theta^y(1-\\theta)^{1-y}\\qquad(0^0=1,\\,0\\log 0=0)$$\n",
    "\n",
    "**Interpretación:** $\\;Y$ es el resultado de un **experimento** con probabilidad de **éxito** ($Y=1$) $\\theta$ y probabilidad de **fracaso** ($Y=0$) $1-\\theta$\n",
    "\n",
    "**Ejemplo:** $\\;\\theta=0.25$"
   ]
  },
  {
   "cell_type": "code",
   "execution_count": 1,
   "metadata": {},
   "outputs": [
    {
     "name": "stdout",
     "output_type": "stream",
     "text": [
      "[0 0 0 1 0 1 0 0 0 0]\n"
     ]
    },
    {
     "data": {
      "image/png": "[encoded data removed]",
      "text/plain": [
       "<Figure size 500x300 with 1 Axes>"
      ]
     },
     "metadata": {},
     "output_type": "display_data"
    }
   ],
   "source": [
    "import matplotlib.pyplot as plt; from scipy.stats import bernoulli\n",
    "t = 0.25; Y = bernoulli(t); print(Y.rvs(10)); y = [0, 1]\n",
    "fig = plt.subplots(figsize=(5,3)); plt.bar(y, Y.pmf(y), width=0.1);"
   ]
  },
  {
   "cell_type": "markdown",
   "metadata": {},
   "source": [
    "**Media:** $\\quad\\mathbb{E}[Y]=0\\,p(0\\mid\\theta)+1\\,p(1\\mid\\theta)=0\\,(1-\\theta)+1\\,\\theta=\\theta$\n",
    "\n",
    "**Media del cuadrado de una Bernoulli:** $\\quad\\mathbb{E}[Y^2]=0^2\\,p(0\\mid\\theta)+1^2\\,p(1\\mid\\theta)=\\theta$\n",
    "\n",
    "**Varianza de una Bernoulli:** $\\quad\\mathbb{V}[Y]=\\mathbb{E}[Y^2]-\\mathbb{E}[Y]^2=\\theta-\\theta^2=\\theta(1-\\theta)$"
   ]
  },
  {
   "attachments": {},
   "cell_type": "markdown",
   "metadata": {},
   "source": [
    "## Distribución binomial\n",
    "\n",
    "**Distribución binomial:** $\\;S\\sim\\operatorname{Bin}(N,\\theta),\\,N\\in\\mathbb{N}_1,\\theta\\in[0,1],\\,$ si su pmf $\\,p:\\{0,\\dotsc,N\\}\\to[0,1]\\,$ es\n",
    "$$p(s\\mid N,\\theta)=\\binom{N}{s}\\theta^s(1-\\theta)^{N-s}%\n",
    "\\quad\\text{con}\\quad\\binom{N}{s}=\\frac{N!}{(N-s)!s!}$$\n",
    "\n",
    "**Interpretación:** $\\;s$ es la suma (número) de éxitos en una secuencia de $N$ experimentos de Bernoulli independientes con misma $\\,\\theta;\\;\\binom{N}{s}$ es el número de secuencias distintas con $s$ éxitos e idéntica probabilidad $\\,\\theta^s(1-\\theta)^{N-s}$\n",
    "\n",
    "**Ejemplo:** $\\;N=10, \\theta=0.25$"
   ]
  },
  {
   "cell_type": "code",
   "execution_count": 2,
   "metadata": {},
   "outputs": [
    {
     "name": "stdout",
     "output_type": "stream",
     "text": [
      "[ 0  1  2  3  4  5  6  7  8  9 10] [2 4 4 3 0 4 3 3 1 3]\n"
     ]
    },
    {
     "data": {
      "image/png": "[encoded data removed]",
      "text/plain": [
       "<Figure size 500x300 with 1 Axes>"
      ]
     },
     "metadata": {},
     "output_type": "display_data"
    }
   ],
   "source": [
    "import numpy as np; import matplotlib.pyplot as plt; from scipy.stats import binom\n",
    "N = 10; t = 0.25; S = binom(N, t); s = np.arange(N+1); print(s, S.rvs(10))\n",
    "fig = plt.subplots(figsize=(5,3)); plt.bar(s, S.pmf(s));"
   ]
  }
 ],
 "metadata": {
  "kernelspec": {
   "display_name": "Python 3",
   "language": "python",
   "name": "python3"
  },
  "language_info": {
   "codemirror_mode": {
    "name": "ipython",
    "version": 3
   },
   "file_extension": ".py",
   "mimetype": "text/x-python",
   "name": "python",
   "nbconvert_exporter": "python",
   "pygments_lexer": "ipython3",
   "version": "3.11.4"
  },
  "orig_nbformat": 4,
  "vscode": {
   "interpreter": {
    "hash": "e7370f93d1d0cde622a1f8e1c04877d8463912d04d973331ad4851f04de6915a"
   }
  }
 },
 "nbformat": 4,
 "nbformat_minor": 2
}
