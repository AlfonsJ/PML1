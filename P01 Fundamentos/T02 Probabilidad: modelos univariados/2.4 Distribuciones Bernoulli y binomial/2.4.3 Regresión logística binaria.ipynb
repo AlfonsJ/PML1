{
 "cells": [
  {
   "attachments": {},
   "cell_type": "markdown",
   "metadata": {},
   "source": [
    "# 2.4.3 Regresión logística binaria"
   ]
  },
  {
   "cell_type": "markdown",
   "metadata": {},
   "source": [
    "**Regresión logística binaria:** $\\;$ Bernoulli condicional de log-posibilidad lineal con la entrada\n",
    "$$\\begin{align*}\n",
    "p(y\\mid\\boldsymbol{x}, \\boldsymbol{\\theta})&=\\operatorname{Ber}(y\\mid\\sigma(a))%\n",
    "\\quad\\text{con}\\quad%\n",
    "a=f(\\boldsymbol{x};\\boldsymbol{\\theta})=\\boldsymbol{w}^t\\boldsymbol{x}+b\\\\\n",
    "p(y=1\\mid\\boldsymbol{x};\\boldsymbol{\\theta})&=\\sigma(a)%\n",
    "=\\frac{1}{1+\\exp(-(\\boldsymbol{w}^t\\boldsymbol{x}+b))}\\\\\n",
    "p(y=0\\mid\\boldsymbol{x};\\boldsymbol{\\theta})&=\\sigma(-a)%\n",
    "=\\frac{1}{1+\\exp(\\boldsymbol{w}^t\\boldsymbol{x}+b)}\n",
    "\\end{align*}$$\n",
    "\n",
    "**Frontera:** $\\;\\sigma(a)=\\sigma(-a)\\;\\Rightarrow\\;a=\\boldsymbol{w}^t\\boldsymbol{x}+b=0$\n",
    "\n",
    "**Ejemplo:** $\\;\\boldsymbol{w}^t=(-1, 1),\\,b=0\\;\\Rightarrow\\;-x_1+x_2=0\\;\\Rightarrow\\;x_2=x_1$"
   ]
  },
  {
   "cell_type": "code",
   "execution_count": null,
   "metadata": {},
   "outputs": [],
   "source": [
    "import numpy as np; import matplotlib.pyplot as plt\n",
    "def sigmoid(a):\n",
    "\treturn 1 / (1 + np.exp(-a))\n",
    "x1, x2 = np.meshgrid(np.linspace(-.03, 1.03, 50), np.linspace(-.03, 1.03, 50))\n",
    "XX = np.c_[np.ravel(x1), np.ravel(x2)]\n",
    "Wt = np.array([0, -1, 1]).astype(float) # w^t = (b, w_1, w_2)\n",
    "P = lambda x: (sigmoid(-(Wt[0] + Wt[1:] @ x)), sigmoid(Wt[0] + Wt[1:] @ x))\n",
    "PP = np.apply_along_axis(P, 1, XX); _, axs = plt.subplots(1, 2, figsize=(8, 3))\n",
    "for i, ax in enumerate(axs.flat):\n",
    "    ax.set_xticks(np.linspace(0., 1, 5)); ax.set_yticks(np.linspace(0., 1, 5))\n",
    "    ax.grid(); ax.set_title(f'p({i}|x)')\n",
    "    cp = ax.contourf(x1, x2, PP[:, i].reshape(x1.shape), 15, cmap='RdBu_r')\n",
    "    plt.colorbar(cp, ax=ax);"
   ]
  }
 ],
 "metadata": {
  "kernelspec": {
   "display_name": "Python 3",
   "language": "python",
   "name": "python3"
  },
  "language_info": {
   "codemirror_mode": {
    "name": "ipython",
    "version": 3
   },
   "file_extension": ".py",
   "mimetype": "text/x-python",
   "name": "python",
   "nbconvert_exporter": "python",
   "pygments_lexer": "ipython3",
   "version": "3.11.4"
  },
  "orig_nbformat": 4,
  "vscode": {
   "interpreter": {
    "hash": "e7370f93d1d0cde622a1f8e1c04877d8463912d04d973331ad4851f04de6915a"
   }
  }
 },
 "nbformat": 4,
 "nbformat_minor": 2
}
