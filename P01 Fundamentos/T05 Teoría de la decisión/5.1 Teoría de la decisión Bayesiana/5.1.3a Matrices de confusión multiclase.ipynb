{
 "cells": [
  {
   "attachments": {},
   "cell_type": "markdown",
   "metadata": {},
   "source": [
    "# 5.1.3a Matrices de confusión multiclase"
   ]
  },
  {
   "attachments": {},
   "cell_type": "markdown",
   "metadata": {},
   "source": [
    "## Clasificación multiclase\n",
    "\n",
    "Sea un problema de clasificación en $C$ clases, $\\mathcal{Y}=\\{1,2,\\dotsc,C\\}$, y sea $\\mathcal{D}=\\{(y_m,\\hat{y}_m)\\}_{m=1}^M$ el conjunto de pares de etiquetas real-predicha obtenido tras clasificar $M$ muestras (de test) con un clasificador dado.\n",
    "Llamamos **matriz de confusión multiclase** a la matriz $C\\times C$ cuyo elemento $M_{c,\\hat{c}}$ denota el número de veces que una muestra de la clase $c$ se \"confunde\" como perteneciente a la clase $\\hat{c}$. Obviamente, los elementos de la diagonal son aciertos, mientras que los elementos de fuera de la diagonal son confusiones propiamente dichas (errores):\n",
    "<div align=\"center\">\n",
    "\n",
    "|           |    $\\hat{1}$    |    $\\hat{2}$    |  $\\cdots$ |    $\\hat{C}$    |  Suma fila |\n",
    "|:---------:|:---------------:|:---------------:|:---------:|:---------------:|:----------:|\n",
    "|         1 | $M_{1,\\hat{1}}$ | $M_{1,\\hat{2}}$ |  $\\cdots$ | $M_{1,\\hat{C}}$ |  $M_{1,:}$ |\n",
    "|         2 | $M_{2,\\hat{1}}$ | $M_{2,\\hat{2}}$ |  $\\cdots$ | $M_{2,\\hat{C}}$ |  $M_{2,:}$ |\n",
    "|  $\\vdots$ |     $\\vdots$    |     $\\vdots$    |  $\\vdots$ |     $\\vdots$    |   $\\vdots$ |\n",
    "|         C | $M_{C,\\hat{1}}$ | $M_{C,\\hat{2}}$ |  $\\cdots$ | $M_{C,\\hat{C}}$ |  $M_{C,:}$ |\n",
    "| **Suma:** | $M_{:,\\hat{1}}$ | $M_{:,\\hat{2}}$ |  $\\cdots$ | $M_{:,\\hat{C}}$ |        $M$ |\n",
    "\n",
    "</div>\n",
    "\n",
    "La matriz de confusión puede normalizarse por filas para obtener una estimación empírica de $p(\\hat{y}\\mid y)$, o por columnas para estimar $p(y\\mid\\hat{y})$. No obstante, se suele normalizar por $M$ para obtener una estimación de $p(y, \\hat{y})$ que nos ayude a identificar qué pares de clases se confunden más. Si se quiere estudiar en detalle alguna clase específica, podemos considerarla como clase positiva de un problema de clasificación binario en el que las otras clases se consideran conjuntamente como clase negativa."
   ]
  }
 ],
 "metadata": {
  "language_info": {
   "name": "python"
  },
  "orig_nbformat": 4
 },
 "nbformat": 4,
 "nbformat_minor": 2
}
