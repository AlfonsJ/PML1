{
 "cells": [
  {
   "attachments": {},
   "cell_type": "markdown",
   "metadata": {},
   "source": [
    "# 5.1.3a Matrices de confusión multiclase"
   ]
  },
  {
   "attachments": {},
   "cell_type": "markdown",
   "metadata": {},
   "source": [
    "**Matriz de confusión (multiclase):** $\\;$ para un problema de clasificación en $C$ clases, $\\,\\mathcal{Y}=\\{1,2,\\dotsc,C\\},\\,$ con respecto a un conjunto de pares de etiquetas real-predicha obtenido tras clasificar $M$ muestras (de test) con un clasificador dado, $\\,\\mathcal{D}=\\{(y_m,\\hat{y}_m)\\}_{m=1}^M$\n",
    "$$\\mathbf{M}=[M_{y,\\hat{y}}]:\\;M_{y,\\hat{y}}=\\sum_{m=1}^M\\mathbb{I}(y_m=y)\\mathbb{I}(\\hat{y}_m=\\hat{y})$$\n",
    "\n",
    "<div align=\"center\">\n",
    "\n",
    "|           |    $\\hat{1}$    |    $\\hat{2}$    |  $\\cdots$ |    $\\hat{C}$    |  Suma fila |\n",
    "|:---------:|:---------------:|:---------------:|:---------:|:---------------:|:----------:|\n",
    "|         1 | $M_{1,\\hat{1}}$ | $M_{1,\\hat{2}}$ |  $\\cdots$ | $M_{1,\\hat{C}}$ |  $M_{1,:}$ |\n",
    "|         2 | $M_{2,\\hat{1}}$ | $M_{2,\\hat{2}}$ |  $\\cdots$ | $M_{2,\\hat{C}}$ |  $M_{2,:}$ |\n",
    "|  $\\vdots$ |     $\\vdots$    |     $\\vdots$    |  $\\vdots$ |     $\\vdots$    |   $\\vdots$ |\n",
    "|         C | $M_{C,\\hat{1}}$ | $M_{C,\\hat{2}}$ |  $\\cdots$ | $M_{C,\\hat{C}}$ |  $M_{C,:}$ |\n",
    "| **Suma:** | $M_{:,\\hat{1}}$ | $M_{:,\\hat{2}}$ |  $\\cdots$ | $M_{:,\\hat{C}}$ |        $M$ |\n",
    "\n",
    "</div>\n",
    "\n",
    "**Normalización por filas:** $\\;$ estimación empírica de $\\,p(\\hat{y}\\mid y)$\n",
    "\n",
    "**Normalización por columnas:** $\\;$ estimación empírica de $\\,p(y\\mid\\hat{y})$\n",
    "\n",
    "**Normalización por filas y columnas:** $\\;$ estimación empírica de $\\,p(y, \\hat{y})$\n",
    "\n",
    "**Análisis de una clase específica:** $\\;$ la matriz de confusión se reduce a binaria considerando el resto de clases como una única clase (negativa)"
   ]
  }
 ],
 "metadata": {
  "language_info": {
   "name": "python"
  },
  "orig_nbformat": 4
 },
 "nbformat": 4,
 "nbformat_minor": 2
}
