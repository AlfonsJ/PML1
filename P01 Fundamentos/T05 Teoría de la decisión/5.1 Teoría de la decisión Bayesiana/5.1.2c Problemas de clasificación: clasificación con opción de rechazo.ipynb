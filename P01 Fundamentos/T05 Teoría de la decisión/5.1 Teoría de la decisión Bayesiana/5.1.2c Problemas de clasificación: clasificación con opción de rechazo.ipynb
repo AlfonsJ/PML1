{
 "cells": [
  {
   "attachments": {},
   "cell_type": "markdown",
   "metadata": {},
   "source": [
    "# 5.1.2c Clasificación con opción de rechazo"
   ]
  },
  {
   "attachments": {},
   "cell_type": "markdown",
   "metadata": {},
   "source": [
    "La inclusión de una **reject option** permite responder \"no sé\" cuando no se tiene una respuesta fiable. Para ello, si $\\mathcal{H}=\\mathcal{Y}=\\{1,\\dotsc,C\\}$ son los estados de la naturaleza, definimos una acción $0$ de rechazo y tomamos $\\mathcal{A}=\\mathcal{Y}\\cup\\{0\\}$. Supongamos que los aciertos tienen coste nulo, el rechazo un coste $\\lambda_r$, y que todos los errores de clasificación tienen un mismo coste $\\lambda_e>\\lambda_r$. Esto es, sea la función de pérdida:\n",
    "$$\\ell(y^*,a)=\\begin{cases}\n",
    "0 & \\text{si $a=y^*$}\\\\%\n",
    "\\lambda_r & \\text{si $a=0$}\\\\%\n",
    "\\lambda_e &\\text{en otro caso}%\n",
    "\\end{cases}$$\n",
    "El riesgo de predecir la clase $\\hat{y}$ es:\n",
    "$$R(\\hat{y}\\mid\\boldsymbol{x})%\n",
    "=\\sum_y\\ell(y,\\hat{y})\\,p(y\\mid\\boldsymbol{x})\n",
    "=\\sum_{y\\neq\\hat{y}}\\lambda_e\\,p(y\\mid\\boldsymbol{x})\n",
    "=\\lambda_e(1-p(\\hat{y}\\mid\\boldsymbol{x}))$$\n",
    "Así pues, al igual que con la pérdida 01, la clase de menor riesgo es la etiqueta más probable o **moda** de la probabilidad a posteriori:\n",
    "$$y^*=\\operatorname*{argmax}_{y\\in\\mathcal{Y}}\\;p(y\\mid\\boldsymbol{x})$$ \n",
    "No obstante, clasificaremos solo si el riesgo de $y^*$ es menor que el de rechazo:\n",
    "$$\\lambda_e(1-p(y^*\\mid\\boldsymbol{x}))<\\lambda_r%\n",
    "\\quad\\to\\quad%\n",
    "p(y^*\\mid\\boldsymbol{x})>1-\\frac{\\lambda_r}{\\lambda_e}$$"
   ]
  }
 ],
 "metadata": {
  "language_info": {
   "name": "python"
  },
  "orig_nbformat": 4
 },
 "nbformat": 4,
 "nbformat_minor": 2
}
