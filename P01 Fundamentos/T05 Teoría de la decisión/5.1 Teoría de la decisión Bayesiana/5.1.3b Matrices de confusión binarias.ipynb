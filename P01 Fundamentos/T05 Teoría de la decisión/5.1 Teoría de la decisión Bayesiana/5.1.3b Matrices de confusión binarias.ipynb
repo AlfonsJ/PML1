{
 "cells": [
  {
   "attachments": {},
   "cell_type": "markdown",
   "metadata": {},
   "source": [
    "# 5.1.3b Matrices de confusión binarias"
   ]
  },
  {
   "cell_type": "markdown",
   "metadata": {},
   "source": [
    "**Clasificación binaria:** $\\;$ caso particular de gran interés con una clase positiva ($1$) y otra negativa ($-1$ o $0$)\n",
    "\n",
    "**Caso típico:** $\\;$ la positiva es a priori (mucho) más improbable que la negativa y, sobre todo, queremos clasificar bien las muestras positivas\n",
    "\n",
    "**Ejemplo:** $\\;$ confirmar un diagnóstico médico hipotético a partir del resultado de una prueba\n",
    "\n",
    "**Clasificador basado en un umbral $\\tau\\in[0,1]$:** $\\quad\\hat{y}_{\\tau}(\\boldsymbol{x})=\\mathbb{I}(p(y=1\\mid\\boldsymbol{x})\\geq 1-\\tau)$\n",
    "\n",
    "**Elección de $\\tau$:** $\\;$ no nos limitamos a tomar $\\tau=0.5,\\,$ sino que variamos $\\tau$ de $0$ a $1$ y estudiamos el comportamiento del clasificador\n",
    "* **Caso $\\tau=0$:** $\\;$ solo acertamos los positivos que el clasificador da como seguros positivos, esto es, tal que $\\,p(y=1\\mid\\boldsymbol{x})=1$\n",
    "* **Caso $\\tau=1$:** $\\;$ acertamos todos los positivos a cambio de clasificar también como positivos todos los negativos\n",
    "* **Caso $0<\\tau<1$:** $\\;$ a medida que aumenta $\\tau$ acertamos más positivos y confundimos más negativos pero, ¿a qué ritmo?"
   ]
  },
  {
   "attachments": {},
   "cell_type": "markdown",
   "metadata": {},
   "source": [
    "**Matriz de confusión binaria:** $\\;$ tras clasificar $M$ muestras (de test) con un $\\tau$ dado\n",
    "\n",
    "<div align=\"left\"><table border-collapse: collapse><tr>\n",
    "<td style=\"border: none; text-align:left; vertical-align:top; padding:0; margin:0;\">\n",
    "\n",
    "|    $y$    |                  $\\hat{0}$ |                  $\\hat{1}$ |   Suma fila |\n",
    "|:---------:|:--------------------------:|:--------------------------:|:-----------:|\n",
    "|         0 | $\\operatorname{TN}_{\\tau}$ | $\\operatorname{FP}_{\\tau}$ |         $N$ |\n",
    "|         1 | $\\operatorname{FN}_{\\tau}$ | $\\operatorname{TP}_{\\tau}$ |         $P$ |\n",
    "| **Suma:** |           $\\hat{N}_{\\tau}$ |           $\\hat{P}_{\\tau}$ |         $M$ |\n",
    "\n",
    "</td><td style=\"border: none; padding:0; margin:0;\" width=10><br></td>\n",
    "<td style=\"border: none; text-align:left; vertical-align:top; padding:0; margin:0;\">\n",
    "\n",
    "* $\\operatorname{TN}_{\\tau}$ es el número de **true negatives**\n",
    "* $\\operatorname{FP}_{\\tau}$ es el número de **false positives**\n",
    "* $\\operatorname{FN}_{\\tau}$ es el número de **false negatives**\n",
    "* $\\operatorname{TP}_{\\tau}$ es el número de **true positives**\n",
    "* $P$ y $\\hat{P}_{\\tau}$ son los números verdadero y predicho de positivos\n",
    "* $N$ y $\\hat{N}_{\\tau}$ son los números verdadero y predicho de negativos\n",
    "\n",
    "</td></tr></table></div>"
   ]
  },
  {
   "attachments": {},
   "cell_type": "markdown",
   "metadata": {},
   "source": [
    "**Normalización por filas:** $\\;$ estimación empírica de $\\,p(\\hat{y}\\mid y)$\n",
    "\n",
    "<div><table border-collapse: collapse><tr>\n",
    "<td style=\"border: none; text-align:left; vertical-align:top; padding:0; margin:0;\">\n",
    "\n",
    "|     $y$      |                   $\\hat{0}$ |                   $\\hat{1}$ |             Suma fila |\n",
    "|:------------:|:---------------------------:|:---------------------------:|:---------------------:|\n",
    "|            0 | $\\operatorname{TNR}_{\\tau}$ | $\\operatorname{FPR}_{\\tau}$ |                 $1.0$ |\n",
    "|            1 | $\\operatorname{FNR}_{\\tau}$ | $\\operatorname{TPR}_{\\tau}$ |                 $1.0$ |\n",
    "\n",
    "</td><td style=\"border: none; padding:0; margin:0;\" width=10><br></td>\n",
    "<td style=\"border: none; text-align:left; vertical-align:top; padding:0; margin:0;\">\n",
    "\n",
    "* $\\operatorname{TNR}_{\\tau}=\\operatorname{TN}_{\\tau}/N$ es el **true negative (rate)** o **specificity**\n",
    "* $\\operatorname{FPR}_{\\tau}=\\operatorname{FP}_{\\tau}/N$ es el **false positive (rate), false alarm, type I error** o **fallout**\n",
    "* $\\operatorname{FNR}_{\\tau}=\\operatorname{FN}_{\\tau}/P$ es el **false negative (rate), miss** o **type II error**\n",
    "* $\\operatorname{TPR}_{\\tau}=\\operatorname{TP}_{\\tau}/P$ es el **true positive (rate), hit, recall** o **sensitivity**\n",
    "\n",
    "</td></tr></table></div>"
   ]
  },
  {
   "attachments": {},
   "cell_type": "markdown",
   "metadata": {},
   "source": [
    "**Normalización por columnas:** $\\;$ estimación empírica de $\\,p(y\\mid\\hat{y})$\n",
    "\n",
    "<div><table border-collapse: collapse><tr>\n",
    "<td style=\"border: none; text-align:left; vertical-align:top; padding:0; margin:0;\">\n",
    "\n",
    "|    $y$    |                   $\\hat{0}$ |                   $\\hat{1}$ |\n",
    "|:---------:|:---------------------------:|:---------------------------:|\n",
    "|         0 | $\\operatorname{NPV}_{\\tau}$ | $\\operatorname{FDR}_{\\tau}$ |\n",
    "|         1 | $\\operatorname{FOR}_{\\tau}$ | $\\operatorname{PPV}_{\\tau}$ |\n",
    "| **Suma:** |                       $1.0$ |                       $1.0$ |\n",
    "\n",
    "</td><td style=\"border: none; padding:0; margin:0;\" width=10><br></td>\n",
    "<td style=\"border: none; text-align:left; vertical-align:top; padding:0; margin:0;\">\n",
    "\n",
    "* $\\operatorname{NPV}_{\\tau}=\\operatorname{TN}_{\\tau}/\\hat{N}_{\\tau}$ es el **negative predictive value**\n",
    "* $\\operatorname{FOR}_{\\tau}=\\operatorname{FN}_{\\tau}/\\hat{N}_{\\tau}$ es el **false omission rate**\n",
    "* $\\operatorname{FDR}_{\\tau}=\\operatorname{FP}_{\\tau}/\\hat{P}_{\\tau}$ es el **false discovery rate**\n",
    "* $\\operatorname{PPV}_{\\tau}=\\operatorname{TP}_{\\tau}/\\hat{P}_{\\tau}$ es el **positive predictive value** o **precision**\n",
    "\n",
    "</td></tr></table></div>"
   ]
  }
 ],
 "metadata": {
  "language_info": {
   "name": "python"
  },
  "orig_nbformat": 4
 },
 "nbformat": 4,
 "nbformat_minor": 2
}
