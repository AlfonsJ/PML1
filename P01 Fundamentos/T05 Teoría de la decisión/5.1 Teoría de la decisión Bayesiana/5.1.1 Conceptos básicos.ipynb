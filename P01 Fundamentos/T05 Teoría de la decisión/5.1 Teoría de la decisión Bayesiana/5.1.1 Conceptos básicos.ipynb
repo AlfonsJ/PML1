{
 "cells": [
  {
   "attachments": {},
   "cell_type": "markdown",
   "metadata": {},
   "source": [
    "# 5.1.1 Conceptos básicos\n",
    "\n",
    "Llamamos **inferencia Bayesiana** a la aplicación de la regla de Bayes para actualizar nuestras creencias sobre cantidades ocultas $H$ a partir de datos observados $\\mathbf{X}=\\boldsymbol{x}$ mediante el cálculo de la **posterior** $p(H\\mid \\boldsymbol{x})$. La **teoría de la decisión Bayesiana** usa la inferencia para decidir cuál es la mejor de las posibles **acciones** a realizar. Veamos algunos conceptos básicos que introduce esta teoría:\n",
    "* **Agente:** debe escoger una acción de un conjunto $\\mathcal{A}$\n",
    "* **Estado de la naturaleza:** $h\\in\\mathcal{H}$, condiciona los costes y beneficios que se derivan de tomar cada acción posible\n",
    "* **Función de pérdida:** indica el coste incurrido al tomar la acción $a\\in\\mathcal{A}$ cuando el estado de la naturaleza es $h\\in\\mathcal{H}$\n",
    "$$\\ell(h,a)$$\n",
    "* **Riesgo (pérdida) esperado a posteriori:** de $a$ tras observar $\\boldsymbol{x}$\n",
    "$$R(a\\mid\\boldsymbol{x})=\\mathbb{E}_{p(h\\mid\\boldsymbol{x})}[\\ell(h,a)]%\n",
    "=\\sum_{h\\in\\mathcal{H}} \\ell(h,a)\\,p(h\\mid\\boldsymbol{x})$$\n",
    "* **Política óptima o estimador de Bayes:** obtiene una acción de mínimo riesgo por cada observación posible\n",
    "$$\\pi^*(\\boldsymbol{x})=\\operatorname*{argmin}_{a\\in\\mathcal{A}}\\;R(a\\mid\\boldsymbol{x})$$\n",
    "* **Función de utilidad:** deseabilidad de cada acción posible en cada posible estado, esto es, riesgo con signo cambiado\n",
    "$$U(h,a)=-\\ell(h,a)$$\n",
    "* **Principio de utilidad esperada máxima:** estimador de Bayes expresado en términos de utilidad\n",
    "$$\\pi^*(\\boldsymbol{x})=\\operatorname*{argmax}_{a\\in\\mathcal{A}}\\;\\mathbb{E}_h[U(h,a)]$$\n",
    "* **Sensibilidad al riesgo:** asumimos que el agente es **neutral,** esto es, insensible al riesgo, pero podría no ser así; por ejemplo, nos da igual obtener $50$ EUR con seguridad, o con $50\\%$ de probabilidad de $0$ y $100$ EUR"
   ]
  },
  {
   "attachments": {},
   "cell_type": "markdown",
   "metadata": {},
   "source": [
    "**Ejemplo:** \n",
    "\n",
    "* **Agente:** un médico debe tratar un paciente que podría tener COVID y las posibles acciones son: no hacer nada o dar una medicina con efectos secundarios graves, pero que podría salvarle la vida\n",
    "\n",
    "* **Estado de la naturaleza:** el estado viene dado por la edad del paciente (joven o mayor) y si tiene COVID o no; se trata de un estado *parcialmente observado* ya que podemos observar la edad del paciente directamente, pero no si tiene COVID o no, cosa que inferimos a partir de observaciones ruidosas con la regla de Bayes\n",
    "\n",
    "* **Función de pérdida:** medimos costes en quality-adjusted life years (QALYs); asumimos que el coste de dar una medicina es de $8$ QALYs, independientemente del estado del paciente; sin embargo, el coste de no dar nada a un paciente con COVID se considera de $60$ QALYs si es joven; $10$ si es mayor\n",
    "<div align=\"center\">\n",
    "\n",
    "|       Estado      | nada | med. |\n",
    "|:------------------|:----:|:----:|\n",
    "|   Joven, no COVID | $0$  |  $8$ |\n",
    "|   Joven, COVID    | $60$ |  $8$ |\n",
    "|   Mayor, no COVID | $0$  |  $8$ |\n",
    "|   Mayor, COVID    | $10$ |  $8$ |\n",
    "\n",
    "</div>\n",
    "\n",
    "* **Riesgo esperado a posteriori y estimador de Bayes:** $\\boldsymbol{x}$ incluye edad y el resultado de un test ($0$ o $1$) para actualizar la probabilidad de COVID con Bayes; a partir de las posteriors de los estados y la matriz de pérdidas, podemos hallar una acción de menor riesgo por cada observación posible\n",
    "<div align=\"center\">\n",
    "\n",
    "|    edad   | test |   pr(covid)  |        nada |   med. | acción |\n",
    "|:---------:|:----:|:------------:|:-----------:|:------:|:------:|\n",
    "|   joven   |  $0$ |   $0.014045$ |  $0.842697$ | $8.00$ |   nada |\n",
    "|   joven   |  $1$ |   $0.795455$ | $47.727273$ | $8.00$ |   med. |\n",
    "|   mayor   |  $0$ |   $0.014045$ |  $0.140449$ | $8.00$ |   nada |\n",
    "|   mayor   |  $1$ |   $0.795455$ |  $7.954545$ | $8.00$ |   nada |\n",
    "\n",
    "</div>"
   ]
  }
 ],
 "metadata": {
  "language_info": {
   "name": "python"
  },
  "orig_nbformat": 4
 },
 "nbformat": 4,
 "nbformat_minor": 2
}
