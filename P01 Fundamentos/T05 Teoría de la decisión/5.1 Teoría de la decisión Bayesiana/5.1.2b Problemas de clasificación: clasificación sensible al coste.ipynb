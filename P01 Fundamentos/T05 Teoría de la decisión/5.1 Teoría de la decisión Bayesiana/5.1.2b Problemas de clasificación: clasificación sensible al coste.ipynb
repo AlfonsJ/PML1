{
 "cells": [
  {
   "attachments": {},
   "cell_type": "markdown",
   "metadata": {},
   "source": [
    "# 5.1.2b Clasificación sensible al coste"
   ]
  },
  {
   "attachments": {},
   "cell_type": "markdown",
   "metadata": {},
   "source": [
    "**Pérdida para dos clases con costes distintos:** $\\;\\mathcal{Y}=\\{0,1\\}$\n",
    "$$\\ell(y^*,\\hat{y})=\\begin{pmatrix}\\ell_{00} & \\ell_{01}\\\\\\ell_{10} & \\ell_{11}\\end{pmatrix}$$\n",
    "\n",
    "**Pérdida esperada a posteriori:** $\\;p_0=p(y^*=0\\mid\\boldsymbol{x})\\,$ y $\\,p_1=1-p_0$\n",
    "\n",
    "$$R(\\hat{y}\\mid\\boldsymbol{x})=\\sum_{y^*}\\ell(y^*,\\hat{y})\\,p(y^*\\mid\\boldsymbol{x})%\n",
    "=\\begin{cases}\\ell_{00}\\,p_0+\\ell_{10}\\,p_1&\\text{si}\\;\\hat{y}=0\\\\%\n",
    "\\ell_{01}\\,p_0+\\ell_{11}\\,p_1&\\text{si}\\;\\hat{y}=1\\end{cases}$$\n",
    "\n",
    "**Estimador de Bayes:** $\\;$\n",
    "$$\\pi(\\boldsymbol{x})=\\begin{cases}0&\\text{si}\\;\\ell_{00}\\,p_0+\\ell_{10}\\,p_1<\\ell_{01}\\,p_0+\\ell_{11}\\,p_1\\\\%\n",
    "1&\\text{si no}\\end{cases}$$ \n",
    "\n",
    "**Coste de acierto nulo:** $\\;\\ell_{00}=\\ell_{11}=0$\n",
    "$$\\pi(\\boldsymbol{x})=\\begin{cases}0&\\text{si}\\;\\ell_{10}\\,p_1<\\ell_{01}\\,p_0\\\\1&\\text{si no}\\end{cases}%\n",
    "=\\begin{cases}0&\\text{si}\\;p_1<\\frac{\\ell_{01}}{\\ell_{01}+\\ell_{10}}\\\\1&\\text{si no}\\end{cases}$$ \n",
    "\n",
    "**$\\ldots$ y falso negativo $c$ más caro que falso positivo:** $\\;\\ell_{10}=c\\ell_{01}$\n",
    "$$\\pi(\\boldsymbol{x})=\\begin{cases}0&\\text{si}\\;p_1<\\frac{1}{1+c}\\\\1&\\text{si no}\\end{cases}$$"
   ]
  }
 ],
 "metadata": {
  "language_info": {
   "name": "python"
  },
  "orig_nbformat": 4
 },
 "nbformat": 4,
 "nbformat_minor": 2
}
