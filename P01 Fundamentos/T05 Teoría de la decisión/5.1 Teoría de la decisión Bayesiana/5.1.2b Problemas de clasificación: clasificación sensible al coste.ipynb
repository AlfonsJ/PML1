{
 "cells": [
  {
   "attachments": {},
   "cell_type": "markdown",
   "metadata": {},
   "source": [
    "# 5.1.2b Problemas de clasificación: clasificación sensible al coste"
   ]
  },
  {
   "attachments": {},
   "cell_type": "markdown",
   "metadata": {},
   "source": [
    "**Pérdida para dos clases con costes distintos:** $\\;\\mathcal{Y}=\\{0,1\\}$\n",
    "$$\\ell(y^*,\\hat{y})=\\begin{pmatrix}\\ell_{00} & \\ell_{01}\\\\\\ell_{10} & \\ell_{11}\\end{pmatrix}$$\n",
    "\n",
    "\n",
    "Si $p_0=p(y^*=0\\mid\\boldsymbol{x})$ y $p_1=1-p_0$, debemos escoger $\\hat{y}=0$ si su riesgo es menor que el la clase $1$:\n",
    "$$\\ell_{00}\\,p_0+\\ell_{10}\\,p_1<\\ell_{01}\\,p_0+\\ell_{11}\\,p_1$$\n",
    "Si el coste de acertar es nulo, $\\ell_{00}=\\ell_{11}=0$, esta regla de decisión se simplifica como:\n",
    "$$\\ell_{10}\\,p_1<\\ell_{01}(1-p_1)\\quad\\to\\quad p_1<\\frac{\\ell_{01}}{\\ell_{01}+\\ell_{10}}$$\n",
    "Si, además, un falso negativo cuesta $c$ veces más que un falso positivo, $\\ell_{10}=c\\,\\ell_{01}$, entonces esta regla se simplifica aún más:\n",
    "$$p_1<\\frac{1}{1+c}$$\n",
    "\n"
   ]
  }
 ],
 "metadata": {
  "language_info": {
   "name": "python"
  },
  "orig_nbformat": 4
 },
 "nbformat": 4,
 "nbformat_minor": 2
}
