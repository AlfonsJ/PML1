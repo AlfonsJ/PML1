{
 "cells": [
  {
   "attachments": {},
   "cell_type": "markdown",
   "metadata": {},
   "source": [
    "# Matrices de confusión"
   ]
  },
  {
   "attachments": {},
   "cell_type": "markdown",
   "metadata": {},
   "source": [
    "## Clasificación multiclase\n",
    "\n",
    "Sea un problema de clasificación en $C$ clases, $\\mathcal{Y}=\\{1,2,\\dotsc,C\\}$, y sea $\\mathcal{D}=\\{(y_m,\\hat{y}_m)\\}_{m=1}^M$ el conjunto de pares de etiquetas real-predicha obtenido tras clasificar $M$ muestras (de test) con un clasificador dado.\n",
    "Llamamos **matriz de confusión multiclase** a la matriz $C\\times C$ cuyo elemento $M_{c,\\hat{c}}$ denota el número de veces que una muestra de la clase $c$ se \"confunde\" como perteneciente a la clase $\\hat{c}$. Obviamente, los elementos de la diagonal son aciertos, mientras que los elementos de fuera de la diagonal son confusiones propiamente dichas (errores):\n",
    "<div align=\"center\">\n",
    "\n",
    "|           |    $\\hat{1}$    |    $\\hat{2}$    |  $\\cdots$ |    $\\hat{C}$    |  Suma fila |\n",
    "|:---------:|:---------------:|:---------------:|:---------:|:---------------:|:----------:|\n",
    "|         1 | $M_{1,\\hat{1}}$ | $M_{1,\\hat{2}}$ |  $\\cdots$ | $M_{1,\\hat{C}}$ |  $M_{1,:}$ |\n",
    "|         2 | $M_{2,\\hat{1}}$ | $M_{2,\\hat{2}}$ |  $\\cdots$ | $M_{2,\\hat{C}}$ |  $M_{2,:}$ |\n",
    "|  $\\vdots$ |     $\\vdots$    |     $\\vdots$    |  $\\vdots$ |     $\\vdots$    |   $\\vdots$ |\n",
    "|         C | $M_{C,\\hat{1}}$ | $M_{C,\\hat{2}}$ |  $\\cdots$ | $M_{C,\\hat{C}}$ |  $M_{C,:}$ |\n",
    "| **Suma:** | $M_{:,\\hat{1}}$ | $M_{:,\\hat{2}}$ |  $\\cdots$ | $M_{:,\\hat{C}}$ |        $M$ |\n",
    "\n",
    "</div>\n",
    "\n",
    "La matriz de confusión puede normalizarse por filas para obtener una estimación empírica de $p(\\hat{y}\\mid y)$, o por columnas para estimar $p(y\\mid\\hat{y})$. No obstante, se suele normalizar por $M$ para obtener una estimación de $p(y, \\hat{y})$ que nos ayude a identificar qué pares de clases se confunden más. Si se quiere estudiar en detalle alguna clase específica, podemos considerarla como clase positiva de un problema de clasificación binario en el que las otras clases se consideran conjuntamente como clase negativa."
   ]
  },
  {
   "attachments": {},
   "cell_type": "markdown",
   "metadata": {},
   "source": [
    "## Clasificación binaria\n",
    "\n",
    "La clasificación binaria es un caso particular de la clasificación multiclase que ha recibido mucha atención por su gran interés teórico y práctico. En este caso es habitual referirnos a una clase como la clase positiva ($1$) y a la otra como la negativa ($-1$ o $0$). Típicamente, la clase positiva es a priori (mucho) más improbable que la negativa y tenemos especial interés en no equivocarnos al clasificar muestras positivas. Un buen ejemplo para tener en mente en este contexto consiste en asumir que, dado el resultado de una prueba médica, nuestro clasificador debe confirmar un diagnóstico hipotético si es cierto.\n",
    "Para tratar adecuadamente este tipo de problemas, el clasificador binario se suele expresar mediante una regla de decisión dependiente de un umbral $\\tau\\in[0,1]$:\n",
    "$$\\hat{y}_{\\tau}(\\boldsymbol{x})=\\mathbb{I}(p(y=1\\mid\\boldsymbol{x})\\geq 1-\\tau)$$\n",
    "Según la teoria de la decisión Bayesiana, la minimización del riesgo esperado conduce a la elección de un valor para $\\tau$; por ejemplo, $\\tau=0.5$ con pérdida 01. Ahora bien, si variamos $\\tau$ de $0$ a $1$, podemos estudiar el comportamiento del riesgo con más detalle. En un extremo, $\\tau=0$ y nunca clasificamos en la clase positiva, por lo que siempre fallamos con positivos y acertamos con negativos. En el otro extremo, $\\tau=1$ y siempre clasificamos en la clase positiva, por lo que siempre acertamos con positivos y fallamos con negativos. Claramente, aparte estos valores extremos (o del $\\tau$ de mínimo riesgo), podemos encontrar otros valores de $\\tau$ de interés práctico en la tarea concreta que estemos abordando."
   ]
  },
  {
   "attachments": {},
   "cell_type": "markdown",
   "metadata": {},
   "source": [
    "Supongamos que la regla de decisión dependiente de $\\tau$ se ha aplicado a $M$ muestras (de test). La **matriz de confusión binaria** asociada puede verse como un caso particular de la multiclase en la que sus elementos se expresan en función de $\\tau$ y con nombres propios estándar:\n",
    "\n",
    "<div align=\"center\">\n",
    "\n",
    "|           |                  $\\hat{0}$ |                  $\\hat{1}$ |   Suma fila |\n",
    "|:---------:|:--------------------------:|:--------------------------:|:-----------:|\n",
    "|         0 | $\\operatorname{TN}_{\\tau}$ | $\\operatorname{FP}_{\\tau}$ |         $N$ |\n",
    "|         1 | $\\operatorname{FN}_{\\tau}$ | $\\operatorname{TP}_{\\tau}$ |         $P$ |\n",
    "| **Suma:** |           $\\hat{N}_{\\tau}$ |           $\\hat{P}_{\\tau}$ |         $M$ |\n",
    "\n",
    "</div>\n",
    "\n",
    "* $\\operatorname{TN}_{\\tau}$ es el número de **true negatives**\n",
    "* $\\operatorname{FP}_{\\tau}$ es el número de **false positives**\n",
    "* $\\operatorname{FN}_{\\tau}$ es el número de **false negatives**\n",
    "* $\\operatorname{TP}_{\\tau}$ es el número de **true positives**\n",
    "* $P$ y $\\hat{P}_{\\tau}$ son los números verdadero y predicho de positivos\n",
    "* $N$ y $\\hat{N}_{\\tau}$ son los números verdadero y predicho de negativos"
   ]
  },
  {
   "attachments": {},
   "cell_type": "markdown",
   "metadata": {},
   "source": [
    "La **matriz de confusión normalizada por filas** produce (una estimación empírica de) $p(\\hat{y}\\mid y)$:\n",
    "<div align=\"center\">\n",
    "\n",
    "|              |                   $\\hat{0}$ |                   $\\hat{1}$ |             Suma fila |\n",
    "|:------------:|:---------------------------:|:---------------------------:|:---------------------:|\n",
    "|            0 | $\\operatorname{TNR}_{\\tau}$ | $\\operatorname{FPR}_{\\tau}$ |                 $1.0$ |\n",
    "|            1 | $\\operatorname{FNR}_{\\tau}$ | $\\operatorname{TPR}_{\\tau}$ |                 $1.0$ |\n",
    "\n",
    "</div>\n",
    "\n",
    "* $\\operatorname{TNR}_{\\tau}=\\operatorname{TN}_{\\tau}/N$ es el **true negative (rate)** o **specificity**\n",
    "* $\\operatorname{FPR}_{\\tau}=\\operatorname{FP}_{\\tau}/N$ es el **false positive (rate), false alarm, type I error** o **fallout**\n",
    "* $\\operatorname{FNR}_{\\tau}=\\operatorname{FN}_{\\tau}/P$ es el **false negative (rate), miss** o **type II error**\n",
    "* $\\operatorname{TPR}_{\\tau}=\\operatorname{TP}_{\\tau}/P$ es el **true positive (rate), hit, recall** o **sensitivity**"
   ]
  },
  {
   "attachments": {},
   "cell_type": "markdown",
   "metadata": {},
   "source": [
    "La **matriz de confusión normalizada por columnas** produce (una estimación empírica de) $p(y\\mid \\hat{y})$:\n",
    "<div align=\"center\">\n",
    "\n",
    "|           |                   $\\hat{0}$ |                   $\\hat{1}$ |\n",
    "|:---------:|:---------------------------:|:---------------------------:|\n",
    "|         0 | $\\operatorname{NPV}_{\\tau}$ | $\\operatorname{FDR}_{\\tau}$ |\n",
    "|         1 | $\\operatorname{FOR}_{\\tau}$ | $\\operatorname{PPV}_{\\tau}$ |\n",
    "| **Suma:** |                       $1.0$ |                       $1.0$ |\n",
    "\n",
    "</div>\n",
    "\n",
    "* $\\operatorname{NPV}_{\\tau}=\\operatorname{TN}_{\\tau}/\\hat{N}_{\\tau}$ es el **negative predictive value**\n",
    "* $\\operatorname{FOR}_{\\tau}=\\operatorname{FN}_{\\tau}/\\hat{N}_{\\tau}$ es el **false omission rate**\n",
    "* $\\operatorname{FDR}_{\\tau}=\\operatorname{FP}_{\\tau}/\\hat{P}_{\\tau}$ es el **false discovery rate**\n",
    "* $\\operatorname{PPV}_{\\tau}=\\operatorname{TP}_{\\tau}/\\hat{P}_{\\tau}$ es el **positive predictive value** o **precision**"
   ]
  }
 ],
 "metadata": {
  "language_info": {
   "name": "python"
  },
  "orig_nbformat": 4
 },
 "nbformat": 4,
 "nbformat_minor": 2
}
