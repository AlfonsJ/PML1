{
 "cells": [
  {
   "attachments": {},
   "cell_type": "markdown",
   "metadata": {},
   "source": [
    "# 5.1.2a Problemas de clasificación: pérdida 01"
   ]
  },
  {
   "cell_type": "markdown",
   "metadata": {},
   "source": [
    "**Estados de la naturaleza y acciones:** $\\;$ etiquetas de clase, $\\,\\mathcal{H}=\\mathcal{Y}=\\{1,\\dotsc,C\\}\\qquad\\text{y}\\qquad\\mathcal{A}=\\mathcal{Y}$\n",
    "\n",
    "**Pérdida 01 para dos clases:** $\\;\\mathcal{Y}=\\{0,1\\}$\n",
    "$$\\ell_{01}(y^*,\\hat{y})=\\left[%\n",
    "\\begin{array}{c|cc}\n",
    "    & \\hat{y}=0 & \\hat{y}=1\\\\\\hline%\n",
    "    y^*=0 & 0 & 1\\\\%\n",
    "    y^*=1 & 1 & 0\n",
    "\\end{array}\\right]=\\;\\mathbb{I}(y^*\\neq\\hat{y})$$\n",
    "\n",
    "**Pérdida esperada a posteriori:** $\\;$ la probabilidad de error a posteriori es uno menos la de acertar a posteriori\n",
    "$$R(\\hat{y}\\mid\\boldsymbol{x})%\n",
    "=\\sum_y\\ell_{01}(y,\\hat{y})\\,p(y\\mid\\boldsymbol{x})\n",
    "=\\sum_{y\\neq\\hat{y}}p(y\\mid\\boldsymbol{x})\n",
    "=1-p(\\hat{y}\\mid\\boldsymbol{x})$$\n",
    "\n",
    "**Esstimador de Bayes:** $\\;$ **estimador máximo a posteriori (MAP),** esto es, la etiqueta más probable o **moda** de la probabilidad a posteriori\n",
    "$$\\pi(\\boldsymbol{x})=\\operatorname*{argmax}_{y\\in\\mathcal{Y}}\\;p(y\\mid\\boldsymbol{x})$$ \n"
   ]
  }
 ],
 "metadata": {
  "language_info": {
   "name": "python"
  },
  "orig_nbformat": 4
 },
 "nbformat": 4,
 "nbformat_minor": 2
}
