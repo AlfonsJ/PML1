{
 "cells": [
  {
   "attachments": {},
   "cell_type": "markdown",
   "metadata": {},
   "source": [
    "# 5.1.6 Problemas de predicción probabilística"
   ]
  },
  {
   "cell_type": "markdown",
   "metadata": {},
   "source": [
    "**Estados de la naturaleza y acciones:** $\\;$ distribuciones de probabilidad; $h=p(Y\\mid \\boldsymbol{x})$ y buscamos una $a=q(Y\\mid \\boldsymbol{x})$ que minimice $\\mathbb{E}[\\ell(p,q)]$ para un $\\boldsymbol{x}$ dado\n",
    "\n",
    "**Función de pérdida:** $\\;$ **divergencia de Kullback-Leibler (KL),** en función de la entropía de $p$, $\\mathbb{H}(p)$, y la entropía cruzada entre $p$ y $q$, $\\,\\mathbb{H}(p,q)$\n",
    "$$\\mathbb{KL}(p\\Vert q)=-\\mathbb{H}(p)+\\mathbb{H}(p,q)$$\n",
    "\n",
    "**La minimización de KL equivale a minizar la entropía cruzada:**\n",
    "$$\\begin{align*}\n",
    "q^*(Y\\mid \\boldsymbol{x})%\n",
    "&=\\operatorname*{argmin}_q\\;\\mathbb{KL}(p(Y\\Vert\\boldsymbol{x}),q(Y\\mid\\boldsymbol{x}))\\\\%\n",
    "&=\\operatorname*{argmin}_q\\;-\\mathbb{H}(p) + \\mathbb{H}(p(Y\\mid \\boldsymbol{x}),q(Y\\mid\\boldsymbol{x}))\\\\%\n",
    "&=\\operatorname*{argmin}_q\\;\\mathbb{H}(p(Y\\mid\\boldsymbol{x}),q(Y\\mid \\boldsymbol{x}))\\\\%\n",
    "&=\\operatorname*{argmin}_q\\;-\\sum_{y\\in\\mathcal{Y}} p(y\\mid\\boldsymbol{x})\\log q(y\\mid\\boldsymbol{x})%\n",
    "\\end{align*}$$\n",
    "\n",
    "**En clasificación equivale a usar la log-pérdida:** $\\;$ si $h$ es one-hot, $h=p(Y\\mid\\boldsymbol{x})=\\delta(Y=c)$\n",
    "$$\\mathbb{H}(\\delta(Y=c),q)=-\\sum_{y\\in\\mathcal{Y}} \\delta(y=c)\\log q(y\\mid\\boldsymbol{x})=-\\log q(c\\mid\\boldsymbol{x})$$\n",
    "\n",
    "**Regla de puntuación propia:** $\\;$ pérdida $\\ell(p, q)$ cuya minimización en $q$ converge a $p$\n",
    "\n",
    "**Puntuación de Brier:** $\\;$ regla propia menos sensible a eventos raros que la entropía cruzada\n",
    "$$\\ell(p,q)=\\frac{1}{C}\\sum_{c=1}^C\\;(q(y=c\\mid \\boldsymbol{x})-p(y=c\\mid \\boldsymbol{x}))^2$$"
   ]
  }
 ],
 "metadata": {
  "kernelspec": {
   "display_name": "Python 3",
   "language": "python",
   "name": "python3"
  },
  "language_info": {
   "codemirror_mode": {
    "name": "ipython",
    "version": 3
   },
   "file_extension": ".py",
   "mimetype": "text/x-python",
   "name": "python",
   "nbconvert_exporter": "python",
   "pygments_lexer": "ipython3",
   "version": "3.10.6"
  },
  "orig_nbformat": 4
 },
 "nbformat": 4,
 "nbformat_minor": 2
}
