{
 "cells": [
  {
   "attachments": {},
   "cell_type": "markdown",
   "metadata": {},
   "source": [
    "# 5.1.1b Conceptos básicos: ejemplo"
   ]
  },
  {
   "attachments": {},
   "cell_type": "markdown",
   "metadata": {},
   "source": [
    "**Agente:** $\\;$ un médico debe tratar un paciente que podría tener COVID y las posibles acciones son: no hacer nada o dar una medicina con efectos secundarios graves, pero que podría salvarle la vida\n",
    "\n",
    "**Estado de la naturaleza:** $\\;$ el estado viene dado por la edad del paciente (joven o mayor) y si tiene COVID o no; se trata de un estado *parcialmente observado* ya que podemos observar la edad del paciente directamente, pero no si tiene COVID o no, cosa que inferimos a partir de observaciones ruidosas con la regla de Bayes\n",
    "\n",
    "**Función de pérdida:** $\\;$ medimos costes en quality-adjusted life years (QALYs); asumimos que el coste de dar una medicina es de $8$ QALYs, independientemente del estado del paciente; sin embargo, el coste de no dar nada a un paciente con COVID se considera de $60$ QALYs si es joven; $10$ si es mayor\n",
    "\n",
    "<div align=\"center\">\n",
    "\n",
    "|       Estado      | nada | med. |\n",
    "|:------------------|:----:|:----:|\n",
    "|   Joven, no COVID | $0$  |  $8$ |\n",
    "|   Joven, COVID    | $60$ |  $8$ |\n",
    "|   Mayor, no COVID | $0$  |  $8$ |\n",
    "|   Mayor, COVID    | $10$ |  $8$ |\n",
    "\n",
    "</div>\n",
    "\n",
    "**Riesgo esperado a posteriori y estimador de Bayes:** $\\;\\boldsymbol{x}$ incluye edad y el resultado de un test ($0$ o $1$) para actualizar la probabilidad de COVID con Bayes; a partir de las posteriors de los estados y la matriz de pérdidas, podemos hallar una acción de menor riesgo por cada observación posible\n",
    "\n",
    "<div align=\"center\">\n",
    "\n",
    "|    edad   | test |   pr(covid)  |        nada |   med. | acción |\n",
    "|:---------:|:----:|:------------:|:-----------:|:------:|:------:|\n",
    "|   joven   |  $0$ |   $0.014045$ |  $0.842697$ | $8.00$ |   nada |\n",
    "|   joven   |  $1$ |   $0.795455$ | $47.727273$ | $8.00$ |   med. |\n",
    "|   mayor   |  $0$ |   $0.014045$ |  $0.140449$ | $8.00$ |   nada |\n",
    "|   mayor   |  $1$ |   $0.795455$ |  $7.954545$ | $8.00$ |   nada |\n",
    "\n",
    "</div>"
   ]
  }
 ],
 "metadata": {
  "language_info": {
   "name": "python"
  },
  "orig_nbformat": 4
 },
 "nbformat": 4,
 "nbformat_minor": 2
}
