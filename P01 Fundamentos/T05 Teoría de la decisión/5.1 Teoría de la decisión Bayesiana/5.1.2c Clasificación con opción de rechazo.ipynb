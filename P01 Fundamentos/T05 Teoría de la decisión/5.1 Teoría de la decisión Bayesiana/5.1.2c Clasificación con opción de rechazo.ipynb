{
 "cells": [
  {
   "attachments": {},
   "cell_type": "markdown",
   "metadata": {},
   "source": [
    "# 5.1.2c Clasificación con opción de rechazo"
   ]
  },
  {
   "attachments": {},
   "cell_type": "markdown",
   "metadata": {},
   "source": [
    "**Pérdida con opción de rechazo (acción $0$):** $\\;\\mathcal{H}=\\mathcal{Y}=\\{1,\\dotsc,C\\}\\,$ y $\\,\\mathcal{A}=\\mathcal{Y}\\cup\\{0\\}$\n",
    "$$\\ell(y^*,a)=\\begin{cases}\n",
    "0 &\\text{si $a=y^*\\quad$(acertar no tiene coste)}\\\\%\n",
    "\\lambda_r &\\text{si $a=0\\quad$ (coste del rechazo)}\\\\%\n",
    "\\lambda_e &\\text{otro caso $\\quad$ (mismo coste para todo error, menor que el de rechazo, $\\,\\lambda_r<\\lambda_e$)}%\n",
    "\\end{cases}$$\n",
    "\n",
    "**Pérdida esperada a posteriori:**\n",
    "$$R(a\\mid\\boldsymbol{x})=\\sum_{y^*\\in\\mathcal{Y}}\\ell(y^*,a)\\,p(y^*\\mid\\boldsymbol{x})=\\begin{dcases}%\n",
    "\\sum_{y^*\\in\\mathcal{Y}}\\lambda_r\\,p(y^*\\mid\\boldsymbol{x})=\\lambda_r&\\text{si $\\;a=0$}\\\\\n",
    "\\sum_{y^*\\in\\mathcal{Y}}\\ell(y^*,\\hat{y})\\,p(y^*\\mid\\boldsymbol{x})%\n",
    "=\\sum_{y^*\\in\\mathcal{Y}\\setminus\\{\\hat{y}\\}}\\lambda_e\\,p(y^*\\mid\\boldsymbol{x})%\n",
    "=\\lambda_e(1-p(\\hat{y}\\mid\\boldsymbol{x}))&\\text{si $\\;a=\\hat{y}\\in\\mathcal{Y}$}\n",
    "\\end{dcases}$$\n",
    "\n",
    "**Estimador de Bayes:** $\\displaystyle\\quad\\pi_{01}(\\boldsymbol{x})=\\operatorname*{argmax}_{y\\in\\mathcal{Y}}\\;p(y\\mid\\boldsymbol{x})$\n",
    "$$\\pi(\\boldsymbol{x})=\\begin{dcases}\n",
    "\\pi_{01}(\\boldsymbol{x})&\\text{si}\\;\\lambda_e(1-p(\\pi_{01}(\\boldsymbol{x})\\mid\\boldsymbol{x}))<\\lambda_r%\n",
    "\\;\\to\\;\\text{si}\\;p(\\pi_{01}(\\boldsymbol{x})\\mid\\boldsymbol{x})>1-\\frac{\\lambda_r}{\\lambda_e}\\\\\n",
    "0&\\text{si no}\\end{dcases}$$"
   ]
  }
 ],
 "metadata": {
  "language_info": {
   "name": "python"
  },
  "orig_nbformat": 4
 },
 "nbformat": 4,
 "nbformat_minor": 2
}
