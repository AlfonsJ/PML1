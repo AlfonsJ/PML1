{
 "cells": [
  {
   "attachments": {},
   "cell_type": "markdown",
   "metadata": {},
   "source": [
    "# 5.1.2c Clasificación con opción de rechazo"
   ]
  },
  {
   "attachments": {},
   "cell_type": "markdown",
   "metadata": {},
   "source": [
    "**Pérdida con opción de rechazo (acción $0$):** $\\;\\mathcal{H}=\\mathcal{Y}=\\{1,\\dotsc,C\\}\\,$ y $\\,\\mathcal{A}=\\mathcal{Y}\\cup\\{0\\}$\n",
    "$$\\ell(y^*,a)=\\begin{cases}\n",
    "0 &\\text{si $a=y^*\\quad$(acertar no tiene coste)}\\\\%\n",
    "\\lambda_r &\\text{si $a=0\\quad$ (coste del rechazo)}\\\\%\n",
    "\\lambda_e &\\text{otro caso $\\quad$ (mismo coste para todo error, menor que el de rechazo, $\\,\\lambda_r<\\lambda_e$)}%\n",
    "\\end{cases}$$\n",
    "\n",
    "El riesgo de predecir la clase $\\hat{y}$ es:\n",
    "$$R(\\hat{y}\\mid\\boldsymbol{x})%\n",
    "=\\sum_y\\ell(y,\\hat{y})\\,p(y\\mid\\boldsymbol{x})\n",
    "=\\sum_{y\\neq\\hat{y}}\\lambda_e\\,p(y\\mid\\boldsymbol{x})\n",
    "=\\lambda_e(1-p(\\hat{y}\\mid\\boldsymbol{x}))$$\n",
    "Así pues, al igual que con la pérdida 01, la clase de menor riesgo es la etiqueta más probable o **moda** de la probabilidad a posteriori:\n",
    "$$y^*=\\operatorname*{argmax}_{y\\in\\mathcal{Y}}\\;p(y\\mid\\boldsymbol{x})$$ \n",
    "No obstante, clasificaremos solo si el riesgo de $y^*$ es menor que el de rechazo:\n",
    "$$\\lambda_e(1-p(y^*\\mid\\boldsymbol{x}))<\\lambda_r%\n",
    "\\quad\\to\\quad%\n",
    "p(y^*\\mid\\boldsymbol{x})>1-\\frac{\\lambda_r}{\\lambda_e}$$"
   ]
  }
 ],
 "metadata": {
  "language_info": {
   "name": "python"
  },
  "orig_nbformat": 4
 },
 "nbformat": 4,
 "nbformat_minor": 2
}
