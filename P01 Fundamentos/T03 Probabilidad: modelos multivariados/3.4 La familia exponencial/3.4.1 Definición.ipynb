{
 "cells": [
  {
   "cell_type": "markdown",
   "metadata": {},
   "source": [
    "# 3.4.1 Definición"
   ]
  },
  {
   "cell_type": "markdown",
   "metadata": {},
   "source": [
    "**Familia exponencial:** $\\quad p(\\boldsymbol{y}\\mid\\boldsymbol{\\eta})\\,$ pertenece a la familia exponencial si es de la forma\n",
    "$$p(\\boldsymbol{y}\\mid\\boldsymbol{\\eta})=\\frac{1}{Z(\\boldsymbol{\\eta})}\\exp(\\boldsymbol{\\eta}^t\\,\\mathcal{T}(\\boldsymbol{y}))%\n",
    "=h(\\boldsymbol{y})\\exp(\\boldsymbol{\\eta}^t\\,\\mathcal{T}(\\boldsymbol{y})-A(\\boldsymbol{\\eta}))$$\n",
    "* **Medida base:** $\\quad h(\\boldsymbol{y}),\\,$ es una constante de escalado\n",
    "* **Estadísticos suficientes:** $\\quad\\mathcal{T}(\\boldsymbol{y})$\n",
    "* **Parámetros naturales o canónicos:** $\\quad\\boldsymbol{\\eta}$\n",
    "* **Función partición:** $\\quad Z(\\boldsymbol{\\eta}),\\,$ es una constante de normalización\n",
    "* **Función log-partición:** $\\quad A(\\boldsymbol{\\eta})=\\log Z(\\boldsymbol{\\eta})$"
   ]
  }
 ],
 "metadata": {
  "language_info": {
   "name": "python"
  }
 },
 "nbformat": 4,
 "nbformat_minor": 2
}
