{
 "cells": [
  {
   "cell_type": "markdown",
   "metadata": {},
   "source": [
    "# 3.4.1 Definición"
   ]
  },
  {
   "cell_type": "markdown",
   "metadata": {},
   "source": [
    "### Familia exponencial\n",
    "\n",
    "**Parámetros naturales o canónicos:** $\\;\\boldsymbol{\\eta}$\n",
    "\n",
    "**Distribución de la familia:** $\\;p(\\boldsymbol{y}\\mid\\boldsymbol{\\eta})\\,$ con **función partición** $\\,Z(\\boldsymbol{\\eta}),\\,$ **medida base** $\\,h(\\boldsymbol{y})\\,$ y **estadísticos suficientes** $\\,\\mathcal{T}(\\boldsymbol{y})$\n",
    "$$p(\\boldsymbol{y}\\mid\\boldsymbol{\\eta})=\\frac{1}{Z(\\boldsymbol{\\eta})}h(\\boldsymbol{y})\\exp(\\boldsymbol{\\eta}^t\\,\\mathcal{T}(\\boldsymbol{y}))=h(\\boldsymbol{y})\\exp(\\boldsymbol{\\eta}^t\\,\\mathcal{T}(\\boldsymbol{y})-A(\\boldsymbol{\\eta}))%\n",
    "\\quad\\text{con}\\quad%\n",
    "A(\\boldsymbol{\\eta})=\\log Z(\\boldsymbol{\\eta})$$\n",
    "\n",
    "**Familia mínima:** $\\;$ no existe $\\,\\boldsymbol{\\eta}\\,$ no nulo tal que $\\,\\boldsymbol{\\eta}^t\\,\\mathcal{T}(\\boldsymbol{y})=0,\\,$ por lo que los parámetros son (linealmente) independientes\n",
    "\n",
    "**Ejemplo de familia no mínima:** $\\;$ la multinomial, aunque puede re-parametrizarse para serlo"
   ]
  },
  {
   "cell_type": "markdown",
   "metadata": {},
   "source": [
    "### Generalización de la familia exponencial\n",
    "\n",
    "**Generalización:** $\\;$ definimos $\\,\\boldsymbol{\\eta}=f(\\boldsymbol{\\phi})$, donde $\\boldsymbol{\\phi}$ es otro conjunto de parámetros (posiblemente menor)\n",
    "$$p(\\boldsymbol{y}\\mid\\boldsymbol{\\phi})=h(\\boldsymbol{y})\\exp(f(\\boldsymbol{\\phi})^t\\,\\mathcal{T}(\\boldsymbol{y})-A(f(\\boldsymbol{\\phi})))$$\n",
    "\n",
    "**Familia exponencial curvada:** $\\;f$ no lineal\n",
    "\n",
    "**Forma canónica:** $\\;\\boldsymbol{\\eta}=f(\\boldsymbol{\\phi})=\\boldsymbol{\\phi}$\n",
    "\n",
    "**Familia exponencial natural:** $\\;$ en forma canónica y, además, $\\,\\mathcal{T}(\\boldsymbol{y})=\\boldsymbol{y}$\n",
    "$$p(\\boldsymbol{y}\\mid\\boldsymbol{\\eta})=h(\\boldsymbol{y})\\exp[\\boldsymbol{\\eta}^t\\boldsymbol{y}-A(\\boldsymbol{\\eta})]$$"
   ]
  }
 ],
 "metadata": {
  "language_info": {
   "name": "python"
  }
 },
 "nbformat": 4,
 "nbformat_minor": 2
}
