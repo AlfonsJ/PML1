{
 "cells": [
  {
   "cell_type": "markdown",
   "metadata": {},
   "source": [
    "# 3.4.1-2 Definición y ejemplo"
   ]
  },
  {
   "cell_type": "markdown",
   "metadata": {},
   "source": [
    "### Familia exponencial\n",
    "\n",
    "**Parámetros naturales o canónicos:** $\\;\\boldsymbol{\\eta}$\n",
    "\n",
    "**Distribución de la familia:** $\\;p(\\boldsymbol{y}\\mid\\boldsymbol{\\eta})\\,$ con **función partición** $\\,Z(\\boldsymbol{\\eta}),\\,$ **medida base** $\\,h(\\boldsymbol{y})\\,$ y **estadísticos suficientes** $\\,\\mathcal{T}(\\boldsymbol{y})$\n",
    "$$p(\\boldsymbol{y}\\mid\\boldsymbol{\\eta})=\\frac{1}{Z(\\boldsymbol{\\eta})}h(\\boldsymbol{y})\\exp(\\boldsymbol{\\eta}^t\\,\\mathcal{T}(\\boldsymbol{y}))=h(\\boldsymbol{y})\\exp(\\boldsymbol{\\eta}^t\\,\\mathcal{T}(\\boldsymbol{y})-A(\\boldsymbol{\\eta}))%\n",
    "\\quad\\text{con}\\quad%\n",
    "A(\\boldsymbol{\\eta})=\\log Z(\\boldsymbol{\\eta})$$\n",
    "\n",
    "**Familia mínima:** $\\;$ no existe $\\,\\boldsymbol{\\eta}\\,$ no nulo tal que $\\,\\boldsymbol{\\eta}^t\\,\\mathcal{T}(\\boldsymbol{y})=0,\\,$ por lo que los parámetros son (linealmente) independientes\n",
    "\n",
    "**Ejemplos de familias no mínimas:** $\\;$ la Bernoulli y la multinomial, aunque pueden re-parametrizarse para serlo"
   ]
  },
  {
   "cell_type": "markdown",
   "metadata": {},
   "source": [
    "### Generalización de la familia exponencial\n",
    "\n",
    "**Generalización:** $\\;$ definimos $\\,\\boldsymbol{\\eta}=f(\\boldsymbol{\\phi})$, donde $\\boldsymbol{\\phi}$ es otro conjunto de parámetros (posiblemente menor)\n",
    "$$p(\\boldsymbol{y}\\mid\\boldsymbol{\\phi})=h(\\boldsymbol{y})\\exp(f(\\boldsymbol{\\phi})^t\\,\\mathcal{T}(\\boldsymbol{y})-A(f(\\boldsymbol{\\phi})))$$\n",
    "\n",
    "**Familia exponencial curvada:** $\\;f$ no lineal\n",
    "\n",
    "**Forma canónica:** $\\;\\boldsymbol{\\eta}=f(\\boldsymbol{\\phi})=\\boldsymbol{\\phi}$\n",
    "\n",
    "**Familia exponencial natural:** $\\;$ en forma canónica y, además, $\\,\\mathcal{T}(\\boldsymbol{y})=\\boldsymbol{y}$\n",
    "$$p(\\boldsymbol{y}\\mid\\boldsymbol{\\eta})=h(\\boldsymbol{y})\\exp[\\boldsymbol{\\eta}^t\\boldsymbol{y}-A(\\boldsymbol{\\eta})]$$"
   ]
  },
  {
   "cell_type": "markdown",
   "metadata": {},
   "source": [
    "### Ejemplo: Bernoulli en forma de familia exponencial y re-parametrización mínima\n",
    "\n",
    "**Bernoulli:**\n",
    "$$p(y\\mid\\mu)=\\mu^y(1-\\mu)^{1-y}=\\exp[y\\log(\\mu)+(1-y)\\log(1-\\mu)]$$\n",
    "\n",
    "**Bernoulli en forma de familia exponencial:**\n",
    "$$p(y\\mid\\mu)=\\exp[\\mathcal{T}(y)^t\\boldsymbol{\\eta}]%\n",
    "\\quad\\text{con}\\quad%\n",
    "\\mathcal{T}(y)=[\\mathbb{I}(y=1),\\mathbb{I}(y=0)]%\n",
    "\\quad\\text{y}\\quad%\n",
    "\\boldsymbol{\\eta}=[\\log(\\mu),\\log(1-\\mu)]$$\n",
    "\n",
    "**Sobre-parametrización:** $\\;\\boldsymbol{\\eta}\\,$ no es unívocamente identificable pues las características son linealmente dependientes\n",
    "$$\\boldsymbol{1}^t\\mathcal{T}(y)=\\mathbb{I}(y=0)+\\mathbb{I}(y=1)=1$$\n",
    "\n",
    "**Re-parametrización mínima:** $\\;$ con $\\;\\displaystyle\\eta=\\log\\left(\\frac{\\mu}{1-\\mu}\\right)\\;$ por lo que $\\;\\displaystyle\\mu=\\sigma(\\eta)=\\frac{1}{1+e^\\eta}$\n",
    "$$p(y\\mid\\eta)=\\exp[\\mathcal{T}(y)\\eta+A(\\eta)]%\n",
    "\\quad\\text{con}\\quad\\mathcal{T}(y)=y\\quad\\text{y}\\quad A(\\eta)=-\\log(1-\\mu)=\\log(1+e^\\eta)$$\n"
   ]
  }
 ],
 "metadata": {
  "language_info": {
   "name": "python"
  }
 },
 "nbformat": 4,
 "nbformat_minor": 2
}
