{
 "cells": [
  {
   "cell_type": "markdown",
   "metadata": {},
   "source": [
    "# 3.4.4 La familia exponencial y máxima entropía"
   ]
  },
  {
   "cell_type": "markdown",
   "metadata": {},
   "source": [
    "**Distribución $p(\\boldsymbol{x})$ restringida por el valor esperado $F_k$ de una función característica $f_k(\\boldsymbol{x})$:**\n",
    "$$\\mathbb{E}[f_k(\\boldsymbol{x})]=\\sum_{\\boldsymbol{x}}p(\\boldsymbol{x})f_k(\\boldsymbol{x})=F_k$$\n",
    "\n",
    "**Ejemplos:**\n",
    "* $f_0(\\boldsymbol{x})=1\\,$ para normalizar $p(\\boldsymbol{x})$ con $F_0=1$\n",
    "* $f_1(\\boldsymbol{x})=\\boldsymbol{x}\\,$ para que el primer momento de $p(\\boldsymbol{x})$ sea igual a un $F_1$ dado\n",
    "\n",
    "**Modelo de máxima entropía:** $\\;p(\\boldsymbol{x})$ de máxima incertidumbre (entropía) restringida por valores esperados de funciones características\n",
    "$$p^*=\\operatorname*{argmax}\\nolimits_p\\;\\mathbb{H}(p)%\n",
    "\\quad\\text{sujeto a}\\quad%\n",
    "\\mathbb{E}[f_k(\\boldsymbol{x})]=F_k\\quad(k=0,1,\\ldots)$$\n",
    "\n",
    "**Lagrangiana:**\n",
    "$$J(p,\\boldsymbol{\\lambda})=-\\sum_{\\boldsymbol{x}}p(\\boldsymbol{x})\\log p(\\boldsymbol{x})+\\lambda_0\\left(1-\\sum_{\\boldsymbol{x}}p(\\boldsymbol{x})\\right)+\\sum_k\\lambda_k\\left(F_k-\\sum_{\\boldsymbol{x}}p(\\boldsymbol{x})f_k(\\boldsymbol{x})\\right)$$\n",
    "\n",
    "Derivada de $J$ (tratando $p$ como un vector de longitud fija):\n",
    "$$\\frac{\\partial J}{\\partial p_c}=-1-\\log p(x=c)-\\lambda_0-\\sum_k\\lambda_kf_k(x=c)$$\n",
    "\n",
    "Derivando llegamos a que $p(\\boldsymbol{x})$ es de la familia exponencial:\n",
    "$$p(\\boldsymbol{x})=\\frac{1}{Z}\\exp\\left(-\\sum_k\\lambda_kf_k(\\boldsymbol{x})\\right)%\n",
    "\\quad\\text{con}\\quad%\n",
    "Z=\\sum_{\\boldsymbol{x}}\\exp\\left(-\\sum_k\\lambda_kf_k(\\boldsymbol{x})\\right)$$"
   ]
  }
 ],
 "metadata": {
  "language_info": {
   "name": "python"
  }
 },
 "nbformat": 4,
 "nbformat_minor": 2
}
