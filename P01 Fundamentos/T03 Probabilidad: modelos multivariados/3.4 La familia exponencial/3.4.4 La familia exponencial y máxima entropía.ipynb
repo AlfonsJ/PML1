{
 "cells": [
  {
   "cell_type": "markdown",
   "metadata": {},
   "source": [
    "# 3.4.4 La familia exponencial y máxima entropía"
   ]
  },
  {
   "cell_type": "markdown",
   "metadata": {},
   "source": [
    "**Distribución $p(\\boldsymbol{x})$ restringida por el valor esperado $F_k$ de una función característica $f_k(\\boldsymbol{x})$:**\n",
    "$$\\mathbb{E}[f_k(\\boldsymbol{x})]=\\sum_{\\boldsymbol{x}}p(\\boldsymbol{x})f_k(\\boldsymbol{x})=F_k$$\n",
    "\n",
    "**Ejemplos:**\n",
    "* $f_0(\\boldsymbol{x})=1\\,$ para normalizar $p(\\boldsymbol{x})$ con $F_0=1$\n",
    "* $f_1(\\boldsymbol{x})=\\boldsymbol{x}\\,$ para que el primer momento de $p(\\boldsymbol{x})$ sea igual a un $F_1$ dado\n",
    "\n",
    "**Modelo de máxima entropía:** $\\;p(\\boldsymbol{x})$ de máxima incertidumbre (entropía) restringida por valores esperados de funciones características\n",
    "$$p^*=\\operatorname*{argmax}\\nolimits_p\\;\\mathbb{H}(p)%\n",
    "\\quad\\text{sujeto a}\\quad%\n",
    "\\mathbb{E}[f_k(\\boldsymbol{x})]=F_k\\quad(k=0,1,\\ldots)$$\n",
    "\n",
    "**Maximización de la Lagrangiana sin restricciones:** $\\;$ tratando $\\boldsymbol{p}=p(\\boldsymbol{x})$ como un vector de longitud fija\n",
    "$$\\begin{align*}\n",
    "J(\\boldsymbol{p},\\boldsymbol{\\lambda})%\n",
    "&=-\\sum_{\\boldsymbol{x}}p(\\boldsymbol{x})\\log p(\\boldsymbol{x})+\\lambda_0\\left(1-\\sum_{\\boldsymbol{x}}p(\\boldsymbol{x})\\right)+\\sum_{k\\geq 1}\\lambda_k\\left(F_k-\\sum_{\\boldsymbol{x}}p(\\boldsymbol{x})f_k(\\boldsymbol{x})\\right)\\\\\n",
    "\\frac{\\partial J}{\\partial p(\\boldsymbol{x})}%\n",
    "&=-1-\\log p(\\boldsymbol{x})-\\lambda_0-\\sum_{k\\geq 1}\\lambda_kf_k(\\boldsymbol{x})\\overset{!}{=}0%\n",
    "\\;\\to\\;p(\\boldsymbol{x})=\\frac{1}{e^{1+\\lambda_0}}\\exp\\left(-\\sum_{k\\geq 1}\\lambda_kf_k(\\boldsymbol{x})\\right)\\\\\n",
    "\\frac{\\partial J}{\\partial\\lambda_0}%\n",
    "&=1-\\sum_{\\boldsymbol{x}}p(\\boldsymbol{x})\\overset{!}{=}0%\n",
    "\\;\\to\\;Z=e^{1+\\lambda_0}=\\sum_{\\boldsymbol{x}}\\exp\\left(-\\sum_{k\\geq 1}\\lambda_kf_k(\\boldsymbol{x})\\right)\\\\\n",
    "p(\\boldsymbol{x})%\n",
    "&=\\frac{1}{Z}\\exp\\left(-\\sum_{k\\geq 1}\\lambda_kf_k(\\boldsymbol{x})\\right)%\n",
    "\\qquad\\text{modelo de la familia exponencial!}\n",
    "\\end{align*}$$"
   ]
  }
 ],
 "metadata": {
  "language_info": {
   "name": "python"
  }
 },
 "nbformat": 4,
 "nbformat_minor": 2
}
