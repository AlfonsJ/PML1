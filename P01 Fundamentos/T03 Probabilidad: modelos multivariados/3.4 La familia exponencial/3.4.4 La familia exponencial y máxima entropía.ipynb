{
 "cells": [
  {
   "cell_type": "markdown",
   "metadata": {},
   "source": [
    "# 3.4.4 La familia exponencial y máxima entropía"
   ]
  },
  {
   "cell_type": "markdown",
   "metadata": {},
   "source": [
    "**Modelo de máxima entropía:** $\\;$ dado un **prior** $\\,q(\\boldsymbol{x}),\\,$ buscamos una $p(\\boldsymbol{x})$ que describa unos datos sabiendo solo los valores esperados $F_k$ de ciertas **características** $f_k(\\boldsymbol{x})\\,$ como, por ejemplo,\n",
    "$\\,f_1(x)=x$ ($F_1$ media empírica) y $\\,f_2(x)=x^2$ ($F_2$ segundo momento empírico)\n",
    "$$\\int p(\\boldsymbol{x})f_k(\\boldsymbol{x})\\,d\\boldsymbol{x}=F_k$$\n",
    "\n",
    "**Formalización:** $\\;$ para hallar una $p(\\boldsymbol{x})$ que haga el \"menor número de asunciones posible\", buscaremos la $p(\\boldsymbol{x})$ más (KL-)próxima a $q(\\boldsymbol{x})$ que cumpla las restricciones\n",
    "$$p^*=\\operatorname*{argmin}\\nolimits_p\\;D_{\\mathbb{KL}}(p\\Vert q)\\quad\\text{s.a. restricciones}%\n",
    "\\overset{q(\\boldsymbol{x})\\propto 1}{=}%\n",
    "\\operatorname*{argmax}\\nolimits_p\\;\\mathbb{H}(p)\\quad\\text{s.a. restricciones}$$\n",
    "\n",
    "**Resolución:** $\\;$ modelo de la **familia exponencial**\n",
    "\n",
    "Lagrangiana con $\\,p(\\boldsymbol{x})\\geq0$, $\\sum_{\\boldsymbol{x}}p(\\boldsymbol{x})=1$ y restricciones características\n",
    "$$J(p,\\boldsymbol{\\lambda})=-\\sum_{\\boldsymbol{x}}p(\\boldsymbol{x})\\log\\frac{p(\\boldsymbol{x})}{q(\\boldsymbol{x})}+\\lambda_0\\left(1-\\sum_{\\boldsymbol{x}}p(\\boldsymbol{x})\\right)+\\sum_k\\lambda_k\\left(F_k-\\sum_{\\boldsymbol{x}}p(\\boldsymbol{x})f_k(\\boldsymbol{x})\\right)$$\n",
    "\n",
    "Derivada de $J$ (tratando $p$ como un vector de longitud fija):\n",
    "$$\\frac{\\partial J}{\\partial p_c}=-1-\\log\\frac{p(x=c)}{q(x=c)}-\\lambda_0-\\sum_k\\lambda_kf_k(x=c)$$\n",
    "\n",
    "Derivando llegamos a que $p(\\boldsymbol{x})$ es de la familia exponencial:\n",
    "$$p(\\boldsymbol{x})=\\frac{q(\\boldsymbol{x})}{Z}\\exp\\left(-\\sum_k\\lambda_kf_k(\\boldsymbol{x})\\right)%\n",
    "\\quad\\text{con}\\quad%\n",
    "Z=\\sum_{\\boldsymbol{x}}q(\\boldsymbol{x})\\exp\\left(-\\sum_k\\lambda_kf_k(\\boldsymbol{x})\\right)$$"
   ]
  }
 ],
 "metadata": {
  "language_info": {
   "name": "python"
  }
 },
 "nbformat": 4,
 "nbformat_minor": 2
}
