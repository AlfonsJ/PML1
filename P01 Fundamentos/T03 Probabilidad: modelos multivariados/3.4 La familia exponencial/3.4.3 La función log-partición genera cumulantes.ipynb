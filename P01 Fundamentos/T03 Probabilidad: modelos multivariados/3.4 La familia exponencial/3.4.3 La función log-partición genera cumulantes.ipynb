{
 "cells": [
  {
   "cell_type": "markdown",
   "metadata": {},
   "source": [
    "# 3.4.3 La función log-partición genera cumulantes"
   ]
  },
  {
   "cell_type": "markdown",
   "metadata": {},
   "source": [
    "**Cumulantes primero y segundo:** $\\quad\\mathbb{E}[Y]\\quad\\mathbb{E}[(Y-\\mathbb{E}[Y])^2]=\\mathbb{V}[Y]$\n",
    "\n",
    "**Momentos primero y segundo:** $\\quad\\mathbb{E}[Y]\\quad\\mathbb{E}[Y^2]$\n",
    "\n",
    "**Propiedad importante:** $\\;$ las derivadas de la función log-partición $\\,A(\\boldsymbol{\\eta})\\,$ generan los cumulantes de los estadísticos suficientes\n",
    "$$\\boldsymbol{\\nabla} A(\\boldsymbol{\\eta})=\\mathbb{E}[\\mathcal{T}(\\boldsymbol{y})]\\qquad\\boldsymbol{\\nabla}^2 A(\\boldsymbol{\\eta})=\\operatorname{Cov}[\\mathcal{T}(\\boldsymbol{y})]$$\n",
    "\n",
    "**La función log-partición $A(\\boldsymbol{\\eta})$ es convexa:** $\\;$ ya que la Hessiana es definida positiva\n",
    "\n",
    "**El MLE tiene un único máximo:** $\\;$ ya que la log-verosimilitud es cóncava, de la forma\n",
    "$$\\log p(\\boldsymbol{y}\\mid\\boldsymbol{\\eta})=\\boldsymbol{\\eta}^t\\mathcal{T}(\\boldsymbol{y})-A(\\boldsymbol{\\eta})+\\operatorname{const}$$"
   ]
  }
 ],
 "metadata": {
  "language_info": {
   "name": "python"
  }
 },
 "nbformat": 4,
 "nbformat_minor": 2
}
