{
 "cells": [
  {
   "cell_type": "markdown",
   "metadata": {},
   "source": [
    "# 3.1.1 Covarianza"
   ]
  },
  {
   "cell_type": "markdown",
   "metadata": {},
   "source": [
    "**Covarianza entre dos variables aleatorias $X$ e $Y$:**\n",
    "$$\\operatorname{Cov}[X,Y]=\\mathbb{E}[(X-\\mathbb{E}[X])(Y-\\mathbb{E}[Y])]=\\mathbb{E}[XY]-\\mathbb{E}[X]\\mathbb{E}[Y]$$\n",
    "\n",
    "**Interpretación de la covarianza:** $\\;$ mide hasta qué grado $X$ e $Y$ están (linealmente) relacionadas\n",
    "\n",
    "**Matriz de covarianzas de un vector aleatorio $D$-dimensional $\\boldsymbol{x}$:** $\\;$ matriz **simétrica** y **semi-definida positiva**\n",
    "$$\\boldsymbol{\\Sigma}=\\operatorname{Cov}[\\boldsymbol{x}]%\n",
    "=\\mathbb{E}\\left[(\\boldsymbol{x}-\\mathbb{E}[\\boldsymbol{x}])(\\boldsymbol{x}-\\mathbb{E}[\\boldsymbol{x}])^t\\right]%\n",
    "=\\begin{pmatrix}\n",
    "\\mathbb{V}[X_1]     & \\operatorname{Cov}[X_1,X_2] & \\cdots & \\operatorname{Cov}[X_1,X_D]\\\\%\n",
    "\\operatorname{Cov}[X_2,X_1] & \\mathbb{V}[X_2]     & \\cdots & \\operatorname{Cov}[X_2,X_D]\\\\%\n",
    "\\vdots        & \\vdots        & \\ddots & \\vdots\\\\%\n",
    "\\operatorname{Cov}[X_D,X_1] & \\operatorname{Cov}[X_D,X_2] & \\cdots & \\mathbb{V}[X_D]%\n",
    "\\end{pmatrix}$$\n",
    "\n",
    "**Resultado importante:** $\\quad \\mathbb{E}[\\boldsymbol{x}\\boldsymbol{x}^t]=\\boldsymbol{\\Sigma}+\\boldsymbol{\\mu}\\boldsymbol{\\mu}^t$\n",
    "\n",
    "**Covarianza de una transformación lineal:** $\\quad\\operatorname{Cov}[\\mathbf{A}\\boldsymbol{x}+\\boldsymbol{b}]=\\mathbf{A}\\operatorname{Cov}[\\boldsymbol{x}]\\mathbf{A}^t$\n",
    "\n",
    "**Covarianza cruzada entre dos vectores aleatorios:** $\\quad\\operatorname{Cov}[\\boldsymbol{x},\\boldsymbol{y}]=\\mathbb{E}[(\\boldsymbol{x}-\\mathbb{E}[\\boldsymbol{x}])(\\boldsymbol{y}-\\mathbb{E}[\\boldsymbol{y}])^t]$"
   ]
  }
 ],
 "metadata": {
  "language_info": {
   "name": "python"
  }
 },
 "nbformat": 4,
 "nbformat_minor": 2
}
