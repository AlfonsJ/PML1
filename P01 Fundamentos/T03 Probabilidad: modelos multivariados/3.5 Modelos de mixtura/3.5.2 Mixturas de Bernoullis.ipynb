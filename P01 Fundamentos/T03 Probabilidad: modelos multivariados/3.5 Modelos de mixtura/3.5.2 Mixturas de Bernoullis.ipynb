{
 "cells": [
  {
   "cell_type": "markdown",
   "metadata": {},
   "source": [
    "# 3.5.2 Mixturas de Bernoullis\n",
    "\n",
    "**Bernoulli mixture model (BMM) o mixture of Bernoullis:** $\\;$ cada componente es de la forma\n",
    "$$p(\\boldsymbol{y}\\mid z=k,\\boldsymbol{\\theta})=\\prod_{d=1}^D\\operatorname{Ber}(y_d\\mid\\mu_{dk})=\\prod_{d=1}^D\\mu_{dk}^{y_d}(1-\\mu_{dk})^{1-y_d}$$\n",
    "* $\\mu_{dk}$ es la probabilidad de que el bit $d$ sea $1$ en la componente $k$\n",
    "\n",
    "**Ejemplo:** $\\;$ BMM de $K=20$ componentes para MNIST ($\\pi_k$ y $\\boldsymbol{\\mu}_k$)"
   ]
  }
 ],
 "metadata": {
  "kernelspec": {
   "display_name": "Python 3",
   "language": "python",
   "name": "python3"
  },
  "language_info": {
   "codemirror_mode": {
    "name": "ipython",
    "version": 3
   },
   "file_extension": ".py",
   "mimetype": "text/x-python",
   "name": "python",
   "nbconvert_exporter": "python",
   "pygments_lexer": "ipython3",
   "version": "3.11.4"
  }
 },
 "nbformat": 4,
 "nbformat_minor": 2
}
