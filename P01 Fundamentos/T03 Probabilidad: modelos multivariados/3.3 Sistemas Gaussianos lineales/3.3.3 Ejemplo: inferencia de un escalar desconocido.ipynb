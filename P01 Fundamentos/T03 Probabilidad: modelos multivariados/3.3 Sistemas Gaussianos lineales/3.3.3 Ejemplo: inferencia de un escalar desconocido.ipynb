{
 "cells": [
  {
   "cell_type": "markdown",
   "metadata": {},
   "source": [
    "# 3.3.3 Ejemplo: inferencia de un escalar desconocido"
   ]
  },
  {
   "cell_type": "markdown",
   "metadata": {},
   "source": [
    "**Propósito:** $\\;$ predicción de un escalar $z$ a partir de $N$ medidas $\\,\\boldsymbol{y}=(y_1,\\dotsc,y_N)\\,$ realizadas con un ruido de precisión fija $\\,\\lambda_y=1/\\sigma^2$"
   ]
  },
  {
   "cell_type": "markdown",
   "metadata": {},
   "source": [
    "**Sistema Gaussiano lineal:**\n",
    "$$\\begin{align*}\n",
    "p(\\boldsymbol{z})%\n",
    "&=\\mathcal{N}(\\boldsymbol{z}\\mid\\boldsymbol{\\mu}_z,\\mathbf{\\Sigma}_z)\n",
    "&\\to&&p(z)%\n",
    "&=\\mathcal{N}(z\\mid\\mu_0,\\lambda_0^{-1})\\\\\n",
    "p(\\boldsymbol{y}\\mid\\boldsymbol{z})%\n",
    "&=\\mathcal{N}(\\boldsymbol{y}\\mid\\mathbf{W}\\boldsymbol{z}+\\boldsymbol{b},\\mathbf{\\Sigma}_y)%\n",
    "&\\to&&p(\\boldsymbol{y}\\mid z)%\n",
    "&=\\mathcal{N}(\\boldsymbol{y}\\mid\\mathbf{W}z+\\boldsymbol{b},\\mathbf{\\Sigma}_y)%\n",
    "\\qquad\\mathbf{W}=\\boldsymbol{1}_N%\n",
    "\\quad\\mathbf{\\Sigma}_y=\\operatorname{diag}(\\lambda_y^{-1}\\mathbf{I})\n",
    "\\end{align*}$$"
   ]
  },
  {
   "cell_type": "markdown",
   "metadata": {},
   "source": [
    "**Posterior Gaussiana:** $\\qquad p(z\\mid\\boldsymbol{y})=\\mathcal{N}(z\\mid\\mu_N,\\lambda_N^{-1})$\n",
    "$$\\begin{align*}\n",
    "\\lambda_N&=\\lambda_0+N\\lambda_y\\\\%\n",
    "\\mu_N&=\\frac{N\\lambda_y\\bar{y}+\\lambda_0\\mu_0}{\\lambda_N}%\n",
    "=\\frac{N\\lambda_y}{N\\lambda_y+\\lambda_0}\\bar{y}+\\frac{\\lambda_0}{N\\lambda_y+\\lambda_0}\\mu_0\\end{align*}$$\n",
    "\n",
    "**Posterior con $\\,\\tau_0^2=\\dfrac{1}{\\lambda_0}\\,$ y $\\,\\tau_N^2=\\dfrac{1}{\\lambda_N}$:** $\\qquad p(z\\mid\\boldsymbol{y})=\\mathcal{N}(z\\mid\\mu_N,\\tau_N^2)$\n",
    "$$\\begin{align*}\n",
    "\\tau_N^2&=\\frac{1}{\\frac{1}{\\tau_0^2}+\\frac{N}{\\sigma^2}}%\n",
    "=\\frac{\\tau_0^2\\sigma^2}{\\sigma^2+N\\tau_0^2}\\\\%\n",
    "\\mu_N&=\\tau_N^2\\left(\\frac{N\\bar{y}}{\\sigma^2}+\\frac{\\mu_0}{\\tau_0^2}\\right)\n",
    "=\\frac{N\\tau_0^2}{N\\tau_0^2+\\sigma^2}\\bar{y}+\\frac{\\sigma^2}{N\\tau_0^2+\\sigma^2}\\mu_0\\end{align*}$$\n"
   ]
  }
 ],
 "metadata": {
  "language_info": {
   "name": "python"
  }
 },
 "nbformat": 4,
 "nbformat_minor": 2
}
