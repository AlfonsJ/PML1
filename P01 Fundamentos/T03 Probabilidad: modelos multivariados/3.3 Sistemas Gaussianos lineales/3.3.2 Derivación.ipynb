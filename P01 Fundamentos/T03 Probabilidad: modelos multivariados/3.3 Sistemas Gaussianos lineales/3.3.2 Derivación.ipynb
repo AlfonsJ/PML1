{
 "cells": [
  {
   "cell_type": "markdown",
   "metadata": {},
   "source": [
    "# 3.3.2 Derivación"
   ]
  },
  {
   "cell_type": "markdown",
   "metadata": {},
   "source": [
    "**Log de la conjunta (sin constantes irrelevantes):**\n",
    "$$\\log p(\\boldsymbol{z},\\boldsymbol{y})=-\\frac{1}{2}(\\boldsymbol{z}-\\boldsymbol{\\mu}_z)^t\\mathbf{\\Sigma}_z^{-1}(\\boldsymbol{z}-\\boldsymbol{\\mu}_z)%\n",
    "-\\frac{1}{2}(\\boldsymbol{y}-\\mathbf{W}\\boldsymbol{z}-\\boldsymbol{b})^t\\mathbf{\\Sigma}_y^{-1}(\\boldsymbol{y}-\\mathbf{W}\\boldsymbol{z}-\\boldsymbol{b})$$"
   ]
  },
  {
   "cell_type": "markdown",
   "metadata": {},
   "source": [
    "**Expandiendo términos cuadráticos con $\\boldsymbol{z}$ e $\\boldsymbol{y}$, e ignorando términos lineales y constantes:**\n",
    "$$\\begin{align*}\n",
    "Q&=-\\frac{1}{2}\\boldsymbol{z}^t\\mathbf{\\Sigma}_z^{-1}\\boldsymbol{z}-\\frac{1}{2}\\boldsymbol{y}^t\\mathbf{\\Sigma}_y^{-1}\\boldsymbol{y}%\n",
    "-\\frac{1}{2}(\\mathbf{W}\\boldsymbol{z})^t\\mathbf{\\Sigma}_y^{-1}(\\mathbf{W}\\boldsymbol{z})+\\boldsymbol{y}^t\\mathbf{\\Sigma}_y^{-1}\\mathbf{W}\\boldsymbol{z}\\\\[3mm]%\n",
    "&=-\\frac{1}{2}\\begin{pmatrix}\\boldsymbol{z}\\\\\\boldsymbol{y}\\end{pmatrix}^t%\n",
    "\\begin{pmatrix}\n",
    "  \\mathbf{\\Sigma}_z^{-1}+\\mathbf{W}^t\\mathbf{\\Sigma}_y^{-1}\\mathbf{W}&-\\mathbf{W}^t\\mathbf{\\Sigma}_y^{-1}\\\\%\n",
    "  -\\mathbf{\\Sigma}_y^{-1}\\mathbf{W}&\\mathbf{\\Sigma}_y^{-1}\n",
    "\\end{pmatrix}%\n",
    "\\begin{pmatrix}\\boldsymbol{z}\\\\\\boldsymbol{y}\\end{pmatrix}\\\\[3mm]%\n",
    "&=-\\frac{1}{2}\\begin{pmatrix}\\boldsymbol{z}\\\\\\boldsymbol{y}\\end{pmatrix}^t%\n",
    "\\mathbf{\\Lambda}\\begin{pmatrix}\\boldsymbol{z}\\\\\\boldsymbol{y}\\end{pmatrix}%\n",
    "\\qquad\\text{con}\\qquad%\n",
    "\\mathbf{\\Lambda}=\\begin{pmatrix}\\mathbf{\\Lambda}_{xx}&\\mathbf{\\Lambda}_ {xy}\\\\%\n",
    "\\mathbf{\\Lambda}_{yz}&\\mathbf{\\Lambda}_{yy}\\end{pmatrix}%\n",
    "=\\begin{pmatrix}\n",
    "  \\mathbf{\\Sigma}_z^{-1}+\\mathbf{W}^t\\mathbf{\\Sigma}_y^{-1}\\mathbf{W}&-\\mathbf{W}^t\\mathbf{\\Sigma}_y^{-1}\\\\%\n",
    "  -\\mathbf{\\Sigma}_y^{-1}\\mathbf{W}&\\mathbf{\\Sigma}_y^{-1}\n",
    "\\end{pmatrix}\\end{align*}$$"
   ]
  },
  {
   "cell_type": "markdown",
   "metadata": {},
   "source": [
    "**Regla de Bayes para Gaussianas:** $\\quad$ posterior condicional (sección 3.2.3) con $\\boldsymbol{\\mu}_y=\\mathbf{W}\\boldsymbol{\\mu}_z+\\boldsymbol{b}$\n",
    "$$\\begin{align*}\n",
    "p(\\boldsymbol{z}\\mid\\boldsymbol{y})&=\\mathcal{N}(\\boldsymbol{\\mu}_{z|y},\\mathbf{\\Sigma}_{z|y})\\\\[3mm]%\n",
    "\\mathbf{\\Sigma}_{z|y}&=\\mathbf{\\Lambda}_{xx}^{-1}%\n",
    "=(\\mathbf{\\Sigma}_z^{-1}+\\mathbf{W}^t\\mathbf{\\Sigma}_y^{-1}\\mathbf{W})^{-1}\\\\[3mm]%\n",
    "\\boldsymbol{\\mu}_{z|y}&=\\mathbf{\\Sigma}_{z|y}(\\mathbf{\\Lambda}_{xx}\\boldsymbol{\\mu}_z-\\mathbf{\\Lambda}_{xy}(\\boldsymbol{y}-\\boldsymbol{\\mu}_y))\\\\%\n",
    "&=\\mathbf{\\Sigma}_{z|y}(\\mathbf{\\Sigma}_z^{-1}\\boldsymbol{\\mu}_z%\n",
    "+\\mathbf{W}^t\\mathbf{\\Sigma}_y^{-1}\\mathbf{W}\\boldsymbol{\\mu}_z%\n",
    "+\\mathbf{W}^t\\mathbf{\\Sigma}_y^{-1}(\\boldsymbol{y}-\\boldsymbol{\\mu}_y))\\\\%\n",
    "&=\\mathbf{\\Sigma}_{z|y}(\\mathbf{\\Sigma}_z^{-1}\\boldsymbol{\\mu}_z%\n",
    "+\\mathbf{W}^t\\mathbf{\\Sigma}_y^{-1}(\\mathbf{W}\\boldsymbol{\\mu}_z+\\boldsymbol{y}-\\boldsymbol{\\mu}_y))\\\\%\n",
    "&=\\mathbf{\\Sigma}_{z|y}(\\mathbf{\\Sigma}_z^{-1}\\boldsymbol{\\mu}_z+\\mathbf{W}^t\\mathbf{\\Sigma}_y^{-1}(\\boldsymbol{y}-\\boldsymbol{b}))%\n",
    "\\end{align*}$$\n"
   ]
  },
  {
   "cell_type": "markdown",
   "metadata": {},
   "source": [
    "**Completar el cuadrado:** $\\quad$ truco algebraico usual cuando se trabaja con sistemas Gaussianos lineales\n",
    "$$\\boldsymbol{x}^t\\mathbf{A}\\boldsymbol{x}+\\boldsymbol{x}^t\\boldsymbol{b}+c%\n",
    "=(\\boldsymbol{x}-\\boldsymbol{h})^t\\mathbf{A}(\\boldsymbol{x}-\\boldsymbol{h})+k%\n",
    "\\qquad\\text{con}\\qquad%\n",
    "\\boldsymbol{h}=-\\frac{1}{2}\\mathbf{A}^{-1}\\boldsymbol{b}%\n",
    "\\quad\\text{y}\\quad%\n",
    "k=c-\\frac{1}{4}\\boldsymbol{b}^t\\mathbf{A}^{-1}\\boldsymbol{b}$$"
   ]
  }
 ],
 "metadata": {
  "language_info": {
   "name": "python"
  }
 },
 "nbformat": 4,
 "nbformat_minor": 2
}
