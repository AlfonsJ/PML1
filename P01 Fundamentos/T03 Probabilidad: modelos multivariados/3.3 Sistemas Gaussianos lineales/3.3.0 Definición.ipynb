{
 "cells": [
  {
   "cell_type": "markdown",
   "metadata": {},
   "source": [
    "# 3.3.0 Definición"
   ]
  },
  {
   "cell_type": "markdown",
   "metadata": {},
   "source": [
    "**Sistema Gaussiano lineal:** $\\;$ dados un vector de valores desconocidos $\\boldsymbol{z}\\in\\mathbb{R}^L$ y una medida ruidosa del mismo $\\boldsymbol{y}\\in\\mathbb{R}^D$, asumimos que siguen una distribución conjunta caracterizada como\n",
    "$$\\begin{align*}\n",
    "    p(\\boldsymbol{z})&=\\mathcal{N}(\\boldsymbol{z}\\mid\\boldsymbol{\\mu}_z,\\mathbf{\\Sigma}_z)\\\\[3mm]%\n",
    "    p(\\boldsymbol{y}\\mid\\boldsymbol{z})&=\\mathcal{N}(\\boldsymbol{y}\\mid\\mathbf{W}\\boldsymbol{z}+\\boldsymbol{b},\\mathbf{\\Sigma}_y)%\n",
    "    \\qquad(\\mathbf{W}\\in\\mathbb{R}^{D\\times L})\n",
    "\\end{align*}$$\n",
    "\n",
    "**Distribución conjunta:** $\\quad p(\\boldsymbol{z},\\boldsymbol{y})=p(\\boldsymbol{z})\\,p(\\boldsymbol{y}\\mid\\boldsymbol{z})$ es una Gaussiana $L+D$ dimensional de media y matriz de covarianzas\n",
    "$$\\begin{align*}\n",
    "    \\boldsymbol{\\mu}&=\\begin{pmatrix}\\boldsymbol{\\mu}_z\\\\ \\mathbf{W}\\boldsymbol{\\mu}_z+\\boldsymbol{b}\\end{pmatrix}\\\\[3mm]%\n",
    "    \\mathbf{\\Sigma}&=\\begin{pmatrix}\n",
    "      \\mathbf{\\Sigma}_z&\\mathbf{\\Sigma}_z\\mathbf{W}^t\\\\ \\mathbf{W}\\mathbf{\\Sigma}_z&\\mathbf{\\Sigma}_y+\\mathbf{W}\\mathbf{\\Sigma}_z\\mathbf{W}^t%\n",
    "    \\end{pmatrix}\n",
    "\\end{align*}$$"
   ]
  }
 ],
 "metadata": {
  "language_info": {
   "name": "python"
  }
 },
 "nbformat": 4,
 "nbformat_minor": 2
}
