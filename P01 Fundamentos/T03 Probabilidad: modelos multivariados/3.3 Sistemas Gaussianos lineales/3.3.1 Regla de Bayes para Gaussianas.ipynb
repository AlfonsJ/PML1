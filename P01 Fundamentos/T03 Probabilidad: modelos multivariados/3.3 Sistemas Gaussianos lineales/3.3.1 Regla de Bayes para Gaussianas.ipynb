{
 "cells": [
  {
   "cell_type": "markdown",
   "metadata": {},
   "source": [
    "# 3.3.1 Regla de Bayes para Gaussianas"
   ]
  },
  {
   "cell_type": "markdown",
   "metadata": {},
   "source": [
    "**Regla de Bayes para Gaussianas:**\n",
    "$$\\begin{align*}\n",
    "  p(\\boldsymbol{z}\\mid\\boldsymbol{y})&=\\mathcal{N}(\\boldsymbol{z}\\mid\\boldsymbol{\\mu}_{z|y},\\mathbf{\\Sigma}_{z|y})\\\\[3mm]%\n",
    "  \\mathbf{\\Sigma}_{z|y}^{-1}&=\\mathbf{\\Sigma}_z^{-1}+\\mathbf{W}^t\\mathbf{\\Sigma}_y^{-1}\\mathbf{W}\\\\[3mm]%\n",
    "  \\boldsymbol{\\mu}_{z|y}&=\\mathbf{\\Sigma}_{z|y}\\,[\\mathbf{W}^t\\mathbf{\\Sigma}_y^{-1}(\\boldsymbol{y}-\\boldsymbol{b})+\\mathbf{\\Sigma}_z^{-1}\\boldsymbol{\\mu}_z]%\n",
    "\\end{align*}$$\n",
    "\n",
    "**Constante de normalización:**\n",
    "$$p(\\boldsymbol{y})=\\int\\mathcal{N}(\\boldsymbol{z}\\mid\\boldsymbol{\\mu}_z,\\mathbf{\\Sigma}_z)\\,%\n",
    "\\mathcal{N}(\\boldsymbol{y}\\mid\\mathbf{W}\\boldsymbol{z}+\\boldsymbol{b},\\mathbf{\\Sigma}_y)\\,d\\boldsymbol{z}%\n",
    "=\\mathcal{N}(\\boldsymbol{y}\\mid\\mathbf{W}\\boldsymbol{\\mu}_z+\\boldsymbol{b},\\mathbf{\\Sigma}_y+\\mathbf{W}\\mathbf{\\Sigma}_z\\mathbf{W}^t)$$\n",
    "\n",
    "**Prior conjugada:** $\\;$ el prior Gaussiano $p(\\boldsymbol{z})$ combinado con la verosimilitud Gaussiana $p(\\boldsymbol{y}\\mid\\boldsymbol{z})$ resulta en un posterior Gaussiano $p(\\boldsymbol{z}\\mid\\boldsymbol{y})$"
   ]
  }
 ],
 "metadata": {
  "language_info": {
   "name": "python"
  }
 },
 "nbformat": 4,
 "nbformat_minor": 2
}
