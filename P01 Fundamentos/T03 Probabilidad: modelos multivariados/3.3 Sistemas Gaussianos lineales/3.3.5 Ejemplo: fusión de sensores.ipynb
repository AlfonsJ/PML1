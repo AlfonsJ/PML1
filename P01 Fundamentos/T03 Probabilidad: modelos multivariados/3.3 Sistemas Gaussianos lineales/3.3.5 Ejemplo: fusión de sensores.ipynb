{
 "cells": [
  {
   "cell_type": "markdown",
   "metadata": {},
   "source": [
    "# 3.3.5 Ejemplo: fusión de sensores"
   ]
  },
  {
   "cell_type": "markdown",
   "metadata": {},
   "source": [
    "**Propósito:** $\\;$ predicción de un vector $\\,\\boldsymbol{z}\\in\\mathbb{R}^D\\,$ a partir de $\\,M=2\\,$ medidas independientes, cada una obtenida con un sensor de fiabilidad posiblemente distinta\n",
    "$$\\boldsymbol{y}_1,\\boldsymbol{y}_2\\in\\mathbb{R}^{D},\\quad\\boldsymbol{y}=(\\boldsymbol{y}_1^t,\\boldsymbol{y}_2^t)^t$$"
   ]
  },
  {
   "cell_type": "markdown",
   "metadata": {},
   "source": [
    "**Prior:**\n",
    "$$p(\\boldsymbol{z})%\n",
    "=\\mathcal{N}(\\boldsymbol{z}\\mid\\boldsymbol{\\mu}_z,\\mathbf{\\Sigma}_z)%\n",
    "\\quad\\text{con}\\quad%\n",
    "\\boldsymbol{\\mu}_z=\\boldsymbol{0}%\n",
    "\\quad\\text{y~~~(p.e.)}\\quad%\n",
    "\\mathbf{\\Sigma}_z=\\infty\\mathbf{I}$$"
   ]
  },
  {
   "cell_type": "markdown",
   "metadata": {},
   "source": [
    "**Verosimilitud:** $\\;$ con $\\,\\boldsymbol{b}=\\boldsymbol{0}$\n",
    "$$p(\\boldsymbol{y}\\mid\\boldsymbol{z})%\n",
    "=\\mathcal{N}(\\boldsymbol{y}\\mid\\mathbf{W}\\boldsymbol{z},\\mathbf{\\Sigma}_y)%\n",
    "=\\mathcal{N}(\\boldsymbol{y}_1\\mid\\boldsymbol{z},\\mathbf{\\Sigma}_1)\\mathcal{N}(\\boldsymbol{y}_2\\mid\\boldsymbol{z},\\mathbf{\\Sigma}_2)%\n",
    "\\quad\\text{con}\\quad%\n",
    "\\mathbf{W}=[\\mathbf{I};\\mathbf{I}]%\n",
    "\\quad\\text{y}\\quad%\n",
    "\\mathbf{\\Sigma}_y=[\\mathbf{\\Sigma}_1,\\mathbf{0};\\mathbf{0},\\mathbf{\\Sigma}_2]$$"
   ]
  },
  {
   "cell_type": "markdown",
   "metadata": {},
   "source": [
    "**Posterior:** $\\;$ con $\\,\\boldsymbol{b}=\\boldsymbol{0}\\,$ y $\\,\\mathbf{W}=\\mathbf{I}_D$\n",
    "$$\\begin{align*}\n",
    "p(\\boldsymbol{z}\\mid\\boldsymbol{y})%\n",
    "&=\\mathcal{N}(\\boldsymbol{z}\\mid\\boldsymbol{\\mu}_{z|y},\\mathbf{\\Sigma}_{z|y})%\n",
    "\\quad\\text{con}\\quad%\n",
    "\\mathbf{\\Sigma}_{z|y}^{-1}=\\mathbf{\\Sigma}_z^{-1}+\\mathbf{\\Sigma}_y^{-1}%\n",
    "\\quad\\text{y}\\quad%\n",
    "\\boldsymbol{\\mu}_{z|y}=\\mathbf{\\Sigma}_{z|y}\\,[\\mathbf{\\Sigma}_y^{-1}\\boldsymbol{y}+\\mathbf{\\Sigma}_z^{-1}\\boldsymbol{\\mu}_z]\\\\[3mm]\n",
    "p(\\boldsymbol{z}\\mid\\mathcal{D})%\n",
    "&=\\mathcal{N}(\\boldsymbol{z}\\mid\\overset{\\frown}{\\boldsymbol{\\mu}},\\overset{\\frown}{\\mathbf{\\Sigma}})%\n",
    "\\quad\\text{con}\\quad%\n",
    "\\overset{\\frown}{\\mathbf{\\Sigma}}^{-1}=\\mathbf{\\Sigma}_z^{-1}+N\\mathbf{\\Sigma}_y^{-1}\n",
    "\\quad\\text{y}\\quad%\n",
    "\\overset{\\frown}{\\boldsymbol{\\mu}}=\\overset{\\frown}{\\mathbf{\\Sigma}}(\\mathbf{\\Sigma}_y^{-1}(N\\bar{\\boldsymbol{y}})+\\mathbf{\\Sigma}_z^{-1}\\boldsymbol{\\mu}_z)\n",
    "\\end{align*}$$"
   ]
  }
 ],
 "metadata": {
  "kernelspec": {
   "display_name": "Python 3",
   "language": "python",
   "name": "python3"
  },
  "language_info": {
   "codemirror_mode": {
    "name": "ipython",
    "version": 3
   },
   "file_extension": ".py",
   "mimetype": "text/x-python",
   "name": "python",
   "nbconvert_exporter": "python",
   "pygments_lexer": "ipython3",
   "version": "3.11.4"
  }
 },
 "nbformat": 4,
 "nbformat_minor": 2
}
