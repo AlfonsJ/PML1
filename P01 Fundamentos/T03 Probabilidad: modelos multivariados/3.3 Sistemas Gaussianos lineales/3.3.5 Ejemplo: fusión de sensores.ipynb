{
 "cells": [
  {
   "cell_type": "markdown",
   "metadata": {},
   "source": [
    "# 3.3.5 Ejemplo: fusión de sensores"
   ]
  },
  {
   "cell_type": "markdown",
   "metadata": {},
   "source": [
    "**Propósito:** $\\;$ predicción de $\\,\\boldsymbol{z}\\in\\mathbb{R}^D\\,$ con $\\,M\\,$ medidas independientes, cada una obtenida con un sensor de fiabilidad distinta\n",
    "$$\\boldsymbol{y}=(\\boldsymbol{y}_1,\\dotsc,\\boldsymbol{y}_M),\\,\\boldsymbol{y}_m\\in\\mathbb{R}^D$$"
   ]
  },
  {
   "cell_type": "markdown",
   "metadata": {},
   "source": [
    "**Prior:**\n",
    "$$p(\\boldsymbol{z})%\n",
    "=\\mathcal{N}(\\boldsymbol{z}\\mid\\boldsymbol{\\mu}_z,\\mathbf{\\Sigma}_z)%\n",
    "\\quad\\text{con}\\quad%\n",
    "\\boldsymbol{\\mu}_z=\\boldsymbol{0}_D%\n",
    "\\quad\\text{y}\\quad%\n",
    "\\mathbf{\\Sigma}_z=10^{10}\\mathbf{I}_D$$"
   ]
  },
  {
   "cell_type": "markdown",
   "metadata": {},
   "source": [
    "**Verosimilitud:** $\\;$ con $\\,\\boldsymbol{b}=\\boldsymbol{0}$\n",
    "$$p(\\boldsymbol{y}\\mid\\boldsymbol{z})%\n",
    "=\\mathcal{N}(\\boldsymbol{y}\\mid\\mathbf{W}\\boldsymbol{z},\\mathbf{\\Sigma}_y)%\n",
    "=\\prod_{m=1}^M\\mathcal{N}(\\boldsymbol{y}_m\\mid\\boldsymbol{z},\\mathbf{\\Sigma}_m)%\n",
    "\\quad\\text{con}\\quad%\n",
    "\\mathbf{W}=[\\mathbf{I}_D;\\dotsc;\\mathbf{I}_D]%\n",
    "\\quad\\text{y}\\quad%\n",
    "\\mathbf{\\Sigma}_y=\\operatorname{blkdiag}(\\mathbf{\\Sigma}_1,\\dotsc,\\mathbf{\\Sigma}_M)$$"
   ]
  },
  {
   "cell_type": "markdown",
   "metadata": {},
   "source": [
    "**Posterior:** $\\;$ con $\\,\\boldsymbol{b}=\\boldsymbol{0}$\n",
    "$$\\begin{align*}\n",
    "p(\\boldsymbol{z}\\mid\\boldsymbol{y})%\n",
    "&=\\mathcal{N}(\\boldsymbol{z}\\mid\\boldsymbol{\\mu}_{z|y},\\mathbf{\\Sigma}_{z|y})\\\\%\n",
    "\\mathbf{\\Sigma}_{z|y}^{-1}%\n",
    "&=\\mathbf{\\Sigma}_z^{-1}+\\mathbf{W}^t\\mathbf{\\Sigma}_y^{-1}\\mathbf{W}%\n",
    "=\\mathbf{\\Sigma}_z^{-1}+\\sum\\nolimits_m\\mathbf{\\Sigma}_m^{-1}\\\\%\n",
    "\\boldsymbol{\\mu}_{z|y}%\n",
    "&=\\mathbf{\\Sigma}_{z|y}\\,[\\mathbf{W}^t\\mathbf{\\Sigma}_y^{-1}\\boldsymbol{y}+\\mathbf{\\Sigma}_z^{-1}\\boldsymbol{\\mu}_z]%\n",
    "=\\mathbf{\\Sigma}_{z|y}\\,\\left[\\mathbf{\\Sigma}_z^{-1}\\boldsymbol{\\mu}_z+\\sum\\nolimits_m\\mathbf{\\Sigma}_m^{-1}\\boldsymbol{y}_m\\right]\n",
    "\\end{align*}$$"
   ]
  }
 ],
 "metadata": {
  "kernelspec": {
   "display_name": "Python 3",
   "language": "python",
   "name": "python3"
  },
  "language_info": {
   "codemirror_mode": {
    "name": "ipython",
    "version": 3
   },
   "file_extension": ".py",
   "mimetype": "text/x-python",
   "name": "python",
   "nbconvert_exporter": "python",
   "pygments_lexer": "ipython3",
   "version": "3.11.4"
  }
 },
 "nbformat": 4,
 "nbformat_minor": 2
}
