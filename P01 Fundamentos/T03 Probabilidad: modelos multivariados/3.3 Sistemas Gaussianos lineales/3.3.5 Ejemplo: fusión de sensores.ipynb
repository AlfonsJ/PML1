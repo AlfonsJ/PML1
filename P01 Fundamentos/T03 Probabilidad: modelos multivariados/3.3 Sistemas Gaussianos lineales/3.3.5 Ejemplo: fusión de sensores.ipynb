{
 "cells": [
  {
   "cell_type": "markdown",
   "metadata": {},
   "source": [
    "# 3.3.5 Ejemplo: fusión de sensores"
   ]
  },
  {
   "cell_type": "markdown",
   "metadata": {},
   "source": [
    "**Propósito:** $\\;$ predicción de un vector $\\boldsymbol{z}\\in\\mathbb{R}^D$ a partir de $N$ medidas ruidosas independientes, obtenidas con $M$ sensores de diferentes fiabilidades\n",
    "$$\\boldsymbol{y}%\n",
    "=(\\boldsymbol{y}_{1,1}^t,\\dotsc,\\boldsymbol{y}_{N_1,1}^t,\\;\\dotsc\\;,\\boldsymbol{y}_{1,M}^t,\\dotsc,\\boldsymbol{y}_{N_M,M}^t)^t\\in\\mathbb{R}^K,%\n",
    "\\quad K=ND, \\quad N=N_1+\\cdots+N_M$$"
   ]
  },
  {
   "cell_type": "markdown",
   "metadata": {},
   "source": [
    "**Sistema Gaussiano lineal:** $\\;$ con $\\,\\boldsymbol{b}=\\boldsymbol{0}\\,$ y $\\,\\mathbf{W}=\\mathbf{I}_D$\n",
    "$$\\begin{align*}\n",
    "p(\\boldsymbol{z})%\n",
    "&=\\mathcal{N}(\\boldsymbol{z}\\mid\\boldsymbol{\\mu}_z,\\mathbf{\\Sigma}_z)\n",
    "&\\to&&p(\\boldsymbol{z})%\n",
    "&=\\mathcal{N}(\\boldsymbol{z}\\mid\\boldsymbol{0},\\mathbf{\\Sigma}_z)\\quad(\\text{p.e.}\\;\\mathbf{\\Sigma}_z=\\infty\\mathbf{I})\\\\[3mm]\n",
    "p(\\boldsymbol{y}\\mid\\boldsymbol{z})%\n",
    "&=\\mathcal{N}(\\boldsymbol{y}\\mid\\boldsymbol{z},\\mathbf{\\Sigma}_y)%\n",
    "&\\to&&p(\\boldsymbol{y}\\mid\\boldsymbol{z})%\n",
    "&=\\prod_{m=1}^M\\prod_{n=1}^{N_m}\\mathcal{N}(\\boldsymbol{y}_{n,m}\\mid\\boldsymbol{z},\\mathbf{\\Sigma}_y)%\n",
    "\\end{align*}$$"
   ]
  },
  {
   "cell_type": "markdown",
   "metadata": {},
   "source": [
    "**Regla de Bayes (posterior):** $\\;$ con $\\,\\boldsymbol{b}=\\boldsymbol{0}\\,$ y $\\,\\mathbf{W}=\\mathbf{I}_D$\n",
    "$$\\begin{align*}\n",
    "p(\\boldsymbol{z}\\mid\\boldsymbol{y})%\n",
    "&=\\mathcal{N}(\\boldsymbol{z}\\mid\\boldsymbol{\\mu}_{z|y},\\mathbf{\\Sigma}_{z|y})%\n",
    "\\quad\\text{con}\\quad%\n",
    "\\mathbf{\\Sigma}_{z|y}^{-1}=\\mathbf{\\Sigma}_z^{-1}+\\mathbf{\\Sigma}_y^{-1}%\n",
    "\\quad\\text{y}\\quad%\n",
    "\\boldsymbol{\\mu}_{z|y}=\\mathbf{\\Sigma}_{z|y}\\,[\\mathbf{\\Sigma}_y^{-1}\\boldsymbol{y}+\\mathbf{\\Sigma}_z^{-1}\\boldsymbol{\\mu}_z]\\\\[3mm]\n",
    "p(\\boldsymbol{z}\\mid\\mathcal{D})%\n",
    "&=\\mathcal{N}(\\boldsymbol{z}\\mid\\overset{\\frown}{\\boldsymbol{\\mu}},\\overset{\\frown}{\\mathbf{\\Sigma}})%\n",
    "\\quad\\text{con}\\quad%\n",
    "\\overset{\\frown}{\\mathbf{\\Sigma}}^{-1}=\\mathbf{\\Sigma}_z^{-1}+N\\mathbf{\\Sigma}_y^{-1}\n",
    "\\quad\\text{y}\\quad%\n",
    "\\overset{\\frown}{\\boldsymbol{\\mu}}=\\overset{\\frown}{\\mathbf{\\Sigma}}(\\mathbf{\\Sigma}_y^{-1}(N\\bar{\\boldsymbol{y}})+\\mathbf{\\Sigma}_z^{-1}\\boldsymbol{\\mu}_z)\n",
    "\\end{align*}$$"
   ]
  }
 ],
 "metadata": {
  "kernelspec": {
   "display_name": "Python 3",
   "language": "python",
   "name": "python3"
  },
  "language_info": {
   "codemirror_mode": {
    "name": "ipython",
    "version": 3
   },
   "file_extension": ".py",
   "mimetype": "text/x-python",
   "name": "python",
   "nbconvert_exporter": "python",
   "pygments_lexer": "ipython3",
   "version": "3.11.4"
  }
 },
 "nbformat": 4,
 "nbformat_minor": 2
}
