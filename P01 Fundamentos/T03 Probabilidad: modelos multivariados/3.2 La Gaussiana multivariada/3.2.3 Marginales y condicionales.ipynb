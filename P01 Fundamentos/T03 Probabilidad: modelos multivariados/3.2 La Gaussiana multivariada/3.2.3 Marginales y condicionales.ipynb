{
 "cells": [
  {
   "cell_type": "markdown",
   "metadata": {},
   "source": [
    "# 3.2.3 Marginales y condicionales de una MVN\n",
    "\n",
    "**Gaussiana bipartida:** $\\quad\\boldsymbol{x}=(\\boldsymbol{x}_1,\\boldsymbol{x}_2)\\quad$ de parámetros $\\quad\\displaystyle\\boldsymbol{\\mu}=\\begin{pmatrix}\\boldsymbol{\\mu}_1\\\\\\boldsymbol{\\mu}_2\\end{pmatrix},\\quad\\mathbf{\\Sigma}=\\begin{pmatrix}\\mathbf{\\Sigma}_{11}&\\mathbf{\\Sigma}_{12}\\\\\\mathbf{\\Sigma}_{21}&\\mathbf{\\Sigma}_{22}\\end{pmatrix},\\quad\\mathbf{\\Lambda}=\\mathbf{\\Sigma}^{-1}=\\begin{pmatrix}\\mathbf{\\Lambda}_{11}&\\mathbf{\\Lambda}_{12}\\\\\\mathbf{\\Lambda}_{21}&\\mathbf{\\Lambda}_{22}\\end{pmatrix}$\n",
    "\n",
    "**Marginales:** $\\quad p(\\boldsymbol{x}_1)=\\mathcal{N}(\\boldsymbol{x}_1\\mid\\boldsymbol{\\mu}_1,\\mathbf{\\Sigma}_{11})$ $\\qquad p(\\boldsymbol{x}_2)=\\mathcal{N}(\\boldsymbol{x}_2\\mid\\boldsymbol{\\mu}_2,\\mathbf{\\Sigma}_{22})$\n",
    "\n",
    "**Posterior condicional:** $\\quad p(\\boldsymbol{x}_1\\mid\\boldsymbol{x}_2)=\\mathcal{N}(\\boldsymbol{x}_1\\mid\\boldsymbol{\\mu}_{1|2},\\mathbf{\\Sigma}_{1|2})$\n",
    "$$\\begin{align*}\n",
    "\\mathbf{\\Sigma}_{1|2}&=\\mathbf{\\Sigma}_{11}-\\mathbf{\\Sigma}_{12}\\mathbf{\\Sigma}_{22}^{-1}\\mathbf{\\Sigma}_{21}=\\mathbf{\\Lambda}_{11}^{-1}\\\\%\n",
    "\\boldsymbol{\\mu}_{1|2}&=\\boldsymbol{\\mu}_1+\\mathbf{\\Sigma}_{12}\\mathbf{\\Sigma}_{22}^{-1}(\\boldsymbol{x}_2-\\boldsymbol{\\mu}_2)%\n",
    "=\\boldsymbol{\\mu}_1-\\mathbf{\\Lambda}_{11}^{-1}\\mathbf{\\Lambda}_{12}(\\boldsymbol{x}_2-\\boldsymbol{\\mu}_2)%\n",
    "=\\mathbf{\\Sigma}_{1|2}(\\mathbf{\\Lambda}_{11}\\boldsymbol{\\mu}_1-\\mathbf{\\Lambda}_{12}(\\boldsymbol{x}_2-\\boldsymbol{\\mu}_2))%\n",
    "\\end{align*}$$\n"
   ]
  }
 ],
 "metadata": {
  "language_info": {
   "name": "python"
  }
 },
 "nbformat": 4,
 "nbformat_minor": 2
}
