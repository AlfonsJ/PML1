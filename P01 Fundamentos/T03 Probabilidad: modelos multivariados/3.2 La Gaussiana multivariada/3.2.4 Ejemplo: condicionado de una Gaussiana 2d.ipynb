{
 "cells": [
  {
   "cell_type": "markdown",
   "metadata": {},
   "source": [
    "# 3.2.4 Ejemplo: condicionado de una Gaussiana 2d"
   ]
  },
  {
   "cell_type": "markdown",
   "metadata": {},
   "source": [
    "**Matriz de covarianzas:**\n",
    "$$\\mathbf{\\Sigma}=\\begin{pmatrix}\\sigma_1^2&\\rho\\sigma_1\\sigma_2\\\\\\rho\\sigma_1\\sigma_2&\\sigma_2^2\\end{pmatrix}$$"
   ]
  },
  {
   "cell_type": "markdown",
   "metadata": {},
   "source": [
    "## Marginal\n",
    "\n",
    "**Marginal $p(y_1)$:** $\\quad$ Gaussiana 1d obtenida por proyección en $y_1$\n",
    "$$p(y_1)=\\mathcal{N}(y_1\\mid\\mu_1,\\sigma_1^2)$$"
   ]
  },
  {
   "cell_type": "markdown",
   "metadata": {},
   "source": [
    "## Condicional\n",
    "\n",
    "**Condicional $p(y_1\\mid y_2)$ tras observar $Y_2=y_2$:** $\\quad$ se obtiene \"cortando\" la conjunta por la línea $Y_2=y_2$\n",
    "$$p(y_1\\mid y_2)=\\mathcal{N}\\left(y_1\\,\\Big\\vert\\,\\mu_1+\\frac{\\rho\\sigma_1\\sigma_2}{\\sigma_2^2}(y_2-\\mu_2)),\\sigma_1^2-\\frac{(\\rho\\sigma_1\\sigma_2)^2}{\\sigma_2^2}\\right)$$\n",
    "\n",
    "**Caso $\\,\\rho=0$:**\n",
    "$$p(y_1\\mid y_2)=\\mathcal{N}(y_1\\mid\\mu_1,\\sigma_1^2)$$\n",
    "\n",
    "**Caso $\\,\\sigma_1=\\sigma_2=\\sigma$:**\n",
    "$$p(y_1\\mid y_2)=\\mathcal{N}(y_1\\mid\\mu_1+\\rho(y_2-\\mu_2),\\sigma^2(1-\\rho^2))$$\n",
    "\n",
    "**Ejemplo:** $\\quad\\rho=0.8$, $\\sigma_1=\\sigma_2=1$, $\\mu_1=\\mu_2=0$, $y_2=1$\n",
    "* $\\mathbb{E}[y_1\\mid y_2=1]=0.8$\n",
    "* $\\mathbb{V}[y_1\\mid y_2=1]=1-0.8^2=0.36$"
   ]
  }
 ],
 "metadata": {
  "language_info": {
   "name": "python"
  }
 },
 "nbformat": 4,
 "nbformat_minor": 2
}
