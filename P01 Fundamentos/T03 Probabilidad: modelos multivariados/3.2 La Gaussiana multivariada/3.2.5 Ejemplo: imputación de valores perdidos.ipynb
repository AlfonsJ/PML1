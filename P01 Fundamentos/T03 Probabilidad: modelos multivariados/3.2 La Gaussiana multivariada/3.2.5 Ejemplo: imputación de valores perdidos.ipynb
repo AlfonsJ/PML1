{
 "cells": [
  {
   "cell_type": "markdown",
   "metadata": {},
   "source": [
    "# 3.2.5 Ejemplo: imputación de valores perdidos"
   ]
  },
  {
   "cell_type": "markdown",
   "metadata": {},
   "source": [
    "**Imputación de valores perdidos:** $\\;$ si $\\boldsymbol{y}$ se divide en una parte observada y otra no (perdida), explotamos la correlación entre ambas para imputar valores perdidos esperables (a posteriori)\n",
    "\n",
    "\n",
    "**Ejemplo:** $\\quad$ diagrama de Hinton de una matriz de datos observada, verdadera e imputada (vacío=perdido, azul=+, verde=-)\n",
    "\n",
    "<center>\n",
    "\n",
    "<img src='3.2.5 Hidden truth.png' width=\"100\"/><img src='3.2.5 Imputation with true params.png' width=\"100\"/><img src='3.2.5 Observed.png' width=\"100\"/>\n",
    "\n",
    "</center>"
   ]
  }
 ],
 "metadata": {
  "language_info": {
   "name": "python"
  }
 },
 "nbformat": 4,
 "nbformat_minor": 2
}
