{
 "cells": [
  {
   "cell_type": "markdown",
   "metadata": {},
   "source": [
    "# 3.6.4 Notación de placas\n",
    "\n",
    "<div><table border-collapse: collapse><tr>\n",
    "<td style=\"border: none; text-align:left; vertical-align:top; padding:0; margin:0;\" width=550>\n",
    "\n",
    "**Placa:** $\\;$ caja alrededor de variables repetidas\n",
    "\n",
    "**Ejemplo (cont.):** $\\;$ $\\;N$ variables iid, $\\boldsymbol{y}_n$, con distribución gobernada por $\\boldsymbol{\\theta}$\n",
    "\n",
    "<div align=center><img src=\"Figure_3.16.png\" width=400></div>\n",
    "\n",
    "**Ejemplo (dcha.):** $\\;$ GMM con latentes $z_n$ y $\\boldsymbol{\\theta}=(\\boldsymbol{\\pi},\\boldsymbol{\\mu}_{1:K},\\mathbf{\\Sigma}_{1:K})$\n",
    "$$p(\\boldsymbol{y}_{1:N},\\boldsymbol{z}_{1:N},\\boldsymbol{\\theta})=p(\\boldsymbol{\\pi})\\left[\\prod_{k=1}^Kp(\\boldsymbol{\\mu}_k)p(\\mathbf{\\Sigma}_k)\\right]\\left[\\prod_{n=1}^Np(z_n\\mid\\boldsymbol{\\pi})p(\\boldsymbol{y}_n\\mid z_n,\\boldsymbol{\\mu}_{1:K},\\mathbf{\\Sigma}_{1;K})\\right]$$\n",
    "\n",
    "</td><td style=\"border: none; padding:0; margin:0;\" width=50><br></td>\n",
    "<td style=\"border: none; text-align:right; vertical-align:top; padding:0; margin:0;\" width=150>\n",
    "\n",
    "<img src=\"Figure_3.17.png\" width=150>\n",
    "\n",
    "</td></tr></table></div>"
   ]
  }
 ],
 "metadata": {
  "language_info": {
   "name": "python"
  }
 },
 "nbformat": 4,
 "nbformat_minor": 2
}
