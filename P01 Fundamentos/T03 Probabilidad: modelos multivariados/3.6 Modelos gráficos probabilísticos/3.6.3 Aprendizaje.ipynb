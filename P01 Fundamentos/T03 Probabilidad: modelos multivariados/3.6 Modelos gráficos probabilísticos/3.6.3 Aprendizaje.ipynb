{
 "cells": [
  {
   "cell_type": "markdown",
   "metadata": {},
   "source": [
    "# 3.6.3 Aprendizaje\n",
    "\n",
    "**Variables ocultas:** $\\;$ los parámetros desconocidos de las CPDs se añaden como nodos y se tratan como variables ocultas a inferir\n",
    "\n",
    "<div><table border-collapse: collapse><tr>\n",
    "<td style=\"border: none; text-align:left; vertical-align:top; padding:0; margin:0;\" width=550>\n",
    "\n",
    "**Ejemplo:** $\\;N$ variables iid, $\\boldsymbol{y}_n$, con distribución gobernada por $\\boldsymbol{\\theta}$\n",
    "\n",
    "* Nodos sombreados: observaciones\n",
    "* Nodos no sombreados: parámetros\n",
    "* Generación: $\\;\\boldsymbol{\\theta}\\sim p(\\boldsymbol{\\theta})$, ~$\\boldsymbol{y}_n\\sim p(\\boldsymbol{y}\\mid\\boldsymbol{\\theta})$\n",
    "* Datos: $\\;\\mathcal{D}=\\{\\boldsymbol{y}_1,\\dotsc,\\boldsymbol{y}_N\\}$\n",
    "* Conjunta: $\\;p(\\mathcal{D},\\boldsymbol{\\theta})=p(\\boldsymbol{\\theta})\\,p(\\mathcal{D}\\mid\\boldsymbol{\\theta})$\n",
    "* Verosimilitud: $\\;p(\\mathcal{D}\\mid\\boldsymbol{\\theta})=\\prod_{n=1}^Np(\\boldsymbol{y}_n\\mid\\boldsymbol{\\theta})$\n",
    "* **Datos intercambiables:** $\\;$ por iid\n",
    "\n",
    "</td><td style=\"border: none; padding:0; margin:0;\" width=10><br></td>\n",
    "<td style=\"border: none; text-align:right; vertical-align:top; padding:0; margin:0;\" width=450>\n",
    "\n",
    "<img src=\"Figure_3.16.png\" width=400>\n",
    "\n",
    "</td></tr></table></div>"
   ]
  }
 ],
 "metadata": {
  "language_info": {
   "name": "python"
  }
 },
 "nbformat": 4,
 "nbformat_minor": 2
}
