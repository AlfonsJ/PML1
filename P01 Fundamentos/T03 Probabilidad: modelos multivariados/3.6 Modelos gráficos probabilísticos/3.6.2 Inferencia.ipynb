{
 "cells": [
  {
   "cell_type": "markdown",
   "metadata": {},
   "source": [
    "# 3.6.2 Inferencia\n",
    "\n",
    "**Algoritmos eficientes de inferencia:** $\\;$ calculan $\\;p(\\mathbf{Y}_i\\mid\\mathbf{Y}_j=\\boldsymbol{y}_j)\\;$ para cualesquira conjuntos de variables $i$ y $j$\n",
    "\n",
    "**Ejemplo de los aspersores (cont.):**\n",
    "* $p(R=1)=0.5$ $\\;$ es la creencia a priori de que ha llovido\n",
    "* $p(R=1\\mid W=1)=0.7079$ $\\;$ es la creencia a posteriori, tras observar que la hierba está húmeda\n",
    "* $p(R=1\\mid W=1, S=1)=0.3204$ $\\;$ es la creencia a posteriori, tras observar también que los aspersores estaban en marcha\n",
    "\n",
    "**Efecto explaining away o paradoja de Berkson:** $\\;$ interacción mútua negativa entre múltiples causas de las observaciones"
   ]
  }
 ],
 "metadata": {
  "language_info": {
   "name": "python"
  }
 },
 "nbformat": 4,
 "nbformat_minor": 2
}
