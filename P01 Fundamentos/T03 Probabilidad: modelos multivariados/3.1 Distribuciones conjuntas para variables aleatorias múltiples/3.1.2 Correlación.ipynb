{
 "cells": [
  {
   "cell_type": "markdown",
   "metadata": {},
   "source": [
    "# 3.1.2 Correlación"
   ]
  },
  {
   "cell_type": "markdown",
   "metadata": {},
   "source": [
    "**Coeficiente de correlación (de Pearson) entre $X$ e $Y$:** $\\displaystyle\\qquad\\rho=\\operatorname{corr}[X,Y]=\\frac{\\operatorname{Cov}[X,Y]}{\\sqrt{\\mathbb{V}[X]\\mathbb{V}[Y]}}\\quad$ con $\\quad-1\\leq\\rho\\leq 1$\n",
    "\n",
    "**Interpretación:** $\\;$ $\\rho$ indica el **grado de linealidad** en la relación entre $X$ e $Y$\n",
    "* $\\operatorname{corr}[X,Y]=1\\quad$ sii $\\quad Y=aX+b \\quad(a>0)$\n",
    "* Si $\\,\\rho\\approx 0,\\,$ no existe relación lineal entre $X$ e $Y$, pero puede existir (o no) una relación no lineal fuerte\n",
    "\n",
    "**Matriz de correlación de un vector aleatorio $\\boldsymbol{x}$:**\n",
    "$$\\operatorname{corr}(\\boldsymbol{x})%\n",
    "=\\begin{bmatrix}\n",
    "1&\\frac{\\mathbb{E}[(X_1-\\mu_1)(X_2-\\mu_2)]}{\\sigma_1\\sigma_2}&\\cdots&%\n",
    "\\frac{\\mathbb{E}[(X_1-\\mu_1)(X_D-\\mu_D)]}{\\sigma_1\\sigma_D}\\\\[2mm]%\n",
    "\\frac{\\mathbb{E}[(X_2-\\mu_2)(X_1-\\mu_1)]}{\\sigma_2\\sigma_1}&1&\\cdots&%\n",
    "\\frac{\\mathbb{E}[(X_2-\\mu_2)(X_D-\\mu_D)]}{\\sigma_2\\sigma_D}\\\\[3mm]%\n",
    "\\vdots        & \\vdots        & \\ddots & \\vdots\\\\[3mm]%\n",
    "\\frac{\\mathbb{E}[(X_D-\\mu_D)(X_1-\\mu_1)]}{\\sigma_D\\sigma_1}&%\n",
    "\\frac{\\mathbb{E}[(X_D-\\mu_D)(X_2-\\mu_2)]}{\\sigma_D\\sigma_2}&\\cdots&1%\n",
    "\\end{bmatrix}$$\n",
    "\n",
    "**Matriz de autocorrelación:** $\\quad\\mathbf{R}_{xx}=\\mathbb{E}[\\boldsymbol{x}\\boldsymbol{x}^t]$\n",
    "\n",
    "**Matriz de (auto-)covarianzas:** $\\quad\\mathbf{K}_{xx}=\\Sigma=\\mathbb{E}[(\\boldsymbol{x}-\\mathbb{E}[\\boldsymbol{x}])(\\boldsymbol{x}-\\mathbb{E}[\\boldsymbol{x}])^t]=\\mathbf{R}_{xx}-\\boldsymbol{\\mu}\\boldsymbol{\\mu}^t$\n",
    "\n",
    "**Matriz de correlación en función de las matrices de autocorrelación y (auto-)covarianzas:**\n",
    "$$\\operatorname{corr}(\\boldsymbol{x})=(\\operatorname{diag}(\\mathbf{K}_{xx}))^{-\\frac{1}{2}}\\,\\mathbf{K}_{xx}\\,%\n",
    "(\\operatorname{diag}(\\mathbf{K}_{xx}))^{-\\frac{1}{2}}$$"
   ]
  }
 ],
 "metadata": {
  "language_info": {
   "name": "python"
  }
 },
 "nbformat": 4,
 "nbformat_minor": 2
}
