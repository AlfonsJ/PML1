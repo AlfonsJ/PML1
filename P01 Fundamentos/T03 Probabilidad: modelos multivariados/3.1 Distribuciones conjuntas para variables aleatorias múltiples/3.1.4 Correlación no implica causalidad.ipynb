{
 "cells": [
  {
   "cell_type": "markdown",
   "metadata": {},
   "source": [
    "# 3.1.4 Correlación no implica causalidad"
   ]
  },
  {
   "cell_type": "markdown",
   "metadata": {},
   "source": [
    "**Correlación no implica causalidad:** $\\quad$ si $X$ e $Y$ están correladas, no puede inferirse que una de ellas es causa de la otra; puede que se trate de una **correlación espuria** o que exista una **causa común oculta** que explique la correlación\n",
    "\n",
    "**Ejemplo:** $\\quad$ ventas de helados y crímenes violentos (oculta: tiempo)\n",
    "<div align=center><img src=\"Icecream.png\" width=800></div>"
   ]
  }
 ],
 "metadata": {
  "language_info": {
   "name": "python"
  }
 },
 "nbformat": 4,
 "nbformat_minor": 2
}
