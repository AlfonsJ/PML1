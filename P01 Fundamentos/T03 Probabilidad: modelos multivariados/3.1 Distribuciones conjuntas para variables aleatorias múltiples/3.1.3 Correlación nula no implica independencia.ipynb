{
 "cells": [
  {
   "cell_type": "markdown",
   "metadata": {},
   "source": [
    "# 3.1.3 Correlación nula no implica independencia"
   ]
  },
  {
   "cell_type": "markdown",
   "metadata": {},
   "source": [
    "**Independencia implica correlación nula:** $\\;$ si $\\,X\\,$ e $\\,Y\\,$ son independientes, $\\,\\operatorname{corr}[X,Y]=\\operatorname{Cov}[X,Y]=0$\n",
    "\n",
    "**Correlación nula no implica independencia:** $\\;$ si $\\,\\operatorname{corr}[X,Y]=0,\\,$ $X$ e $Y$ pueden no ser independientes\n",
    "\n",
    "**Ejemplo de variables dependientes no (linealmente) correladas:** $\\;X\\sim\\operatorname{Unif}(-1,1)\\;$ y $\\;Y=X^2$\n",
    "\n",
    "**Coeficientes de correlación para varios conjuntos de datos:**\n",
    "<div align=center><img src=\"Correlation_examples2.svg\"/></div>"
   ]
  }
 ],
 "metadata": {
  "language_info": {
   "name": "python"
  }
 },
 "nbformat": 4,
 "nbformat_minor": 2
}
