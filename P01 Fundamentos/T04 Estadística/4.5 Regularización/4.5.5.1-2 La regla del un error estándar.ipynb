{
 "cells": [
  {
   "cell_type": "markdown",
   "metadata": {},
   "source": [
    "## 4.5.5.1 La regla \"un error estándar\"\n",
    "\n",
    "**Propósito:** $\\;$ añadir una medida de incertidumbre el estimador CV del riesgo\n",
    "\n",
    "**Error estándar de la media:** $\\;$ a partir del estimador CV del riesgo de cada muestra $n$, $\\,L_n=\\ell(\\boldsymbol{y}_n,f(\\boldsymbol{x}_n;\\hat{\\boldsymbol{\\theta}}_{\\lambda}(\\mathcal{D}_{-n})))$\n",
    "$$\\operatorname{se}(\\hat{\\mu})=\\frac{\\hat{\\sigma}}{\\sqrt{N}}%\n",
    "\\qquad\\text{donde}\\qquad%\n",
    "\\hat{\\mu}=\\frac{1}{N}\\sum\\nolimits_n L_n%\n",
    "\\quad\\text{y}\\quad%\n",
    "\\hat{\\sigma}^2=\\frac{1}{N}\\sum\\nolimits_n (L_n-\\hat{\\mu})^2$$\n",
    "\n",
    "**One-standard error rule:** $\\;$ se emplea para la selección de un modelo entre varios candidatos\n",
    "* Primero se aplica CV a cada modelo, obteniéndose la media y error estándar (de la media) a partir de sus riesgos estimados\n",
    "* Se selecciona el modelo más simple cuyo riesgo no sea mayor que un error estándar por encima del riesgo del mejor modelo"
   ]
  },
  {
   "cell_type": "markdown",
   "metadata": {},
   "source": [
    "## 4.5.5.2 Ejemplo: regresión de cresta\n",
    "\n",
    "* Izquierda: el MSE de test tiene forma de U; primero decrece al aumentar $\\lambda$, pero luego crece a causa del subajuste\n",
    "* Derecha: MSE estimado con $5$-bloques CV y error estándar de la media en barras verticales; mínimo cercano al óptimo en test\n",
    "\n",
    "<div><img src=\"polyfitRidgeUcurve.png\" width=\"400\"><img src=\"polyfitRidgeCV.png\" width=\"400\"></div>"
   ]
  }
 ],
 "metadata": {
  "language_info": {
   "name": "python"
  }
 },
 "nbformat": 4,
 "nbformat_minor": 2
}
