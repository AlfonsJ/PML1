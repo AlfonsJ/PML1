{
 "cells": [
  {
   "cell_type": "markdown",
   "metadata": {},
   "source": [
    "# 4.5.2 Ejemplo: estimación MAP para la Gaussiana multivariada"
   ]
  },
  {
   "cell_type": "markdown",
   "metadata": {},
   "source": [
    "**Datos:** $\\quad\\mathcal{D}=\\{\\boldsymbol{y}_1,\\ldots,\\boldsymbol{y}_N\\},\\quad p(\\boldsymbol{y}_n\\mid\\boldsymbol{\\theta})=\\mathcal{N}(\\boldsymbol{y}\\mid\\boldsymbol{\\mu}, \\mathbf{\\Sigma})$\n",
    "\n",
    "**MLE de $\\boldsymbol{\\mu}$:** $\\quad\\hat{\\boldsymbol{\\mu}}_{\\text{mle}}=\\bar{\\boldsymbol{y}}$\n",
    "\n",
    "**MLE de $\\mathbf{\\Sigma}$:** $\\quad\\hat{\\mathbf{\\Sigma}}_{\\text{mle}}=\\frac{1}{N}\\mathbf{S}_{\\bar{\\boldsymbol{y}}}\\;$ con\n",
    "$\\;\\mathbf{S}_{\\bar{\\boldsymbol{y}}}=\\sum_n(\\boldsymbol{y}_n-\\bar{\\boldsymbol{y}})(\\boldsymbol{y}_n-\\bar{\\boldsymbol{y}})^t=\\sum_n\\boldsymbol{y}_n\\boldsymbol{y}_n^t-N\\bar{\\boldsymbol{y}}\\bar{\\boldsymbol{y}}^t$\n",
    "\n",
    "**Dificultad con $\\hat{\\mathbf{\\Sigma}}_{\\text{mle}}$:** $\\;$ en altas dimensiones suele ser singular\n",
    "\n",
    "**Distribución inversa de Wishart:** $\\;$ sobre $\\{\\mathbf{\\Sigma}\\succ 0\\}\\,$ gobernada por $\\,\\overset{\\smallsmile}{\\mathbf{S}}\\,$ y $\\,\\overset{\\smallsmile}{N},\\,$ **matriz de dispersión y fuerza a priori**\n",
    "\n",
    "**Estimación MAP de $\\mathbf{\\Sigma}$:** $\\;$ interpolación lineal de la covarianza a priori y $\\,\\hat{\\mathbf{\\Sigma}}_{\\text{mle}}$\n",
    "$$\\hat{\\mathbf{\\Sigma}}_{\\text{map}}%\n",
    "=\\frac{\\overset{\\smallsmile}{\\mathbf{S}}+\\mathbf{S}_{\\bar{\\boldsymbol{y}}}}{\\overset{\\smallsmile}{N}+N}%\n",
    "=\\frac{\\overset{\\smallsmile}{N}}{\\overset{\\smallsmile}{N}+N}\\frac{\\overset{\\smallsmile}{\\mathbf{S}}}{\\overset{\\smallsmile}{N}}%\n",
    "+\\frac{N}{\\overset{\\smallsmile}{N}+N}\\frac{\\mathbf{S}_{\\bar{\\boldsymbol{y}}}}{N}%\n",
    "=\\lambda\\mathbf{\\Sigma}_0+(1-\\lambda)\\hat{\\mathbf{\\Sigma}}_{\\text{mle}}%\n",
    "\\quad\\text{con}\\quad%\n",
    "\\lambda=\\frac{\\overset{\\smallsmile}{N}}{\\overset{\\smallsmile}{N}+N}$$\n",
    "\n",
    "**Estimación contractiva (shrinkage estimation):** $\\;$ estimación MAP con $\\,\\overset{\\smallsmile}{\\mathbf{S}}=\\overset{\\smallsmile}{N}\\operatorname{null-nondiag}(\\hat{\\mathbf{\\Sigma}}_{\\text{mle}})$\n",
    "$$\\hat{\\mathbf{\\Sigma}}_{\\text{map}}%\n",
    "=\\lambda\\operatorname{null-nondiag}(\\hat{\\mathbf{\\Sigma}}_{\\text{mle}})+(1-\\lambda)\\hat{\\mathbf{\\Sigma}}_{\\text{mle}}%\n",
    "=\\operatorname{null-nondiag}(\\hat{\\mathbf{\\Sigma}}_{\\text{mle}})+(1-\\lambda)\\operatorname{null-diag}(\\hat{\\mathbf{\\Sigma}}_{\\text{mle}})$$\n",
    "\n",
    "**Ajuste de $\\lambda$:** $\\;$ mediante validación cruzada o técnicas específicas para covarianzas"
   ]
  }
 ],
 "metadata": {
  "language_info": {
   "name": "python"
  }
 },
 "nbformat": 4,
 "nbformat_minor": 2
}
