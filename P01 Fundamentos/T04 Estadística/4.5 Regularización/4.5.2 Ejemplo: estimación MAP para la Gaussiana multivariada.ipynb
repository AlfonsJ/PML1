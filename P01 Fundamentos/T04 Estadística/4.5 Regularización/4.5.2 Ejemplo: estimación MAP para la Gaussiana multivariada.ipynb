{
 "cells": [
  {
   "cell_type": "markdown",
   "metadata": {},
   "source": [
    "# 4.5.2 Ejemplo: estimación MAP para la Gaussiana multivariada"
   ]
  },
  {
   "cell_type": "markdown",
   "metadata": {},
   "source": [
    "**Datos:** $\\quad\\mathcal{D}=\\{\\boldsymbol{y}_1,\\ldots,\\boldsymbol{y}_N\\},\\quad p(\\boldsymbol{y}_n\\mid\\boldsymbol{\\theta})=\\mathcal{N}(\\boldsymbol{y}\\mid\\boldsymbol{\\mu}, \\mathbf{\\Sigma})$\n",
    "\n",
    "**MLE de $\\boldsymbol{\\mu}$:** $\\quad\\hat{\\boldsymbol{\\mu}}_{\\text{mle}}=\\bar{\\boldsymbol{y}}$\n",
    "\n",
    "**MLE de $\\mathbf{\\Sigma}$:** $\\quad\\hat{\\mathbf{\\Sigma}}_{\\text{mle}}=\\frac{1}{N}\\mathbf{S}_{\\bar{\\boldsymbol{y}}}\\;$ con\n",
    "$\\;\\mathbf{S}_{\\bar{\\boldsymbol{y}}}=\\sum_n(\\boldsymbol{y}_n-\\bar{\\boldsymbol{y}})(\\boldsymbol{y}_n-\\bar{\\boldsymbol{y}})^t=\\sum_n\\boldsymbol{y}_n\\boldsymbol{y}_n^t-N\\bar{\\boldsymbol{y}}\\bar{\\boldsymbol{y}}^t$\n",
    "\n",
    "**Dificultad con $\\hat{\\mathbf{\\Sigma}}_{\\text{mle}}$:** $\\;$ en altas dimensiones suele ser singular\n",
    "\n",
    "**Distribución inversa de Wishart:** $\\;$ sobre $\\{\\mathbf{\\Sigma}\\succ 0\\}\\,$ gobernada por $\\,\\overset{\\smallsmile}{\\mathbf{S}}\\,$ y $\\,\\overset{\\smallsmile}{N},\\,$ **matriz de dispersión y fuerza a priori**"
   ]
  }
 ],
 "metadata": {
  "language_info": {
   "name": "python"
  }
 },
 "nbformat": 4,
 "nbformat_minor": 2
}
