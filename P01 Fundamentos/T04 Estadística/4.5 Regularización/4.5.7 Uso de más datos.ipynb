{
 "cells": [
  {
   "cell_type": "markdown",
   "metadata": {},
   "source": [
    "# 4.5.7 Uso de más datos"
   ]
  },
  {
   "cell_type": "markdown",
   "metadata": {},
   "source": [
    "**Datos y sobre-ajuste:** $\\;$ a medida que la cantidad de datos aumenta, la posibilidad de sobre-ajuste decrece (para un modelo de complejidad fija)\n",
    "\n",
    "**Ejemplo:** $\\;$ MSE en train y test de en función de $N$, para regresión de cresta con modelos de diferente complejidad\n",
    "\n",
    "<div><img src=\"polyfitN1.png\" width=\"400\"><img src=\"polyfitN2.png\" width=\"400\"></div>\n",
    "<div><img src=\"polyfitN10.png\" width=\"400\"><img src=\"polyfitN20.png\" width=\"400\"></div>"
   ]
  }
 ],
 "metadata": {
  "language_info": {
   "name": "python"
  }
 },
 "nbformat": 4,
 "nbformat_minor": 2
}
