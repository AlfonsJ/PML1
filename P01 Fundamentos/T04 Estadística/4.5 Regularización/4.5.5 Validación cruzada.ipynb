{
 "cells": [
  {
   "cell_type": "markdown",
   "metadata": {},
   "source": [
    "# 4.5.5 Validación cruzada"
   ]
  },
  {
   "cell_type": "markdown",
   "metadata": {},
   "source": [
    "**Cross validation (CV):** $\\;$ divide los datos en $K$ bloques y, por cada bloque $k\\in\\{1,\\dotsc,K\\}$, ajusta el modelo con todos los bloques menos el $k$-ésimo, el cual se usa como conjunto de validación\n",
    "$$R_{\\lambda}^{\\text{CV}}=\\frac{1}{K}\\sum\\nolimits_k R_0(\\hat{\\boldsymbol{\\theta}}_{\\lambda}(\\mathcal{D}_{-k}),\\mathcal{D}_k)$$\n",
    "\n",
    "**Ejemplo:** $\\;$ validación cruzada con $K=5$ bloques\n",
    "Figure_4.6\n",
    "\n",
    "**Leave-one-out (LOO) cross validation:** $\\;$ CV con $K=N$\n",
    "\n",
    "**Uso de CV:** $\\;$ hallamos un $\\lambda$ òptimo, $\\hat{\\lambda}$, y luego re-estimamos $\\boldsymbol{\\theta}$ con todos los datos y $\\hat{\\lambda}$\n",
    "$$\\hat{\\lambda}=\\argmin_{\\lambda}\\;R_{\\lambda}^{\\text{CV}}%\n",
    "\\qquad\\text{y, luego,}\\qquad%\n",
    "\\hat{\\boldsymbol{\\theta}}=\\argmin_{\\boldsymbol{\\theta}}\\;R_{\\hat{\\lambda}}(\\boldsymbol{\\theta},\\mathcal{D})$$"
   ]
  },
  {
   "cell_type": "markdown",
   "metadata": {},
   "source": [
    "## 4.5.5.1 La regla \"un error estándar\"\n",
    "\n",
    "**Propósito:** $\\;$ añadir una medida de incertidumbre el estimador CV del riesgo\n",
    "\n",
    "**Error estándar de la media:** $\\;$ a partir del estimador CV del riesgo de cada muestra $n$, $\\,L_n=\\ell(\\boldsymbol{y}_n,f(\\boldsymbol{x}_n;\\hat{\\boldsymbol{\\theta}}_{\\lambda}(\\mathcal{D}_{-n})))$\n",
    "$$\\operatorname{se}(\\hat{\\mu})=\\frac{\\hat{\\sigma}}{\\sqrt{N}}%\n",
    "\\qquad\\text{donde}\\qquad%\n",
    "\\hat{\\mu}=\\frac{1}{N}\\sum\\nolimits_n L_n%\n",
    "\\quad\\text{y}\\quad%\n",
    "\\hat{\\sigma}^2=\\frac{1}{N}\\sum\\nolimits_n (L_n-\\hat{\\mu})^2$$\n",
    "\n",
    "**One-standard error rule:** $\\;$ se emplea para la selección de un modelo entre varios candidatos\n",
    "* Primero se aplica CV a cada modelo, obteniéndose la media y error estándar (de la media) a partir de sus riesgos estimados\n",
    "* Se selecciona el modelo más simple cuyo riesgo no sea mayor que un error estándar por encima del riesgo del mejor modelo"
   ]
  },
  {
   "cell_type": "markdown",
   "metadata": {},
   "source": [
    "## 4.5.5.2 Ejemplo: regresión de cresta\n",
    "\n",
    "* Izquierda: el MSE de test tiene forma de U; primero decrece al aumentar $\\lambda$, pero luego crece a causa del subajuste\n",
    "* Derecha: MSE estimado con $5$-bloques CV vs $\\log(\\lambda)$, con error estándar de la media en barras verticales; mínimo cercano al óptimo en test\n",
    "\n",
    "<div><img src=\"polyfitRidgeUcurve.png\" width=\"500\"><img src=\"polyfitRidgeCV.png\" width=\"500\"></div>"
   ]
  }
 ],
 "metadata": {
  "language_info": {
   "name": "python"
  }
 },
 "nbformat": 4,
 "nbformat_minor": 2
}
