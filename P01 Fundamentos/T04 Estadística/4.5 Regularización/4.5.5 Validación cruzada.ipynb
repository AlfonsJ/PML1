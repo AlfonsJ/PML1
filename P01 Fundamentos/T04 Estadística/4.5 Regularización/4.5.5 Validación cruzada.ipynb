{
 "cells": [
  {
   "cell_type": "markdown",
   "metadata": {},
   "source": [
    "# 4.5.5 Validación cruzada"
   ]
  },
  {
   "cell_type": "markdown",
   "metadata": {},
   "source": [
    "**Cross validation (CV):** $\\;$ divide los datos en $K$ bloques y, por cada bloque $k\\in\\{1,\\dotsc,K\\}$, ajusta el modelo con todos los bloques menos el $k$-ésimo, el cual se usa como conjunto de validación\n",
    "$$R_{\\lambda}^{\\text{CV}}=\\frac{1}{K}\\sum\\nolimits_k R_0(\\hat{\\boldsymbol{\\theta}}_{\\lambda}(\\mathcal{D}_{-k}),\\mathcal{D}_k)$$\n",
    "\n",
    "**Ejemplo:** $\\;$ validación cruzada con $K=5$ bloques\n",
    "\n",
    "<div><img src=\"Figure_4.6.png\" width=\"400\"></div>\n",
    "\n",
    "**Leave-one-out (LOO) cross validation:** $\\;$ CV con $K=N$\n",
    "\n",
    "**Uso de CV:** $\\;$ hallamos un $\\lambda$ òptimo, $\\hat{\\lambda}$, y luego re-estimamos $\\boldsymbol{\\theta}$ con todos los datos y $\\hat{\\lambda}$\n",
    "$$\\hat{\\lambda}=\\operatorname*{argmin}_{\\lambda}\\;R_{\\lambda}^{\\text{CV}}%\n",
    "\\qquad\\text{y, luego,}\\qquad%\n",
    "\\hat{\\boldsymbol{\\theta}}=\\operatorname*{argmin}_{\\boldsymbol{\\theta}}\\;R_{\\hat{\\lambda}}(\\boldsymbol{\\theta},\\mathcal{D})$$"
   ]
  }
 ],
 "metadata": {
  "language_info": {
   "name": "python"
  }
 },
 "nbformat": 4,
 "nbformat_minor": 2
}
