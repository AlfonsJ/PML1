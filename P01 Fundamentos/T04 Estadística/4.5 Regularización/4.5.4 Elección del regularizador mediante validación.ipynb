{
 "cells": [
  {
   "cell_type": "markdown",
   "metadata": {},
   "source": [
    "# 4.5.4 Elección del regularizador mediante validación"
   ]
  },
  {
   "cell_type": "markdown",
   "metadata": {},
   "source": [
    "**Efecto del parámetro de regularización $\\lambda$:**\n",
    "* **$\\lambda$ demasiado pequeño:** $\\;$ equivale a minimizar el riesgo empírico y acabar con un modelo **sobre-ajustado**\n",
    "* **$\\lambda$ demasiado grande:** $\\;$ equivale a no desviarse mucho del prior y acabar con un modelo **sub-ajustado**\n",
    "\n",
    "**Validación:** $\\;$ método más popular y sencillo para escoger $\\lambda$\n",
    "* Dividimos los datos en un conjunto de entrenamiento, $\\mathcal{D}_{\\text{train}}$, y otro separado, $\\mathcal{D}_{\\text{valid}}$, de **validación** o **desarrollo** $\\;$ ($80$-$20\\%$ por ejemplo)\n",
    "* Por cada valor de interés de $\\lambda$, el modelo se ajusta con $\\mathcal{D}_{\\text{train}}$ y se evalúa en validación\n",
    "* Elegimos el $\\lambda$ que proporciona mejor rendimiento en validación\n",
    "\n",
    "**Validación con más detalle:**\n",
    "* Riesgo empírico regularizado con un conjunto de datos $\\mathcal{D}$: $\\quad R_{\\lambda}(\\boldsymbol{\\theta},\\mathcal{D})=\\frac{1}{\\lvert\\mathcal{D}\\rvert}\\sum_{(\\boldsymbol{x},\\boldsymbol{y})\\in\\mathcal{D}}\\ell(\\boldsymbol{y},f(\\boldsymbol{x};\\boldsymbol{\\theta}))+\\lambda\\,C(\\boldsymbol{\\theta})$\n",
    "* Por cada valor de interés de $\\lambda$, obtenemos el estimador: $\\quad\\hat{\\boldsymbol{\\theta}}_{\\lambda}(\\mathcal{D}_{\\text{train}})=\\operatorname*{argmin}\\nolimits_{\\boldsymbol{\\theta}} R_{\\lambda}(\\boldsymbol{\\theta},\\mathcal{D}_{\\text{train}})$\n",
    "* **Riesgo poblacional estimado como riesgo en validación:** $\\quad R_{\\lambda}^{\\text{val}}=R_0(\\hat{\\boldsymbol{\\theta}}_{\\lambda}(\\mathcal{D}_{\\text{train}}),\\mathcal{D}_{\\text{valid}})$\n",
    "* Escogemos el regularizador óptimo en validación: $\\quad\\lambda^*=\\operatorname*{argmin}\\nolimits_{\\lambda\\in\\mathcal{S}}\\;R_{\\lambda}^{\\text{val}}$\n",
    "* Finalmente reajustamos el modelo con todo $\\mathcal{D}=\\mathcal{D}_{\\text{train}}\\cup\\mathcal{D}_{\\text{valid}}$: $\\quad\\hat{\\boldsymbol{\\theta}}^*=\\operatorname*{argmin}_{\\boldsymbol{\\theta}}\\;R_{\\lambda^*}(\\boldsymbol{\\theta},\\mathcal{D})$"
   ]
  }
 ],
 "metadata": {
  "language_info": {
   "name": "python"
  }
 },
 "nbformat": 4,
 "nbformat_minor": 2
}
