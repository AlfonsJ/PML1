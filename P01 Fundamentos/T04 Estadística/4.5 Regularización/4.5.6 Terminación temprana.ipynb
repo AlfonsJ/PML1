{
 "cells": [
  {
   "cell_type": "markdown",
   "metadata": {},
   "source": [
    "# 4.5.6 Terminación temprana"
   ]
  },
  {
   "cell_type": "markdown",
   "metadata": {},
   "source": [
    "**Asunción:** $\\;$ el ajuste de parámetros se realiza mediante un algoritmo de optimización iterativa\n",
    "\n",
    "**Early stopping:** $\\;$ valida el rendimiento del modelo tras cada iteración y termina antes de convergencia si se observa sobre-entrenamiento\n",
    "\n",
    "**Ejemplo:** $\\;$ pérdida y precisión de un clasificador de texto en IMDB\n",
    "\n",
    "<div><img src=\"imdb-loss.png\" width=\"400\"><img src=\"imdb-acc.png\" width=\"400\"></div>"
   ]
  }
 ],
 "metadata": {
  "language_info": {
   "name": "python"
  }
 },
 "nbformat": 4,
 "nbformat_minor": 2
}
