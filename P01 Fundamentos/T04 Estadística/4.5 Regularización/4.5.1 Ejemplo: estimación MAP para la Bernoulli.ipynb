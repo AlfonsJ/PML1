{
 "cells": [
  {
   "cell_type": "markdown",
   "metadata": {},
   "source": [
    "# 4.5.1 Ejemplo: estimación MAP para la Bernoulli"
   ]
  },
  {
   "cell_type": "markdown",
   "metadata": {},
   "source": [
    "**Ejemplo de la moneda:** $\\;\\hat{\\theta}_{\\text{mle}}=1$ si solo observamos caras, por lo que necesitamos penalizar valores extremos de $\\theta\\in[0,1]$\n",
    "\n",
    "**Prior:** $\\;p(\\theta)=\\operatorname*{Beta}(\\theta\\mid a,b)\\,$ con $\\,a,b>1\\,$ para favorecer que $\\,\\theta\\,$ se aproxime a $\\,a/(a+b)$\n",
    "\n",
    "**NLL penalizada con neg-log prior y $\\lambda=1$:** $\\quad\\mathcal{D}=\\{y_1,\\ldots,y_N\\},\\quad p(y_n\\mid\\theta)=\\operatorname{Ber}(y\\mid\\theta)$\n",
    "$$\\begin{align*}\n",
    "\\mathcal{L}(\\theta)&=-\\log\\prod_{n=1}^N p(y_n\\mid\\theta)-\\log p(\\theta)\\\\%\n",
    "&=-\\log\\prod_{n=1}^N \\theta^{\\mathbb{I}(y_n=1)}(1-\\theta)^{\\mathbb{I}(y_n=0)}-\\log\\left[\\frac{1}{B(a,b)}\\theta^{a-1}(1-\\theta)^{b-1}\\right]\\\\\n",
    "&=-[N_1\\log\\theta+N_0\\log(1-\\theta)]-[(a-1)\\log(\\theta)+(b-1)\\log(1-\\theta)]+\\operatorname{const}\n",
    "\\end{align*}$$\n",
    "\n",
    "**Derivada de la NLL penalizada:**\n",
    "$$\\frac{d}{d\\theta}\\operatorname{NLL}(\\theta)=\\frac{-N_1}{\\theta}+\\frac{N_0}{1-\\theta}-\\frac{a-1}{\\theta}+\\frac{b-1}{1-\\theta}$$\n",
    "\n",
    "**Estimación MAP:**\n",
    "$$\\hat{\\boldsymbol{\\theta}}_{\\text{map}}=\\frac{N_1+a-1}{N_1+N_0+a+b-2}$$\n",
    "\n",
    "**Suavizado add-one:** $\\;$ tomando $\\,a=b=2$\n",
    "$$\\hat{\\boldsymbol{\\theta}}_{\\text{map}}=\\frac{N_1+1}{N_1+N_0+2}$$"
   ]
  },
  {
   "cell_type": "markdown",
   "metadata": {},
   "source": [
    "**Ejemplo:** $\\;$ MLE y MAP (add-one) de $\\,\\theta\\,$ con $\\,N=3\\,$ datos iid según una $\\,\\operatorname{Ber}(y\\mid\\theta=0.20)$"
   ]
  },
  {
   "cell_type": "code",
   "execution_count": 1,
   "metadata": {},
   "outputs": [
    {
     "name": "stdout",
     "output_type": "stream",
     "text": [
      "Y = [0 0 1]\n",
      "mle = 0.33\n",
      "map = 0.40\n"
     ]
    }
   ],
   "source": [
    "import numpy as np; from scipy.stats import bernoulli\n",
    "t, N = 0.20, 3; Y = bernoulli(t).rvs(N); print(f'Y = {Y}')\n",
    "mle = Y.mean(); print(f'mle = {mle:.2f}')\n",
    "a = b = 2; N1 = np.count_nonzero(Y); N0 = N - N1\n",
    "map = (N1+a-1)/(N+a+b-2); print(f'map = {map:.2f}')"
   ]
  }
 ],
 "metadata": {
  "kernelspec": {
   "display_name": "Python 3",
   "language": "python",
   "name": "python3"
  },
  "language_info": {
   "codemirror_mode": {
    "name": "ipython",
    "version": 3
   },
   "file_extension": ".py",
   "mimetype": "text/x-python",
   "name": "python",
   "nbconvert_exporter": "python",
   "pygments_lexer": "ipython3",
   "version": "3.11.4"
  }
 },
 "nbformat": 4,
 "nbformat_minor": 2
}
