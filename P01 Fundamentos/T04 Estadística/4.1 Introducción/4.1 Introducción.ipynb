{
 "cells": [
  {
   "cell_type": "markdown",
   "metadata": {},
   "source": [
    "# 4.1 Introducción"
   ]
  },
  {
   "cell_type": "markdown",
   "metadata": {},
   "source": [
    "**Ajuste del modelo o entrenamiento:** $\\;$ consiste en estimar un vector de parámetros $\\,\\boldsymbol{\\theta}\\,$ a partir de un\n",
    "  conjunto de datos $\\,\\mathcal{D}$\n",
    "\n",
    "**Estimador puntual:** $\\;$ de $\\,\\boldsymbol{\\theta}\\,$ mediante optimización de alguna **función de pérdida u objetivo** $\\,\\mathcal{L}(\\boldsymbol{\\theta})$\n",
    "$$\\hat{\\boldsymbol{\\theta}}=\\operatorname*{argmin}_{\\boldsymbol{\\theta}}\\;\\mathcal{L}(\\boldsymbol{\\theta})$$\n",
    "\n",
    "**Inferencia:** $\\;$ estudio de la la **incertidumbre o confianza** en el estimador puntual $\\,\\hat{\\boldsymbol{\\theta}}$\n"
   ]
  }
 ],
 "metadata": {
  "language_info": {
   "name": "python"
  }
 },
 "nbformat": 4,
 "nbformat_minor": 2
}
