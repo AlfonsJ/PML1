{
 "cells": [
  {
   "attachments": {},
   "cell_type": "markdown",
   "metadata": {},
   "source": [
    "# 4.3.1 Definición y ejemplo: minimizar el error de clasificación"
   ]
  },
  {
   "cell_type": "markdown",
   "metadata": {},
   "source": [
    "## Definición\n",
    "\n",
    "**MLE:** $\\;$ minimiza la neg-log-verosimilitud\n",
    "$$\\hat{\\boldsymbol{\\theta}}_{\\text{mle}}=\\operatorname*{argmin}_{\\boldsymbol{\\theta}}\\mathcal{L}(\\boldsymbol{\\theta})%\n",
    "\\quad\\text{con}\\quad%\n",
    "\\mathcal{L}(\\boldsymbol{\\theta})%\n",
    "=\\frac{1}{N}\\sum_{n=1}^N \\;-\\log p(\\boldsymbol{y}_n\\mid\\boldsymbol{x}_n, \\boldsymbol{\\theta})$$\n",
    "**Empirical risk minimization (ERM):** $\\;$ generaliza MLE sustituyendo la log-pérdida por una pérdida genérica\n",
    "$$\\hat{\\boldsymbol{\\theta}}_{\\text{erm}}=\\operatorname*{argmin}_{\\boldsymbol{\\theta}}\\mathcal{L}(\\boldsymbol{\\theta})%\n",
    "\\quad\\text{con}\\quad%\n",
    "\\mathcal{L}(\\boldsymbol{\\theta})%\n",
    "=\\frac{1}{N}\\sum_{n=1}^N\\ell(\\boldsymbol{y}_n, \\boldsymbol{\\theta}; \\boldsymbol{x}_n)$$"
   ]
  },
  {
   "cell_type": "markdown",
   "metadata": {},
   "source": [
    "## Ejemplo: minimizar el error de clasificación\n",
    "\n",
    "**Pérdida 01 de un clasificador $f(\\boldsymbol{x}_n; \\boldsymbol{\\theta}):$**\n",
    "$$\\ell_{01}(\\boldsymbol{y}_n, \\boldsymbol{\\theta}; \\boldsymbol{x}_n)%\n",
    "=\\begin{cases}\n",
    "0 & \\text{si $\\boldsymbol{y}_n=f(\\boldsymbol{x}_n; \\boldsymbol{\\theta}$})\\\\%\n",
    "1 & \\text{si $\\boldsymbol{y}_n\\neq f(\\boldsymbol{x}_n;\\boldsymbol{\\theta})$}%\n",
    "\\end{cases}$$\n",
    "\n",
    "**Riesgo empírico con pérdida 01:** $\\;$ es el **error de clasificación** (en entrenamiento)\n",
    "$$\\mathcal{L}_{01}(\\boldsymbol{\\theta})%\n",
    "=\\frac{1}{N}\\sum_{n=1}^N\\ell_{01}(\\boldsymbol{y}_n, \\boldsymbol{\\theta}; \\boldsymbol{x}_n)$$\n",
    "\n",
    "**Caso binario:** $\\;$ si las clases son $\\{-1,+1\\}\\,$ y la predicción $\\,\\hat{y}_n=f(\\boldsymbol{x}_n;\\boldsymbol{\\theta})$\n",
    "$$\\mathcal{L}_{01}(\\boldsymbol{\\theta})%\n",
    "=\\frac{1}{N}\\sum_{n=1}^N\\ell_{01}(y_n,\\hat{y}_n)%\n",
    "=\\frac{1}{N}\\sum_{n=1}^N\\mathbb{I}(y_n\\hat{y}_n<0)$$"
   ]
  }
 ],
 "metadata": {
  "kernelspec": {
   "display_name": "Python 3",
   "language": "python",
   "name": "python3"
  },
  "language_info": {
   "codemirror_mode": {
    "name": "ipython",
    "version": 3
   },
   "file_extension": ".py",
   "mimetype": "text/x-python",
   "name": "python",
   "nbconvert_exporter": "python",
   "pygments_lexer": "ipython3",
   "version": "3.10.6"
  },
  "orig_nbformat": 4
 },
 "nbformat": 4,
 "nbformat_minor": 2
}
