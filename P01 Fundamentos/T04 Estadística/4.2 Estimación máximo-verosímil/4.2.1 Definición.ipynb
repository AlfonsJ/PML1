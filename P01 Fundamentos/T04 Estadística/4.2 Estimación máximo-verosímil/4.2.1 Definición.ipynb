{
 "cells": [
  {
   "attachments": {},
   "cell_type": "markdown",
   "metadata": {},
   "source": [
    "# 4.2.1 Definición"
   ]
  },
  {
   "cell_type": "markdown",
   "metadata": {},
   "source": [
    "## Estimador máximo-verosímil (MLE)\n",
    "\n",
    "**Estimador máximo-verosímil (MLE):**  $\\;$ de un vector de parámetros $\\;\\boldsymbol{\\theta}$ con respecto a un conjunto de $N$ datos $\\;\\mathcal{D}=\\{(\\boldsymbol{x}_n,\\boldsymbol{y}_n)\\}$ independientes e idénticamente distribuidos según una fdp (o fp) $\\;p(\\boldsymbol{y}\\mid\\boldsymbol{x}, \\boldsymbol{\\theta})$\n",
    "$$\\begin{align*}\n",
    "\\hat{\\boldsymbol{\\theta}}_{\\text{mle}}%\n",
    "&=\\operatorname*{argmax}\\limits_{\\boldsymbol{\\theta}}\\; \\operatorname{L}(\\boldsymbol{\\theta})%\n",
    "\\quad\\text{con}\\quad%\n",
    "\\operatorname{L}(\\boldsymbol{\\theta})%\n",
    "=p(\\mathcal{D}\\mid\\boldsymbol{\\theta})%\n",
    "=\\prod_{n=1}^N \\;p(\\boldsymbol{y}_n\\mid\\boldsymbol{x}_n, \\boldsymbol{\\theta})\\\\%\n",
    "&=\\operatorname*{argmax}\\limits_{\\boldsymbol{\\theta}}\\; \\operatorname{LL}(\\boldsymbol{\\theta})%\n",
    "\\quad\\text{con}\\quad%\n",
    "\\operatorname{LL}(\\boldsymbol{\\theta})%\n",
    "=\\log \\operatorname{L}(\\boldsymbol{\\theta})%\n",
    "=\\sum_{n=1}^N \\;\\log p(\\boldsymbol{y}_n\\mid\\boldsymbol{x}_n, \\boldsymbol{\\theta})\\\\%\n",
    "&=\\operatorname*{argmin}\\limits_{\\boldsymbol{\\theta}}\\; \\operatorname{NLL}(\\boldsymbol{\\theta})%\n",
    "\\quad\\text{con}\\quad%\n",
    "\\operatorname{NLL}(\\boldsymbol{\\theta})%\n",
    "=-\\operatorname{LL}(\\boldsymbol{\\theta})%\n",
    "=-\\sum_{n=1}^N \\;\\log p(\\boldsymbol{y}_n\\mid\\boldsymbol{x}_n, \\boldsymbol{\\theta})\n",
    "\\end{align*}$$"
   ]
  },
  {
   "cell_type": "markdown",
   "metadata": {},
   "source": [
    "## MLE con la conjunta\n",
    "\n",
    "**MLE con la conjunta:** $\\;$ de un vector de parámetros $\\;\\boldsymbol{\\theta}$ con respecto a un conjunto de $N$ datos $\\;\\mathcal{D}=\\{(\\boldsymbol{x}_n,\\boldsymbol{y}_n)\\}$ independientes e idénticamente distribuidos según una fdp (o fp) $\\;p(\\boldsymbol{x}, \\boldsymbol{y}\\mid\\boldsymbol{\\theta})$\n",
    "$$\\hat{\\boldsymbol{\\theta}}_{\\text{mle}}=\\operatorname*{argmin}\\limits_{\\boldsymbol{\\theta}}-\\sum_{n=1}^N \\log p(\\boldsymbol{x}_n,\\boldsymbol{y}_n\\mid\\boldsymbol{\\theta})$$\n",
    "\n",
    "**El MLE con la conjunta es distinto del MLE (con la condicional):**\n",
    "$$\\begin{align*}\n",
    "\\hat{\\boldsymbol{\\theta}}_{\\text{mle}}%\n",
    "&=\\operatorname*{argmin}\\limits_{\\boldsymbol{\\theta}} -\\sum_{n=1}^N \\log p(\\boldsymbol{y}_n\\mid\\boldsymbol{x}_n,\\boldsymbol{\\theta})\\\\%\n",
    "&=\\operatorname*{argmin}\\limits_{\\boldsymbol{\\theta}} -\\sum_{n=1}^N \\log %\n",
    "\\frac{p(\\boldsymbol{x}_n,\\boldsymbol{y}_n\\mid\\boldsymbol{\\theta})}{p(\\boldsymbol{x}_n\\mid\\boldsymbol{\\theta})}\\\\%\n",
    "&=\\operatorname*{argmin}\\limits_{\\boldsymbol{\\theta}} -\\sum_{n=1}^N \\log p(\\boldsymbol{x}_n,\\boldsymbol{y}_n\\mid\\boldsymbol{\\theta})%\n",
    "\\underbrace{-\\log p(\\boldsymbol{x}_n\\mid\\boldsymbol{\\theta})}_{\\text{depende de toda $\\boldsymbol{y}$}}%\n",
    "\\end{align*}$$\n",
    "\n",
    "**Cálculo del MLE con la conjunta para clasificación en clases de parámetros independientes:** $\\;1+C\\,$ problemas independientes\n",
    "\n",
    "Si $\\,y\\in\\{1,\\dotsc,C\\}\\;$ y $\\;\\boldsymbol{\\theta}=(\\{\\pi_c\\},\\{\\boldsymbol{\\theta}_c\\})\\;$ con $\\;p(y=c\\mid\\boldsymbol{\\theta})=\\pi_c\\;$ y $\\;p(\\boldsymbol{x}\\mid y=c,\\boldsymbol{\\theta})=p(\\boldsymbol{x}\\mid\\boldsymbol{\\theta}_c),\\;$ entonces:\n",
    "$$\\hat{\\boldsymbol{\\theta}}_{\\text{mle}}%\n",
    "=\\operatorname*{argmin}\\limits_{\\boldsymbol{\\theta}} %\n",
    "-\\sum_{n=1}^N \\log p(\\boldsymbol{x}_n,y_n\\mid\\boldsymbol{\\theta})%\n",
    "=\\operatorname*{argmin}\\limits_{\\boldsymbol{\\theta}} %\n",
    "-\\sum_{n=1}^N \\log p(y_n\\mid\\{\\pi_c\\})-\\sum_{c=1}^C\\sum_{n:y_n=c}\\log p(\\boldsymbol{x}_n\\mid\\boldsymbol{\\theta}_c)$$"
   ]
  }
 ],
 "metadata": {
  "kernelspec": {
   "display_name": "Python 3",
   "language": "python",
   "name": "python3"
  },
  "language_info": {
   "codemirror_mode": {
    "name": "ipython",
    "version": 3
   },
   "file_extension": ".py",
   "mimetype": "text/x-python",
   "name": "python",
   "nbconvert_exporter": "python",
   "pygments_lexer": "ipython3",
   "version": "3.10.6"
  },
  "orig_nbformat": 4
 },
 "nbformat": 4,
 "nbformat_minor": 2
}
