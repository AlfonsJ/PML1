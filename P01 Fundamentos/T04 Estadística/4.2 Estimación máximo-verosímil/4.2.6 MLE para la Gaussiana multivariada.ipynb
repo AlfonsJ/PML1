{
 "cells": [
  {
   "attachments": {},
   "cell_type": "markdown",
   "metadata": {},
   "source": [
    "# 4.2.6 MLE para la Gaussiana multivariada (incondicional)"
   ]
  },
  {
   "cell_type": "markdown",
   "metadata": {},
   "source": [
    "**Datos:** $\\quad\\mathcal{D}=\\{\\boldsymbol{y}_1,\\ldots,\\boldsymbol{y}_N\\},\\quad p(\\boldsymbol{y}_n\\mid\\boldsymbol{\\theta})=\\mathcal{N}(\\boldsymbol{y}\\mid\\boldsymbol{\\mu}, \\mathbf{\\Sigma})$\n",
    "\n",
    "**NLL:** $\\;$ de $\\boldsymbol{\\theta}=(\\operatorname{vec}(\\boldsymbol{\\mu});\\operatorname{vec}(\\mathbf{\\Sigma}))$ con respecto a $\\mathcal{D}$\n",
    "$$\\begin{align*}\n",
    "\\operatorname{NLL}(\\boldsymbol{\\theta})%\n",
    "&=-\\sum_n\\log\\left[(2\\pi)^{-D/2}\\lvert\\mathbf{\\Sigma}\\rvert^{-1/2}\\exp\\left(%\n",
    "-\\frac{1}{2}(\\boldsymbol{y}_n-\\boldsymbol{\\mu})^t\\mathbf{\\Sigma}^{-1}(\\boldsymbol{y}_n-\\boldsymbol{\\mu})\\right)\\right]\\\\\n",
    "&=\\underbrace{-\\frac{ND}{2}\\log(2\\pi)}_{\\text{constante irrelevante}}+\\frac{N}{2}\\log\\lvert\\mathbf{\\Sigma}\\rvert%\n",
    "+\\frac{1}{2}\\sum_n(\\boldsymbol{y}_n-\\boldsymbol{\\mu})^t\\mathbf{\\Sigma}^{-1}(\\boldsymbol{y}_n-\\boldsymbol{\\mu})\n",
    "\\end{align*}$$\n",
    "\n",
    "**MLE de $\\boldsymbol{\\mu}$:** $\\;$ ver [Scalar-by-vector identities (en formato numerador)](https://en.wikipedia.org/wiki/Matrix_calculus#Scalar-by-vector_identities)\n",
    "$$\\begin{align*}\n",
    "\\frac{\\partial\\operatorname{NLL}}{\\partial\\boldsymbol{\\mu}^t}&=\\frac{1}{2}\\sum_n%\n",
    "\\frac{\\partial(\\boldsymbol{y}_n-\\boldsymbol{\\mu})^t\\mathbf{\\Sigma}^{-1}(\\boldsymbol{y}_n-\\boldsymbol{\\mu})}%\n",
    "{\\partial\\boldsymbol{\\mu}^t}\\\\\n",
    "&=\\frac{1}{2}\\sum_n%\n",
    "(\\boldsymbol{y}_n-\\boldsymbol{\\mu})^t\\mathbf{\\Sigma}^{-1}\\frac{\\partial(\\boldsymbol{y}_n-\\boldsymbol{\\mu})}{\\partial\\boldsymbol{\\mu}^t}+%\n",
    "(\\boldsymbol{y}_n-\\boldsymbol{\\mu})^t\\mathbf{\\Sigma}^{-t}\\frac{\\partial(\\boldsymbol{y}_n-\\boldsymbol{\\mu})}{\\partial\\boldsymbol{\\mu}^t}\\\\\n",
    "&=\\frac{1}{2}\\sum_n-2\\mathbf{\\Sigma}^{-1}(\\boldsymbol{y}_n-\\boldsymbol{\\mu})\\\\%\n",
    "&=-\\mathbf{\\Sigma}^{-1}\\sum_n(\\boldsymbol{y}_n-\\boldsymbol{\\mu})\\Bigr\\vert_{\\hat{\\boldsymbol{\\theta}}}=\\boldsymbol{0}%\n",
    "\\;\\to\\;\\hat{\\boldsymbol{\\mu}}=\\bar{\\boldsymbol{y}}%\n",
    "\\end{align*}$$\n",
    "\n",
    "**MLE de $\\mathbf{\\Sigma}$:** $\\;$ ver [Scalar-by-matrix identities (en formato numerador)](https://en.wikipedia.org/wiki/Matrix_calculus#Scalar-by-matrix_identities)\n",
    "$$\\begin{align*}\n",
    "\\frac{\\partial\\operatorname{NLL}}{\\partial\\mathbf{\\Sigma}}%\n",
    "&=\\frac{N}{2}\\mathbf{\\Sigma}^{-1}+\\frac{1}{2}\\sum_n%\n",
    "\\frac{\\partial(\\boldsymbol{y}_n-\\boldsymbol{\\mu})^t\\mathbf{\\Sigma}^{-1}(\\boldsymbol{y}_n-\\boldsymbol{\\mu})}{\\partial\\mathbf{\\Sigma}}\\\\\n",
    "&=\\frac{N}{2}\\mathbf{\\Sigma}^{-1}+\\frac{1}{2}\\sum_n%\n",
    "\\frac{\\partial\\operatorname{tr}(\\mathbf{\\Sigma}^{-1}(\\boldsymbol{y}_n-\\boldsymbol{\\mu})(\\boldsymbol{y}_n-\\boldsymbol{\\mu})^t)}%\n",
    "{\\partial\\mathbf{\\Sigma}}\\\\\n",
    "&=\\frac{N}{2}\\mathbf{\\Sigma}^{-1}+\\frac{1}{2}\\sum_n%\n",
    "-\\mathbf{\\Sigma}^{-1}(\\boldsymbol{y}_n-\\boldsymbol{\\mu})(\\boldsymbol{y}_n-\\boldsymbol{\\mu})^t\\mathbf{\\Sigma}^{-1}%\n",
    "\\Bigr\\vert_{\\hat{\\boldsymbol{\\theta}}}=\\mathbf{0}\\\\%\n",
    "&\\to\\;N\\hat{\\mathbf{\\Sigma}}^{-1}%\n",
    "=\\hat{\\mathbf{\\Sigma}}^{-1}\\sum_n(\\boldsymbol{y}_n-\\hat{\\boldsymbol{\\mu}})(\\boldsymbol{y}_n-\\hat{\\boldsymbol{\\mu}})^t\\hat{\\mathbf{\\Sigma}}^{-1}\\\\\n",
    "&\\to\\;\\hat{\\mathbf{\\Sigma}}=\\frac{1}{N}\\sum_n(\\boldsymbol{y}_n-\\hat{\\boldsymbol{\\mu}})(\\boldsymbol{y}_n-\\hat{\\boldsymbol{\\mu}})^t\n",
    "\\end{align*}$$\n",
    "\n",
    "**Estadísticos suficientes:** $\\;\\,\\bar{y}\\,$ y $\\,\\displaystyle\\sum_n\\boldsymbol{y}_n\\boldsymbol{y}_n^t\\,$ pues $\\,\\displaystyle\\hat{\\mathbf{\\Sigma}}=\\frac{1}{N}\\sum_n\\boldsymbol{y}_n\\boldsymbol{y}_n^t-\\hat{\\boldsymbol{\\mu}}\\hat{\\boldsymbol{\\mu}}^t$\n",
    "\n",
    "**Ejemplo:** $\\;$ MLE de $\\,\\boldsymbol{\\theta}\\,$ con $\\,N=10000\\,$ datos iid según una $\\,\\mathcal{N}(\\boldsymbol{y}\\mid\\boldsymbol{\\mu},\\mathbf{\\Sigma}),\\,\\boldsymbol{\\mu}=\\boldsymbol{0},\\,\\mathbf{\\Sigma}=[2, 1.8; 1.8, 2]$"
   ]
  },
  {
   "cell_type": "code",
   "execution_count": 1,
   "metadata": {},
   "outputs": [
    {
     "name": "stdout",
     "output_type": "stream",
     "text": [
      "hm = [0.03462052 0.0341259 ]\n",
      "hS = [[1.97661038 1.77726855]\n",
      " [1.77726855 1.98550169]]\n",
      "np.cov = [[1.97777495 1.77845025]\n",
      " [1.77845025 1.98670027]]\n"
     ]
    }
   ],
   "source": [
    "import numpy as np; from scipy.stats import multivariate_normal\n",
    "m = np.array([.0, .0]); S = np.array([[2., 1.8], [1.8, 2.]]); N = 10000\n",
    "Y = multivariate_normal(mean=m, cov=S).rvs(N, random_state=23)\n",
    "hm = Y.mean(axis=0); hS = np.dot(Y.T, Y) / N - np.dot(hm.T, hm)\n",
    "# hS = np.cov(Y, rowvar=False)\n",
    "print(f'hm = {hm}\\nhS = {hS}\\nnp.cov = {np.cov(Y, rowvar=False, bias=True)}')"
   ]
  }
 ],
 "metadata": {
  "kernelspec": {
   "display_name": "Python 3",
   "language": "python",
   "name": "python3"
  },
  "language_info": {
   "codemirror_mode": {
    "name": "ipython",
    "version": 3
   },
   "file_extension": ".py",
   "mimetype": "text/x-python",
   "name": "python",
   "nbconvert_exporter": "python",
   "pygments_lexer": "ipython3",
   "version": "3.11.4"
  },
  "orig_nbformat": 4
 },
 "nbformat": 4,
 "nbformat_minor": 2
}
