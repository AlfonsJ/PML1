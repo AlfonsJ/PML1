{
 "cells": [
  {
   "cell_type": "markdown",
   "metadata": {},
   "source": [
    "# 4.2.2 Justificación del MLE"
   ]
  },
  {
   "cell_type": "markdown",
   "metadata": {},
   "source": [
    "## Aproximación puntual a la posterior Bayesiana\n",
    "\n",
    "$$\\begin{align*}\n",
    "\\hat{\\boldsymbol{\\theta}}_{\\text{map}}%\n",
    "&=\\operatorname*{argmax}_{\\boldsymbol{\\theta}}\\;\\log p(\\boldsymbol{\\theta}\\mid\\mathcal{D})%\n",
    "&&\\text{asumimos}\\quad p(\\boldsymbol{\\theta}\\mid\\mathcal{D})=\\delta(\\boldsymbol{\\theta}-\\hat{\\boldsymbol{\\theta}}_{\\text{map}})\\\\%\n",
    "&=\\operatorname*{argmax}_{\\boldsymbol{\\theta}}\\;\\log p(\\mathcal{D}\\mid\\boldsymbol{\\theta})+\\log p(\\boldsymbol{\\theta})\\\\\n",
    "&=\\operatorname*{argmax}_{\\boldsymbol{\\theta}}\\;\\log p(\\mathcal{D}\\mid\\boldsymbol{\\theta})=\\hat{\\boldsymbol{\\theta}}_{\\text{mle}}&&\\text{con prior plano}\\quad p(\\boldsymbol{\\theta})\\propto 1\n",
    "\\end{align*}$$"
   ]
  },
  {
   "cell_type": "markdown",
   "metadata": {},
   "source": [
    "## Aproximación a la empírica: divergencia KL\n",
    "\n",
    "**Entropía:** $\\quad\\mathbb{H}(p)=-\\sum_{\\boldsymbol{y}} p(\\boldsymbol{y})\\log p(\\boldsymbol{y}),\\quad\\mathbb{H}(p)\\geq 0$\n",
    "\n",
    "**Entropía cruzada:** $\\quad\\mathbb{H}(p,q)=-\\sum_{\\boldsymbol{y}} p(\\boldsymbol{y})\\log q(\\boldsymbol{y}),\\quad\\mathbb{H}(p,q)\\geq \\mathbb{H}(p,p)=\\mathbb{H}(p)$\n",
    "\n",
    "**Divergencia de Kullback Leibler (KL):** $\\quad$ divergencia de $q$ respecto de $p$\n",
    "$$\\mathbb{KL}(p\\Vert q)=\\sum_{\\boldsymbol{y}} p(\\boldsymbol{y})\\log\\frac{p(\\boldsymbol{y})}{q(\\boldsymbol{y})}%\n",
    "=\\sum_{\\boldsymbol{y}} p(\\boldsymbol{y})\\log p(\\boldsymbol{y})-\\sum_{\\boldsymbol{y}} p(\\boldsymbol{y})\\log q(\\boldsymbol{y})=-\\mathbb{H}(p)+\\mathbb{H}(p,q)$$\n",
    "\n",
    "**Propiedades de la divergencia KL:** $\\quad\\mathbb{KL}(p\\,\\Vert\\,q)\\geq 0\\qquad \\mathbb{KL}(p\\,\\Vert\\,q)=0\\;\\text{sii}\\;p=q$"
   ]
  },
  {
   "cell_type": "markdown",
   "metadata": {},
   "source": [
    "## Aproximación a la empírica: caso no supervisado\n",
    "\n",
    "**Empírica en el caso no supervisado (incondicional):** $\\;$ forma \"picos\" en los puntos de datos\n",
    "$$p_{\\mathcal{D}}(\\boldsymbol{y})=\\frac{1}{N}\\sum_{n=1}^N\\delta(\\boldsymbol{y}-\\boldsymbol{y}_n)$$\n",
    "\n",
    "**Aproximación de la empírica mediante una $q$:** $\\;$ minimizar la $\\mathbb{KL}$ equivale a minimizar la $\\operatorname{NLL}$\n",
    "$$\\begin{align*}\n",
    "\\mathbb{KL}(p_{\\mathcal{D}}\\,\\Vert\\,q)%\n",
    "&=\\sum_{\\boldsymbol{y}} p_{\\mathcal{D}}(\\boldsymbol{y})\\log p_{\\mathcal{D}}(\\boldsymbol{y})-p_{\\mathcal{D}}(\\boldsymbol{y})\\log q(\\boldsymbol{y})\\\\\n",
    "&=-\\mathbb{H}(p_{\\mathcal{D}})-\\frac{1}{N}\\sum_{n=1}^N\\log p(\\boldsymbol{y}_n\\mid\\boldsymbol{\\theta})%\n",
    "\\qquad\\qquad\\text{con modelo}\\;p=q\\\\\n",
    "&=\\operatorname{const}+\\operatorname{NLL}(\\boldsymbol{\\theta})\n",
    "\\end{align*}$$"
   ]
  },
  {
   "cell_type": "markdown",
   "metadata": {},
   "source": [
    "## Aproximación a la empírica: caso supervisado\n",
    "\n",
    "**Empírica en el caso supervisado (condicional):**\n",
    "$$p_{\\mathcal{D}}(\\boldsymbol{x},\\boldsymbol{y})%\n",
    "=p_{\\mathcal{D}}(\\boldsymbol{y}\\mid\\boldsymbol{x})\\,p_{\\mathcal{D}}(\\boldsymbol{x})%\n",
    "=\\frac{1}{N}\\sum_{n=1}^N \\delta(\\boldsymbol{x}-\\boldsymbol{x}_n)\\delta(\\boldsymbol{y}-\\boldsymbol{y}_n)$$\n",
    "\n",
    "**Aproximación de la empírica mediante una $q$ condicional:** $\\;$ minimizar la $\\mathbb{KL}$ equivale a minimizar la $\\operatorname{NLL}$\n",
    "$$\\begin{align*}\n",
    "\\mathbb{E}_{p_{\\mathcal{D}}(\\boldsymbol{x})}%\n",
    "&[\\mathbb{KL}(p_{\\mathcal{D}}(Y\\mid\\boldsymbol{x})\\,\\Vert\\,q(Y\\mid\\boldsymbol{x}))]%\n",
    "=\\sum_{\\boldsymbol{x}}p_{\\mathcal{D}}(\\boldsymbol{x})\\Biggl[\\sum_{\\boldsymbol{y}}p_{\\mathcal{D}}(\\boldsymbol{y}\\mid\\boldsymbol{x})\\log\\frac{p_{\\mathcal{D}}(\\boldsymbol{y}\\mid\\boldsymbol{x})}{q(\\boldsymbol{y}\\mid\\boldsymbol{x})}\\Biggr]\\\\%\n",
    "&=\\sum_{\\boldsymbol{x},\\boldsymbol{y}}p_{\\mathcal{D}}(\\boldsymbol{x},\\boldsymbol{y})\\log\\frac{p_{\\mathcal{D}}(\\boldsymbol{y}\\mid\\boldsymbol{x})}{q(\\boldsymbol{y}\\mid\\boldsymbol{x})}%\n",
    "=\\operatorname{const}-\\sum_{\\boldsymbol{x},\\boldsymbol{y}}p_{\\mathcal{D}}(\\boldsymbol{x},\\boldsymbol{y})\\log q(\\boldsymbol{y}\\mid\\boldsymbol{x})\\\\%\n",
    "&=\\operatorname{const}-\\frac{1}{N}\\sum_{n=1}^N \\log p(\\boldsymbol{y}_n\\mid\\boldsymbol{x}_n,\\boldsymbol{\\theta})%\n",
    "\\qquad\\qquad\\text{con modelo}\\;p=q\\\\\n",
    "&=\\operatorname{const}+\\operatorname{NLL}(\\boldsymbol{\\theta})\n",
    "\\end{align*}$$"
   ]
  }
 ],
 "metadata": {
  "language_info": {
   "name": "python"
  }
 },
 "nbformat": 4,
 "nbformat_minor": 2
}
