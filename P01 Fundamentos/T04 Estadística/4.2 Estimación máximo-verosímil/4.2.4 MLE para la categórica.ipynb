{
 "cells": [
  {
   "attachments": {},
   "cell_type": "markdown",
   "metadata": {},
   "source": [
    "# 4.2.4 MLE para la categórica (incondicional)"
   ]
  },
  {
   "cell_type": "markdown",
   "metadata": {},
   "source": [
    "**Datos:** $\\quad\\mathcal{D}=\\{y_1,\\ldots,y_N\\},\\quad p(y_n\\mid\\boldsymbol{\\theta})=\\operatorname{Cat}(y\\mid\\boldsymbol{\\theta})$\n",
    "\n",
    "**NLL:** $\\;$ de $\\theta$ con respecto a $\\mathcal{D}$\n",
    "$$\\begin{align*}\n",
    "\\operatorname{NLL}&=-\\log\\prod_{n=1}^N p(y_n\\mid\\theta)%\n",
    "=-\\log\\prod_{n=1}^N \\theta^{\\mathbb{I}(y_n=1)}(1-\\theta)^{\\mathbb{I}(y_n=0)}\\\\%\n",
    "&=-\\sum_{n=1}^N \\mathbb{I}(y_n=1)\\log\\theta + \\mathbb{I}(y_n=0)\\log(1-\\theta)\\\\%\n",
    "&=-[N_1\\log\\theta+N_0\\log(1-\\theta)]%\n",
    "\\quad\\text{con}\\quad%\n",
    "N_1=\\sum_n\\mathbb{I}(y_n=1)%\n",
    "\\quad\\text{y}\\quad%\n",
    "N_0=\\sum_n\\mathbb{I}(y_n=0)\n",
    "\\end{align*}$$\n",
    "\n",
    "**Estadísticos suficientes (de los datos):** $\\;N_1$ y $N_0$ resumen todo lo que necesitamos saber sobre $\\mathcal{D}$\n",
    "\n",
    "**Derivada de la NLL:**\n",
    "$$\\frac{d}{d\\theta}\\operatorname{NLL}(\\theta)=\\frac{-N_1}{\\theta}+\\frac{N_0}{1-\\theta}$$\n",
    "\n",
    "**MLE:** $\\;$ se obtiene igualando la derivada a cero\n",
    "$$\\hat{\\theta}=\\dfrac{N_1}{N}$$\n",
    "\n",
    "**Ejemplo:** $\\;$ MLE de $\\,\\theta\\,$ con $\\,N=100\\,$ datos iid según una $\\,\\operatorname{Ber}(y\\mid\\theta=0.20)$\n",
    "\n",
    "\n",
    "\n",
    "Si $\\;p(\\boldsymbol{y}_n\\mid\\boldsymbol{x}_n, \\boldsymbol{\\theta})%\n",
    "=p(y_n\\mid\\boldsymbol{\\theta})=\\operatorname{Cat}(y\\mid\\boldsymbol{\\theta})$, entonces \n",
    "$\\;\\hat{\\theta}_c=\\dfrac{N_c}{N}$ con $\\;N_c=\\mathbb{I}(y_n=c)$."
   ]
  },
  {
   "cell_type": "code",
   "execution_count": 2,
   "metadata": {},
   "outputs": [
    {
     "name": "stdout",
     "output_type": "stream",
     "text": [
      "[0.3, 0.2, 0.5] [0.3015 0.1995 0.499 ]\n"
     ]
    }
   ],
   "source": [
    "from scipy.stats import multinomial\n",
    "\n",
    "t, N = [0.3, 0.2, 0.5], 100\n",
    "Y = multinomial(N, t).rvs(N)\n",
    "ht = Y.mean(axis=0) / N\n",
    "print(t, ht)"
   ]
  }
 ],
 "metadata": {
  "kernelspec": {
   "display_name": "Python 3",
   "language": "python",
   "name": "python3"
  },
  "language_info": {
   "codemirror_mode": {
    "name": "ipython",
    "version": 3
   },
   "file_extension": ".py",
   "mimetype": "text/x-python",
   "name": "python",
   "nbconvert_exporter": "python",
   "pygments_lexer": "ipython3",
   "version": "3.10.6"
  },
  "orig_nbformat": 4
 },
 "nbformat": 4,
 "nbformat_minor": 2
}
