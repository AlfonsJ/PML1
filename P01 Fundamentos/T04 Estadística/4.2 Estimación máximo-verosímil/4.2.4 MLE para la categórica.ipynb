{
 "cells": [
  {
   "attachments": {},
   "cell_type": "markdown",
   "metadata": {},
   "source": [
    "# 4.2.4 MLE para la categórica (incondicional)"
   ]
  },
  {
   "cell_type": "markdown",
   "metadata": {},
   "source": [
    "**Datos:** $\\quad\\mathcal{D}=\\{y_1,\\ldots,y_N\\},\\quad p(y_n\\mid\\boldsymbol{\\theta})=\\operatorname{Cat}(y\\mid\\boldsymbol{\\theta})$\n",
    "\n",
    "**NLL:** $\\;$ de $\\theta$ con respecto a $\\mathcal{D}$\n",
    "$$\\begin{align*}\n",
    "\\operatorname{NLL}(\\boldsymbol{\\theta})&=-\\log\\prod_{n=1}^N p(y_n\\mid\\boldsymbol{\\theta})%\n",
    "=-\\log\\prod_{n=1}^N\\prod_{c=1}^C \\theta_c^{\\mathbb{I}(y_n=c)}\\\\%\n",
    "&=-\\sum_{n=1}^N\\sum_{c=1}^C \\mathbb{I}(y_n=c)\\log\\theta_c%\n",
    "=-\\sum_{c=1}^C N_c\\log\\theta_c%\n",
    "\\quad\\text{con}\\quad%\n",
    "N_c=\\sum_n\\mathbb{I}(y_n=c)%\n",
    "\\end{align*}$$\n",
    "\n",
    "**Estadísticos suficientes (de los datos):** $\\;\\{N_c\\}$\n",
    "\n",
    "**Lagrangiana:** $\\;$ NLL y la restricción \"$1-\\sum_c\\theta_c=0$\" añadida junto con un multiplicador de Lagrange $\\lambda$\n",
    "$$\\mathcal{L}(\\boldsymbol{\\theta},\\lambda)=-\\sum_c N_c\\log\\theta_c-\\lambda\\left(1-\\sum_c\\theta_c\\right)$$\n",
    "\n",
    "**Gradiente de la Lagrangiana:**\n",
    "$$\\frac{\\partial\\operatorname{NLL}}{\\partial\\theta_c}=-\\frac{N_c}{\\theta_c}%\n",
    "\\quad\\text{y}\\quad%\n",
    "\\frac{\\partial\\operatorname{NLL}}{\\lambda}=-1+\\sum_c\\theta_c$$\n",
    "\n",
    "**MLE:** $\\;$ se obtiene igualando el gradiente de la Lagrangiana a cero\n",
    "$$\\hat{\\theta}_c=\\dfrac{N_c}{N}$$\n",
    "\n",
    "**Ejemplo:** $\\;$ MLE de $\\,\\boldsymbol{\\theta}\\,$ con $\\,N=100\\,$ datos iid según una $\\,\\operatorname{Cat}(y\\mid\\boldsymbol{\\theta}),\\,\\boldsymbol{\\theta}=(0.3, 0.2, 0.5)^t$"
   ]
  },
  {
   "cell_type": "code",
   "execution_count": 1,
   "metadata": {},
   "outputs": [
    {
     "name": "stdout",
     "output_type": "stream",
     "text": [
      "Y[:5,:] = [[30 26 44]\n",
      " [33 17 50]\n",
      " [26 23 51]\n",
      " [26 20 54]\n",
      " [31 19 50]]\n",
      "ht = [0.2983 0.1992 0.5025]\n"
     ]
    }
   ],
   "source": [
    "from scipy.stats import multinomial\n",
    "t, N = [0.3, 0.2, 0.5], 100; Y = multinomial(N, t).rvs(N, random_state=23)\n",
    "ht = Y.mean(axis=0) / N; print(f'Y[:5,:] = {Y[:5,:]}\\nht = {ht}')"
   ]
  }
 ],
 "metadata": {
  "kernelspec": {
   "display_name": "Python 3",
   "language": "python",
   "name": "python3"
  },
  "language_info": {
   "codemirror_mode": {
    "name": "ipython",
    "version": 3
   },
   "file_extension": ".py",
   "mimetype": "text/x-python",
   "name": "python",
   "nbconvert_exporter": "python",
   "pygments_lexer": "ipython3",
   "version": "3.11.4"
  },
  "orig_nbformat": 4
 },
 "nbformat": 4,
 "nbformat_minor": 2
}
