{
 "cells": [
  {
   "attachments": {},
   "cell_type": "markdown",
   "metadata": {},
   "source": [
    "# 4.2.5 MLE para la Gaussiana univariada (incondicional)"
   ]
  },
  {
   "cell_type": "markdown",
   "metadata": {},
   "source": [
    "**Datos:** $\\quad\\mathcal{D}=\\{y_1,\\ldots,y_N\\},\\quad p(y_n\\mid\\boldsymbol{\\theta})=\\mathcal{N}(y\\mid\\mu, \\sigma^2)$\n",
    "\n",
    "**NLL:** $\\;$ de $\\boldsymbol{\\theta}=(\\mu, \\sigma^2)^t$ con respecto a $\\mathcal{D}$\n",
    "$$\\begin{align*}\n",
    "\\operatorname{NLL}(\\mu, \\sigma^2)&=-\\sum_n\\log\\left[\\left(\\frac{1}{2\\pi\\sigma^2}\\right)^{\\frac{1}{2}}%\n",
    "    \\exp\\left(-\\frac{1}{2\\sigma^2}(y_n-\\mu)^2\\right)\\right]\\\\%\n",
    "  &=\\frac{N}{2}\\log(2\\pi\\sigma^2)+\\frac{1}{2\\sigma^2}\\sum_n(y_n-\\mu)^2\n",
    "\\end{align*}$$\n",
    "\n",
    "**MLE:** $\\;$ se obtiene igualando el gradiente de la NLL a cero\n",
    "$$\\begin{align*}\n",
    "\\frac{\\partial\\operatorname{NLL}}{\\partial\\mu}%\n",
    "&=\\frac{1}{\\sigma^2}\\sum_n(\\mu-y_n)%\n",
    "=\\frac{N}{\\sigma^2}(\\mu-\\bar{y})\\Bigr\\vert_{\\hat{\\boldsymbol{\\theta}}}=0%\n",
    "\\;\\to\\;\\hat{\\mu}=\\bar{y}\\\\%\n",
    "\\frac{\\partial\\operatorname{NLL}}{\\partial\\sigma}%\n",
    "&=\\frac{N}{\\sigma}-\\frac{1}{\\sigma^3}\\sum_n(y_n-\\mu)^2\\Bigr\\vert_{\\hat{\\boldsymbol{\\theta}}}=0%\n",
    "\\;\\to\\;\\hat{\\sigma}^2=\\frac{1}{N}\\sum_n(y_n-\\hat{\\mu})^2%\n",
    "\\end{align*}$$\n",
    "\n",
    "**Estadísticos suficientes:** $\\;$ la media empírica $\\,\\bar{y}\\,$ y la media de cuadrados empírica, $\\,s^2,\\,$ pues $\\,\\hat{\\sigma}^2=s^2-\\bar{y}^2$\n",
    "\n",
    "**Ejemplo:** $\\;$ MLE de $\\,\\boldsymbol{\\theta}\\,$ con $\\,N=100\\,$ datos iid según una $\\,\\mathcal{N}(y\\mid\\mu,\\sigma^2),\\,\\mu=0, \\sigma^2=1$"
   ]
  },
  {
   "cell_type": "code",
   "execution_count": 1,
   "metadata": {},
   "outputs": [
    {
     "name": "stdout",
     "output_type": "stream",
     "text": [
      "m = 0.0000  v = 1.0000  hm = 0.0011  hv = 0.9063\n"
     ]
    }
   ],
   "source": [
    "import numpy as np; from scipy.stats import norm\n",
    "m, v, N = 0.0, 1.0, 100; Y = norm(m, v).rvs(N, random_state=23)\n",
    "hm = Y.mean() / N; s2 = np.square(Y).mean(); hv = s2 - hm * hm\n",
    "print(f'm = {m:.4f}  v = {v:.4f}  hm = {hm:.4f}  hv = {hv:.4f}')"
   ]
  }
 ],
 "metadata": {
  "kernelspec": {
   "display_name": "Python 3",
   "language": "python",
   "name": "python3"
  },
  "language_info": {
   "codemirror_mode": {
    "name": "ipython",
    "version": 3
   },
   "file_extension": ".py",
   "mimetype": "text/x-python",
   "name": "python",
   "nbconvert_exporter": "python",
   "pygments_lexer": "ipython3",
   "version": "3.11.4"
  },
  "orig_nbformat": 4
 },
 "nbformat": 4,
 "nbformat_minor": 2
}
