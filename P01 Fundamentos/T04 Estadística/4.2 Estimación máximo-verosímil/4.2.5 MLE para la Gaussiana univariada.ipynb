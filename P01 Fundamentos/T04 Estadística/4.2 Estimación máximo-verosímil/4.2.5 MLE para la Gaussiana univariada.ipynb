{
 "cells": [
  {
   "attachments": {},
   "cell_type": "markdown",
   "metadata": {},
   "source": [
    "# 4.2.5 MLE para la Gaussiana univariada (incondicional)"
   ]
  },
  {
   "cell_type": "markdown",
   "metadata": {},
   "source": [
    "**Datos:** $\\quad\\mathcal{D}=\\{y_1,\\ldots,y_N\\},\\quad p(y_n\\mid\\boldsymbol{\\theta})=\\mathcal{N}(y\\mid\\mu, \\sigma^2)$\n",
    "\n",
    "**NLL:** $\\;$ de $\\boldsymbol{\\theta}=(\\mu, \\sigma^2)^t$ con respecto a $\\mathcal{D}$\n",
    "$$\\begin{align*}\n",
    "\\operatorname{NLL}(\\mu, \\sigma^2)&=-\\sum_n\\log\\left[\\left(\\frac{1}{2\\pi\\sigma^2}\\right)^{\\frac{1}{2}}%\n",
    "    \\exp\\left(-\\frac{1}{2\\sigma^2}(y_n-\\mu)^2\\right)\\right]\\\\%\n",
    "  &=\\frac{1}{2\\sigma^2}\\sum_n(y_n-\\mu)^2+\\frac{N}{2}\\log(2\\pi\\sigma^2)\n",
    "\\end{align*}$$\n",
    "\n",
    "**Gradiente de la NLL:**\n",
    "$$\\begin{align*}\n",
    "\\frac{\\partial\\operatorname{NLL}}{\\partial\\mu}%\n",
    "=\\frac{1}{\\sigma^2}\\sum_n(\\mu-y_n)%\n",
    "=\\frac{N}{\\sigma^2}(\\mu-\\bar{y})\\\\%\n",
    "\\frac{\\partial\\operatorname{NLL}}{\\sigma^2}=\n",
    "\\end{align*}$$\n",
    "\n",
    "**MLE:** $\\;$ se obtiene igualando el gradiente de la NLL a cero\n",
    "$$\\begin{align*}\n",
    "\\hat{\\mu}&=\\bar{y}\\\\\n",
    "\\hat{\\sigma}^2&=\n",
    "\\end{align*}$$\n",
    "\n",
    "**Estadísticos suficientes:** $\\;$ la media empírica $\\,\\bar{y}\\,$ y la media de cuadrados empírica $\\,s^2$\n",
    "\n",
    "**Ejemplo:** $\\;$ MLE de $\\,\\boldsymbol{\\theta}\\,$ con $\\,N=100\\,$ datos iid según una $\\,\\operatorname{Cat}(y\\mid\\boldsymbol{\\theta}),\\,\\boldsymbol{\\theta}=(0.3, 0.2, 0.5)^t$"
   ]
  },
  {
   "cell_type": "code",
   "execution_count": 3,
   "metadata": {},
   "outputs": [
    {
     "name": "stdout",
     "output_type": "stream",
     "text": [
      "m=0.0000 v=1.0000 hm=0.0016 hv=1.1327\n"
     ]
    }
   ],
   "source": [
    "import numpy as np\n",
    "from scipy.stats import norm\n",
    "\n",
    "m, v, N = 0.0, 1.0, 100\n",
    "Y = norm(m, v).rvs(N)\n",
    "hm = Y.mean(axis=0) / N\n",
    "s2 = np.dot(Y, Y.T) / N\n",
    "hv = s2 - hm * hm\n",
    "print('m={:.4f} v={:.4f} hm={:.4f} hv={:.4f}'.format(m, v, hm, hv))"
   ]
  }
 ],
 "metadata": {
  "kernelspec": {
   "display_name": "Python 3",
   "language": "python",
   "name": "python3"
  },
  "language_info": {
   "codemirror_mode": {
    "name": "ipython",
    "version": 3
   },
   "file_extension": ".py",
   "mimetype": "text/x-python",
   "name": "python",
   "nbconvert_exporter": "python",
   "pygments_lexer": "ipython3",
   "version": "3.10.6"
  },
  "orig_nbformat": 4
 },
 "nbformat": 4,
 "nbformat_minor": 2
}
