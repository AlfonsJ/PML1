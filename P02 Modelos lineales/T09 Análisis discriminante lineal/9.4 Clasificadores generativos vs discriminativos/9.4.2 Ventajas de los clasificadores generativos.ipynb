{
 "cells": [
  {
   "attachments": {},
   "cell_type": "markdown",
   "metadata": {},
   "source": [
    "# 9.4.2 Ventajas de los clasificadores generativos"
   ]
  },
  {
   "cell_type": "markdown",
   "metadata": {},
   "source": [
    "## Fáciles de ajustar\n",
    "\n",
    "Se suelen ajustarmediante conteo y promediado; en contraste, regresión logística requiere resolver un problema de optimización convexo, y las redes neuronales uno no convexo, lo que se traduce en procesos computacionalmente muy costosos"
   ]
  },
  {
   "cell_type": "markdown",
   "metadata": {},
   "source": [
    "## Facilitan el tratamiento de datos perdidos\n",
    "\n",
    "Gracias al modelado de condicionales, cosa que en los discriminativos no es posible"
   ]
  },
  {
   "cell_type": "markdown",
   "metadata": {},
   "source": [
    "## Pueden ajustar clases separadamente\n",
    "\n",
    "Por lo general es así, lo que permite añadir nuevas clases sin reentrenar las demás"
   ]
  },
  {
   "cell_type": "markdown",
   "metadata": {},
   "source": [
    "## Aprovechamiento de datos de entrenamiento no etiquetados\n",
    "\n",
    "Para aprendizaje semi-supervisado (difícil con discriminativos)"
   ]
  },
  {
   "cell_type": "markdown",
   "metadata": {},
   "source": [
    "## Robustez frente a características espúrias (degeneradas)\n",
    "\n",
    "Gracias a que capturan los mecanismos causales del proceso generativo subyacente"
   ]
  }
 ],
 "metadata": {
  "kernelspec": {
   "display_name": "Python 3",
   "language": "python",
   "name": "python3"
  },
  "language_info": {
   "codemirror_mode": {
    "name": "ipython",
    "version": 3
   },
   "file_extension": ".py",
   "mimetype": "text/x-python",
   "name": "python",
   "nbconvert_exporter": "python",
   "pygments_lexer": "ipython3",
   "version": "3.10.6"
  },
  "orig_nbformat": 4,
  "vscode": {
   "interpreter": {
    "hash": "e7370f93d1d0cde622a1f8e1c04877d8463912d04d973331ad4851f04de6915a"
   }
  }
 },
 "nbformat": 4,
 "nbformat_minor": 2
}
