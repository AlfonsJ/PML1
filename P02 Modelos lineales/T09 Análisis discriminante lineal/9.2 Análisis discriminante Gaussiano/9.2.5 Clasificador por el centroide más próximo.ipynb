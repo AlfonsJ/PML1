{
 "cells": [
  {
   "attachments": {},
   "cell_type": "markdown",
   "metadata": {},
   "source": [
    "# 9.2.5 Clasificador por el centroide más próximo"
   ]
  },
  {
   "cell_type": "markdown",
   "metadata": {},
   "source": [
    "\n",
    "**Clasificador por el centroide más próximo (NCM):** $\\;$ regla de decisión MAP para LDA con priors idénticos,\n",
    "$$\\begin{align*}\n",
    "\\hat{y}(\\boldsymbol{x})%\n",
    "&=\\operatorname*{argmax}_c\\;\\log p(y=c\\mid\\boldsymbol{x},\\boldsymbol{\\theta})\\\\%\n",
    "&=\\operatorname*{argmax}_c\\;\\log p(\\boldsymbol{x}\\mid y=c,\\boldsymbol{\\theta})%\n",
    "&&\\text{(asumiendo priors idénticos)}\\\\%\n",
    "&=\\operatorname*{argmax}_c\\;-\\frac{1}{2}(\\boldsymbol{x}-\\boldsymbol{\\mu}_c)^t\\mathbf{\\Sigma}^{-1}(\\boldsymbol{x}-\\boldsymbol{\\mu}_c)\\\\%\n",
    "&=\\operatorname*{argmin}_c\\;(\\boldsymbol{x}-\\boldsymbol{\\mu}_c)^t\\mathbf{\\Sigma}^{-1}(\\boldsymbol{x}-\\boldsymbol{\\mu}_c)\\\\%\n",
    "&=\\operatorname*{argmin}_c\\;\\Vert\\boldsymbol{x}-\\boldsymbol{\\mu}_c\\Vert_{\\mathbf{W}}^2%\n",
    "&&\\text{(con $\\mathbf{\\Sigma}^{-1}=\\mathbf{W}^t\\mathbf{W}$, $\\;\\Vert\\boldsymbol{z}\\Vert_{\\mathbf{W}}^2=\\boldsymbol{z}^t\\mathbf{W}^t\\mathbf{W}\\boldsymbol{z}$)}%\n",
    "\\end{align*}$$\n",
    "\n",
    "**Motivación:** $\\;$ aparte de su sencillez y reducido coste computacional, puede usarse en **one-shot learning** de nuevas clases ya que basta añadir un prototipo etiquetado $\\boldsymbol{\\mu}_c$ por cada clase $c$ nueva que se quiera incluir\n",
    "\n",
    "**Aprendizaje de la métrica:** $\\;$ $\\mathbf{W}$ puede ser una raíz de $\\mathbf{\\Sigma}^{-1}$ o aprenderse con algún criterio discriminativo"
   ]
  }
 ],
 "metadata": {
  "kernelspec": {
   "display_name": "Python 3",
   "language": "python",
   "name": "python3"
  },
  "language_info": {
   "codemirror_mode": {
    "name": "ipython",
    "version": 3
   },
   "file_extension": ".py",
   "mimetype": "text/x-python",
   "name": "python",
   "nbconvert_exporter": "python",
   "pygments_lexer": "ipython3",
   "version": "3.10.6"
  },
  "orig_nbformat": 4
 },
 "nbformat": 4,
 "nbformat_minor": 2
}
