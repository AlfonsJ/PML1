{
 "cells": [
  {
   "attachments": {},
   "cell_type": "markdown",
   "metadata": {},
   "source": [
    "# 9.2.0 Introducción"
   ]
  },
  {
   "cell_type": "markdown",
   "metadata": {},
   "source": [
    "\n",
    "**Análisis discriminante Gaussiano (GDA):** $\\;$ clasificador generativo de densidades condicionales Gaussianas\n",
    "$$p(y=c\\mid\\boldsymbol{x},\\boldsymbol{\\theta})%\n",
    "\\propto p(y=c,\\boldsymbol{\\theta})\\,p(\\boldsymbol{x}\\mid y=c,\\boldsymbol{\\theta})%\n",
    "=\\pi_c\\,\\mathcal{N}_D(\\boldsymbol{\\mu}_c,\\mathbf{\\Sigma}_c)$$"
   ]
  }
 ],
 "metadata": {
  "kernelspec": {
   "display_name": "Python 3",
   "language": "python",
   "name": "python3"
  },
  "language_info": {
   "codemirror_mode": {
    "name": "ipython",
    "version": 3
   },
   "file_extension": ".py",
   "mimetype": "text/x-python",
   "name": "python",
   "nbconvert_exporter": "python",
   "pygments_lexer": "ipython3",
   "version": "3.10.6"
  },
  "orig_nbformat": 4
 },
 "nbformat": 4,
 "nbformat_minor": 2
}
