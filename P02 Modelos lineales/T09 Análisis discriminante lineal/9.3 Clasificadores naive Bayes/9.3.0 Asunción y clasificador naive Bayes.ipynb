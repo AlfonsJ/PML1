{
 "cells": [
  {
   "attachments": {},
   "cell_type": "markdown",
   "metadata": {},
   "source": [
    "# 9.3.0 Asunción y clasificador naive Bayes\n",
    "\n",
    "**Asunción naive Bayes:** $\\;$ $\\boldsymbol{\\theta}_c=(\\boldsymbol{\\theta}_{c1},\\dotsc,\\boldsymbol{\\theta}_{cD}),\\,$ $\\boldsymbol{\\theta}_{cd}\\,$ gobierna la distribución de la característica **independiente** $d$ en la clase $c$\n",
    "\n",
    "$$p(\\boldsymbol{x}\\mid y=c,\\boldsymbol{\\theta}_c)=\\prod_{d=1}^D p(x_d\\mid y=c,\\boldsymbol{\\theta}_{cd})$$\n",
    "\n",
    "**Clasificador naive Bayes (NBC):** $\\;$ modelo generativo basado en la asunción naive Bayes\n",
    "$$p(y=c\\mid\\boldsymbol{x},\\boldsymbol{\\theta})=\\frac{\\pi_c\\,p(\\boldsymbol{x}\\mid y=c,\\boldsymbol{\\theta}_c)}{\\sum_{c'}\\pi_{c'}\\,p(\\boldsymbol{x}\\mid y=c',\\boldsymbol{\\theta}_{c'})}\\propto \\pi_c\\,p(\\boldsymbol{x}\\mid y=c,\\boldsymbol{\\theta}_c)$$\n",
    "\n",
    "**Motivación:** $\\;$ aunque se llama \"naive\" porque es de ingenuos creer que esta asunción se cumple en la práctica, facilita el desarrollo de modelos sencillos, fáciles de entrenar y sorprendentemente precisos (en algunas tareas)"
   ]
  }
 ],
 "metadata": {
  "kernelspec": {
   "display_name": "Python 3",
   "language": "python",
   "name": "python3"
  },
  "language_info": {
   "codemirror_mode": {
    "name": "ipython",
    "version": 3
   },
   "file_extension": ".py",
   "mimetype": "text/x-python",
   "name": "python",
   "nbconvert_exporter": "python",
   "pygments_lexer": "ipython3",
   "version": "3.10.6"
  },
  "orig_nbformat": 4,
  "vscode": {
   "interpreter": {
    "hash": "e7370f93d1d0cde622a1f8e1c04877d8463912d04d973331ad4851f04de6915a"
   }
  }
 },
 "nbformat": 4,
 "nbformat_minor": 2
}
