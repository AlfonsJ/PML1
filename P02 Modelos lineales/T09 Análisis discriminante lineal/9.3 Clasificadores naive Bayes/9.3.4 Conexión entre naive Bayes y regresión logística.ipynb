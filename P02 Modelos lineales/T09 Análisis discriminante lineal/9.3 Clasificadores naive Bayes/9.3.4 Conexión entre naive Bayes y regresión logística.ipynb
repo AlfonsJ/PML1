{
 "cells": [
  {
   "attachments": {},
   "cell_type": "markdown",
   "metadata": {},
   "source": [
    "# 9.3.4 Conexión entre naive Bayes y regresión logística"
   ]
  },
  {
   "cell_type": "markdown",
   "metadata": {},
   "source": [
    "\n",
    "**Naive Bayes y regresión logística coinciden en modelo:** $\\;$ posterior log-lineal con la entrada\n",
    "$$\\begin{align*}\n",
    "p(y=c\\mid\\boldsymbol{x},\\boldsymbol{\\theta})%\n",
    "&\\propto p(y=c,\\boldsymbol{\\theta})\\,p(\\boldsymbol{x}\\mid y=c,\\boldsymbol{\\theta})%\n",
    "&&\\text{(clasificador generativo)}\\\\%\n",
    "&=\\pi_c\\prod_{d=1}^D p(x_d\\mid y=c,\\boldsymbol{\\theta}_{cd})%\n",
    "&&\\text{(prior paramétrico y asunción NB)}\\\\%\n",
    "&=\\exp(\\log\\pi_c+\\sum_{d=1}^D \\log p(x_d\\mid y=c,\\boldsymbol{\\theta}_{cd})\\\\%\n",
    "&=\\exp(\\boldsymbol{\\beta}_c^t\\boldsymbol{x}+\\gamma_c)%\n",
    "&&\\text{(escogiendo $\\boldsymbol{\\beta}_c$ y $\\gamma_c$ adecuadamente)}%\n",
    "\\end{align*}$$\n",
    "\n",
    "**Naive Bayes y regresión logística difieren en el criterio de entrenamiento:**\n",
    "* Naive Bayes se entrena optimizando la verosimilitud conjunta, $\\;\\prod_n p(y_n, \\boldsymbol{x}_n, \\boldsymbol{\\theta})$\n",
    "* Regresión logística se entrena optimizando la verosimilitud condicional, $\\;\\prod_n p(y_n\\mid\\boldsymbol{x}_n, \\boldsymbol{\\theta})$"
   ]
  },
  {
   "attachments": {},
   "cell_type": "markdown",
   "metadata": {},
   "source": [
    "## Naive Bayes categórico\n",
    "\n",
    "En este caso, la distribución de la característica $d$ en la clase $c$ es categórica:\n",
    "$$p(x_d\\mid y=c,\\boldsymbol{\\theta}_{cd})=\\prod_{k=1}^{K_d}\\theta_{cdk}^{x_{dk}}%\n",
    "\\quad\\text{donde}\\quad%\n",
    "x_{dk}=\\mathbb{I}(x_d=k)$$\n",
    "Por tanto, la posterior se puede reescribir como:\n",
    "$$p(y=c\\mid\\boldsymbol{x},\\boldsymbol{\\theta})%\n",
    "\\propto\\exp\\left(\\log\\pi_c+\\sum_{d=1}^D\\sum_{k=1}^{K_d}x_{dk}\\log\\theta_{cdk}\\right)%\n",
    "=\\exp(\\boldsymbol{\\beta}_c^t\\boldsymbol{x}+\\gamma_c)$$\n",
    "* $\\boldsymbol{x}^t=(\\boldsymbol{x}_1^t,\\dotsc,\\boldsymbol{x}_D^t)$; para todo $d$, $\\;\\boldsymbol{x}_d$ es la codificación one-hot de la característica $d$\n",
    "* $\\boldsymbol{\\beta}_c^t=(\\boldsymbol{\\beta}_{c1}^t,\\dotsc,\\boldsymbol{\\beta}_{cD}^t)$; para todo $d$, $\\;\\boldsymbol{\\beta}_{cd}^t=\\log\\boldsymbol{\\theta}_{cd}^t\\;$\n",
    "* $\\gamma_c=\\log\\pi_c$"
   ]
  }
 ],
 "metadata": {
  "kernelspec": {
   "display_name": "Python 3",
   "language": "python",
   "name": "python3"
  },
  "language_info": {
   "codemirror_mode": {
    "name": "ipython",
    "version": 3
   },
   "file_extension": ".py",
   "mimetype": "text/x-python",
   "name": "python",
   "nbconvert_exporter": "python",
   "pygments_lexer": "ipython3",
   "version": "3.10.6"
  },
  "orig_nbformat": 4
 },
 "nbformat": 4,
 "nbformat_minor": 2
}
