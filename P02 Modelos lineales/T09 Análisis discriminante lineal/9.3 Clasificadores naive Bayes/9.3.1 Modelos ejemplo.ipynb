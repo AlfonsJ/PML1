{
 "cells": [
  {
   "attachments": {},
   "cell_type": "markdown",
   "metadata": {},
   "source": [
    "# 9.3.1 Modelos ejemplo"
   ]
  },
  {
   "attachments": {},
   "cell_type": "markdown",
   "metadata": {},
   "source": [
    "## Naive Bayes Bernoulli\n",
    "\n",
    "Para características binarias, $x_d\\in\\{0,1\\}$; $\\;\\boldsymbol{\\theta}_c=(\\theta_{c1},\\dotsc,\\theta_{cD})^t$ y $\\theta_{cd}$ es la probabilidad de que $x_d=1$ en la clase $c$\n",
    "$$p(\\boldsymbol{x}\\mid y=c,\\boldsymbol{\\theta}_c)=\\prod_{d=1}^D \\operatorname{Ber}(x_d\\mid\\theta_{cd})$$"
   ]
  },
  {
   "attachments": {},
   "cell_type": "markdown",
   "metadata": {},
   "source": [
    "**Ejemplo:** $\\;C=2$, $\\;\\pi_1=\\pi_2=0.5;\\;$ $D=2,\\,$ $\\boldsymbol{\\theta}_1=(0.7, 0.3)^t,\\,$ $\\boldsymbol{\\theta}_2=(0.2, 0.8)^t;\\;$ $\\boldsymbol{x}=(1,0)^t$\n",
    "$$\\begin{align*}\n",
    "p(\\boldsymbol{x}\\mid y=1,\\boldsymbol{\\theta}_1)%\n",
    "&=\\operatorname{Ber}(x_1\\mid 0.7)\\,\\operatorname{Ber}(x_2\\mid 0.3)=0.7\\cdot 0.7=0.49\\\\%\n",
    "p(\\boldsymbol{x}\\mid y=2,\\boldsymbol{\\theta}_2)%\n",
    "&=\\operatorname{Ber}(x_1\\mid 0.2)\\,\\operatorname{Ber}(x_2\\mid 0.8)=0.2\\cdot 0.2=0.04\\\\%\n",
    "p(y=1\\mid\\boldsymbol{x},\\boldsymbol{\\theta})%\n",
    "&=\\frac{p(\\boldsymbol{x}\\mid y=1,\\boldsymbol{\\theta}_1)}\n",
    "{p(\\boldsymbol{x}\\mid y=1,\\boldsymbol{\\theta}_1)+p(\\boldsymbol{x}\\mid y=2,\\boldsymbol{\\theta}_2)}%\n",
    "&&(\\text{priors equiprobables})\\\\%\n",
    "&=\\frac{0.49}{0.49+0.04}=0.92%\n",
    "\\end{align*}$$"
   ]
  },
  {
   "attachments": {},
   "cell_type": "markdown",
   "metadata": {},
   "source": [
    "## Naive Bayes categórico\n",
    "\n",
    "Para características categóricas, $x_d\\in\\{1,\\dotsc,K_d\\}$; $\\boldsymbol{\\theta}_c=\\{\\boldsymbol{\\theta}_{dc}\\}$, $\\boldsymbol{\\theta_{dc}}\\in[0,1]^{K_d}$ y $\\theta_{dck}$ es la probabilidad de que $x_d=k$ en la clase $c$\n",
    "$$p(\\boldsymbol{x}\\mid y=c,\\boldsymbol{\\theta}_c)=\\prod_{d=1}^D \\operatorname{Cat}(x_d\\mid\\boldsymbol{\\theta_{dc}})$$"
   ]
  },
  {
   "attachments": {},
   "cell_type": "markdown",
   "metadata": {},
   "source": [
    "**Ejemplo:** $\\;C=2$, $\\;\\pi_1=\\pi_2=0.5$, $\\;D=2$, $\\;K_1=K_2=3$, $\\;\\boldsymbol{x}=(1,2)^t$\n",
    "$$\\begin{align*}\n",
    "\\boldsymbol{\\theta}_{11}&=(0.6, 0.2, 0.2)^t & \\boldsymbol{\\theta}_{12}&=(0.3, 0.4, 0.3)^t\\\\\n",
    "\\boldsymbol{\\theta}_{21}&=(0.1, 0.3, 0.6)^t & \\boldsymbol{\\theta}_{22}&=(0.3, 0.2, 0.5)^t%\n",
    "\\end{align*}$$\n",
    "$$\\begin{align*}\n",
    "p(\\boldsymbol{x}\\mid y=1,\\boldsymbol{\\theta}_1)%\n",
    "&=\\operatorname{Cat}(x_1\\mid\\boldsymbol{\\theta}_{11})\\,\\operatorname{Cat}(x_2\\mid\\boldsymbol{\\theta}_{21})=0.6\\cdot 0.3=0.18\\\\%\n",
    "p(\\boldsymbol{x}\\mid y=2,\\boldsymbol{\\theta}_2)%\n",
    "&=\\operatorname{Cat}(x_1\\mid\\boldsymbol{\\theta}_{12})\\,\\operatorname{Cat}(x_2\\mid\\boldsymbol{\\theta}_{22})=0.3\\cdot 0.2=0.06\\\\%\n",
    "p(y=1\\mid\\boldsymbol{x},\\boldsymbol{\\theta})%\n",
    "&=\\frac{0.18}{0.18+0.06}=0.75&&(\\text{priors equiprobables})%\n",
    "\\end{align*}$$"
   ]
  },
  {
   "attachments": {},
   "cell_type": "markdown",
   "metadata": {},
   "source": [
    "## Naive Bayes Gaussiano\n",
    "\n",
    "Para características reales, $x_d\\in\\mathbb{R}$; $\\boldsymbol{\\theta}_c=\\{\\boldsymbol{\\theta}_{dc}\\}$, $\\boldsymbol{\\theta}_{dc}=(\\mu_{dc},\\sigma_{dc}^2)$, media y varianza de la característica $d$ en $c$\n",
    "$$p(\\boldsymbol{x}\\mid y=c,\\boldsymbol{\\theta}_c)=\\prod_{d=1}^D \\mathcal{N}(x_d\\mid\\mu_{dc},\\sigma_{dc}^2)$$"
   ]
  },
  {
   "attachments": {},
   "cell_type": "markdown",
   "metadata": {},
   "source": [
    "**Ejemplo:** $\\;C=2$, $\\;\\pi_1=\\pi_2=0.5$, $\\;D=2$,\n",
    "$\\;\\boldsymbol{\\theta}=[\\boldsymbol{\\theta}_1;\\boldsymbol{\\theta}_2]$, $\\;\\boldsymbol{x}=(0, 1)^t$\n",
    "$$\\begin{align*}\n",
    "\\boldsymbol{\\theta}_1&=(\\boldsymbol{\\mu}_1,\\boldsymbol{\\sigma}_1^2)%\n",
    "&\\boldsymbol{\\mu}_1&=(\\mu_{11},\\mu_{21})^t=(-2,0)^t%\n",
    "&\\boldsymbol{\\sigma}_1^2&=(\\sigma_{11}^2, \\sigma_{21}^2)=\\boldsymbol{1}\\\\%\n",
    "\\boldsymbol{\\theta}_2&=(\\boldsymbol{\\mu}_2,\\boldsymbol{\\sigma}_2^2)%\n",
    "&\\boldsymbol{\\mu}_2&=(\\mu_{12},\\mu_{22})^t=(2,0)^t%\n",
    "&\\boldsymbol{\\sigma}_2^2&=(\\sigma_{12}^2, \\sigma_{22}^2)=\\boldsymbol{1}%\n",
    "\\end{align*}$$\n",
    "$$\\begin{align*}\n",
    "p(\\boldsymbol{x}\\mid y=1,\\boldsymbol{\\theta}_1)%\n",
    "&=\\mathcal{N}(x_1\\mid\\mu_{11},\\sigma_{11}^2)\\,\\mathcal{N}(x_2\\mid\\mu_{21},\\sigma_{21}^2)%\n",
    "=\\mathcal{N}(\\boldsymbol{x}\\mid\\boldsymbol{\\mu}_1,\\mathbf{\\Sigma}_1),\\,%\n",
    "\\mathbf{\\Sigma}_1=\\operatorname{diag}(\\boldsymbol{\\sigma}_1^2)\\\\%\n",
    "p(\\boldsymbol{x}\\mid y=2,\\boldsymbol{\\theta}_2)%\n",
    "&=\\mathcal{N}(x_1\\mid\\mu_{12},\\sigma_{12}^2)\\,\\mathcal{N}(x_2\\mid\\mu_{22},\\sigma_{22}^2)%\n",
    "=\\mathcal{N}(\\boldsymbol{x}\\mid\\boldsymbol{\\mu}_2,\\mathbf{\\Sigma}_2),\\,%\n",
    "\\mathbf{\\Sigma}_2=\\operatorname{diag}(\\boldsymbol{\\sigma}_2^2)\\\\%\n",
    "p(y=1\\mid\\boldsymbol{x},\\boldsymbol{\\theta})%\n",
    "&=\\frac{p(\\boldsymbol{x}\\mid y=1,\\boldsymbol{\\theta}_1)}\n",
    "{p(\\boldsymbol{x}\\mid y=1,\\boldsymbol{\\theta}_1)+p(\\boldsymbol{x}\\mid y=2,\\boldsymbol{\\theta}_2)}%\n",
    "&&(\\text{priors equiprobables})\n",
    "\\end{align*}$$"
   ]
  },
  {
   "cell_type": "code",
   "execution_count": 1,
   "metadata": {},
   "outputs": [
    {
     "name": "stdout",
     "output_type": "stream",
     "text": [
      "0.5\n"
     ]
    }
   ],
   "source": [
    "import numpy as np\n",
    "from scipy.stats import multivariate_normal\n",
    "mu1 = np.array([-2, 0]); Sigma1 = np.eye(2)\n",
    "mu2 = np.array([2, 0]);  Sigma2 = np.eye(2)\n",
    "x = np.array([0, 1])\n",
    "pxy1 = multivariate_normal.pdf(x, mu1, Sigma1)\n",
    "pxy2 = multivariate_normal.pdf(x, mu2, Sigma2)\n",
    "py1x = pxy1 / (pxy1 + pxy2)\n",
    "print(py1x)"
   ]
  }
 ],
 "metadata": {
  "kernelspec": {
   "display_name": "Python 3",
   "language": "python",
   "name": "python3"
  },
  "language_info": {
   "codemirror_mode": {
    "name": "ipython",
    "version": 3
   },
   "file_extension": ".py",
   "mimetype": "text/x-python",
   "name": "python",
   "nbconvert_exporter": "python",
   "pygments_lexer": "ipython3",
   "version": "3.10.6"
  },
  "orig_nbformat": 4
 },
 "nbformat": 4,
 "nbformat_minor": 2
}
