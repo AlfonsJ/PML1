{
 "cells": [
  {
   "attachments": {},
   "cell_type": "markdown",
   "metadata": {},
   "source": [
    "# 9.1 Introducción"
   ]
  },
  {
   "attachments": {},
   "cell_type": "markdown",
   "metadata": {},
   "source": [
    "**Clasificador generativo:** $\\;$ expresa **posteriors** en función de **priors** y **densidades condicionales** de las clases, las cuales puede muestrearse para **generar** datos sintéticos\n",
    "$$p(y=c\\mid\\boldsymbol{x};\\boldsymbol{\\theta})=\\frac{p(\\boldsymbol{x}\\mid y=c;\\boldsymbol{\\theta})\\,p(y=c;\\boldsymbol{\\theta})}{\\sum_{c'}p(\\boldsymbol{x}\\mid y=c';\\boldsymbol{\\theta})\\,p(y=c';\\boldsymbol{\\theta})}%\n",
    "\\propto p(\\boldsymbol{x}\\mid y=c;\\boldsymbol{\\theta})\\,p(y=c;\\boldsymbol{\\theta})$$\n",
    "\n",
    "**Clasificador discriminativo:** $\\;$ modela **posteriors** directamente, sin necesidad de conocer priors y densidades condicionales,\n",
    "$$p(y=c\\mid\\boldsymbol{x};\\boldsymbol{\\theta})=\\cdots$$"
   ]
  }
 ],
 "metadata": {
  "kernelspec": {
   "display_name": "Python 3",
   "language": "python",
   "name": "python3"
  },
  "language_info": {
   "codemirror_mode": {
    "name": "ipython",
    "version": 3
   },
   "file_extension": ".py",
   "mimetype": "text/x-python",
   "name": "python",
   "nbconvert_exporter": "python",
   "pygments_lexer": "ipython3",
   "version": "3.10.6"
  },
  "orig_nbformat": 4,
  "vscode": {
   "interpreter": {
    "hash": "e7370f93d1d0cde622a1f8e1c04877d8463912d04d973331ad4851f04de6915a"
   }
  }
 },
 "nbformat": 4,
 "nbformat_minor": 2
}
