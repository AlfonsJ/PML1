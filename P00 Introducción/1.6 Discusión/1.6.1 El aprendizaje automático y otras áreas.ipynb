{
 "cells": [
  {
   "attachments": {},
   "cell_type": "markdown",
   "metadata": {},
   "source": [
    "# 1.6.1 El aprendizaje automático y otras áreas\n",
    "\n",
    "**Análisis predictivo (predictive analytics):** $\\;$ similar al ML, se centra en aplicaciones de negocios como la administración de relaciones con el cliente, análisis de cobros y predicción de cartera\n",
    "\n",
    "**Minería de datos:** $\\;$ cubre tanto aprendizaje supervisado como no supervisado, pero se orienta a bases de datos (estructuradas)\n",
    "\n",
    "**Ciencia de datos:** $\\;$ emplea técnicas de ML y estadística, pero desde una óptica más estadística, haciendo énfasis en la integración y visualización de datos, así como en el papel del analista de datos y el análisis experto del dominio\n",
    "\n",
    "**IA simbólica:** $\\;$ basada en la lógica, el procesamiento de listas simbólicas y el conocimiento experto; decayó en los 90, la **IA moderna** es sinónimo de ML y redes neuronales\n",
    "\n",
    "**Bases del ML:** $\\;$ probabilidad, estadística, teorías de la decisión e información, algebra lineal y optimización"
   ]
  }
 ],
 "metadata": {
  "kernelspec": {
   "display_name": "Python 3",
   "language": "python",
   "name": "python3"
  },
  "language_info": {
   "codemirror_mode": {
    "name": "ipython",
    "version": 3
   },
   "file_extension": ".py",
   "mimetype": "text/x-python",
   "name": "python",
   "nbconvert_exporter": "python",
   "pygments_lexer": "ipython3",
   "version": "3.10.6"
  },
  "orig_nbformat": 4,
  "vscode": {
   "interpreter": {
    "hash": "e7370f93d1d0cde622a1f8e1c04877d8463912d04d973331ad4851f04de6915a"
   }
  }
 },
 "nbformat": 4,
 "nbformat_minor": 2
}
