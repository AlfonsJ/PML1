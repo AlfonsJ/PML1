{
 "cells": [
  {
   "cell_type": "markdown",
   "metadata": {},
   "source": [
    "# 15.2.3 Seq2Seq: traducción de secuencias\n",
    "\n",
    "**Objetivo:** $\\;$ aprender una función que transforme un entrada secuencial de $T$ vectores $D$-dimensionales en una salida secuencial de $T'$ vectores $C$-dimensionales\n",
    "$$f_{\\boldsymbol{\\Theta}}:\\mathbb{R}^{TD}\\to\\mathbb{R}^{T'C}$$"
   ]
  },
  {
   "cell_type": "markdown",
   "metadata": {},
   "source": [
    "## 15.2.3.1 Caso alineado ($T=T'$)\n",
    "\n",
    "**Dense sequence labeling:** $\\;$ otra forma de referirnos a este caso ya que se predice una etiqueta por posición\n",
    "\n",
    "**RNN (unidireccional):**\n",
    "<div><table><tr>\n",
    "<td style=\"border: none; text-align:left; vertical-align:top;\" width=500>\n",
    "\n",
    "Resulta fácil modificarla:\n",
    "$$p(\\boldsymbol{y}_{1:T}\\mid\\boldsymbol{x}_{1:T})%\n",
    "=\\sum_{\\boldsymbol{h}_{1:T}}\\prod_{t=1}^Tp(\\boldsymbol{y}_t\\mid\\boldsymbol{h}_t)\\mathbb{I}(\\boldsymbol{h}_t=f(\\boldsymbol{h}_{t-1},\\boldsymbol{x}_t))$$\n",
    "con estado inicial\n",
    "$$\\boldsymbol{h}_1=f(\\boldsymbol{h}_0,\\boldsymbol{x}_1)=f_0(\\boldsymbol{x}_1)$$\n",
    "\n",
    "</td><td style=\"border:none;\" width=50></td>\n",
    "<td style=\"border: none;\"><img src=\"Figure_15.5_A.png\" width=200></td>\n",
    "</tr></table></div>\n",
    "\n",
    "**RNN bidireccional:**\n",
    "<div><table><tr>\n",
    "<td style=\"border:none; text-align:left; vertical-align:top;\" width=500>\n",
    "\n",
    "En la RNN unidireccional, $\\boldsymbol{y}_t$ solo depende de $\\boldsymbol{h}_t$, y $\\boldsymbol{h}_t$ solo del pasado, $\\boldsymbol{x}_{1:t}$\n",
    "\n",
    "Podemos obtener mejores resultados si permitimos que la salida también dependa del \"futuro\" de $\\boldsymbol{x}$ mediante un modelo bidireccional\n",
    "\n",
    "</td><td style=\"border:none;\" width=50></td>\n",
    "<td style=\"border: none;\"><img src=\"Figure_15.5_B.png\" width=200/></td>\n",
    "</tr></table></div>\n",
    "\n",
    "**Múltiples cadenas ocultas:**\n",
    "<div><table><tr>\n",
    "<td style=\"border:none; text-align:left; vertical-align:top;\" width=400>\n",
    "\n",
    "Las unidades ocultas para la capa $\\ell$ en $t$ se calculan como:\n",
    "$$\\boldsymbol{h}_t^{\\ell}%\n",
    "=\\varphi_{\\ell}(\\mathbf{W}_{hx}^{\\ell}\\boldsymbol{h}_t^{\\ell-1}%\n",
    "+\\mathbf{W}_{hh}^{\\ell}\\boldsymbol{h}_{t-1}^{\\ell}+\\boldsymbol{b}_h^{\\ell})$$\n",
    "con salida\n",
    "$$\\boldsymbol{o}_t=\\mathbf{W}_{oh}\\boldsymbol{h}_t^L+\\boldsymbol{b}_o$$\n",
    "\n",
    "</td><td style=\"border:none;\" width=25></td>\n",
    "<td style=\"border: none;\"><img src=\"Figure_15.6.png\" width=600/></td>\n",
    "</tr></table></div>"
   ]
  },
  {
   "cell_type": "markdown",
   "metadata": {},
   "source": [
    "## 15.2.3.2 Caso no alineado ($T\\neq T'$)\n",
    "\n",
    "**Arquitectura encoder-decoder:**\n",
    "<div><table><tr>\n",
    "<td style=\"border: none; text-align:left; vertical-align:top;\" width=500>\n",
    "\n",
    "**Encoder:** $\\;$ codifica la entrada para obtener un vector contextual usando el último estado de una RNN (o average pooling con una BRNN)\n",
    "$$\\boldsymbol{c}=f_e(\\boldsymbol{x}_{1:T})$$\n",
    "\n",
    "**Decoder:** $\\;$ genera la secuencia de salida con un decodificador RNN\n",
    "$$\\boldsymbol{y}_{1:T'}=f_d(\\boldsymbol{c})$$\n",
    "\n",
    "</td>\n",
    "<td style=\"border:none;\"><img src=\"Figure_15.7.png\" width=500></td>\n",
    "</tr></table></div>\n",
    "\n",
    "**Ejemplo:** $\\;$ **Neural machine translation (NMT)** de Inglés a Francés en entrenamiento y decodificación (voraz)\n",
    "<div><table><tr>\n",
    "<td style=\"border:none;\"><img src=\"Figure_15.8_A.png\" width=550></td>\n",
    "<td style=\"border:none;\" width=25></td>\n",
    "<td style=\"border:none;\"><img src=\"Figure_15.8_B.png\" width=350></td>\n",
    "</tr></table></div>"
   ]
  }
 ],
 "metadata": {
  "language_info": {
   "name": "python"
  },
  "orig_nbformat": 4
 },
 "nbformat": 4,
 "nbformat_minor": 2
}
