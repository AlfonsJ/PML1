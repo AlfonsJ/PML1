{
 "cells": [
  {
   "cell_type": "markdown",
   "metadata": {},
   "source": [
    "# Introducción\n",
    "\n",
    "**Métodos no paramétricos:** $\\;$ no asumimos ninguna forma paramétrica fija para la función predictiva, sino que estimamos la función en si (en lugar de sus parámetros) a partir de los datos\n",
    "* Observamos el valor de la función en un conjunto de $N$ puntos, $y_n=f(\\boldsymbol{x}_n)$ para $n=1:N$, donde $f$ es la función desconocida\n",
    "* Para predecir el valor de la función en un nuevo punto, $\\boldsymbol{x}_*$, comparamos $\\boldsymbol{x}_*$ con cada uno de los $N$ datos, $\\{\\boldsymbol{x}_n\\}$, y predecimos $f(\\boldsymbol{x}_*)$ como combinación ponderada de los valores $\\{f(\\boldsymbol{x}_n)\\}$\n",
    "* Necesitamos \"recordar\" el conjunto de entrenamiento completo, $\\mathcal{D}=\\{(\\boldsymbol{x}_n,y_n)\\}$, para hacer predicciones en tiempo de test, esto es, no podemos \"comprimir\" $\\mathcal{D}$ en un vector de parámetros\n",
    "* Los pesos para predicción se determinan según la similitud entre $\\boldsymbol{x}_*$ y cada $\\boldsymbol{x}_n$, la cual se calcula mediante un tipo de función especial que denominamos función **kernel,** $\\mathcal{K}(\\boldsymbol{x}_n,\\boldsymbol{x}_*)\\geq 0$"
   ]
  }
 ],
 "metadata": {
  "language_info": {
   "name": "python"
  }
 },
 "nbformat": 4,
 "nbformat_minor": 2
}
