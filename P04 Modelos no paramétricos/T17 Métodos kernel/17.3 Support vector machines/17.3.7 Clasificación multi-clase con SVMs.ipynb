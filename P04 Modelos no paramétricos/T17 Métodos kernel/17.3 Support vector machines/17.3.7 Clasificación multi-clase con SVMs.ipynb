{
 "cells": [
  {
   "cell_type": "markdown",
   "metadata": {},
   "source": [
    "# 17.3.7 Clasificación multi-clase con SVMs\n",
    "\n",
    "<div align=left><table border-collapse: collapse><tr>\n",
    "<td style=\"border: none; text-align:left; vertical-align:top; padding:0; margin:0;\" width=500>\n",
    "\n",
    "**One-vs-all:** $\\;$ para cada clase $c$, se entrena un clasificador binario con los datos de la clase $c$ como positivos y el resto negativos\n",
    "\n",
    "<div align=center><img src=\"Figure_17.16_A.png\" width=300></div>\n",
    "\n",
    "**Problemas:**\n",
    "* Regiones asignadas a más de una clase (p.e. la verde)\n",
    "* Discriminantes no calibradas\n",
    "* Clases con pocos positivos y muchos negativos\n",
    "\n",
    "</td><td style=\"border: none; text-align:left; vertical-align:top; padding:0; margin:0;\" width=500>\n",
    "\n",
    "**One-vs-one:** $\\;$ por cada par de clases $c\\!<\\!c'$, se entrena un clasificador y se decide por la clase más votada\n",
    "\n",
    "<div align=center><img src=\"Figure_17.16_B.png\" width=300></div>\n",
    "\n",
    "**Problemas:**\n",
    "* $C(C-1)/2$ clasificadores\n",
    "* Regiones asignadas a más de una clase (p.e. la verde)\n",
    "\n",
    "</td></tr></table></div>"
   ]
  }
 ],
 "metadata": {
  "language_info": {
   "name": "python"
  }
 },
 "nbformat": 4,
 "nbformat_minor": 2
}
