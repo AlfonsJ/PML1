{
 "cells": [
  {
   "cell_type": "markdown",
   "metadata": {},
   "source": [
    "# 17.3.4 El kernel trick\n",
    "\n",
    "**Kernel trick:** $\\;$ dual con producto escalar $\\boldsymbol{x}^t\\boldsymbol{x}'$ sustituido por una función kernel definida positiva (de Mercer) $\\mathcal{K}(\\boldsymbol{x},\\boldsymbol{x}')$\n",
    "\n",
    "**$C$-SVM con kernel:**\n",
    "$$f(\\boldsymbol{x})=\\sum_{s\\in\\mathcal{S}}\\alpha_s^*\\tilde{y}_s\\mathcal{K}(\\boldsymbol{x}_s,\\boldsymbol{x})+\\hat{w}_0$$\n",
    "donde, para cualquier $m$ tal que $0<\\alpha_m^*<C$,\n",
    "$$\\hat{w}_0=\\tilde{y}_m-\\sum_{s\\in\\mathcal{S}}\\alpha_s^*\\tilde{y}_s\\mathcal{K}(\\boldsymbol{x}_s,\\boldsymbol{x}_m)$$\n",
    "\n",
    "**Ventaja del kernel trick:** $\\;$ evita representar los datos explícitamente, por lo que facilita la aplicación a datos de dimensión muy elevada y no-vectoriales (cadenas y grafos)"
   ]
  }
 ],
 "metadata": {
  "language_info": {
   "name": "python"
  }
 },
 "nbformat": 4,
 "nbformat_minor": 2
}
