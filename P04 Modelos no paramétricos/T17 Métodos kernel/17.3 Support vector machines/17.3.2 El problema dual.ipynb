{
 "cells": [
  {
   "cell_type": "markdown",
   "metadata": {},
   "source": [
    "# 17.3.2 El problema dual"
   ]
  },
  {
   "cell_type": "markdown",
   "metadata": {},
   "source": [
    "## El problema dual\n",
    "\n",
    "**Relajación Lagrangiana:** $\\;$ relaja restricciones subiéndolas al objetivo con **multiplicadores de Lagrange** $\\{\\alpha_n\\geq0\\}$ dados\n",
    "$$\\boldsymbol{w}^{\\ell},w_0^{\\ell}=%\n",
    "    \\operatorname*{argmin}_{\\boldsymbol{w},w_0}\\;%\n",
    "    \\frac{1}{2}\\boldsymbol{w}^t\\boldsymbol{w}%\n",
    "    -\\sum_n\\alpha_n(\\tilde{y}_n(\\boldsymbol{w}^t\\boldsymbol{x}_n+w_0)-1)$$\n",
    "\n",
    "**Lagrangiana:** $\\;$ cota inferior del óptimo primal $z^*$ para todo $\\boldsymbol{\\alpha}\\geq\\boldsymbol{0}$\n",
    "$$L(\\boldsymbol{\\alpha})=\\min_{\\boldsymbol{w},w_0}\\;%\n",
    "    \\frac{1}{2}\\boldsymbol{w}^t\\boldsymbol{w}%\n",
    "    -\\sum_n\\alpha_n(\\tilde{y}_nf_n-1)$$\n",
    "$$\\begin{align*}\n",
    "z^*%\n",
    "&=\\;\\min_{\\boldsymbol{w},w_0}\\bigl\\{\\tfrac{1}{2}\\boldsymbol{w}^t\\boldsymbol{w}\\mid\\{\\tilde{y}_nf_n\\geq 1\\}\\bigr\\}\\\\%\n",
    "&\\geq\\;\\min_{\\boldsymbol{w},w_0}\\bigl\\{\\tfrac{1}{2}\\boldsymbol{w}^t\\boldsymbol{w}-\\sum_n\\alpha_n(\\tilde{y}_nf_n-1)\\mid\\{\\tilde{y}_nf_n\\geq 1\\}\\bigr\\}\\\\%\n",
    "&\\geq\\;\\min_{\\boldsymbol{w},w_0}\\bigl\\{\\tfrac{1}{2}\\boldsymbol{w}^t\\boldsymbol{w}-\\sum_n\\alpha_n(\\tilde{y}_nf_n-1)\\bigr\\}=L(\\boldsymbol{\\alpha})\n",
    "\\end{align*}$$\n",
    "\n",
    "**Problema dual:** $\\;$ hállese la cota inferior más ajustada posible\n",
    "$$L^*=\\max_{\\boldsymbol{\\alpha}\\geq\\boldsymbol{0}}\\;L(\\boldsymbol{\\alpha})$$"
   ]
  },
  {
   "cell_type": "markdown",
   "metadata": {},
   "source": [
    "## Dualidad débil y fuerte\n",
    "\n",
    "**Dualidad débil:** $\\;L^*\\leq z^*\\;$ ya que, para toda solución primal-factible $(\\boldsymbol{w},w_0)$, se cumple\n",
    "$$L(\\boldsymbol{\\alpha})\\leq L^*\\leq \\tfrac{1}{2}\\boldsymbol{w}^t\\boldsymbol{w}\\qquad\\text{para todo $\\boldsymbol{\\alpha}\\geq\\boldsymbol{0}$}$$\n",
    "\n",
    "**Gap de dualidad:** $\\;z^*-L^*\\geq 0$\n",
    "\n",
    "**Dualidad fuerte:** $\\;$ si $(\\boldsymbol{w},w_0)$ es primal-factible, $L(\\boldsymbol{\\alpha})=\\tfrac{1}{2}\\boldsymbol{w}^t\\boldsymbol{w}$ para algún $\\boldsymbol{\\alpha}\\geq\\boldsymbol{0}$ y $\\alpha_n(\\tilde{y}_nf_n-1)=0$ para todo $n$, entonces $\\boldsymbol{\\alpha}$ es dual-óptima, $L^*=L(\\boldsymbol{\\alpha})$ y $(\\boldsymbol{w},w_0)$ primal-óptima"
   ]
  },
  {
   "cell_type": "markdown",
   "metadata": {},
   "source": [
    "## Cálculo de la Lagrangiana\n",
    "\n",
    "**Minimización en $(\\boldsymbol{w},w_0)$ sin restricciones:**\n",
    "$$\\begin{align*}\n",
    "L(\\boldsymbol{w},w_0;\\boldsymbol{\\alpha})%\n",
    "&=\\frac{1}{2}\\boldsymbol{w}^t\\boldsymbol{w}%\n",
    "-\\sum_n\\alpha_n(\\tilde{y}_n(\\boldsymbol{w}^t\\boldsymbol{x}_n+w_0)-1)\\\\\n",
    "&=\\frac{1}{2}\\boldsymbol{w}^t\\boldsymbol{w}%\n",
    "-\\sum_n\\alpha_n\\tilde{y}_n\\boldsymbol{w}^t\\boldsymbol{x}_n-\\sum_n\\alpha_n\\tilde{y}_nw_0+\\sum_n\\alpha_n\n",
    "\\end{align*}$$\n",
    "\n",
    "**Condiciones necesarias:**\n",
    "$$\\begin{align*}\n",
    "\\boldsymbol{\\nabla}_{\\boldsymbol{w}}L&=\\boldsymbol{w}-\\sum_n\\alpha_n\\tilde{y}_n\\boldsymbol{x}_n%\n",
    "&\\xrightarrow{=\\boldsymbol{0}}&&%\n",
    "\\hat{\\boldsymbol{w}}=\\sum_n\\alpha_n\\tilde{y}_n\\boldsymbol{x}_n\\\\%\n",
    "\\frac{\\partial L}{\\partial w_0}&=-\\sum_n\\alpha_n\\tilde{y}_n%\n",
    "&\\xrightarrow{=0}&&0=\\sum_n\\alpha_n\\tilde{y}_n%\n",
    "\\end{align*}$$\n",
    "\n",
    "**Lagrangiana minimizada en $(\\boldsymbol{w},w_0)$:**\n",
    "$$L(\\hat{\\boldsymbol{w}},\\hat{w}_0;\\boldsymbol{\\alpha})%\n",
    "=\\frac{1}{2}\\hat{\\boldsymbol{w}}^t\\hat{\\boldsymbol{w}}-\\hat{\\boldsymbol{w}}^t\\hat{\\boldsymbol{w}}-\\hat{w}_0\\,0+\\sum_n\\alpha_n%\n",
    "=-\\frac{1}{2}\\sum_{i=1}^N\\sum_{j=1}^N\\alpha_i\\alpha_j\\tilde{y}_i\\tilde{y}_j\\boldsymbol{x}_i\\boldsymbol{x}_j+\\sum_n\\alpha_n$$"
   ]
  },
  {
   "cell_type": "markdown",
   "metadata": {},
   "source": [
    "## Resolución del dual\n",
    "\n",
    "**Problema dual con Lagrangiana minimizada:** $\\;$ cuadrático cóncavo en $N$ variables\n",
    "$$\\boldsymbol{\\alpha}^*=\\operatorname*{argmax}_{\\boldsymbol{\\alpha}}\\;%\n",
    "L(\\hat{\\boldsymbol{w}},\\hat{w}_0;\\boldsymbol{\\alpha})\n",
    "\\qquad\\text{sujeto a}\\quad\\boldsymbol{\\alpha}\\geq\\boldsymbol{0}\\quad\\text{y}\\quad\\sum\\nolimits_n\\alpha_n\\tilde{y}_n=0$$\n",
    "\n",
    "**Resolución:** $\\;$ en $O(N^3)$ con técnicas estándar; $O(N^2)$ con refinadas\n",
    "\n",
    "**Condiciones KKT:** $\\;$ si existe $\\boldsymbol{\\alpha}^*$, cumple, para todo $n$,\n",
    "$$\\begin{align*}\n",
    "\\alpha_n^*&\\geq 0\\\\%\n",
    "\\tilde{y}_n(\\hat{\\boldsymbol{w}}^t\\boldsymbol{x}_n+\\hat{w}_0)-1&\\geq 0\\\\%\n",
    "\\alpha_n^*(\\tilde{y}_n(\\hat{\\boldsymbol{w}}^t\\boldsymbol{x}_n+\\hat{w}_0)-1)&=0%\n",
    "\\end{align*}$$\n",
    "\n",
    "**Vectores soporte:** $\\quad\\mathcal{S}=\\{s:\\alpha_s^*>0\\},\\;$ esto es, con restricciones de factibilidad **activas,**\n",
    "$\\;\\tilde{y}_s(\\hat{\\boldsymbol{w}}^t\\boldsymbol{x}_s+\\hat{w}_0)=1$\n",
    "\n",
    "**Determinación de $\\hat{w}_0$ a partir de cualquier vector soporte $s$:**\n",
    "$$\\tilde{y}_s(\\hat{\\boldsymbol{w}}^t\\boldsymbol{x}_s+\\hat{w}_0)=1%\n",
    "\\;\\Rightarrow\\;\\hat{w}_0=\\tilde{y}_s-\\hat{\\boldsymbol{w}}^t\\boldsymbol{x}_s$$\n",
    "\n",
    "**Determinación de $\\hat{w}_0$ a partir de todos los vectores soporte:**\n",
    "$$\\hat{w}_0=\\frac{1}{\\lvert{\\mathcal{S}}\\rvert}%\n",
    "\\sum_{s\\in\\mathcal{S}}(\\tilde{y}_s-\\hat{\\boldsymbol{w}}^t\\boldsymbol{x}_s)%\n",
    "=\\frac{1}{\\lvert{\\mathcal{S}}\\rvert}%\n",
    "\\sum_{s\\in\\mathcal{S}}\\Bigl(\\tilde{y}_s-%\n",
    "\\sum_{n\\in\\mathcal{S}}\\alpha_n^*\\tilde{y}_n\\boldsymbol{x}_n^t\\boldsymbol{x}_s\\Bigr)$$"
   ]
  },
  {
   "cell_type": "markdown",
   "metadata": {},
   "source": [
    "## Máquina de vectores soporte\n",
    "\n",
    "**Support vector machine (SVM):**\n",
    "$$f(\\boldsymbol{x})=\\hat{\\boldsymbol{w}}^t\\boldsymbol{x}+\\hat{w}_0%\n",
    "=\\sum_n\\alpha_n^*\\tilde{y}_n\\boldsymbol{x}_n^t\\boldsymbol{x}+\\hat{w}_0%\n",
    "=\\sum_{s\\in\\mathcal{S}}\\alpha_s^*\\tilde{y}_s\\boldsymbol{x}_s^t\\boldsymbol{x}+\\hat{w}_0$$\n",
    "donde, para cualquier $s\\in\\mathcal{S}$,\n",
    "$$\\hat{w}_0=\\tilde{y}_s-\\hat{\\boldsymbol{w}}^t\\boldsymbol{x}_s%\n",
    "=\\tilde{y}_s-\\sum_n\\alpha_n^*\\tilde{y}_n\\boldsymbol{x}_n^t\\boldsymbol{x}_s%\n",
    "=\\tilde{y}_s-\\sum_{n\\in\\mathcal{S}}\\alpha_n^*\\tilde{y}_n\\boldsymbol{x}_n^t\\boldsymbol{x}_s$$"
   ]
  }
 ],
 "metadata": {
  "language_info": {
   "name": "python"
  }
 },
 "nbformat": 4,
 "nbformat_minor": 2
}
