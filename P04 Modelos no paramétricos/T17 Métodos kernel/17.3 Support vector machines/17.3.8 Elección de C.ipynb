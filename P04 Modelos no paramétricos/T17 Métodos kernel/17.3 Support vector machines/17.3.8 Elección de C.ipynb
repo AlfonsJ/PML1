{
 "cells": [
  {
   "cell_type": "markdown",
   "metadata": {},
   "source": [
    "# 17.3.8 Elección de $C$\n",
    "\n",
    "**Validación cruzada:** $\\;$ técnica recomendada\n",
    "\n",
    "**Interacción con parámetros del kernel:** por ejemplo, RBF con $\\gamma=\\frac{1}{2\\sigma^2}$\n",
    "* $\\gamma$ pequeño (kernel ancho): $\\;$ menor regularización, $C$ grande\n",
    "* $\\gamma$ grande (kernel estrecho): $\\;$ mayor regularización; $C$ pequeño\n",
    "\n",
    "<div align=center><img src=\"svm_classifier_moons_rbf.png\" width=500></div>\n",
    "\n",
    "**libsvm:** $\\;$ CV en rejilla $C\\in\\{2^{-5},2^{-3},\\dotsc,2^{15}\\}$ y $\\gamma=\\{2^{-15},2^{-13},\\dotsc,2^3\\}$\n",
    "\n",
    "<div align=center><img src=\"svmCvSurf.png\" width=500></div>\n",
    "\n",
    "**Elección eficiente de $C$:** $\\;$ empezamos con $C$ pequeño y lo incrementamos poco a poco"
   ]
  }
 ],
 "metadata": {
  "language_info": {
   "name": "python"
  }
 },
 "nbformat": 4,
 "nbformat_minor": 2
}
