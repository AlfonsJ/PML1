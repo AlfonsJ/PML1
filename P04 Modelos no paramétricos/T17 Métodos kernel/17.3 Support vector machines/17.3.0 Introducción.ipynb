{
 "cells": [
  {
   "cell_type": "markdown",
   "metadata": {},
   "source": [
    "# 17.3.0 Introducción\n",
    "\n",
    "**Clase de modelos considerada:** $\\;$ predictores (no probabilísticos) para clasificación y regresión de la forma\n",
    "$$f(\\boldsymbol{x})=\\sum_{i=1}^N\\alpha_i\\mathcal{K}(\\boldsymbol{x},\\boldsymbol{x}_i)$$\n",
    "\n",
    "**Idea básica:** $\\;$ mediante adición de restricciones apropiadas, garantizamos que muchos de los $\\alpha_i$ son $0$, por lo que las predicciones en test solo dependen de un subconjunto de los datos de entrenamiento\n",
    "\n",
    "**Vectores soporte:** $\\;$ puntos supervivientes\n",
    "\n",
    "**Máquina de vectores soporte (SVM):** $\\;$ modelo resultante"
   ]
  }
 ],
 "metadata": {
  "language_info": {
   "name": "python"
  }
 },
 "nbformat": 4,
 "nbformat_minor": 2
}
