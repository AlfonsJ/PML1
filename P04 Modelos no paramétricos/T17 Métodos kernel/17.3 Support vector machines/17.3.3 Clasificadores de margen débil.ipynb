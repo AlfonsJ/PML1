{
 "cells": [
  {
   "cell_type": "markdown",
   "metadata": {},
   "source": [
    "# 17.3.3 Clasificadores de margen débil"
   ]
  },
  {
   "cell_type": "markdown",
   "metadata": {},
   "source": [
    "## Problema primal\n",
    "\n",
    "**Motivación:** $\\;$ si los datos no son linealmente separables, no existe ninguna solución factible, esto es, tal que $\\{\\tilde{y}_nf_n\\geq 1\\}$\n",
    "\n",
    "**Problema primal:** $\\;$ generalización del primal de margen máximo\n",
    "$$\\begin{bmatrix}\\boldsymbol{w}^*\\\\w_0^*\\\\\\boldsymbol{\\xi}^*\\end{bmatrix}\n",
    "=\\operatorname*{argmin}_{\\boldsymbol{w},w_0,\\boldsymbol{\\xi}}\\;%\n",
    "\\frac{1}{2}\\lVert{\\boldsymbol{w}}\\rVert^2+C\\sum_n\\xi_n%\n",
    "\\quad\\text{sujeto a}\\;\\{\\tilde{y}_nf_n\\geq1-\\xi_n,\\,\\xi_n\\geq0\\}$$\n",
    "\n",
    "**Variables de holgura $\\{\\xi_n\\geq0\\}$:** $\\;$ reemplazan las restricciones fuertes $\\{\\tilde{y}_nf_n\\geq1\\}$ por **restricciones débiles** $\\{\\tilde{y}_nf_n\\geq1-\\xi_n\\}$\n",
    "\n",
    "**Hiper-parámetro $C\\geq 0$:** $\\;$ controla cómo múltiples datos pueden incumplir las restricciones fuertes\n",
    "* Si $C=\\infty$, recuperamos el objetivo primal original con restricciones fuertes"
   ]
  },
  {
   "cell_type": "markdown",
   "metadata": {},
   "source": [
    "## Problema dual\n",
    "\n",
    "**Relajación Lagrangiana:** $\\;$ aparte de los multiplicadores de Lagrange $\\{\\alpha_n\\geq 0\\}$, añade $\\{\\mu_n\\geq 0\\}$ para las restricciones $\\{\\xi_n\\geq0\\}$\n",
    "$$\\boldsymbol{w}^{\\ell}, w_0^{\\ell}, \\boldsymbol{\\xi}^{\\ell}%\n",
    "=\\operatorname*{argmin}_{\\boldsymbol{w},w_0,\\boldsymbol{\\xi}}\\;%\n",
    "\\frac{1}{2}\\boldsymbol{w}^t\\boldsymbol{w}+C\\sum_n\\xi_n-\\sum_n\\alpha_n(\\tilde{y}_n(\\boldsymbol{w}^t\\boldsymbol{x}_n+w_0)-1+\\xi_n)-\\sum_n\\mu_n\\xi_n$$\n",
    "\n",
    "**Lagrangiana:** $\\;$ cota inferior del óptimo $z^*$ para todo $\\boldsymbol{\\alpha},\\boldsymbol{\\mu}\\geq\\boldsymbol{0}$\n",
    "$$L(\\boldsymbol{\\alpha},\\boldsymbol{\\mu})=\\min_{\\boldsymbol{w},w_0,\\boldsymbol{\\xi}}%\n",
    "\\frac{1}{2}\\boldsymbol{w}^t\\boldsymbol{w}+C\\sum_n\\xi_n-\\sum_n\\alpha_n(\\tilde{y}_nf_n-1+\\xi_n)-\\sum_n\\mu_n\\xi_n$$\n",
    "\n",
    "$$\\begin{align*}\n",
    "z^*&=\\;\\min_{\\boldsymbol{w},w_0,\\boldsymbol{\\xi}}\\biggl\\{%\n",
    "\\tfrac{1}{2}\\boldsymbol{w}^t\\boldsymbol{w}+C\\sum_n\\xi_n\\mid\\{\\tilde{y}_nf_n\\geq1-\\xi_n,\\,\\xi_n\\geq0\\}\\biggr\\}\\\\%\n",
    "&\\geq\\;\\min_{\\boldsymbol{w},w_0,\\boldsymbol{\\xi}}\\biggl\\{%\n",
    "\\tfrac{1}{2}\\boldsymbol{w}^t\\boldsymbol{w}+C\\sum_n\\xi_n%\n",
    "-\\sum_n\\alpha_n(\\tilde{y}_nf_n-1+\\xi_n)-\\sum_n\\mu_n\\xi_n\\mid\\{\\tilde{y}_nf_n\\geq1-\\xi_n,\\,\\xi_n\\geq0\\}\\biggr\\}\\\\%\n",
    "&\\geq\\;\\min_{\\boldsymbol{w},w_0,\\boldsymbol{\\xi}}\\biggl\\{%\n",
    "\\tfrac{1}{2}\\boldsymbol{w}^t\\boldsymbol{w}+C\\sum_n\\xi_n-\\sum_n\\alpha_n(\\tilde{y}_nf_n-1+\\xi_n)-\\sum_n\\mu_n\\xi_n\\biggr\\}\\\\%\n",
    "&=L(\\boldsymbol{\\alpha},\\boldsymbol{\\mu})%\n",
    "\\end{align*}$$\n",
    "\n",
    "**Problema dual:** $\\;$ hállese la cota inferior más ajustada posible\n",
    "$$L^*=\\max_{\\boldsymbol{\\alpha},\\boldsymbol{\\mu}\\geq\\boldsymbol{0}}\\;L(\\boldsymbol{\\alpha},\\boldsymbol{\\mu})$$"
   ]
  },
  {
   "cell_type": "markdown",
   "metadata": {},
   "source": [
    "## Dualidad débil y fuerte\n",
    "\n",
    "**Dualidad débil:** $\\;L^*\\leq z^*\\;$ ya que, para toda solución primal-factible $(\\boldsymbol{w},w_0,\\boldsymbol{\\xi})$, se cumple \n",
    "$$L(\\boldsymbol{\\alpha},\\boldsymbol{\\mu})\\leq L^*\\leq \\tfrac{1}{2}\\boldsymbol{w}^t\\boldsymbol{w}+C\\sum_n\\xi_n\\qquad\\text{para todo $\\boldsymbol{\\alpha},\\boldsymbol{\\mu}\\geq\\boldsymbol{0}$}$$\n",
    "\n",
    "**Gap de dualidad:** $\\;z^*-L^*\\geq 0$\n",
    "\n",
    "**Dualidad fuerte:** $\\;$ si $(\\boldsymbol{w},w_0,\\boldsymbol{\\xi})$ es primal-factible, existen $\\boldsymbol{\\alpha},\\boldsymbol{\\mu}\\geq\\boldsymbol{0}$ tal que $L(\\boldsymbol{\\alpha},\\boldsymbol{\\mu})=\\tfrac{1}{2}\\boldsymbol{w}^t\\boldsymbol{w}+C\\sum_n\\xi_n\\,$ y se cumple\n",
    "$$\\alpha_n(\\tilde{y}_nf_n-1)=0\\quad\\text{y}\\quad\\mu_n\\xi_n=0\\qquad\\text{para todo $n$}$$\n",
    "entonces $(\\boldsymbol{\\alpha},\\boldsymbol{\\mu})$ es dual-óptima, $L^*=L(\\boldsymbol{\\alpha},\\boldsymbol{\\mu})\\,$ y $\\,(\\boldsymbol{w},w_0,\\boldsymbol{\\xi})$ primal-óptima"
   ]
  },
  {
   "cell_type": "markdown",
   "metadata": {},
   "source": [
    "## Cálculo de la Lagrangiana\n",
    "\n",
    "**Minimización en $(\\boldsymbol{w},w_0,\\boldsymbol{\\xi})$ sin restricciones:**\n",
    "$$\\begin{align*}\n",
    "L(\\boldsymbol{w},w_0,\\boldsymbol{\\xi}&;\\boldsymbol{\\alpha},\\boldsymbol{\\mu})%\n",
    "=\\frac{1}{2}\\boldsymbol{w}^t\\boldsymbol{w}+C\\sum_n\\xi_n-\\sum_n\\alpha_n(\\tilde{y}_n(\\boldsymbol{w}^t\\boldsymbol{x}_n+w_0)-1+\\xi_n)-\\sum_n\\mu_n\\xi_n%\n",
    "\\end{align*}$$\n",
    "\n",
    "**Condiciones necesarias:**\n",
    "$$\\begin{align*}\n",
    "\\boldsymbol{\\nabla}_{\\boldsymbol{w}}L%\n",
    "&=\\boldsymbol{w}-\\sum\\nolimits_n\\alpha_n\\tilde{y}_n\\boldsymbol{x}_n%\n",
    "&&\\xrightarrow{=\\boldsymbol{0}}\\quad%\n",
    "\\hat{\\boldsymbol{w}}=\\sum\\nolimits_n\\alpha_n\\tilde{y}_n\\boldsymbol{x}_n\\\\%\n",
    "\\frac{\\partial L}{\\partial w_0}\n",
    "&=-\\sum\\nolimits_n\\alpha_n\\tilde{y}_n%\n",
    "&&\\xrightarrow{=0}\\quad%\n",
    "0=\\sum\\nolimits_n\\alpha_n\\tilde{y}_n\\\\%\n",
    "\\boldsymbol{\\nabla}_{\\boldsymbol{\\xi}}L\n",
    "&=C\\boldsymbol{1}_N-\\boldsymbol{\\alpha}-\\boldsymbol{\\mu}%\n",
    "&&\\xrightarrow{=\\boldsymbol{0}}\\quad%\n",
    "\\boldsymbol{\\mu}=C\\boldsymbol{1}_N-\\boldsymbol{\\alpha}%\n",
    "\\quad\\xrightarrow{\\boldsymbol{\\alpha},\\boldsymbol{\\mu}\\geq\\boldsymbol{0}}\\quad%\n",
    "\\boldsymbol{0}\\leq\\boldsymbol{\\alpha}\\leq C\\boldsymbol{1}_N%\n",
    "\\end{align*}$$\n",
    "\n",
    "**Lagrangiana minimizada en $(\\boldsymbol{w},w_0,\\boldsymbol{\\xi})$:**\n",
    "$$\\begin{align*}\n",
    "L(\\hat{\\boldsymbol{w}},\\hat{w}_0,\\hat{\\boldsymbol{\\xi}};\\boldsymbol{\\alpha},\\boldsymbol{\\mu})%\n",
    "&=\\frac{1}{2}\\hat{\\boldsymbol{w}}^t\\hat{\\boldsymbol{w}}+C\\sum_n\\hat{\\xi}_n-\\sum_n\\alpha_n(\\tilde{y}_n(\\hat{\\boldsymbol{w}}^t\\boldsymbol{x}_n+\\hat{w}_0)-1+\\hat{\\xi}_n)-\\sum_n\\mu_n\\hat{\\xi}_n\\\\\n",
    "&=-\\frac{1}{2}\\hat{\\boldsymbol{w}}^t\\hat{\\boldsymbol{w}}-\\hat{w}_0\\,0+\\sum\\nolimits_n\\alpha_n+\\sum_n\\underbrace{(C-\\alpha_n-\\mu_n)}_{0}\\hat{\\xi}_n\\\\\n",
    "&=-\\frac{1}{2}\\sum_{i=1}^N\\sum_{j=1}^N\\alpha_i\\alpha_j\\tilde{y}_i\\tilde{y}_j\\boldsymbol{x}_i\\boldsymbol{x}_j+\\sum_n\\alpha_n\n",
    "\\end{align*}$$"
   ]
  },
  {
   "cell_type": "markdown",
   "metadata": {},
   "source": [
    "## Resolución del dual\n",
    "\n",
    "**Problema dual con Lagrangiana minimizada:** $\\;$ cuadrático cóncavo en $N$ variables\n",
    "$$\\begin{align*}\n",
    "\\boldsymbol{\\alpha}^*&=\\operatorname*{argmax}_{\\boldsymbol{\\alpha}}\\;%\n",
    "L(\\hat{\\boldsymbol{w}},\\hat{w}_0,\\hat{\\boldsymbol{\\xi}};\\boldsymbol{\\alpha},\\boldsymbol{\\mu})%\n",
    "\\qquad\\text{sujeto a}\\quad%\n",
    "\\boldsymbol{0}\\leq\\boldsymbol{\\alpha}\\leq C\\boldsymbol{1}_N\\quad\\text{y}\\quad\\sum_n\\alpha_n\\tilde{y}_n=0\\\\\n",
    "\\boldsymbol{\\mu}^*&=C\\boldsymbol{1}_N-\\boldsymbol{\\alpha}^*\n",
    "\\end{align*}$$\n",
    "\n",
    "**Condiciones KKT:** $\\;$ si existen $\\boldsymbol{\\alpha}^*$ y $\\boldsymbol{\\mu}^*$, cumplen, para todo $n$,\n",
    "$$\\begin{align*}\n",
    "0\\leq\\alpha_n^*&\\leq C\\\\%\n",
    "\\mu_n^*=C-\\alpha_n^*&\\geq 0\\\\%\n",
    "\\tilde{y}_n(\\hat{\\boldsymbol{w}}^t\\boldsymbol{x}_n+\\hat{w}_0)-1+\\hat{\\xi}_n&\\geq 0\\\\%\n",
    "\\hat{\\xi}_n&\\geq 0\\\\%\n",
    "\\alpha_n^*(\\tilde{y}_n(\\hat{\\boldsymbol{w}}^t\\boldsymbol{x}_n+\\hat{w}_0)-1+\\hat{\\xi}_n)&=0\\\\%\n",
    "\\mu_n^*\\hat{\\xi}_n&=0%\n",
    "\\end{align*}$$\n",
    "\n",
    "<div align=\"left\"><table border-collapse: collapse><tr>\n",
    "<td style=\"border: none; text-align:left; vertical-align:top; padding:0; margin:0;\" width=550>\n",
    "\n",
    "**Vectores soporte:**\n",
    "$$\\mathcal{S}=\\{s:0<\\alpha_s^*\\leq C\\}$$\n",
    "\n",
    "*Restricciones de factibilidad activas:*\n",
    "$$\\tilde{y}_s(\\hat{\\boldsymbol{w}}^t\\boldsymbol{x}_s+\\hat{w}_0)=1-\\hat{\\xi}_s$$\n",
    "\n",
    "*Caso* $\\,0<\\alpha_s^*<C:\\quad\\mu_s^*>0\\;\\to\\;\\hat{\\xi}_s=0\\;\\to\\;\\boldsymbol{x}_s\\;$ en el margen\n",
    "\n",
    "*Caso* $\\,\\alpha_s^*=C\\,$ y $\\,\\hat{\\xi}_s\\leq 1:\\quad\\boldsymbol{x}_s\\;$ dentro margen y bien clasificado\n",
    "\n",
    "*Caso* $\\,\\alpha_s^*=C\\,$ y $\\,\\hat{\\xi}_s>1:\\quad\\boldsymbol{x}_s\\;$ fuera margen y mal clasificado\n",
    "\n",
    "</td><td style=\"border: none; padding:0; margin:0;\" width=50><br></td>\n",
    "<td style=\"border: none; text-align:right; vertical-align:top; padding:0; margin:0;\" width=200>\n",
    "\n",
    "<img src=\"Figure_17.13_B.png\" width=350>\n",
    "\n",
    "</td></tr></table></div>\n",
    "\n",
    "**Determinación de $\\hat{w}_0$:** $\\;$ a partir de cualquier vector soporte $m$ tal que $0<\\alpha_m^*<C,\\,$ por lo que $\\,\\hat{\\xi}_m=0\\,$ y $\\,\\tilde{y}_m(\\hat{\\boldsymbol{w}}^t\\boldsymbol{x}_m+\\hat{w}_0)=1$\n",
    "$$\\tilde{y}_m(\\hat{\\boldsymbol{w}}^t\\boldsymbol{x}_m+\\hat{w}_0)=1%\n",
    "\\quad\\Rightarrow\\quad\\hat{w}_0=\\tilde{y}_m-\\hat{\\boldsymbol{w}}^t\\boldsymbol{x}_m$$"
   ]
  },
  {
   "cell_type": "markdown",
   "metadata": {},
   "source": [
    "## $C$-SVM\n",
    "\n",
    "$$f(\\boldsymbol{x})=\\hat{\\boldsymbol{w}}^t\\boldsymbol{x}+\\hat{w}_0%\n",
    "=\\sum_n\\alpha_n^*\\tilde{y}_n\\boldsymbol{x}_n^t\\boldsymbol{x}+\\hat{w}_0%\n",
    "=\\sum_{s\\in\\mathcal{S}}\\alpha_s^*\\tilde{y}_s\\boldsymbol{x}_s^t\\boldsymbol{x}+\\hat{w}_0$$\n",
    "donde, para cualquier $m$ tal que $0<\\alpha_m^*<C$,\n",
    "$$\\hat{w}_0=\\tilde{y}_m-\\hat{\\boldsymbol{w}}^t\\boldsymbol{x}_m%\n",
    "=\\tilde{y}_m-\\sum_n\\alpha_n^*\\tilde{y}_n\\boldsymbol{x}_n^t\\boldsymbol{x}_m%\n",
    "=\\tilde{y}_m-\\sum_{s\\in\\mathcal{S}}\\alpha_s^*\\tilde{y}_s\\boldsymbol{x}_s^t\\boldsymbol{x}_m$$"
   ]
  },
  {
   "cell_type": "markdown",
   "metadata": {},
   "source": [
    "## $\\nu$-SVM\n",
    "\n",
    "**$\\nu$-SVM:** $\\;$ formulación alternativa al $C$-SVM que maximiza\n",
    "$$L(\\boldsymbol{\\alpha})=-\\frac{1}{2}\\sum_{i=1}^N\\sum_{j=1}^N%\n",
    "\\alpha_i\\alpha_j\\tilde{y}_i\\tilde{y}_j\\boldsymbol{x}_i\\boldsymbol{x}_j\n",
    "\\quad\\text{sujeto a}\\quad%\n",
    "0\\leq \\alpha_n\\leq 1/N,\\quad\\sum_n\\alpha_n\\tilde{y}_n=0\\quad\\text{y}\\quad\\sum_n\\alpha_n\\geq\\nu$$\n",
    "\n",
    "**Interpretación:** $\\;\\nu$ reemplaza $C$ y puede interpretarse como cota superior de la fracción de **errores de margen** (puntos tales que $\\xi_n>0$), así como cota inferior del número de vectores soporte"
   ]
  }
 ],
 "metadata": {
  "language_info": {
   "name": "python"
  }
 },
 "nbformat": 4,
 "nbformat_minor": 2
}
