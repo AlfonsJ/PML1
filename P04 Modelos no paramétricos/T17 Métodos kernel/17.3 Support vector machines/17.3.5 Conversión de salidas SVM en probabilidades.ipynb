{
 "cells": [
  {
   "cell_type": "markdown",
   "metadata": {},
   "source": [
    "# 17.3.5 Conversión de salidas SVM en probabilidades\n",
    "\n",
    "**Medida de confianza:** $\\;$ aparte del etiquetado sin más producido por un clasificador SVM, $\\hat{y}(\\boldsymbol{x})=\\operatorname{sgn}(f(\\boldsymbol{x}))$, por lo general queremos acompañarlo de una medida de confianza en la predicción\n",
    "\n",
    "**Aproximación heurística:** $\\;f(\\boldsymbol{x})$ se interpreta como un ratio de log-posibilidades\n",
    "$$f(\\boldsymbol{x})=\\log\\frac{p(y=1|\\boldsymbol{x})}{p(y=0|\\boldsymbol{x})}$$\n",
    "\n",
    "**Platt scaling:** $\\;$ convierte la salida de una SVM en probabilidad\n",
    "$$p(y=1\\mid\\boldsymbol{x},\\boldsymbol{\\theta})=\\sigma(af(\\boldsymbol{x})+b)%\n",
    "\\quad\\text{con $a$ y $b$ estimadas por máxima verosimilitud en validación}$$\n",
    "\n",
    "**Dificultad:** $\\;$ las probabilidades resultantes no quedan bien calibradas pues no hay nada en el entrenamiento de la SVM que justifique la interpretación de $f(\\boldsymbol{x})$ como un ratio de log-posibilidades\n",
    "\n",
    "<div><table border-collapse: collapse><tr>\n",
    "<td style=\"border: none; text-align:left; vertical-align:top; padding:0; margin:0;\" width=450>\n",
    "\n",
    "**Ejemplo 1d:**\n",
    "$$\\begin{align*}\n",
    "p(x\\mid y=0)&=\\operatorname{Unif}(0,1)\\\\\n",
    "p(x\\mid y=1)&=\\operatorname{Unif}(0.5,1.5)\n",
    "\\end{align*}$$\n",
    "\n",
    "Log-posibilidades reales y estimadas a partir de $1000$ muestras con un clasificador kernel probabilístico (RVM) y una SVM con kernel Gaussiano de ancho $0.1$\n",
    "\n",
    "La SVM no aproxima bien las log-odds\n",
    "\n",
    "</td><td style=\"border: none; padding:0; margin:0;\" width=50><br></td>\n",
    "<td style=\"border: none; text-align:right; vertical-align:top; padding:0; margin:0;\" width=400>\n",
    "\n",
    "<img src=\"Figure_17.15.png\" width=350>\n",
    "\n",
    "</td></tr></table></div>\n"
   ]
  }
 ],
 "metadata": {
  "language_info": {
   "name": "python"
  }
 },
 "nbformat": 4,
 "nbformat_minor": 2
}
