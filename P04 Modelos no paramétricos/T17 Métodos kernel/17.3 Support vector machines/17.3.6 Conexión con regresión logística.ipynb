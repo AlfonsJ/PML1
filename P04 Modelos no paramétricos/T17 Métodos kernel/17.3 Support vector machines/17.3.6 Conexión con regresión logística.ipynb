{
 "cells": [
  {
   "cell_type": "markdown",
   "metadata": {},
   "source": [
    "# 17.3.6 Conexión con regresión logística\n",
    "\n",
    "**$C$-SVM:** $\\;$ dado que los puntos bien clasificados tienen $\\,\\xi_n=0\\,$ y los otros $\\,\\xi_n=1-\\tilde{y}_nf(\\boldsymbol{x}_n),\\,$ el objetivo primal,\n",
    "$$L(\\boldsymbol{w})=\\frac{1}{2}\\lVert{\\boldsymbol{w}}\\rVert^2+C\\sum_n\\xi_n$$\n",
    "puede re-escribirse como\n",
    "$$L^{\\text{SVM}}(\\boldsymbol{w})=\\sum_n\\ell_{\\text{hinge}}(\\tilde{y}_n,f(\\boldsymbol{x}_n))+\\lambda\\lVert{\\boldsymbol{w}}\\rVert^2%\n",
    "\\quad\\text{con}\\quad%\n",
    "\\lambda=\\frac{1}{2C}%\n",
    "\\quad\\text{y}\\quad%\n",
    "\\ell_{\\text{hinge}}(\\tilde{y},\\eta)=\\max(0,1-\\tilde{y}\\eta)$$\n",
    "\n",
    "**Regresión logística (penalizada):** $\\;$ optimiza\n",
    "$$L^{\\text{LR}}(\\boldsymbol{w})=\\sum_n\\ell_{ll}(\\tilde{y}_n,f(\\boldsymbol{x}_n))+\\lambda\\lVert{\\boldsymbol{w}}\\rVert^2%\n",
    "\\quad\\text{con}\\quad%\n",
    "\\ell_{ll}(\\tilde{y},\\eta)=-\\log p(\\tilde{y}\\mid\\eta)=\\log(1+e^{-\\tilde{y}\\eta})$$\n",
    "\n",
    "**Comparación:** $\\;$ ambos pérdidas son cotas superiores convexas de la pérdida 0-1\n",
    "$$\\ell_{01}(\\tilde{y},\\hat{y})=\\mathbb{I}(\\tilde{y}\\neq\\hat{y})=\\mathbb{I}(\\tilde{y}\\hat{y}<0)$$"
   ]
  }
 ],
 "metadata": {
  "language_info": {
   "name": "python"
  }
 },
 "nbformat": 4,
 "nbformat_minor": 2
}
