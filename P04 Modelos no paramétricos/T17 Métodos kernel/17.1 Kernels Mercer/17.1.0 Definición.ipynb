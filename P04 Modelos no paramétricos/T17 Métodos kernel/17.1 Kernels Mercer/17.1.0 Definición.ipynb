{
 "cells": [
  {
   "cell_type": "markdown",
   "metadata": {},
   "source": [
    "# 17.1.0 Definición"
   ]
  },
  {
   "cell_type": "markdown",
   "metadata": {},
   "source": [
    "**Necesidad de kernels:** $\\;$ para codificar conocimiento a priori sobre la similitud entre dos vectores de entrada; si sabemos que $\\boldsymbol{x}_i$ es similar a $\\boldsymbol{x}_j$, forzaremos que las salidas predichas por el modelo en ambas localizaciones, $f(\\boldsymbol{x}_i)$ y $f(\\boldsymbol{x}_j)$, sean similares\n",
    "\n",
    "**Kernel Mercer:** $\\;$ función simétrica $\\mathcal{K}:\\mathcal{X}\\times\\mathcal{X}\\to\\mathbb{R}^+$ tal que, para cualquier conjunto de $N$ puntos (únicos) $\\boldsymbol{x}_i\\in\\mathcal{X}$ y números $c_i\\in\\mathbb{R}$\n",
    "$$\\sum_{i=1}^N\\sum_{j=1}^N\\mathcal{K}(\\boldsymbol{x}_i,\\boldsymbol{x}_j)c_ic_j\\geq 0$$\n",
    "\n",
    "**Positividad de los kernels Mercer:** $\\;$ asumimos $\\mathcal{K}(\\boldsymbol{x}_i,\\boldsymbol{x}_j)>0$ por lo que la igualdad solo puede darse si $c_i=0$ para todo $i$\n",
    "\n",
    "**Nada que ver con otros kernels:** $\\;$ como los de densidad, de transición en un cadena de Markov y convolucionales\n",
    "\n",
    "**Matriz Gram:** $\\;$ para $N$ datos, es la matriz de similitud\n",
    "$$\\mathbf{K}=\\begin{pmatrix}\n",
    "\\mathcal{K}(\\boldsymbol{x}_1,\\boldsymbol{x}_1) & \\cdots & \\mathcal{K}(\\boldsymbol{x}_1,\\boldsymbol{x}_N)\\\\%\n",
    "& \\vdots\\\\\\mathcal{K}(\\boldsymbol{x}_N,\\boldsymbol{x}_1) & \\cdots & \\mathcal{K}(\\boldsymbol{x}_N,\\boldsymbol{x}_N)%\n",
    "\\end{pmatrix}$$\n",
    "\n",
    "**Caracterización:** $\\;\\mathcal{K}$ es Mercer sii la matriz Gram es definida positiva para todo conjunto de entradas distintas $\\{\\boldsymbol{x}_i\\}$\n",
    "\n",
    "**Kernel Gaussiano o RBF (radial basis function):** $\\;$ dado un **ancho de banda** $\\ell>0$\n",
    "$$\\mathcal{K}(\\boldsymbol{x},\\boldsymbol{x}')=\\exp\\left(-\\frac{\\lVert{\\boldsymbol{x}-\\boldsymbol{x}'}\\rVert^2}{2\\ell^2}\\right)$$"
   ]
  }
 ],
 "metadata": {
  "language_info": {
   "name": "python"
  }
 },
 "nbformat": 4,
 "nbformat_minor": 2
}
