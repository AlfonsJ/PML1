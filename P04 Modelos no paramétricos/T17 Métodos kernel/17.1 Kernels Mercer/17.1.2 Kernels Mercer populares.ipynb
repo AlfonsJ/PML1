{
 "cells": [
  {
   "cell_type": "markdown",
   "metadata": {},
   "source": [
    "# 17.1.2 Kernels Mercer populares"
   ]
  },
  {
   "cell_type": "markdown",
   "metadata": {},
   "source": [
    "## 17.1.2.1 Kernels estacionarios para vectores de reales\n",
    "\n",
    "**Kernels estacionarios:** $\\;$ para vectores de reales, $\\mathcal{X}=\\mathbb{R}^D$, son funciones de la forma\n",
    "$$\\mathcal{K}(\\boldsymbol{x},\\boldsymbol{x}')=\\mathcal{K}(\\lVert{\\boldsymbol{x}-\\boldsymbol{x}'}\\rVert)$$\n",
    "\n",
    "**Ejemplo:** $\\;$ el kernel RBF es estacionario"
   ]
  },
  {
   "cell_type": "markdown",
   "metadata": {},
   "source": [
    "### Kernel ARD (automatic relevancy determination)\n",
    "\n",
    "**Kernel ARD (automatic relevancy determination):** $\\;$ generaliza RBF reemplazando la distancia Euclídea por la de Mahalanobis\n",
    "$$\\mathcal{K}(\\boldsymbol{r})=\\sigma^2\\exp\\left(-\\frac{1}{2}\\boldsymbol{r}^t\\Sigma^{-1}\\boldsymbol{r}\\right)%\n",
    "\\quad\\text{donde}\\quad%\n",
    "\\boldsymbol{r}=\\boldsymbol{x}-\\boldsymbol{x}'$$\n",
    "\n",
    "**Kernel ARD con $\\Sigma$ diagonal:** $\\;$ dada una **varianza global** $\\,\\sigma^2\\,$ y una **escala de longitud** $\\,\\ell_d\\,$ por cada dimensión $d$\n",
    "$$\\mathcal{K}(\\boldsymbol{r};\\boldsymbol{\\ell},\\sigma^2)%\n",
    "=\\sigma^2\\exp\\left(-\\frac{1}{2}\\sum_{d=1}^D\\frac{1}{\\ell_d^2}r_d^2\\right)%\n",
    "=\\prod_{d=1}^D\\mathcal{K}(r_d;\\ell_d,\\sigma^{2/d})\n",
    "\\quad\\text{con}\\quad%\n",
    "\\mathcal{K}(r;\\ell,\\tau^2)=\\tau^2\\exp\\left(-\\frac{1}{2}\\,\\frac{1}{\\ell^2}\\,r^2\\right)$$"
   ]
  },
  {
   "cell_type": "markdown",
   "metadata": {},
   "source": [
    "### Kernel Matern\n",
    "\n",
    "**Kernel Matern:** $\\;$ generaliza RBF añadiendo un parámetro $\\nu$ para controlar la suavidad \n",
    "$$\\mathcal{K}(r;\\nu,\\ell)=\\frac{2^{1-\\nu}}{\\Gamma(\\nu)}%\n",
    "\\left(\\frac{\\sqrt{2\\nu}\\,r}{\\ell}\\right)^{\\nu}\\mathcal{K}_{\\nu}\\left(\\frac{\\sqrt{2\\nu}\\,r}{\\ell}\\right)\n",
    "\\quad\\text{con función de Bessel modificada}\\; \\mathcal{K}_{\\nu}$$\n",
    "\n",
    "**Simplificaciones para $\\nu\\in\\{\\frac{1}{2},\\frac{3}{2},\\frac{5}{2}\\}$:** $\\;$ tiende a RBF con $\\nu\\to\\infty$\n",
    "$$\\begin{align*}\n",
    "\\mathcal{K}(r;\\tfrac{1}{2},\\ell)%\n",
    "    &=\\exp\\left(-\\frac{r}{\\ell}\\right)\\\\[3mm]%\n",
    "    \\mathcal{K}(r;\\tfrac{3}{2},\\ell)%\n",
    "    &=\\left(1+\\frac{\\sqrt{3}\\,r}{\\ell}\\right)%\n",
    "      \\exp\\left(-\\frac{\\sqrt{3}\\,r}{\\ell}\\right)\\\\[3mm]%\n",
    "    \\mathcal{K}(r;\\tfrac{5}{2},\\ell)%\n",
    "    &=\\left(1+\\frac{\\sqrt{5}\\,r}{\\ell}+\\frac{5r^2}{3\\ell^2}\\right)%\n",
    "      \\exp\\left(-\\frac{\\sqrt{5}\\,r}{\\ell}\\right)%\n",
    "\\end{align*}$$\n",
    "\n",
    "**Proceso Ornstein-Uhlenbeck:** $\\;$ con $\\nu=\\frac{1}{2}$, describe la velocidad de una partícula en movimiento Browniano"
   ]
  },
  {
   "cell_type": "markdown",
   "metadata": {},
   "source": [
    "### Kernel periódico\n",
    "\n",
    "**Kernel periódico:** $\\;$ captura estructura repetitiva con período $p$\n",
    "$$\\mathcal{K}_{\\text{per}}(r;\\ell,p)=\\exp\\left(-\\frac{2}{\\ell^2}\\,\\sin^2\\left(\\pi\\,\\frac{r}{p}\\right)\\right)$$\n",
    "\n",
    "**Kernel coseno:** $\\;$ relacionado con el periódico\n",
    "$$\\mathcal{K}(r;p)=\\cos\\left(2\\pi\\,\\frac{r}{p}\\right)$$"
   ]
  },
  {
   "cell_type": "markdown",
   "metadata": {},
   "source": [
    "## 17.1.2.2 Construcción de nuevos kernels\n",
    "\n",
    "**Métodos de construcción:** $\\;$ dados $\\,\\mathcal{K}_1(\\boldsymbol{x},\\boldsymbol{x}')\\,$ y $\\,\\mathcal{K}_2(\\boldsymbol{x},\\boldsymbol{x}')$\n",
    "$$\\begin{align*}\n",
    "  \\mathcal{K}(\\boldsymbol{x},\\boldsymbol{x}')&=c\\mathcal{K}_1(\\boldsymbol{x},\\boldsymbol{x}')%\n",
    "  &&(c>0)\\\\[3mm]%\n",
    "  \\mathcal{K}(\\boldsymbol{x},\\boldsymbol{x}')&=f(\\boldsymbol{x})\\mathcal{K}_1(\\boldsymbol{x},\\boldsymbol{x}')f(\\boldsymbol{x}')%\n",
    "  &&(f~\\text{función})\\\\[3mm]%\n",
    "  \\mathcal{K}(\\boldsymbol{x},\\boldsymbol{x}')&=q(\\mathcal{K}_1(\\boldsymbol{x},\\boldsymbol{x}'))%\n",
    "  &&(q~\\text{polinom. coef. $\\geq 0$})\\\\[3mm]%\n",
    "  \\mathcal{K}(\\boldsymbol{x},\\boldsymbol{x}')&=\\exp(\\mathcal{K}_1(\\boldsymbol{x},\\boldsymbol{x}'))\\\\[3mm]%\n",
    "  \\mathcal{K}(\\boldsymbol{x},\\boldsymbol{x}')&=\\boldsymbol{x}^t\\mathbf{A}\\boldsymbol{x}'%\n",
    "  &&(\\mathbf{A}\\succ 0)%\n",
    "\\end{align*}$$\n",
    "\n",
    "**Kernel lineal:** $\\;$ punto de partida válido pues su matriz Gram es la matriz de covarianzas de los datos (escalada)\n",
    "$$\\mathcal{K}(\\boldsymbol{x},\\boldsymbol{x}')=\\boldsymbol{x}^t\\boldsymbol{x}'$$\n",
    "\n",
    "**Kernel con todos los monomios de grado $M$:**\n",
    "$$\\mathcal{K}(\\boldsymbol{x},\\boldsymbol{x}')=(\\boldsymbol{x}^t\\boldsymbol{x}')^M$$\n",
    "\n",
    "**Ejemplo:** $\\;$ kernel con todos los monomios de grado $2$\n",
    "$$(\\boldsymbol{x}^t\\boldsymbol{x}')^2=(x_1x_1'+x_2x_2')^2=(x_1x_1')^2+(x_2x_2')^2+(x_1x_1')(x_2x_2')$$\n",
    "\n",
    "**Kernel con todos los monomios hasta grado $M$:**\n",
    "$$\\mathcal{K}(\\boldsymbol{x},\\boldsymbol{x}')=(\\boldsymbol{x}^t\\boldsymbol{x}'+c)^M$$\n",
    "\n",
    "**Ejemplo:** $\\;$ kernel con todos los monomios hasta grado $2$\n",
    "$$(\\boldsymbol{x}^t\\boldsymbol{x}'+1)^2=(x_1x_1')^2+(x_1x_1')(x_2x_2')+(x_1x_1')+(x_2x_2)(x_1x_1')+(x_2x_2')^2+(x_2x_2')+(x_1x_1')+(x_2x_2')+1$$\n",
    "\n",
    "**Kernel Gaussiano:** $\\;$ como $\\lVert{\\boldsymbol{x}-\\boldsymbol{x}'}\\rVert^2=\\boldsymbol{x}^t\\boldsymbol{x}+(\\boldsymbol{x}')^t\\boldsymbol{x}'-2\\boldsymbol{x}^t\\boldsymbol{x}'$\n",
    "$$\\mathcal{K}(\\boldsymbol{x},\\boldsymbol{x}')%\n",
    "=\\exp\\left[-\\frac{\\lVert{\\boldsymbol{x}-\\boldsymbol{x}'}\\rVert^2}{2\\sigma^2}\\right]%\n",
    "=\\exp\\left[-\\frac{\\boldsymbol{x}^t\\boldsymbol{x}}{2\\sigma^2}\\right]%\n",
    "\\exp\\left[\\frac{\\boldsymbol{x}^t\\boldsymbol{x}'}{\\sigma^2}\\right]%\n",
    "\\exp\\left[-\\frac{(\\boldsymbol{x}')^t\\boldsymbol{x}'}{2\\sigma^2}\\right]$$"
   ]
  },
  {
   "cell_type": "markdown",
   "metadata": {},
   "source": [
    "## 17.1.2.3 Suma y producto de kernels\n",
    "\n",
    "**Combinación de kernels mediante producto:**\n",
    "$$\\mathcal{K}(\\boldsymbol{x},\\boldsymbol{x}')=\\mathcal{K}_1(\\boldsymbol{x},\\boldsymbol{x}')\\,\\mathcal{K}_2(\\boldsymbol{x},\\boldsymbol{x}')$$\n",
    "\n",
    "**Combinación de kernels mediante suma:**\n",
    "$$\\mathcal{K}(\\boldsymbol{x},\\boldsymbol{x}')=\\mathcal{K}_1(\\boldsymbol{x},\\boldsymbol{x}')+\\mathcal{K}_2(\\boldsymbol{x},\\boldsymbol{x}')$$"
   ]
  },
  {
   "cell_type": "markdown",
   "metadata": {},
   "source": [
    "## 17.1.2.4 Kernels para entradas estructuradas\n",
    "\n",
    "**Entradas de talla variable:** $\\;$ los kernels son útiles cuando las entradas son objetos estructurados como cadenas y grafos\n",
    "\n",
    "**String kernel:** $\\;$ compara cadenas con $n$-gramas comunes\n",
    "\n",
    "**Kernels para grafos:** $\\;$ por ejemplo, el **random walk kernel** realiza paseos aleatorios sobre dos grafos simultáneamente y luego cuenta el número de caminos producidos por ambos paseos"
   ]
  }
 ],
 "metadata": {
  "language_info": {
   "name": "python"
  }
 },
 "nbformat": 4,
 "nbformat_minor": 2
}
