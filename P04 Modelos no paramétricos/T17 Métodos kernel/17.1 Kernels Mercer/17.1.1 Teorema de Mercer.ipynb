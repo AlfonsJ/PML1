{
 "cells": [
  {
   "cell_type": "markdown",
   "metadata": {},
   "source": [
    "# 17.1.1 Teorema de Mercer\n",
    "\n",
    "**Descomposición propia de una matriz real, simétrica y definida positiva, $\\boldsymbol{K}\\in\\mathbb{R}^{n\\times n}$:**\n",
    "* **Valores propios de $\\boldsymbol{K}$:** $\\quad\\boldsymbol{\\Lambda}=\\operatorname{diag}(\\lambda_1,\\dotsc,\\lambda_n), \\lambda_i\\in\\mathbb{R}^+\\quad$ **positivos!**  \n",
    "* **Vectores propios de $\\boldsymbol{K}$:** $\\quad\\mathbf{U}=(\\boldsymbol{u}_1,\\dotsc,\\boldsymbol{u}_n)\\,$ ortogonal, $\\mathbf{U}^t\\mathbf{U}=\\mathbf{U}\\mathbf{U}^t=\\mathbf{I}$\n",
    "* **Descomposición propia de $\\boldsymbol{K}$:** $\\quad\\boldsymbol{K}=\\mathbf{U}\\boldsymbol{\\Lambda}\\mathbf{U}^t=\\mathbf{U}^t\\boldsymbol{\\Lambda}\\mathbf{U}=(\\boldsymbol{u}_1^t;\\dotsc,\\boldsymbol{u}_n^t)\\operatorname{diag}(\\lambda_1,\\dotsc,\\lambda_n)(\\boldsymbol{u}_1,\\dotsc,\\boldsymbol{u}_n)$\n",
    "\n",
    "**Cálculo de elementos de $\\boldsymbol{K}$:** $\\;$ si definimos $\\boldsymbol{\\phi}(\\boldsymbol{x}_i)=\\boldsymbol{\\Lambda}^{\\frac{1}{2}}\\boldsymbol{u}_i$, el elemento $(i,j)$ de $\\boldsymbol{K}$ pueden calcularse mediante un producto escalar de vectores de características implícitamente definidos por los valores y vectores propios de $\\boldsymbol{K}$\n",
    "$$k_{ij}=\\boldsymbol{u}_i^t\\boldsymbol{\\Lambda}\\boldsymbol{u}_j%\n",
    "=(\\boldsymbol{\\Lambda}^{\\frac{1}{2}}\\boldsymbol{u}_i)^t(\\boldsymbol{\\Lambda}^{\\frac{1}{2}}\\boldsymbol{u}_j)=\\boldsymbol{\\phi}(\\boldsymbol{x}_i)^t\\boldsymbol{\\phi}(\\boldsymbol{x}_j)=\\sum_m\\phi_m(\\boldsymbol{x}_i)\\phi_m(\\boldsymbol{x}_j)$$\n",
    "\n",
    "**Teorema de Mercer:** $\\;$ más alla de las matrices kernel, generaliza la idea a funciones kernel\n",
    "\n",
    "**Kernel cuadrático:** $\\;\\mathcal{K}(\\boldsymbol{x},\\boldsymbol{x}')=\\boldsymbol{x}^t\\boldsymbol{x}'\\,$ en 2d; $\\;$ si definimos $\\boldsymbol{\\phi}(x_1,x_2)=[x_1^2,\\sqrt{2}x_1x_2,x_2^2]\\in\\mathbb{R}^3$\n",
    "$$\\mathcal{K}(\\boldsymbol{x},\\boldsymbol{x}')%\n",
    "=(x_1x_1'+x_2x_2')^2%\n",
    "=x_1^2(x_1')^2+2x_1x_2x_1'x_2'+x_2^2(x_2')^2%\n",
    "=\\boldsymbol{\\phi}(\\boldsymbol{x})^t\\boldsymbol{\\phi}(\\boldsymbol{x}')$$\n",
    "\n",
    "**Kernel Gaussiano, SE (squared exponential) o RBF (radial basis function):** $\\;$ los vectores de características correspondientes son de dimensión infinita, si bien no es necesario manejarlos explícitamente mediante el uso de kernels"
   ]
  }
 ],
 "metadata": {
  "language_info": {
   "name": "python"
  }
 },
 "nbformat": 4,
 "nbformat_minor": 2
}
